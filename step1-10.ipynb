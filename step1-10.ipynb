{
 "cells": [
  {
   "cell_type": "markdown",
   "id": "a4d81f25-6fc9-49a8-86f8-92c424e0c6a0",
   "metadata": {},
   "source": [
    "# Step1-Step2\n",
    "**该函数使用DMCA方法估计平均集水区响应时间，并使用与Tr相对应的窗口长度产生雨量波动、流量波动和双变量波动的时间序列，用于识别事件。**"
   ]
  },
  {
   "cell_type": "code",
   "execution_count": 4,
   "id": "683ebecd-765d-42cc-8340-fcbbe1a30966",
   "metadata": {
    "tags": []
   },
   "outputs": [],
   "source": [
    "rain_original=dlmread('daily_rainfall_27071.txt'); \n",
    "flow_original=dlmread('daily_flow_27071.txt'); \n",
    "multiple=24; %to convert from mm/h to the original units of the timeseries (mm/day)\n",
    "rain=rain_original(:,7)./multiple; %mm/h\n",
    "flow=flow_original(:,7)./multiple; %mm/h\n",
    "time=datenum(rain_original(:,1:6));\n",
    "rain=rain'; \n",
    "flow=flow'; \n",
    "rain_int=cumsum(rain, 'omitnan'); % 计算窗口期内累计降雨（每个元素表示累积前n个元素，n为该元素位置，忽略nan值）\n",
    "flow_int=cumsum(flow, 'omitnan'); %  参考 Eq.1\\Eq.2 in Giani et al., 2021\n",
    "window = 3;\n",
    "T=length(rain);"
   ]
  },
  {
   "cell_type": "markdown",
   "id": "a8260371-8dfb-4e53-8564-0c4148cdb821",
   "metadata": {},
   "source": [
    "### moving average on the integrated rainfall\\streamflow timeseries\n",
    "- 窗口期内累积降雨量、径流量的平均值，是滑动计算的 \n",
    "- 参考 Eq.5\\ Eq.6 in Giani et al., 2021"
   ]
  },
  {
   "cell_type": "code",
   "execution_count": 5,
   "id": "793f589c-c36f-46bb-9af4-3c4102965d19",
   "metadata": {
    "tags": []
   },
   "outputs": [],
   "source": [
    "rain_mean((window-1)/2, :)=movmean(rain_int, window);\n",
    "flow_mean((window-1)/2, :)=movmean(flow_int, window);"
   ]
  },
  {
   "cell_type": "markdown",
   "id": "1cc3f218-ecbd-4d9d-b884-21238b03ed5c",
   "metadata": {},
   "source": [
    "### Squared rainfall fluctuations\n",
    "- 计算窗口期内每个累计量相对中心移动均值的波动fluctuation，同时计算这些波动的均方值\n",
    "- 参考Eq.3\\Eq.4 in Giani et al., 2021"
   ]
  },
  {
   "cell_type": "code",
   "execution_count": 6,
   "id": "21894854-209c-4aff-b5a5-1cac0f922541",
   "metadata": {
    "tags": []
   },
   "outputs": [],
   "source": [
    "fluct_rain((window-1)/2,:)=rain_int-rain_mean((window-1)/2,:);\n",
    "F_rain((window-1)/2)=(1/(T-window+1))*nansum((fluct_rain((window-1)/2,window-0.5*(window-1):T-0.5*(window-1))).^2);\n",
    "fluct_flow((window-1)/2,:)=flow_int-flow_mean((window-1)/2,:);\n",
    "F_flow((window-1)/2)=(1/(T-window+1))*nansum((fluct_flow((window-1)/2,window-0.5*(window-1):T-0.5*(window-1))).^2);"
   ]
  },
  {
   "cell_type": "markdown",
   "id": "248cfa08-f5a4-43e3-b343-dc1edf8a4454",
   "metadata": {},
   "source": [
    "### Bivariate rainfall-streamflow fluctuations\n",
    "- 计算二元波动的均方值\n",
    "- 参考 Eq.7 in Giani et al., 2021"
   ]
  },
  {
   "cell_type": "code",
   "execution_count": 7,
   "id": "a7c91dc0-74be-445c-a1cc-b96c1ab3cbcc",
   "metadata": {},
   "outputs": [],
   "source": [
    "F_rain_flow((window-1)/2)=(1/(T-window+1))*nansum(fluct_rain((window-1)/2,window-0.5*(window-1):T-0.5*(window-1)).*fluct_flow((window-1)/2,window-0.5*(window-1):T-0.5*(window-1)));"
   ]
  },
  {
   "cell_type": "markdown",
   "id": "b2cedfec-985e-40c1-837c-a255db0ca4d8",
   "metadata": {},
   "source": [
    "### DMCA-based correlation coefficent\n",
    "- 参考 Eq.8 in Giani et al., 2021"
   ]
  },
  {
   "cell_type": "code",
   "execution_count": 8,
   "id": "dd1b7ffe-159a-42df-88d1-35a07db07414",
   "metadata": {
    "tags": []
   },
   "outputs": [],
   "source": [
    "rho((window-1)/2)=F_rain_flow((window-1)/2)/(sqrt(F_rain((window-1)/2))*sqrt(F_flow((window-1)/2)));"
   ]
  },
  {
   "cell_type": "code",
   "execution_count": null,
   "id": "c6f1958d-8f77-4d77-a31b-d7f65bf95550",
   "metadata": {},
   "outputs": [],
   "source": []
  }
 ],
 "metadata": {
  "kernelspec": {
   "display_name": "MATLAB Kernel",
   "language": "matlab",
   "name": "jupyter_matlab_kernel"
  },
  "language_info": {
   "file_extension": ".m",
   "mimetype": "text/x-matlab",
   "name": "matlab"
  }
 },
 "nbformat": 4,
 "nbformat_minor": 5
}
