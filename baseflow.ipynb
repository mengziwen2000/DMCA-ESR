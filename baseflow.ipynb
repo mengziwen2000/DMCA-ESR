{
 "cells": [
  {
   "cell_type": "markdown",
   "id": "f13c45e9-2f5a-43f0-b82a-9096bf7dd333",
   "metadata": {},
   "source": [
    "# baseflow"
   ]
  },
  {
   "cell_type": "code",
   "execution_count": 1,
   "id": "44588aca-8e86-46b0-9eeb-5d51eed4cdd6",
   "metadata": {
    "tags": []
   },
   "outputs": [],
   "source": [
    "  baseflow=flow;\n",
    "  beg_end_series=[];\n",
    "  for j=1:length(BEGINNING_FLOW)\n",
    "        beg_end_series=[beg_end_series;BEGINNING_FLOW(j); END_FLOW(j)];\n",
    "  end\n",
    "\n",
    "for k=1:length(beg_end_series)-1\n",
    "    index_beg=find(time== beg_end_series(k));\n",
    "    index_end=find(time==beg_end_series(k+1));\n",
    "    if length(find(isnan(flow(index_beg:index_end))==1))>=length(flow(index_beg:index_end))*0.9 %this is to avoid to connect points separated by long periods of NaNs\n",
    "        baseflow(index_beg:index_end)=NaN;\n",
    "    elseif index_end-index_beg==1 %in case the event lasts just one time step\n",
    "         baseflow(index_beg)=flow(index_beg);\n",
    "         baseflow(index_end)=flow(index_end);\n",
    "     elseif flow(index_beg)<flow(index_end) %when the value of the streamflow at the beginning is smaller than the value of the streamflow at the end\n",
    "         increment=(flow(index_end)-flow(index_beg))./(index_end-index_beg);\n",
    "         for k= index_beg+1: index_end-1\n",
    "             baseflow(k)=baseflow(index_beg)+increment*(k-index_beg);\n",
    "         end\n",
    "     elseif flow(index_beg)>flow(index_end) %when the value of the streamflow at the beginning is bigger than the value of the streamflow at the end\n",
    "          increment=(flow(index_beg)-flow(index_end))./(index_end-index_beg);\n",
    "         for k= index_beg+1: index_end-1\n",
    "             baseflow(k)=baseflow(index_beg)-increment*(k-index_beg);\n",
    "         end\n",
    "     end\n",
    "end\n",
    "\n",
    " for m=1:length(baseflow) %for when the straight line intersect the streamflow and hence baseflow becomes larger than streamflow\n",
    "     if baseflow(m)>flow(m)\n",
    "         baseflow(m)=flow(m);\n",
    "     end\n",
    " end"
   ]
  },
  {
   "cell_type": "code",
   "execution_count": 2,
   "id": "7c08998f-eba6-4d94-9f4b-36cd66201e40",
   "metadata": {
    "tags": []
   },
   "outputs": [],
   "source": [
    "baseflow_original=baseflow.*multiple; %mm/day"
   ]
  },
  {
   "cell_type": "code",
   "execution_count": null,
   "id": "6027a41d-a8da-473a-9ee5-fb43ae0bdbcb",
   "metadata": {},
   "outputs": [],
   "source": []
  }
 ],
 "metadata": {
  "kernelspec": {
   "display_name": "MATLAB Kernel",
   "language": "matlab",
   "name": "jupyter_matlab_kernel"
  },
  "language_info": {
   "file_extension": ".m",
   "mimetype": "text/x-matlab",
   "name": "matlab"
  }
 },
 "nbformat": 4,
 "nbformat_minor": 5
}
