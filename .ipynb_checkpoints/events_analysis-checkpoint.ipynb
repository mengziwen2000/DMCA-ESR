{
 "cells": [
  {
   "cell_type": "markdown",
   "id": "5387d49d-988d-4ac7-8152-07fa9b1d376a",
   "metadata": {},
   "source": [
    "# events analysis"
   ]
  },
  {
   "cell_type": "code",
   "execution_count": 1,
   "id": "12312ea1-8f52-4efb-87dc-66ebd0a1be5d",
   "metadata": {
    "tags": []
   },
   "outputs": [],
   "source": [
    "flag=0; %the output we provide is total streamflow"
   ]
  },
  {
   "cell_type": "code",
   "execution_count": 2,
   "id": "abf2bada-3638-45c1-8451-cb137573db1d",
   "metadata": {
    "tags": []
   },
   "outputs": [],
   "source": [
    "for h=1:length(BEGINNING_RAIN)\n",
    "    DURATION_RAIN(h)=etime(datevec(END_RAIN(h)),datevec(BEGINNING_RAIN(h)))./(60*60*multiple);\n",
    "end\n",
    "\n",
    "for h=1:length(BEGINNING_FLOW)\n",
    "    DURATION_RUNOFF(h)=etime(datevec(END_FLOW(h)),datevec(BEGINNING_FLOW(h)))./(60*60*multiple);\n",
    "end\n",
    "\n",
    "for h=1:length(BEGINNING_RAIN)\n",
    "    index_beginning_event=find(time==BEGINNING_RAIN(h));\n",
    "    index_end_event=find(time==END_RAIN(h));\n",
    "    VOLUME_RAIN(h)=nansum(rain(index_beginning_event:index_end_event)).*multiple;\n",
    "end\n",
    "\n",
    "if flag==1\n",
    "    for h=1:length(BEGINNING_FLOW)\n",
    "        index_beginning_event=find(time==BEGINNING_FLOW(h));\n",
    "        index_end_event=find(time==END_FLOW(h));\n",
    "        VOLUME_RUNOFF(h)=nansum(flow(index_beginning_event:index_end_event)).*multiple;\n",
    "    end\n",
    "else\n",
    "    baseflow=BASEFLOW_CURVE(BEGINNING_FLOW, END_FLOW, flow, time);\n",
    "    for h=1:length(BEGINNING_FLOW)\n",
    "        index_beginning_event=find(time==BEGINNING_FLOW(h));\n",
    "        index_end_event=find(time==END_FLOW(h));\n",
    "        q=flow(index_beginning_event:index_end_event); \n",
    "        qb=baseflow(index_beginning_event:index_end_event); \n",
    "        VOLUME_RUNOFF(h)=nansum(q-qb).*multiple;\n",
    "    end\n",
    "end\n",
    "\n",
    "RUNOFF_RATIO=VOLUME_RUNOFF./VOLUME_RAIN;"
   ]
  },
  {
   "cell_type": "code",
   "execution_count": null,
   "id": "5855cef2-5ed8-41f2-96cb-bf05f40f121d",
   "metadata": {},
   "outputs": [],
   "source": []
  }
 ],
 "metadata": {
  "kernelspec": {
   "display_name": "MATLAB Kernel",
   "language": "matlab",
   "name": "jupyter_matlab_kernel"
  },
  "language_info": {
   "file_extension": ".m",
   "mimetype": "text/x-matlab",
   "name": "matlab"
  }
 },
 "nbformat": 4,
 "nbformat_minor": 5
}
