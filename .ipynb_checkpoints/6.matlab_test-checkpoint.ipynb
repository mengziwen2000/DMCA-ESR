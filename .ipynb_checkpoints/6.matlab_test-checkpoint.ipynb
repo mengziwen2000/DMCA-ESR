{
 "cells": [
  {
   "cell_type": "markdown",
   "id": "70ee73a6-ba91-4599-8c18-d88e1b238dad",
   "metadata": {},
   "source": [
    "**如果if为true，那么会继续运行下面的if语句，但是不会运行elseif语句了**"
   ]
  },
  {
   "cell_type": "code",
   "execution_count": 40,
   "id": "444e1fea-f529-41b2-a6ce-801beaf7640f",
   "metadata": {
    "tags": []
   },
   "outputs": [
    {
     "name": "stdout",
     "output_type": "stream",
     "text": [
      "ssss\n",
      "Exact value of a is : 300\n",
      "Exact value of b is : 200\n"
     ]
    }
   ],
   "source": [
    "a = 300;\n",
    "b = 200;\n",
    "   %检查布尔条件\n",
    "   if( a == 300 )\n",
    "      fprintf('ssss\\n' );\n",
    "      %如果condition为真，则检查以下内容\n",
    "      if( b == 100 )\n",
    "       \n",
    "         %如果condition为真，则打印以下内容\n",
    "         fprintf('Value of a is 100 and b is 200\\n' );\n",
    "      end\n",
    "       \n",
    "   end\n",
    "   fprintf('Exact value of a is : %d\\n', a );\n",
    "   fprintf('Exact value of b is : %d\\n', b );"
   ]
  },
  {
   "cell_type": "code",
   "execution_count": 16,
   "id": "be1988e8-7c1f-4d3d-9e2c-4a20774c1a2c",
   "metadata": {
    "tags": []
   },
   "outputs": [
    {
     "name": "stdout",
     "output_type": "stream",
     "text": [
      "Value of a is 100\n"
     ]
    }
   ],
   "source": [
    "a = 100;\n",
    "%检查布尔条件\n",
    "   if a == 100 \n",
    "      %如果condition为真，则打印以下内容 \n",
    "      fprintf('Value of a is 100\\n' );\n",
    "   elseif( a == 100 )\n",
    "      % 如果条件成立的话 \n",
    "      fprintf('Value of a is 20\\n' );\n",
    "   elseif a == 100 \n",
    "      % 如果条件成立的话\n",
    "      fprintf('Value of a is 30\\n' );\n",
    "   else\n",
    "      %如果没有一个条件是真的\n",
    "      fprintf('None of the values are matching\\n');\n",
    "   fprintf('Exact value of a is: %d\\n', a );\n",
    "   end"
   ]
  },
  {
   "cell_type": "code",
   "execution_count": 24,
   "id": "42a17583-bd08-4815-94ed-6a393e1015ce",
   "metadata": {
    "tags": []
   },
   "outputs": [
    {
     "name": "stdout",
     "output_type": "stream",
     "text": [
      "Well done\n"
     ]
    }
   ],
   "source": [
    "grade = 2;\n",
    "   switch(grade)\n",
    "   case 'A' \n",
    "      fprintf('Excellent!\\n' );\n",
    "   case 2\n",
    "      fprintf('Well done\\n' );\n",
    "   case 'C' \n",
    "      fprintf('Good done\\n' );\n",
    "   case 'D'\n",
    "      fprintf('You passed\\n' );\n",
    "   case 'F' \n",
    "      fprintf('Better try again\\n' );\n",
    "   otherwise\n",
    "      fprintf('Invalid grade\\n' );\n",
    "   end"
   ]
  },
  {
   "cell_type": "code",
   "execution_count": 27,
   "id": "e5f5f5aa-5916-4cf1-ad8c-cb39cf068b27",
   "metadata": {
    "tags": []
   },
   "outputs": [
    {
     "name": "stdout",
     "output_type": "stream",
     "text": [
      "This is part of outer switch 100\n"
     ]
    }
   ],
   "source": [
    "a = 100;\n",
    "b = 200;\n",
    "switch(a) \n",
    "   case 100 \n",
    "      fprintf('This is part of outer switch %d\\n', a );\n",
    "      switch(b) \n",
    "         case 300\n",
    "            fprintf('This is part of inner switch %d\\n', a );\n",
    "      end\n",
    "end"
   ]
  },
  {
   "cell_type": "code",
   "execution_count": 29,
   "id": "e69ab95a-d15b-4e5d-ae57-f322b436b419",
   "metadata": {
    "tags": []
   },
   "outputs": [
    {
     "data": {
      "text/html": [
       "<html><body><pre>ans = \n",
       "   '/home/mengziwen'</pre></body></html>"
      ],
      "text/plain": [
       "ans = \n",
       "   '/home/mengziwen'"
      ]
     },
     "execution_count": 29,
     "metadata": {},
     "output_type": "execute_result"
    }
   ],
   "source": [
    "pwd"
   ]
  },
  {
   "cell_type": "code",
   "execution_count": 38,
   "id": "32f13f9d-5eff-40ec-bde1-de01bae97dc5",
   "metadata": {
    "collapsed": true,
    "jupyter": {
     "outputs_hidden": true
    },
    "tags": []
   },
   "outputs": [
    {
     "name": "stdout",
     "output_type": "stream",
     "text": [
      "value of a: 1\n",
      "value of a: 0.9\n",
      "value of a: 0.8\n",
      "value of a: 0.7\n",
      "value of a: 0.6\n",
      "value of a: 0.5\n",
      "value of a: 0.4\n",
      "value of a: 0.3\n",
      "value of a: 0.2\n",
      "value of a: 0.1\n",
      "value of a: 0\n"
     ]
    }
   ],
   "source": [
    "for a = 1.0: -0.1: 0.0\n",
    "   fprintf('value of a: %g\\n', a);\n",
    "end"
   ]
  },
  {
   "cell_type": "code",
   "execution_count": 49,
   "id": "8b35327b-ae50-488d-8010-f9651c15cfd6",
   "metadata": {
    "collapsed": true,
    "jupyter": {
     "outputs_hidden": true
    },
    "tags": []
   },
   "outputs": [
    {
     "name": "stdout",
     "output_type": "stream",
     "text": [
      "          1.00\n",
      "\n",
      "          0.90\n",
      "\n",
      "          0.80\n",
      "\n",
      "          0.70\n",
      "\n",
      "          0.60\n",
      "\n",
      "          0.50\n",
      "\n",
      "          0.40\n",
      "\n",
      "          0.30\n",
      "\n",
      "          0.20\n",
      "\n",
      "          0.10\n",
      "\n",
      "             0\n",
      "\n"
     ]
    }
   ],
   "source": [
    "for a = 1.0: -0.1: 0.0\n",
    "   format bank; disp(a)\n",
    "end"
   ]
  },
  {
   "cell_type": "code",
   "execution_count": 50,
   "id": "cb463440-2a4c-46ec-a287-05822e9748d8",
   "metadata": {
    "tags": []
   },
   "outputs": [
    {
     "data": {
      "text/html": [
       "<html><body><pre>v = 1x10 double\n",
       "          1.00          3.00          5.00          7.00          9.00         11.00         13.00         15.00         17.00         19.00\n",
       "</pre></body></html>"
      ],
      "text/plain": [
       "v = 1x10 double\n",
       "          1.00          3.00          5.00          7.00          9.00         11.00         13.00         15.00         17.00         19.00\n"
      ]
     },
     "execution_count": 50,
     "metadata": {},
     "output_type": "execute_result"
    }
   ],
   "source": [
    "v = [1: 2: 20]"
   ]
  },
  {
   "cell_type": "code",
   "execution_count": 51,
   "id": "0ac2d22d-6cb0-4142-8c8d-bc48104b2350",
   "metadata": {
    "tags": []
   },
   "outputs": [
    {
     "data": {
      "text/html": [
       "<html><body><pre>sv = 1x10 double\n",
       "          1.00          9.00         25.00         49.00         81.00        121.00        169.00        225.00        289.00        361.00\n",
       "</pre></body></html>"
      ],
      "text/plain": [
       "sv = 1x10 double\n",
       "          1.00          9.00         25.00         49.00         81.00        121.00        169.00        225.00        289.00        361.00\n"
      ]
     },
     "execution_count": 51,
     "metadata": {},
     "output_type": "execute_result"
    }
   ],
   "source": [
    "sv = v.* v"
   ]
  },
  {
   "cell_type": "code",
   "execution_count": 52,
   "id": "37705ad2-d63b-4ca8-87ee-9bee335e2854",
   "metadata": {
    "tags": []
   },
   "outputs": [
    {
     "name": "stdout",
     "output_type": "stream",
     "text": [
      "Magnitude:\n",
      "         36.47\n",
      "\n"
     ]
    }
   ],
   "source": [
    "dp = sum(sv);     %平方和——点积\n",
    "mag = sqrt(dp);   % magnitude\n",
    "disp('Magnitude:'); \n",
    "disp(mag);"
   ]
  },
  {
   "cell_type": "code",
   "execution_count": 53,
   "id": "27ad0aab-2f57-4298-8d02-388bf20a5041",
   "metadata": {
    "tags": []
   },
   "outputs": [
    {
     "data": {
      "text/html": [
       "<html><body><pre>dp = \n",
       "   1330.00</pre></body></html>"
      ],
      "text/plain": [
       "dp = \n",
       "   1330.00"
      ]
     },
     "execution_count": 53,
     "metadata": {},
     "output_type": "execute_result"
    }
   ],
   "source": [
    "dp = sum(sv)"
   ]
  },
  {
   "cell_type": "code",
   "execution_count": 4,
   "id": "8824175a-af0b-49a2-8b86-1bd38a8bd6fd",
   "metadata": {
    "tags": []
   },
   "outputs": [],
   "source": [
    "function max = mymax(n1, n2, n3, n4, n5)\n",
    "\n",
    "%此函数用于计算\n",
    "%输入五个数字\n",
    "max =  n1;\n",
    "if(n2 > max)\n",
    "   max = n2;\n",
    "end\n",
    "if(n3 > max)\n",
    "   max = n3;\n",
    "end\n",
    "if(n4 > max)\n",
    "   max = n4;\n",
    "end\n",
    "if(n5 > max)\n",
    "   max = n5;\n",
    "end"
   ]
  },
  {
   "cell_type": "code",
   "execution_count": 15,
   "id": "11ab5758-f5a7-4290-964b-98b968cac7fb",
   "metadata": {
    "tags": []
   },
   "outputs": [
    {
     "data": {
      "text/html": [
       "<html><body><pre>ans = \n",
       "   89.00</pre></body></html>"
      ],
      "text/plain": [
       "ans = \n",
       "   89.00"
      ]
     },
     "execution_count": 15,
     "metadata": {},
     "output_type": "execute_result"
    }
   ],
   "source": [
    "mymax(34, 78, 89, 23, 11)"
   ]
  },
  {
   "cell_type": "code",
   "execution_count": 16,
   "id": "fa05863e-837b-4c13-8b30-08f022d708aa",
   "metadata": {
    "tags": []
   },
   "outputs": [
    {
     "name": "stdout",
     "output_type": "stream",
     "text": [
      " 此函数用于计算\n",
      " 输入五个数字\n",
      "\n"
     ]
    }
   ],
   "source": [
    "help mymax"
   ]
  },
  {
   "cell_type": "code",
   "execution_count": 4,
   "id": "2125b78f-97bd-419f-b009-c977102d4c0f",
   "metadata": {
    "tags": []
   },
   "outputs": [
    {
     "data": {
      "text/html": [
       "<html><body><pre>ans = \n",
       "   '/home/mengziwen'</pre></body></html>"
      ],
      "text/plain": [
       "ans = \n",
       "   '/home/mengziwen'"
      ]
     },
     "execution_count": 4,
     "metadata": {},
     "output_type": "execute_result"
    }
   ],
   "source": [
    "pwd"
   ]
  },
  {
   "cell_type": "code",
   "execution_count": 26,
   "id": "f82337b8-74b4-421e-9c67-4860f8d49392",
   "metadata": {
    "tags": []
   },
   "outputs": [
    {
     "name": "stdout",
     "output_type": "stream",
     "text": [
      "    20\n",
      "\n"
     ]
    }
   ],
   "source": [
    "% 生成一个包含NaN值的向量\n",
    "input = [1, 3, NaN, 4, 5, NaN, 7, NaN];\n",
    "% 调用myNanSum函数计算输入向量中所有非NaN元素的和\n",
    "result = nansum(input);\n",
    "% 显示结果\n",
    "disp(result);"
   ]
  },
  {
   "cell_type": "code",
   "execution_count": 17,
   "id": "169627cf-94d5-4cf3-8354-217daeb52aed",
   "metadata": {
    "tags": []
   },
   "outputs": [],
   "source": [
    "input(isnan(input)) = 0;\n",
    "result3 = sum(input);"
   ]
  },
  {
   "cell_type": "code",
   "execution_count": 18,
   "id": "434c7e8b-19db-4427-9818-94e816757a09",
   "metadata": {
    "tags": []
   },
   "outputs": [
    {
     "data": {
      "text/html": [
       "<html><body><pre>result3 = \n",
       "   19</pre></body></html>"
      ],
      "text/plain": [
       "result3 = \n",
       "   19"
      ]
     },
     "execution_count": 18,
     "metadata": {},
     "output_type": "execute_result"
    }
   ],
   "source": [
    "result3"
   ]
  },
  {
   "cell_type": "code",
   "execution_count": 55,
   "id": "94b530b5-e61e-4e4c-ab20-a107bc7f845a",
   "metadata": {
    "tags": []
   },
   "outputs": [
    {
     "data": {
      "text/html": [
       "<html><body><pre>result4 = \n",
       "   NaN</pre></body></html>"
      ],
      "text/plain": [
       "result4 = \n",
       "   NaN"
      ]
     },
     "execution_count": 55,
     "metadata": {},
     "output_type": "execute_result"
    }
   ],
   "source": [
    "input1 = [1, 2, NaN, 4, 5, NaN, 7, NaN];\n",
    "result4 = mean(input1)"
   ]
  },
  {
   "cell_type": "code",
   "execution_count": 53,
   "id": "05425170-1435-44d0-abbb-1ba4d8276a2c",
   "metadata": {
    "tags": []
   },
   "outputs": [
    {
     "data": {
      "text/html": [
       "<html><body><pre>input1 = 1x8 double\n",
       "          1.00          2.00           NaN          4.00          5.00           NaN          7.00           NaN\n",
       "</pre></body></html>"
      ],
      "text/plain": [
       "input1 = 1x8 double\n",
       "          1.00          2.00           NaN          4.00          5.00           NaN          7.00           NaN\n"
      ]
     },
     "execution_count": 53,
     "metadata": {},
     "output_type": "execute_result"
    }
   ],
   "source": [
    "input1"
   ]
  },
  {
   "cell_type": "code",
   "execution_count": 4,
   "id": "7cb01868-2075-41cc-8fad-6c6d004e7f0d",
   "metadata": {},
   "outputs": [
    {
     "data": {
      "text/html": [
       "<html><body><pre>X = 2x1 double\n",
       "    -1\n",
       "     3\n",
       "</pre></body></html>"
      ],
      "text/plain": [
       "X = 2x1 double\n",
       "    -1\n",
       "     3\n"
      ]
     },
     "execution_count": 4,
     "metadata": {},
     "output_type": "execute_result"
    }
   ],
   "source": [
    "A = [2 3; 4 5];\n",
    "B = [7; 11];\n",
    "X = A \\ B"
   ]
  },
  {
   "cell_type": "code",
   "execution_count": 18,
   "id": "87333a06-8ecc-4c68-97b2-77259b9a25b0",
   "metadata": {
    "tags": []
   },
   "outputs": [
    {
     "data": {
      "text/html": [
       "<html><body><pre>X = 2x2 double\n",
       "    1.0000    0.6667\n",
       "    0.5000    0.4000\n",
       "</pre></body></html>"
      ],
      "text/plain": [
       "X = 2x2 double\n",
       "    1.0000    0.6667\n",
       "    0.5000    0.4000\n"
      ]
     },
     "execution_count": 18,
     "metadata": {},
     "output_type": "execute_result"
    }
   ],
   "source": [
    "X = A .\\ 2"
   ]
  },
  {
   "cell_type": "code",
   "execution_count": 8,
   "id": "6fc93f6e-a6b7-466f-a457-20320589fdf7",
   "metadata": {
    "tags": []
   },
   "outputs": [
    {
     "data": {
      "text/html": [
       "<html><body><pre>X = \n",
       "   X(:,:,1) =\n",
       "\n",
       "     1     3     5     7     9\n",
       "     2     4     6     8    10\n",
       "\n",
       "\n",
       "X(:,:,2) =\n",
       "\n",
       "    11    13    15    17    19\n",
       "    12    14    16    18    20\n",
       "\n",
       "\n",
       "X(:,:,3) =\n",
       "\n",
       "    21    23    25    27    29\n",
       "    22    24    26    28    30</pre></body></html>"
      ],
      "text/plain": [
       "X = \n",
       "   X(:,:,1) =\n",
       "\n",
       "     1     3     5     7     9\n",
       "     2     4     6     8    10\n",
       "\n",
       "\n",
       "X(:,:,2) =\n",
       "\n",
       "    11    13    15    17    19\n",
       "    12    14    16    18    20\n",
       "\n",
       "\n",
       "X(:,:,3) =\n",
       "\n",
       "    21    23    25    27    29\n",
       "    22    24    26    28    30"
      ]
     },
     "execution_count": 8,
     "metadata": {},
     "output_type": "execute_result"
    }
   ],
   "source": [
    "X = reshape(1:30,[2 5 3]);\n",
    "X"
   ]
  },
  {
   "cell_type": "code",
   "execution_count": 21,
   "id": "39b8a08a-1307-4a52-a0af-ecfb411458c6",
   "metadata": {
    "tags": []
   },
   "outputs": [
    {
     "data": {
      "text/html": [
       "<html><body><pre>M3 = 2x5 double\n",
       "    21    23    25    27    29\n",
       "    22    24    16    28    30\n",
       "</pre></body></html>"
      ],
      "text/plain": [
       "M3 = 2x5 double\n",
       "    21    23    25    27    29\n",
       "    22    24    16    28    30\n"
      ]
     },
     "execution_count": 21,
     "metadata": {},
     "output_type": "execute_result"
    }
   ],
   "source": [
    "X_as = reshape(1:30,[2 5 3]);\n",
    "X_as([2:9 26]) = NaN;\n",
    "% y1 = nanmax(X,[],1);\n",
    "% y2 = nanmax(X,[],2);\n",
    "% y3 = nanmax(X,[],3);\n",
    "% y_all = nanmax(X,[],'all');\n",
    "M3 = max(X_as,[], 3, 'omitnan')\n",
    "% M_all = max(X,[], 'all', 'omitnan');"
   ]
  },
  {
   "cell_type": "code",
   "execution_count": 22,
   "id": "82ab8d47-bc72-4a91-aa7e-29bc4250a390",
   "metadata": {
    "tags": []
   },
   "outputs": [
    {
     "data": {
      "text/html": [
       "<html><body><pre>M2 = \n",
       "   M2(:,:,1) =\n",
       "\n",
       "     1\n",
       "    10\n",
       "\n",
       "\n",
       "M2(:,:,2) =\n",
       "\n",
       "    19\n",
       "    20\n",
       "\n",
       "\n",
       "M2(:,:,3) =\n",
       "\n",
       "    29\n",
       "    30</pre></body></html>"
      ],
      "text/plain": [
       "M2 = \n",
       "   M2(:,:,1) =\n",
       "\n",
       "     1\n",
       "    10\n",
       "\n",
       "\n",
       "M2(:,:,2) =\n",
       "\n",
       "    19\n",
       "    20\n",
       "\n",
       "\n",
       "M2(:,:,3) =\n",
       "\n",
       "    29\n",
       "    30"
      ]
     },
     "execution_count": 22,
     "metadata": {},
     "output_type": "execute_result"
    }
   ],
   "source": [
    "M2"
   ]
  },
  {
   "cell_type": "code",
   "execution_count": 25,
   "id": "b41eb73e-722c-4dd2-a70d-3a678df30039",
   "metadata": {
    "tags": []
   },
   "outputs": [
    {
     "data": {
      "text/html": [
       "<html><body><pre>M1 = \n",
       "   M1(:,:,1) =\n",
       "\n",
       "     1   NaN   NaN   NaN    10\n",
       "\n",
       "\n",
       "M1(:,:,2) =\n",
       "\n",
       "    12    14    16    18    20\n",
       "\n",
       "\n",
       "M1(:,:,3) =\n",
       "\n",
       "    22    24    25    28    30</pre></body></html>"
      ],
      "text/plain": [
       "M1 = \n",
       "   M1(:,:,1) =\n",
       "\n",
       "     1   NaN   NaN   NaN    10\n",
       "\n",
       "\n",
       "M1(:,:,2) =\n",
       "\n",
       "    12    14    16    18    20\n",
       "\n",
       "\n",
       "M1(:,:,3) =\n",
       "\n",
       "    22    24    25    28    30"
      ]
     },
     "execution_count": 25,
     "metadata": {},
     "output_type": "execute_result"
    }
   ],
   "source": [
    "M1"
   ]
  },
  {
   "cell_type": "code",
   "execution_count": 17,
   "id": "38154573-03a1-4c8b-91c8-8f6879903d7c",
   "metadata": {
    "tags": []
   },
   "outputs": [
    {
     "data": {
      "text/html": [
       "<html><body><pre>M_all = \n",
       "   30</pre></body></html>"
      ],
      "text/plain": [
       "M_all = \n",
       "   30"
      ]
     },
     "execution_count": 17,
     "metadata": {},
     "output_type": "execute_result"
    }
   ],
   "source": [
    "M_all"
   ]
  },
  {
   "cell_type": "code",
   "execution_count": 6,
   "id": "d2e4ff30-6825-4e1d-adda-803af46e17a2",
   "metadata": {
    "tags": []
   },
   "outputs": [
    {
     "data": {
      "text/html": [
       "<html><body><pre>ans = \n",
       "   12.5000</pre></body></html>"
      ],
      "text/plain": [
       "ans = \n",
       "   12.5000"
      ]
     },
     "execution_count": 6,
     "metadata": {},
     "output_type": "execute_result"
    }
   ],
   "source": [
    "25/2"
   ]
  },
  {
   "cell_type": "code",
   "execution_count": 7,
   "id": "659dbb4e-0f40-4b9f-bc89-7b2cfcc18fb4",
   "metadata": {
    "tags": []
   },
   "outputs": [
    {
     "data": {
      "text/html": [
       "<html><body><pre>ans = \n",
       "   0.0800</pre></body></html>"
      ],
      "text/plain": [
       "ans = \n",
       "   0.0800"
      ]
     },
     "execution_count": 7,
     "metadata": {},
     "output_type": "execute_result"
    }
   ],
   "source": [
    "25\\2"
   ]
  },
  {
   "cell_type": "code",
   "execution_count": 19,
   "id": "32c1a2b6-e772-4190-b49d-a10c9eea76e7",
   "metadata": {
    "tags": []
   },
   "outputs": [
    {
     "data": {
      "text/html": [
       "<html><body><pre>X = 1x4 double\n",
       "    1.0000    1.5000    2.0000    2.5000\n",
       "</pre></body></html>"
      ],
      "text/plain": [
       "X = 1x4 double\n",
       "    1.0000    1.5000    2.0000    2.5000\n"
      ]
     },
     "execution_count": 19,
     "metadata": {},
     "output_type": "execute_result"
    }
   ],
   "source": [
    "A = [2 3 4 5];\n",
    "X = A ./ 2"
   ]
  },
  {
   "cell_type": "code",
   "execution_count": 3,
   "id": "5ccaec01-36d5-4fa4-8f4c-d2fe8bb244a8",
   "metadata": {
    "tags": []
   },
   "outputs": [],
   "source": [
    "rain_original=dlmread('daily_rainfall_27071.txt'); \n",
    "flow_original=dlmread('daily_flow_27071.txt'); \n",
    "multiple=24; %to convert from mm/h to the original units of the timeseries (mm/day)\n",
    "rain=rain_original(:,7)./multiple; %mm/h\n",
    "flow=flow_original(:,7)./multiple; %mm/h\n",
    "time=datenum(rain_original(:,1:6));"
   ]
  },
  {
   "cell_type": "code",
   "execution_count": 4,
   "id": "53fa088c-b201-4d99-a30a-f395685c8de4",
   "metadata": {
    "tags": []
   },
   "outputs": [],
   "source": [
    "rain=rain'; %row vector\n",
    "flow=flow'; %row vector"
   ]
  },
  {
   "cell_type": "code",
   "execution_count": 5,
   "id": "6405b25e-3ff5-4ebb-b55f-2a47b06d5f6a",
   "metadata": {
    "tags": []
   },
   "outputs": [],
   "source": [
    "rain_int=cumsum(rain, 'omitnan');\n",
    "flow_int=cumsum(flow, 'omitnan');"
   ]
  },
  {
   "cell_type": "code",
   "execution_count": 6,
   "id": "8be15ab9-1ee5-4a53-b9b3-011116be37b2",
   "metadata": {
    "tags": []
   },
   "outputs": [],
   "source": [
    "window = 3;\n",
    "T=length(rain);\n",
    "rain_mean((window-1)/2,:)=movmean(rain_int, window);\n",
    "flow_mean((window-1)/2,:)=movmean(flow_int, window);"
   ]
  },
  {
   "cell_type": "code",
   "execution_count": 7,
   "id": "36e73794-329e-41bc-b051-0570895d6a3c",
   "metadata": {},
   "outputs": [
    {
     "data": {
      "text/html": [
       "<html><body><pre>rain_mean = 1x9131 double\n",
       "    0.3534    0.3929    0.4677    0.4814    0.5521    0.6718    0.7890    0.8501    0.9027    0.9964    1.0935    1.1493    1.1637    1.1869    1.2632    1.3558    1.4384    1.5573    1.6591    1.7646    1.8142    2.0273    2.2784    2.6957    2.9882    3.4834    3.9494    4.4849    4.8272    5.0902\n",
       "...</pre></body></html>"
      ],
      "text/plain": [
       "rain_mean = 1x9131 double\n",
       "    0.3534    0.3929    0.4677    0.4814    0.5521    0.6718    0.7890    0.8501    0.9027    0.9964    1.0935    1.1493    1.1637    1.1869    1.2632    1.3558    1.4384    1.5573    1.6591    1.7646    1.8142    2.0273    2.2784    2.6957    2.9882    3.4834    3.9494    4.4849    4.8272    5.0902\n",
       "..."
      ]
     },
     "execution_count": 7,
     "metadata": {},
     "output_type": "execute_result"
    }
   ],
   "source": [
    "rain_mean"
   ]
  },
  {
   "cell_type": "code",
   "execution_count": 26,
   "id": "443a94c9-a552-4f58-85d3-4ae6db4d3064",
   "metadata": {
    "tags": []
   },
   "outputs": [],
   "source": [
    "clear M1;"
   ]
  },
  {
   "cell_type": "code",
   "execution_count": 27,
   "id": "9a248b26-7e81-4935-b1cc-f30e4bf858da",
   "metadata": {
    "tags": []
   },
   "outputs": [
    {
     "name": "stderr",
     "output_type": "stream",
     "text": [
      "Unrecognized function or variable 'M1'."
     ]
    }
   ],
   "source": [
    "M1"
   ]
  },
  {
   "cell_type": "code",
   "execution_count": 28,
   "id": "6c295110-e0a6-4b93-90c0-080a1ab49f63",
   "metadata": {
    "collapsed": true,
    "jupyter": {
     "outputs_hidden": true
    },
    "tags": []
   },
   "outputs": [
    {
     "data": {
      "text/html": [
       "<html><body><pre>M2 = \n",
       "   M2(:,:,1) =\n",
       "\n",
       "     1\n",
       "    10\n",
       "\n",
       "\n",
       "M2(:,:,2) =\n",
       "\n",
       "    19\n",
       "    20\n",
       "\n",
       "\n",
       "M2(:,:,3) =\n",
       "\n",
       "    29\n",
       "    30</pre></body></html>"
      ],
      "text/plain": [
       "M2 = \n",
       "   M2(:,:,1) =\n",
       "\n",
       "     1\n",
       "    10\n",
       "\n",
       "\n",
       "M2(:,:,2) =\n",
       "\n",
       "    19\n",
       "    20\n",
       "\n",
       "\n",
       "M2(:,:,3) =\n",
       "\n",
       "    29\n",
       "    30"
      ]
     },
     "execution_count": 28,
     "metadata": {},
     "output_type": "execute_result"
    }
   ],
   "source": [
    "M2"
   ]
  },
  {
   "cell_type": "code",
   "execution_count": 29,
   "id": "76e91b90-33e5-47b1-a02e-74b1325c0dc5",
   "metadata": {
    "tags": []
   },
   "outputs": [],
   "source": [
    "clear M2;"
   ]
  },
  {
   "cell_type": "code",
   "execution_count": 30,
   "id": "86cd1e22-f7db-42d8-9893-1ae87c6003e3",
   "metadata": {
    "tags": []
   },
   "outputs": [
    {
     "name": "stderr",
     "output_type": "stream",
     "text": [
      "Unrecognized function or variable 'M2'."
     ]
    }
   ],
   "source": [
    "M2"
   ]
  },
  {
   "cell_type": "code",
   "execution_count": 31,
   "id": "c25d2d8e-7f98-4b12-b2da-405d144147d5",
   "metadata": {
    "tags": []
   },
   "outputs": [
    {
     "data": {
      "text/html": [
       "<html><body><pre>ans = \n",
       "   517.3498</pre></body></html>"
      ],
      "text/plain": [
       "ans = \n",
       "   517.3498"
      ]
     },
     "execution_count": 31,
     "metadata": {},
     "output_type": "execute_result"
    }
   ],
   "source": [
    "flow_int(end)"
   ]
  },
  {
   "cell_type": "code",
   "execution_count": 32,
   "id": "301f03f7-425e-4922-a799-7be148c49284",
   "metadata": {
    "tags": []
   },
   "outputs": [
    {
     "data": {
      "text/html": [
       "<html><body><pre>flow_int = 1x9131 double\n",
       "    0.0238    0.0498    0.0998    0.1557    0.1932    0.2269    0.2788    0.3351    0.3891    0.4340    0.5212    0.6438    0.7040    0.7462    0.7832    0.8302    0.9340    0.9960    1.0444    1.1544    1.2066    1.2539    1.3187    1.4426    1.5190    1.7465    1.8502    1.9885    2.1150    2.3911\n",
       "...</pre></body></html>"
      ],
      "text/plain": [
       "flow_int = 1x9131 double\n",
       "    0.0238    0.0498    0.0998    0.1557    0.1932    0.2269    0.2788    0.3351    0.3891    0.4340    0.5212    0.6438    0.7040    0.7462    0.7832    0.8302    0.9340    0.9960    1.0444    1.1544    1.2066    1.2539    1.3187    1.4426    1.5190    1.7465    1.8502    1.9885    2.1150    2.3911\n",
       "..."
      ]
     },
     "execution_count": 32,
     "metadata": {},
     "output_type": "execute_result"
    }
   ],
   "source": [
    "flow_int"
   ]
  },
  {
   "cell_type": "code",
   "execution_count": 33,
   "id": "02febe39-7c67-47fe-a172-b1c51b23dbcd",
   "metadata": {
    "tags": []
   },
   "outputs": [
    {
     "data": {
      "text/html": [
       "<html><body><pre>flow = 1x9131 double\n",
       "    0.0238    0.0260    0.0501    0.0559    0.0374    0.0337    0.0519    0.0563    0.0540    0.0450    0.0872    0.1225    0.0602    0.0422    0.0370    0.0470    0.1037    0.0621    0.0484    0.1100    0.0522    0.0472    0.0648    0.1239    0.0764    0.2274    0.1038    0.1383    0.1265    0.2761\n",
       "...</pre></body></html>"
      ],
      "text/plain": [
       "flow = 1x9131 double\n",
       "    0.0238    0.0260    0.0501    0.0559    0.0374    0.0337    0.0519    0.0563    0.0540    0.0450    0.0872    0.1225    0.0602    0.0422    0.0370    0.0470    0.1037    0.0621    0.0484    0.1100    0.0522    0.0472    0.0648    0.1239    0.0764    0.2274    0.1038    0.1383    0.1265    0.2761\n",
       "..."
      ]
     },
     "execution_count": 33,
     "metadata": {},
     "output_type": "execute_result"
    }
   ],
   "source": [
    "flow"
   ]
  },
  {
   "cell_type": "code",
   "execution_count": 34,
   "id": "3002f52f-0ef7-4ac3-8c9e-edc20272d776",
   "metadata": {
    "tags": []
   },
   "outputs": [
    {
     "data": {
      "text/html": [
       "<html><body><pre>tol_fluct_rain = \n",
       "   0.0067</pre></body></html>"
      ],
      "text/plain": [
       "tol_fluct_rain = \n",
       "   0.0067"
      ]
     },
     "execution_count": 34,
     "metadata": {},
     "output_type": "execute_result"
    }
   ],
   "source": [
    "tol_fluct_rain"
   ]
  },
  {
   "cell_type": "code",
   "execution_count": 35,
   "id": "07cf7ebc-e753-4b4f-a2ce-86cb25825629",
   "metadata": {
    "tags": []
   },
   "outputs": [
    {
     "data": {
      "text/html": [
       "<html><body><pre>tol_fluct_flow = \n",
       "   5.1735e-13</pre></body></html>"
      ],
      "text/plain": [
       "tol_fluct_flow = \n",
       "   5.1735e-13"
      ]
     },
     "execution_count": 35,
     "metadata": {},
     "output_type": "execute_result"
    }
   ],
   "source": [
    "tol_fluct_flow"
   ]
  },
  {
   "cell_type": "code",
   "execution_count": 36,
   "id": "e01856cb-b6d0-449b-8f2a-096ed1fd9f03",
   "metadata": {
    "tags": []
   },
   "outputs": [
    {
     "data": {
      "text/html": [
       "<html><body><pre>fluct_flow_Tr = 1x9131 double\n",
       "   -0.0130   -0.0080   -0.0019    0.0062    0.0012   -0.0061   -0.0015    0.0008    0.0030   -0.0141   -0.0118    0.0208    0.0060    0.0017   -0.0033   -0.0189    0.0139    0.0046   -0.0205    0.0193    0.0017   -0.0059   -0.0197    0.0158   -0.0503    0.0412   -0.0115    0.0039   -0.0499   -0.0071\n",
       "...</pre></body></html>"
      ],
      "text/plain": [
       "fluct_flow_Tr = 1x9131 double\n",
       "   -0.0130   -0.0080   -0.0019    0.0062    0.0012   -0.0061   -0.0015    0.0008    0.0030   -0.0141   -0.0118    0.0208    0.0060    0.0017   -0.0033   -0.0189    0.0139    0.0046   -0.0205    0.0193    0.0017   -0.0059   -0.0197    0.0158   -0.0503    0.0412   -0.0115    0.0039   -0.0499   -0.0071\n",
       "..."
      ]
     },
     "execution_count": 36,
     "metadata": {},
     "output_type": "execute_result"
    }
   ],
   "source": [
    "fluct_flow_Tr"
   ]
  },
  {
   "cell_type": "code",
   "execution_count": 37,
   "id": "64674146-5a13-4977-b70c-117749bcd71d",
   "metadata": {
    "tags": []
   },
   "outputs": [
    {
     "data": {
      "text/html": [
       "<html><body><pre>ans = 1x9131 double\n",
       "   -0.0130   -0.0080   -0.0019    0.0062    0.0012   -0.0061   -0.0015    0.0008    0.0030   -0.0141   -0.0118    0.0208    0.0060    0.0017   -0.0033   -0.0189    0.0139    0.0046   -0.0205    0.0193    0.0017   -0.0059   -0.0197    0.0158   -0.0503    0.0412   -0.0115    0.0039   -0.0499   -0.0071\n",
       "...</pre></body></html>"
      ],
      "text/plain": [
       "ans = 1x9131 double\n",
       "   -0.0130   -0.0080   -0.0019    0.0062    0.0012   -0.0061   -0.0015    0.0008    0.0030   -0.0141   -0.0118    0.0208    0.0060    0.0017   -0.0033   -0.0189    0.0139    0.0046   -0.0205    0.0193    0.0017   -0.0059   -0.0197    0.0158   -0.0503    0.0412   -0.0115    0.0039   -0.0499   -0.0071\n",
       "..."
      ]
     },
     "execution_count": 37,
     "metadata": {},
     "output_type": "execute_result"
    }
   ],
   "source": [
    "fluct_flow(position_minimum,:)"
   ]
  },
  {
   "cell_type": "code",
   "execution_count": 51,
   "id": "184b29cc-f6a8-4772-a007-74d28768d55d",
   "metadata": {
    "tags": []
   },
   "outputs": [
    {
     "data": {
      "text/html": [
       "<html><body><pre>fluct_rain_Tr = 1x9131 double\n",
       "   -0.1027    0.0632         0         0   -0.0549    0.0123    0.0452         0   -0.0352         0    0.0364    0.0092         0   -0.0138   -0.0352    0.0328    0.0124   -0.0815    0.0862   -0.0083   -0.0220   -0.1332    0.1174   -0.1504    0.1580   -0.2102    0.0815    0.0593    0.0523   -0.0324\n",
       "...</pre></body></html>"
      ],
      "text/plain": [
       "fluct_rain_Tr = 1x9131 double\n",
       "   -0.1027    0.0632         0         0   -0.0549    0.0123    0.0452         0   -0.0352         0    0.0364    0.0092         0   -0.0138   -0.0352    0.0328    0.0124   -0.0815    0.0862   -0.0083   -0.0220   -0.1332    0.1174   -0.1504    0.1580   -0.2102    0.0815    0.0593    0.0523   -0.0324\n",
       "..."
      ]
     },
     "execution_count": 51,
     "metadata": {},
     "output_type": "execute_result"
    }
   ],
   "source": [
    "fluct_rain_Tr"
   ]
  },
  {
   "cell_type": "code",
   "execution_count": 41,
   "id": "58577d27-4dfc-4ad4-83dc-ad06ff4122e9",
   "metadata": {
    "tags": []
   },
   "outputs": [
    {
     "data": {
      "text/html": [
       "<html><body><pre>fluct_bivariate_Tr = 1x9131 double\n",
       "    0.0013   -0.0005         0         0   -0.0001   -0.0001   -0.0001         0   -0.0001         0   -0.0004    0.0002         0   -0.0000    0.0001   -0.0006    0.0002   -0.0004   -0.0018   -0.0002   -0.0000    0.0008   -0.0023   -0.0024   -0.0080   -0.0087   -0.0009    0.0002   -0.0026    0.0002\n",
       "...</pre></body></html>"
      ],
      "text/plain": [
       "fluct_bivariate_Tr = 1x9131 double\n",
       "    0.0013   -0.0005         0         0   -0.0001   -0.0001   -0.0001         0   -0.0001         0   -0.0004    0.0002         0   -0.0000    0.0001   -0.0006    0.0002   -0.0004   -0.0018   -0.0002   -0.0000    0.0008   -0.0023   -0.0024   -0.0080   -0.0087   -0.0009    0.0002   -0.0026    0.0002\n",
       "..."
      ]
     },
     "execution_count": 41,
     "metadata": {},
     "output_type": "execute_result"
    }
   ],
   "source": [
    "fluct_bivariate_Tr"
   ]
  },
  {
   "cell_type": "code",
   "execution_count": 42,
   "id": "41e3268c-91d7-473c-8eed-6d234ffb2adc",
   "metadata": {
    "collapsed": true,
    "jupyter": {
     "outputs_hidden": true,
     "source_hidden": true
    },
    "tags": []
   },
   "outputs": [
    {
     "name": "stdout",
     "output_type": "stream",
     "text": [
      "     1\n",
      "\n",
      "     2\n",
      "\n",
      "     3\n",
      "\n",
      "     4\n",
      "\n",
      "     5\n",
      "\n",
      "     6\n",
      "\n",
      "     7\n",
      "\n",
      "     8\n",
      "\n",
      "     9\n",
      "\n"
     ]
    }
   ],
   "source": [
    "x = 1;\n",
    "while (x > 0) && (x < 10)\n",
    "    disp(x);\n",
    "    x = x + 1;\n",
    "end"
   ]
  },
  {
   "cell_type": "code",
   "execution_count": 46,
   "id": "51c8af7d-544d-4856-8a3a-f38eaa54fd1f",
   "metadata": {
    "collapsed": true,
    "jupyter": {
     "outputs_hidden": true,
     "source_hidden": true
    },
    "tags": []
   },
   "outputs": [
    {
     "name": "stdout",
     "output_type": "stream",
     "text": [
      "     5\n",
      "\n",
      "     6\n",
      "\n",
      "     7\n",
      "\n",
      "     8\n",
      "\n",
      "     9\n",
      "\n"
     ]
    }
   ],
   "source": [
    "x = 5;\n",
    "while (x > 1) & (x < 10)\n",
    "    disp(x);\n",
    "    x = x + 1;\n",
    "end"
   ]
  },
  {
   "cell_type": "code",
   "execution_count": 50,
   "id": "26ccde15-a0d9-48e1-bfe6-2079abec63a6",
   "metadata": {
    "collapsed": true,
    "jupyter": {
     "outputs_hidden": true,
     "source_hidden": true
    },
    "tags": []
   },
   "outputs": [
    {
     "name": "stdout",
     "output_type": "stream",
     "text": [
      "     2\n",
      "\n",
      "     3\n",
      "\n",
      "     4\n",
      "\n",
      "     5\n",
      "\n",
      "     6\n",
      "\n",
      "     7\n",
      "\n",
      "     8\n",
      "\n",
      "     9\n",
      "\n"
     ]
    }
   ],
   "source": [
    "x = 2;\n",
    "while (x > 1) && (x < 10)\n",
    "    disp(x);\n",
    "    x = x + 1;\n",
    "end"
   ]
  },
  {
   "cell_type": "code",
   "execution_count": 60,
   "id": "a0af447d-1ec7-4fa8-b3e9-8af990e4cda1",
   "metadata": {
    "collapsed": true,
    "jupyter": {
     "outputs_hidden": true,
     "source_hidden": true
    },
    "tags": []
   },
   "outputs": [
    {
     "name": "stdout",
     "output_type": "stream",
     "text": [
      "     3\n",
      "\n"
     ]
    }
   ],
   "source": [
    "X = [1 0 0 2 0 5 6 0 0 0 0 8 0 0 9];\n",
    "count = 0;\n",
    "consecutive_zeros = 0;\n",
    "for i = 1:length(X)\n",
    "    if X(i) == 0\n",
    "        count = count + 1;\n",
    "        if count >= 2 && (i == length(X) || X(i+1) ~= 0)\n",
    "            consecutive_zeros = consecutive_zeros + 1;\n",
    "        end\n",
    "    else\n",
    "        count = 0;\n",
    "    end\n",
    "end\n",
    "disp(consecutive_zeros);"
   ]
  },
  {
   "cell_type": "code",
   "execution_count": 59,
   "id": "fec5478d-b3ad-477d-accb-ba088a26edc9",
   "metadata": {
    "tags": []
   },
   "outputs": [
    {
     "name": "stdout",
     "output_type": "stream",
     "text": [
      "   622\n",
      "\n"
     ]
    }
   ],
   "source": [
    "fluct_bivariate_Tr;\n",
    "count = 0;\n",
    "consecutive_zeros = 0;\n",
    "for i = 1:length(fluct_bivariate_Tr)\n",
    "    if fluct_bivariate_Tr(i) == 0\n",
    "        count = count + 1;\n",
    "        if count >= 2 && (i == length(fluct_bivariate_Tr) || fluct_bivariate_Tr(i+1) ~= 0)\n",
    "            consecutive_zeros = consecutive_zeros + 1;\n",
    "        end\n",
    "    else\n",
    "        count = 0;\n",
    "    end\n",
    "end\n",
    "disp(consecutive_zeros);"
   ]
  },
  {
   "cell_type": "code",
   "execution_count": 61,
   "id": "8bcb2a88-467e-4520-ab70-d271fb25e5ad",
   "metadata": {
    "tags": []
   },
   "outputs": [
    {
     "data": {
      "text/html": [
       "<html><body><pre>beginning_core = 1x623 double\n",
       "     1     5    66    77    82    87    91   103   115   126   156   170   195   211   217   220   225   230   235   240   247   259   262   270   287   296   313   339   350   381\n",
       "...</pre></body></html>"
      ],
      "text/plain": [
       "beginning_core = 1x623 double\n",
       "     1     5    66    77    82    87    91   103   115   126   156   170   195   211   217   220   225   230   235   240   247   259   262   270   287   296   313   339   350   381\n",
       "..."
      ]
     },
     "execution_count": 61,
     "metadata": {},
     "output_type": "execute_result"
    }
   ],
   "source": [
    "beginning_core"
   ]
  },
  {
   "cell_type": "code",
   "execution_count": 68,
   "id": "6a1538ff-d06e-40a6-81d0-286c31312a6b",
   "metadata": {
    "tags": []
   },
   "outputs": [
    {
     "data": {
      "text/html": [
       "<html><body><pre>end_core = 1x623 double\n",
       "     2    63    74    78    83    88    94   108   116   137   163   190   196   211   217   222   226   231   237   242   249   259   267   284   293   307   331   345   377   389\n",
       "...</pre></body></html>"
      ],
      "text/plain": [
       "end_core = 1x623 double\n",
       "     2    63    74    78    83    88    94   108   116   137   163   190   196   211   217   222   226   231   237   242   249   259   267   284   293   307   331   345   377   389\n",
       "..."
      ]
     },
     "execution_count": 68,
     "metadata": {},
     "output_type": "execute_result"
    }
   ],
   "source": [
    "end_core"
   ]
  },
  {
   "cell_type": "code",
   "execution_count": 64,
   "id": "48e4653f-7ea9-4ebf-958b-5525ce0ef35f",
   "metadata": {
    "tags": []
   },
   "outputs": [
    {
     "data": {
      "text/html": [
       "<html><body><pre>ans = 1x5 double\n",
       "1.0e-03 *\n",
       "\n",
       "   -0.1486         0         0   -0.0558    0.0128\n",
       "</pre></body></html>"
      ],
      "text/plain": [
       "ans = 1x5 double\n",
       "1.0e-03 *\n",
       "\n",
       "   -0.1486         0         0   -0.0558    0.0128\n"
      ]
     },
     "execution_count": 64,
     "metadata": {},
     "output_type": "execute_result"
    }
   ],
   "source": [
    "fluct_bivariate_Tr(63:67)"
   ]
  },
  {
   "cell_type": "code",
   "execution_count": 65,
   "id": "386638f2-0ebd-44f6-a6b8-37525ace5942",
   "metadata": {
    "collapsed": true,
    "jupyter": {
     "outputs_hidden": true
    },
    "tags": []
   },
   "outputs": [
    {
     "name": "stdout",
     "output_type": "stream",
     "text": [
      "  Name                       Size                Bytes  Class                        Attributes\n",
      "\n",
      "  BEGINNING_FLOW           449x1                  3592  double                                 \n",
      "  BEGINNING_RAIN           449x1                  3592  double                                 \n",
      "  DURATION_RAIN              1x449                3592  double                                 \n",
      "  DURATION_RUNOFF            1x449                3592  double                                 \n",
      "  END_FLOW                 449x1                  3592  double                                 \n",
      "  END_RAIN                 449x1                  3592  double                                 \n",
      "  F_flow                     1x49                  392  double                                 \n",
      "  F_rain                     1x49                  392  double                                 \n",
      "  F_rain_flow                1x49                  392  double                                 \n",
      "  M3                         2x5                    80  double                                 \n",
      "  M_all                      1x1                     8  double                                 \n",
      "  RUNOFF_RATIO               1x449                3592  double                                 \n",
      "  T                          1x1                     8  double                                 \n",
      "  Tr                         1x1                     8  double                                 \n",
      "  VOLUME_RAIN                1x449                3592  double                                 \n",
      "  VOLUME_RUNOFF              1x449                3592  double                                 \n",
      "  X                          1x15                  120  double                                 \n",
      "  X_as                       2x5x3                 240  double                                 \n",
      "  a                          1x1                     8  double                                 \n",
      "  ans                        1x5                    40  double                                 \n",
      "  ax                         1x1                     8  matlab.graphics.axis.Axes              \n",
      "  b                          1x1                     8  double                                 \n",
      "  baseflow                9131x1                 73048  double                                 \n",
      "  baseflow_original       9131x1                 73048  double                                 \n",
      "  beginning_core             1x623                4984  double                                 \n",
      "  cnt                        1x1                     8  double                                 \n",
      "  consecutive_zeros          1x1                     8  double                                 \n",
      "  count                      1x1                     8  double                                 \n",
      "  end_core                   1x623                4984  double                                 \n",
      "  end_idx                    1x1                     8  double                                 \n",
      "  fig                        1x1                     8  matlab.ui.Figure                       \n",
      "  flag                       1x1                     8  double                                 \n",
      "  flow                       1x9131              73048  double                                 \n",
      "  flow_int                   1x9131              73048  double                                 \n",
      "  flow_mean                 49x9131            3579352  double                                 \n",
      "  flow_original           9131x7                511336  double                                 \n",
      "  fluct_bivariate_Tr         1x9131              73048  double                                 \n",
      "  fluct_flow                49x9131            3579352  double                                 \n",
      "  fluct_flow_Tr              1x9131              73048  double                                 \n",
      "  fluct_rain                49x9131            3579352  double                                 \n",
      "  fluct_rain_Tr              1x9131              73048  double                                 \n",
      "  g                          1x1                     8  double                                 \n",
      "  i                          1x1                     8  double                                 \n",
      "  index_finish_flow          1x449                3592  double                                 \n",
      "  index_finish_rain          1x449                3592  double                                 \n",
      "  index_start_flow           1x449                3592  double                                 \n",
      "  index_start_rain           1x449                3592  double                                 \n",
      "  indices                    1x1                     8  double                                 \n",
      "  left_color                 1x3                    24  double                                 \n",
      "  len_rho                    1x1                     8  double                                 \n",
      "  max_window                 1x1                     8  double                                 \n",
      "  maxcnt                     1x1                     8  double                                 \n",
      "  multiple                   1x1                     8  double                                 \n",
      "  n                          1x1                     8  double                                 \n",
      "  num_zeros                  1x1                     8  double                                 \n",
      "  position_minimum           1x1                     8  double                                 \n",
      "  q                          1x1                     8  double                                 \n",
      "  rain                       1x9131              73048  double                                 \n",
      "  rain_int                   1x9131              73048  double                                 \n",
      "  rain_mean                 49x9131            3579352  double                                 \n",
      "  rain_min                   1x1                     8  double                                 \n",
      "  rain_original           9131x7                511336  double                                 \n",
      "  rho                        1x49                  392  double                                 \n",
      "  right_color                1x3                    24  double                                 \n",
      "  start_idx                  1x2                    16  double                                 \n",
      "  time                    9131x1                 73048  double                                 \n",
      "  tol_fluct_flow             1x1                     8  double                                 \n",
      "  tol_fluct_rain             1x1                     8  double                                 \n",
      "  window                     1x1                     8  double                                 \n",
      "  x                          1x1                     8  double                                 \n",
      "  y                          1x1                     8  double                                 \n",
      "  zero_count                 1x1                     8  double                                 \n",
      "\n"
     ]
    }
   ],
   "source": [
    "whos"
   ]
  },
  {
   "cell_type": "markdown",
   "id": "efe5de99-ab29-4803-8939-e7b2b283dd2a",
   "metadata": {
    "tags": []
   },
   "source": [
    "![step4 流程图](img/step4.png)"
   ]
  },
  {
   "cell_type": "code",
   "execution_count": 93,
   "id": "44229f8f-f1cd-4dd2-9314-1c327a87f294",
   "metadata": {
    "tags": []
   },
   "outputs": [
    {
     "data": {
      "text/html": [
       "<html><body><pre>ans = 1x2 double\n",
       "        9066        9130\n",
       "</pre></body></html>"
      ],
      "text/plain": [
       "ans = 1x2 double\n",
       "        9066        9130\n"
      ]
     },
     "execution_count": 93,
     "metadata": {},
     "output_type": "execute_result"
    }
   ],
   "source": [
    "beginning_core(622:623)"
   ]
  },
  {
   "cell_type": "code",
   "execution_count": 92,
   "id": "212c0379-3e7a-4fcd-8c7c-3053b935e5a4",
   "metadata": {
    "tags": []
   },
   "outputs": [
    {
     "data": {
      "text/html": [
       "<html><body><pre>ans = 1x2 double\n",
       "        9127        9129\n",
       "</pre></body></html>"
      ],
      "text/plain": [
       "ans = 1x2 double\n",
       "        9127        9129\n"
      ]
     },
     "execution_count": 92,
     "metadata": {},
     "output_type": "execute_result"
    }
   ],
   "source": [
    "end_core(622:623)"
   ]
  },
  {
   "cell_type": "code",
   "execution_count": 94,
   "id": "ca20f403-4b79-4661-98c6-b3816bde91de",
   "metadata": {
    "tags": []
   },
   "outputs": [
    {
     "data": {
      "text/html": [
       "<html><body><pre>ans = 1x12 double\n",
       "         0    0.0001   -0.0012   -0.0002         0   -0.0011    0.0000    0.0001         0         0   -0.0000    0.0004\n",
       "</pre></body></html>"
      ],
      "text/plain": [
       "ans = 1x12 double\n",
       "         0    0.0001   -0.0012   -0.0002         0   -0.0011    0.0000    0.0001         0         0   -0.0000    0.0004\n"
      ]
     },
     "execution_count": 94,
     "metadata": {},
     "output_type": "execute_result"
    }
   ],
   "source": [
    "fluct_bivariate_Tr(9120:9131)"
   ]
  },
  {
   "cell_type": "code",
   "execution_count": 95,
   "id": "c08a553d-bd85-4ba5-9a2a-231032d0ec98",
   "metadata": {
    "tags": []
   },
   "outputs": [
    {
     "data": {
      "text/html": [
       "<html><body><pre>ans = 1x2 logical array\n",
       "   1   1</pre></body></html>"
      ],
      "text/plain": [
       "ans = 1x2 logical array\n",
       "   1   1"
      ]
     },
     "execution_count": 95,
     "metadata": {},
     "output_type": "execute_result"
    }
   ],
   "source": [
    "X = [ 0 0 1 2 0 0];\n",
    "X(1:2) == 0"
   ]
  },
  {
   "cell_type": "code",
   "execution_count": 96,
   "id": "a3275267-bd4c-4324-9a11-723e0256a577",
   "metadata": {
    "tags": []
   },
   "outputs": [
    {
     "data": {
      "text/html": [
       "<html><body><pre>ans = logical\n",
       "   1</pre></body></html>"
      ],
      "text/plain": [
       "ans = logical\n",
       "   1"
      ]
     },
     "execution_count": 96,
     "metadata": {},
     "output_type": "execute_result"
    }
   ],
   "source": [
    "sum(X(1:2) == 0)==2"
   ]
  },
  {
   "cell_type": "code",
   "execution_count": 108,
   "id": "f5339e54-b029-437b-baa9-da76ed641dab",
   "metadata": {
    "tags": []
   },
   "outputs": [
    {
     "data": {
      "text/html": [
       "<html><body><pre>ans = logical\n",
       "   0</pre></body></html>"
      ],
      "text/plain": [
       "ans = logical\n",
       "   0"
      ]
     },
     "execution_count": 108,
     "metadata": {},
     "output_type": "execute_result"
    }
   ],
   "source": [
    "X = [NaN NaN];\n",
    "next_core_beginning=find(isnan(X(1:end))==0);\n",
    "isempty(next_core_beginning)==0"
   ]
  },
  {
   "cell_type": "code",
   "execution_count": 109,
   "id": "80529654-6a69-46b9-8eae-e4794cb96a45",
   "metadata": {},
   "outputs": [
    {
     "data": {
      "text/html": [
       "<html><body><pre>beginning_rain = 1x623 double\n",
       "     2     5    67    78    83    88    92   104   116   126   156   169   196   210   218   221   226   231   236   241   248   260   260   271   288   297   314   340   350   382\n",
       "...</pre></body></html>"
      ],
      "text/plain": [
       "beginning_rain = 1x623 double\n",
       "     2     5    67    78    83    88    92   104   116   126   156   169   196   210   218   221   226   231   236   241   248   260   260   271   288   297   314   340   350   382\n",
       "..."
      ]
     },
     "execution_count": 109,
     "metadata": {},
     "output_type": "execute_result"
    }
   ],
   "source": [
    "beginning_rain"
   ]
  },
  {
   "cell_type": "code",
   "execution_count": 112,
   "id": "36518c41-d148-448c-808a-177511be06d4",
   "metadata": {
    "tags": []
   },
   "outputs": [
    {
     "data": {
      "text/html": [
       "<html><body><pre>ans = \n",
       "   623</pre></body></html>"
      ],
      "text/plain": [
       "ans = \n",
       "   623"
      ]
     },
     "execution_count": 112,
     "metadata": {},
     "output_type": "execute_result"
    }
   ],
   "source": [
    "sum(isnan(beginning_rain)==0)"
   ]
  },
  {
   "cell_type": "code",
   "execution_count": 117,
   "id": "78119a1b-50d4-4b12-a3f6-868c8b5897e3",
   "metadata": {
    "tags": []
   },
   "outputs": [
    {
     "data": {
      "text/html": [
       "<html><body><pre>ans = \n",
       "   623</pre></body></html>"
      ],
      "text/plain": [
       "ans = \n",
       "   623"
      ]
     },
     "execution_count": 117,
     "metadata": {},
     "output_type": "execute_result"
    }
   ],
   "source": [
    "sum(isnan(end_rain)==0)"
   ]
  },
  {
   "cell_type": "code",
   "execution_count": 114,
   "id": "f2b56cfe-02bf-4866-bfcc-68e7b9ae07b6",
   "metadata": {
    "tags": []
   },
   "outputs": [
    {
     "data": {
      "text/html": [
       "<html><body><pre>end_rain_checked = 1x623 double\n",
       "   NaN    63    74    78    83    88    93   111   116   137   163   190   196   211   NaN   222   NaN   231   237   NaN   249   NaN   267   284   293   310   331   345   377   389\n",
       "...</pre></body></html>"
      ],
      "text/plain": [
       "end_rain_checked = 1x623 double\n",
       "   NaN    63    74    78    83    88    93   111   116   137   163   190   196   211   NaN   222   NaN   231   237   NaN   249   NaN   267   284   293   310   331   345   377   389\n",
       "..."
      ]
     },
     "execution_count": 114,
     "metadata": {},
     "output_type": "execute_result"
    }
   ],
   "source": [
    "end_rain_checked"
   ]
  },
  {
   "cell_type": "code",
   "execution_count": 115,
   "id": "1c0c5249-02cf-4afc-addb-bc4117bfe972",
   "metadata": {
    "tags": []
   },
   "outputs": [
    {
     "data": {
      "text/html": [
       "<html><body><pre>ans = \n",
       "   535</pre></body></html>"
      ],
      "text/plain": [
       "ans = \n",
       "   535"
      ]
     },
     "execution_count": 115,
     "metadata": {},
     "output_type": "execute_result"
    }
   ],
   "source": [
    "sum(isnan(end_rain_checked)==0)"
   ]
  },
  {
   "cell_type": "code",
   "execution_count": 118,
   "id": "a7625268-3eb2-480b-9497-403bef773130",
   "metadata": {
    "tags": []
   },
   "outputs": [
    {
     "data": {
      "text/html": [
       "<html><body><pre>ans = \n",
       "   88</pre></body></html>"
      ],
      "text/plain": [
       "ans = \n",
       "   88"
      ]
     },
     "execution_count": 118,
     "metadata": {},
     "output_type": "execute_result"
    }
   ],
   "source": [
    "sum(isnan(end_rain_checked)==1)"
   ]
  },
  {
   "cell_type": "code",
   "execution_count": 119,
   "id": "857dffff-24b4-4782-b71a-bf63d4632f15",
   "metadata": {
    "tags": []
   },
   "outputs": [
    {
     "data": {
      "text/html": [
       "<html><body><pre>ans = \n",
       "   88</pre></body></html>"
      ],
      "text/plain": [
       "ans = \n",
       "   88"
      ]
     },
     "execution_count": 119,
     "metadata": {},
     "output_type": "execute_result"
    }
   ],
   "source": [
    "sum(isnan(beginning_rain_checked)==1)"
   ]
  },
  {
   "cell_type": "code",
   "execution_count": 120,
   "id": "bb52511a-6e3f-4995-a160-be90589d28ac",
   "metadata": {
    "collapsed": true,
    "jupyter": {
     "outputs_hidden": true
    },
    "tags": []
   },
   "outputs": [
    {
     "data": {
      "text/html": [
       "<html><body><pre>fluct_flow = 49x9131 double\n",
       "   -0.0130   -0.0080   -0.0019    0.0062    0.0012   -0.0061   -0.0015    0.0008    0.0030   -0.0141   -0.0118    0.0208    0.0060    0.0017   -0.0033   -0.0189    0.0139    0.0046   -0.0205    0.0193    0.0017   -0.0059   -0.0197    0.0158   -0.0503    0.0412   -0.0115    0.0039   -0.0499   -0.0071\n",
       "   -0.0340   -0.0325   -0.0046    0.0107    0.0023   -0.0111   -0.0058    0.0023   -0.0026   -0.0306   -0.0172    0.0339    0.0243    0.0047   -0.0163   -0.0277    0.0164    0.0042   -0.0227    0.0233    0.0110   -0.0214   -0.0295   -0.0135   -0.0564    0.0371    0.0064   -0.0298   -0.0917   -0.0282\n",
       "   -0.0585   -0.0547   -0.0250    0.0089    0.0018   -0.0129   -0.0088   -0.0046   -0.0151   -0.0383   -0.0178    0.0407    0.0379    0.0087   -0.0221   -0.0323    0.0070    0.0033   -0.0155    0.0247    0.0042   -0.0232   -0.0587   -0.0342   -0.0694    0.0350   -0.0145   -0.0542   -0.1269   -0.0445\n",
       "   -0.0807   -0.0751   -0.0470   -0.0146   -0.0015   -0.0134   -0.0139   -0.0180   -0.0249   -0.0414   -0.0160    0.0452    0.0389    0.0137   -0.0171   -0.0405    0.0007    0.0017   -0.0135    0.0232   -0.0011   -0.0441   -0.0742   -0.0552   -0.0855    0.0103   -0.0453   -0.0843   -0.1422   -0.0586\n",
       "   -0.1011   -0.0971   -0.0706   -0.0389   -0.0255   -0.0193   -0.0237   -0.0268   -0.0317   -0.0437   -0.0144    0.0438    0.0388    0.0165   -0.0160   -0.0392   -0.0021   -0.0014   -0.0202    0.0196   -0.0158   -0.0612   -0.0923   -0.0701   -0.1161   -0.0281   -0.0795   -0.1094   -0.1586   -0.0573\n",
       "   -0.1231   -0.1206   -0.0949   -0.0629   -0.0530   -0.0524   -0.0332   -0.0324   -0.0349   -0.0461   -0.0187    0.0420    0.0394    0.0142   -0.0158   -0.0353    0.0004   -0.0084   -0.0274    0.0024   -0.0303   -0.0757   -0.1097   -0.0979   -0.1517   -0.0680   -0.1141   -0.1332   -0.1691   -0.0650\n",
       "   -0.1466   -0.1449   -0.1188   -0.0904   -0.0861   -0.0851   -0.0642   -0.0372   -0.0370   -0.0510   -0.0235    0.0398    0.0359    0.0128   -0.0152   -0.0337   -0.0003   -0.0105   -0.0438   -0.0143   -0.0477   -0.0917   -0.1340   -0.1340   -0.1895   -0.1026   -0.1460   -0.1551   -0.1852   -0.0696\n",
       "   -0.1709   -0.1689   -0.1463   -0.1235   -0.1188   -0.1161   -0.0935   -0.0658   -0.0432   -0.0554   -0.0267    0.0338    0.0322    0.0120   -0.0152   -0.0367   -0.0026   -0.0204   -0.0553   -0.0316   -0.0659   -0.1179   -0.1673   -0.1687   -0.2260   -0.1349   -0.1705   -0.1800   -0.2009   -0.0745\n",
       "   -0.1948   -0.1964   -0.1794   -0.1562   -0.1498   -0.1454   -0.1221   -0.0972   -0.0745   -0.0601   -0.0324    0.0292    0.0287    0.0097   -0.0190   -0.0400   -0.0136   -0.0312   -0.0670   -0.0455   -0.0917   -0.1521   -0.2035   -0.2036   -0.2571   -0.1631   -0.1973   -0.1994   -0.2154   -0.0889\n",
       "   -0.2223   -0.2295   -0.2121   -0.1872   -0.1791   -0.1741   -0.1535   -0.1285   -0.1051   -0.0931   -0.0383    0.0257    0.0255    0.0037   -0.0242   -0.0511   -0.0247   -0.0440   -0.0804   -0.0658   -0.1209   -0.1876   -0.2398   -0.2372   -0.2855   -0.1901   -0.2212   -0.2171   -0.2335   -0.1078\n",
       "...</pre></body></html>"
      ],
      "text/plain": [
       "fluct_flow = 49x9131 double\n",
       "   -0.0130   -0.0080   -0.0019    0.0062    0.0012   -0.0061   -0.0015    0.0008    0.0030   -0.0141   -0.0118    0.0208    0.0060    0.0017   -0.0033   -0.0189    0.0139    0.0046   -0.0205    0.0193    0.0017   -0.0059   -0.0197    0.0158   -0.0503    0.0412   -0.0115    0.0039   -0.0499   -0.0071\n",
       "   -0.0340   -0.0325   -0.0046    0.0107    0.0023   -0.0111   -0.0058    0.0023   -0.0026   -0.0306   -0.0172    0.0339    0.0243    0.0047   -0.0163   -0.0277    0.0164    0.0042   -0.0227    0.0233    0.0110   -0.0214   -0.0295   -0.0135   -0.0564    0.0371    0.0064   -0.0298   -0.0917   -0.0282\n",
       "   -0.0585   -0.0547   -0.0250    0.0089    0.0018   -0.0129   -0.0088   -0.0046   -0.0151   -0.0383   -0.0178    0.0407    0.0379    0.0087   -0.0221   -0.0323    0.0070    0.0033   -0.0155    0.0247    0.0042   -0.0232   -0.0587   -0.0342   -0.0694    0.0350   -0.0145   -0.0542   -0.1269   -0.0445\n",
       "   -0.0807   -0.0751   -0.0470   -0.0146   -0.0015   -0.0134   -0.0139   -0.0180   -0.0249   -0.0414   -0.0160    0.0452    0.0389    0.0137   -0.0171   -0.0405    0.0007    0.0017   -0.0135    0.0232   -0.0011   -0.0441   -0.0742   -0.0552   -0.0855    0.0103   -0.0453   -0.0843   -0.1422   -0.0586\n",
       "   -0.1011   -0.0971   -0.0706   -0.0389   -0.0255   -0.0193   -0.0237   -0.0268   -0.0317   -0.0437   -0.0144    0.0438    0.0388    0.0165   -0.0160   -0.0392   -0.0021   -0.0014   -0.0202    0.0196   -0.0158   -0.0612   -0.0923   -0.0701   -0.1161   -0.0281   -0.0795   -0.1094   -0.1586   -0.0573\n",
       "   -0.1231   -0.1206   -0.0949   -0.0629   -0.0530   -0.0524   -0.0332   -0.0324   -0.0349   -0.0461   -0.0187    0.0420    0.0394    0.0142   -0.0158   -0.0353    0.0004   -0.0084   -0.0274    0.0024   -0.0303   -0.0757   -0.1097   -0.0979   -0.1517   -0.0680   -0.1141   -0.1332   -0.1691   -0.0650\n",
       "   -0.1466   -0.1449   -0.1188   -0.0904   -0.0861   -0.0851   -0.0642   -0.0372   -0.0370   -0.0510   -0.0235    0.0398    0.0359    0.0128   -0.0152   -0.0337   -0.0003   -0.0105   -0.0438   -0.0143   -0.0477   -0.0917   -0.1340   -0.1340   -0.1895   -0.1026   -0.1460   -0.1551   -0.1852   -0.0696\n",
       "   -0.1709   -0.1689   -0.1463   -0.1235   -0.1188   -0.1161   -0.0935   -0.0658   -0.0432   -0.0554   -0.0267    0.0338    0.0322    0.0120   -0.0152   -0.0367   -0.0026   -0.0204   -0.0553   -0.0316   -0.0659   -0.1179   -0.1673   -0.1687   -0.2260   -0.1349   -0.1705   -0.1800   -0.2009   -0.0745\n",
       "   -0.1948   -0.1964   -0.1794   -0.1562   -0.1498   -0.1454   -0.1221   -0.0972   -0.0745   -0.0601   -0.0324    0.0292    0.0287    0.0097   -0.0190   -0.0400   -0.0136   -0.0312   -0.0670   -0.0455   -0.0917   -0.1521   -0.2035   -0.2036   -0.2571   -0.1631   -0.1973   -0.1994   -0.2154   -0.0889\n",
       "   -0.2223   -0.2295   -0.2121   -0.1872   -0.1791   -0.1741   -0.1535   -0.1285   -0.1051   -0.0931   -0.0383    0.0257    0.0255    0.0037   -0.0242   -0.0511   -0.0247   -0.0440   -0.0804   -0.0658   -0.1209   -0.1876   -0.2398   -0.2372   -0.2855   -0.1901   -0.2212   -0.2171   -0.2335   -0.1078\n",
       "..."
      ]
     },
     "execution_count": 120,
     "metadata": {},
     "output_type": "execute_result"
    }
   ],
   "source": [
    "fluct_flow"
   ]
  },
  {
   "cell_type": "code",
   "execution_count": 121,
   "id": "c435554f-5d57-480b-9237-f1a0d6275c62",
   "metadata": {
    "tags": []
   },
   "outputs": [
    {
     "data": {
      "text/html": [
       "<html><body><pre>position_minimum = \n",
       "   1</pre></body></html>"
      ],
      "text/plain": [
       "position_minimum = \n",
       "   1"
      ]
     },
     "execution_count": 121,
     "metadata": {},
     "output_type": "execute_result"
    }
   ],
   "source": [
    "position_minimum"
   ]
  },
  {
   "cell_type": "code",
   "execution_count": 122,
   "id": "db3fef3f-077a-458e-bb1b-d3516d7751ef",
   "metadata": {
    "tags": []
   },
   "outputs": [
    {
     "data": {
      "text/html": [
       "<html><body><pre>fluct_flow_Tr = 1x9131 double\n",
       "   -0.0130   -0.0080   -0.0019    0.0062    0.0012   -0.0061   -0.0015    0.0008    0.0030   -0.0141   -0.0118    0.0208    0.0060    0.0017   -0.0033   -0.0189    0.0139    0.0046   -0.0205    0.0193    0.0017   -0.0059   -0.0197    0.0158   -0.0503    0.0412   -0.0115    0.0039   -0.0499   -0.0071\n",
       "...</pre></body></html>"
      ],
      "text/plain": [
       "fluct_flow_Tr = 1x9131 double\n",
       "   -0.0130   -0.0080   -0.0019    0.0062    0.0012   -0.0061   -0.0015    0.0008    0.0030   -0.0141   -0.0118    0.0208    0.0060    0.0017   -0.0033   -0.0189    0.0139    0.0046   -0.0205    0.0193    0.0017   -0.0059   -0.0197    0.0158   -0.0503    0.0412   -0.0115    0.0039   -0.0499   -0.0071\n",
       "..."
      ]
     },
     "execution_count": 122,
     "metadata": {},
     "output_type": "execute_result"
    }
   ],
   "source": [
    "fluct_flow_Tr"
   ]
  },
  {
   "cell_type": "code",
   "execution_count": 123,
   "id": "f5019909-a76b-44af-8ceb-b40d0bf9e62c",
   "metadata": {
    "tags": []
   },
   "outputs": [
    {
     "data": {
      "text/html": [
       "<html><body><pre>beginning_flow = 1x623 double\n",
       "   NaN     6    72    82    83    91    92   105   116   126   156   170   199   212   NaN   221   NaN   230   236   NaN   248   NaN   262   272   289   298   315   340   350   382\n",
       "...</pre></body></html>"
      ],
      "text/plain": [
       "beginning_flow = 1x623 double\n",
       "   NaN     6    72    82    83    91    92   105   116   126   156   170   199   212   NaN   221   NaN   230   236   NaN   248   NaN   262   272   289   298   315   340   350   382\n",
       "..."
      ]
     },
     "execution_count": 123,
     "metadata": {},
     "output_type": "execute_result"
    }
   ],
   "source": [
    "beginning_flow"
   ]
  },
  {
   "cell_type": "code",
   "execution_count": 124,
   "id": "870797a5-b908-4885-9d8e-ff71d21ad3a5",
   "metadata": {
    "tags": []
   },
   "outputs": [
    {
     "data": {
      "text/html": [
       "<html><body><pre>end_flow = 1x623 double\n",
       "   NaN    67    74    82    88    91    95   116   116   145   166   196   199   211   NaN   222   NaN   234   240   NaN   249   NaN   271   288   297   314   339   349   381   397\n",
       "...</pre></body></html>"
      ],
      "text/plain": [
       "end_flow = 1x623 double\n",
       "   NaN    67    74    82    88    91    95   116   116   145   166   196   199   211   NaN   222   NaN   234   240   NaN   249   NaN   271   288   297   314   339   349   381   397\n",
       "..."
      ]
     },
     "execution_count": 124,
     "metadata": {},
     "output_type": "execute_result"
    }
   ],
   "source": [
    "end_flow"
   ]
  },
  {
   "cell_type": "code",
   "execution_count": 125,
   "id": "e50b6d63-1dba-40ce-913b-827919e0b2fd",
   "metadata": {
    "tags": []
   },
   "outputs": [
    {
     "data": {
      "text/html": [
       "<html><body><pre>beginning_rain_checked = 1x623 double\n",
       "   NaN     5    67    78    83    88    92   104   116   126   156   169   196   210   NaN   221   NaN   231   236   NaN   248   NaN   260   271   288   297   314   340   350   382\n",
       "...</pre></body></html>"
      ],
      "text/plain": [
       "beginning_rain_checked = 1x623 double\n",
       "   NaN     5    67    78    83    88    92   104   116   126   156   169   196   210   NaN   221   NaN   231   236   NaN   248   NaN   260   271   288   297   314   340   350   382\n",
       "..."
      ]
     },
     "execution_count": 125,
     "metadata": {},
     "output_type": "execute_result"
    }
   ],
   "source": [
    "beginning_rain_checked"
   ]
  },
  {
   "cell_type": "code",
   "execution_count": 128,
   "id": "877c14b9-f45a-406f-986f-f9d8340ec122",
   "metadata": {
    "tags": []
   },
   "outputs": [
    {
     "data": {
      "text/html": [
       "<html><body><pre>end_rain_checked = 1x623 double\n",
       "   NaN    63    74    78    83    88    93   111   116   137   163   190   196   211   NaN   222   NaN   231   237   NaN   249   NaN   267   284   293   310   331   345   377   389\n",
       "...</pre></body></html>"
      ],
      "text/plain": [
       "end_rain_checked = 1x623 double\n",
       "   NaN    63    74    78    83    88    93   111   116   137   163   190   196   211   NaN   222   NaN   231   237   NaN   249   NaN   267   284   293   310   331   345   377   389\n",
       "..."
      ]
     },
     "execution_count": 128,
     "metadata": {},
     "output_type": "execute_result"
    }
   ],
   "source": [
    "end_rain_checked"
   ]
  },
  {
   "cell_type": "code",
   "execution_count": 126,
   "id": "43671872-562b-49c4-aa36-e537a1f08ebe",
   "metadata": {
    "tags": []
   },
   "outputs": [
    {
     "data": {
      "text/html": [
       "<html><body><pre>beginning_flow_checked = 1x623 double\n",
       "   NaN     6    72   NaN    83   NaN    92   105   NaN   126   156   170   NaN   NaN   NaN   221   NaN   NaN   236   NaN   248   NaN   262   272   289   298   315   340   350   382\n",
       "...</pre></body></html>"
      ],
      "text/plain": [
       "beginning_flow_checked = 1x623 double\n",
       "   NaN     6    72   NaN    83   NaN    92   105   NaN   126   156   170   NaN   NaN   NaN   221   NaN   NaN   236   NaN   248   NaN   262   272   289   298   315   340   350   382\n",
       "..."
      ]
     },
     "execution_count": 126,
     "metadata": {},
     "output_type": "execute_result"
    }
   ],
   "source": [
    "beginning_flow_checked"
   ]
  },
  {
   "cell_type": "code",
   "execution_count": 129,
   "id": "3da55f38-e391-4931-8abf-c03344ac56a8",
   "metadata": {
    "tags": []
   },
   "outputs": [
    {
     "data": {
      "text/html": [
       "<html><body><pre>end_flow_checked = 1x623 double\n",
       "   NaN    67    74   NaN    88   NaN    95   116   NaN   145   166   196   NaN   NaN   NaN   222   NaN   NaN   240   NaN   249   NaN   271   288   297   314   339   349   381   397\n",
       "...</pre></body></html>"
      ],
      "text/plain": [
       "end_flow_checked = 1x623 double\n",
       "   NaN    67    74   NaN    88   NaN    95   116   NaN   145   166   196   NaN   NaN   NaN   222   NaN   NaN   240   NaN   249   NaN   271   288   297   314   339   349   381   397\n",
       "..."
      ]
     },
     "execution_count": 129,
     "metadata": {},
     "output_type": "execute_result"
    }
   ],
   "source": [
    "end_flow_checked"
   ]
  },
  {
   "cell_type": "code",
   "execution_count": 127,
   "id": "2117cb02-4ac8-488f-b5c7-8539b17d1b7f",
   "metadata": {
    "tags": []
   },
   "outputs": [
    {
     "data": {
      "text/html": [
       "<html><body><pre>index_events = 1x449 double\n",
       "     2     3     5     7     8    10    11    12    16    19    21    23    24    25    26    27    28    29    30    33    34    35    36    37    38    40    41    43    44    45\n",
       "...</pre></body></html>"
      ],
      "text/plain": [
       "index_events = 1x449 double\n",
       "     2     3     5     7     8    10    11    12    16    19    21    23    24    25    26    27    28    29    30    33    34    35    36    37    38    40    41    43    44    45\n",
       "..."
      ]
     },
     "execution_count": 127,
     "metadata": {},
     "output_type": "execute_result"
    }
   ],
   "source": [
    "index_events"
   ]
  },
  {
   "cell_type": "code",
   "execution_count": 138,
   "id": "f0f3da6b-c46e-46ac-a240-98bedb59c2a4",
   "metadata": {
    "tags": []
   },
   "outputs": [
    {
     "data": {
      "text/html": [
       "<html><body><pre>ans = 1x2 logical array\n",
       "   1   1</pre></body></html>"
      ],
      "text/plain": [
       "ans = 1x2 logical array\n",
       "   1   1"
      ]
     },
     "execution_count": 138,
     "metadata": {},
     "output_type": "execute_result"
    }
   ],
   "source": [
    "X = [1 2 NaN];\n",
    "Y = [1 2];\n",
    "C = [NaN NaN];\n",
    "isnan(C)"
   ]
  },
  {
   "cell_type": "code",
   "execution_count": 134,
   "id": "a3152330-aa15-47e7-8812-a41524ff331d",
   "metadata": {
    "tags": []
   },
   "outputs": [
    {
     "data": {
      "text/html": [
       "<html><body><pre>Y = 1x2 double\n",
       "     1     2\n",
       "</pre></body></html>"
      ],
      "text/plain": [
       "Y = 1x2 double\n",
       "     1     2\n"
      ]
     },
     "execution_count": 134,
     "metadata": {},
     "output_type": "execute_result"
    }
   ],
   "source": [
    "Y"
   ]
  },
  {
   "cell_type": "code",
   "execution_count": 135,
   "id": "345050a5-d854-4557-bb63-4cc9a1e85a50",
   "metadata": {
    "tags": []
   },
   "outputs": [
    {
     "data": {
      "text/html": [
       "<html><body><pre>C = 1x2 double\n",
       "   NaN   NaN\n",
       "</pre></body></html>"
      ],
      "text/plain": [
       "C = 1x2 double\n",
       "   NaN   NaN\n"
      ]
     },
     "execution_count": 135,
     "metadata": {},
     "output_type": "execute_result"
    }
   ],
   "source": [
    "C"
   ]
  },
  {
   "cell_type": "code",
   "execution_count": 141,
   "id": "823382f0-216a-4789-853d-a19ad3c0f338",
   "metadata": {
    "tags": []
   },
   "outputs": [
    {
     "name": "stderr",
     "output_type": "stream",
     "text": [
      "Unrecognized function or variable 'to_group'."
     ]
    }
   ],
   "source": [
    "to_group"
   ]
  },
  {
   "cell_type": "code",
   "execution_count": 140,
   "id": "925bc824-e9dd-4103-95e0-9413de38635f",
   "metadata": {
    "collapsed": true,
    "jupyter": {
     "outputs_hidden": true
    },
    "tags": []
   },
   "outputs": [
    {
     "name": "stdout",
     "output_type": "stream",
     "text": [
      "  Name                             Size                Bytes  Class                        Attributes\n",
      "\n",
      "  BEGINNING_FLOW                 449x1                  3592  double                                 \n",
      "  BEGINNING_RAIN                 449x1                  3592  double                                 \n",
      "  C                                1x2                    16  double                                 \n",
      "  DURATION_RAIN                    1x449                3592  double                                 \n",
      "  DURATION_RUNOFF                  1x449                3592  double                                 \n",
      "  END_FLOW                       449x1                  3592  double                                 \n",
      "  END_RAIN                       449x1                  3592  double                                 \n",
      "  F_flow                           1x49                  392  double                                 \n",
      "  F_rain                           1x49                  392  double                                 \n",
      "  F_rain_flow                      1x49                  392  double                                 \n",
      "  M3                               2x5                    80  double                                 \n",
      "  M_all                            1x1                     8  double                                 \n",
      "  RUNOFF_RATIO                     1x449                3592  double                                 \n",
      "  T                                1x1                     8  double                                 \n",
      "  Tr                               1x1                     8  double                                 \n",
      "  VOLUME_RAIN                      1x449                3592  double                                 \n",
      "  VOLUME_RUNOFF                    1x449                3592  double                                 \n",
      "  X                                1x3                    24  double                                 \n",
      "  X_as                             2x5x3                 240  double                                 \n",
      "  Y                                1x2                    16  double                                 \n",
      "  a                                1x1                     8  double                                 \n",
      "  ans                              1x2                     2  logical                                \n",
      "  ax                               1x1                     8  matlab.graphics.axis.Axes              \n",
      "  b                                1x1                     8  double                                 \n",
      "  baseflow                      9131x1                 73048  double                                 \n",
      "  baseflow_original             9131x1                 73048  double                                 \n",
      "  beginning_core                   1x623                4984  double                                 \n",
      "  beginning_flow                   1x623                4984  double                                 \n",
      "  beginning_flow_checked           1x623                4984  double                                 \n",
      "  beginning_flow_grouped           1x449                3592  double                                 \n",
      "  beginning_flow_ungrouped         1x449                3592  double                                 \n",
      "  beginning_rain                   1x623                4984  double                                 \n",
      "  beginning_rain_checked           1x623                4984  double                                 \n",
      "  beginning_rain_grouped           1x449                3592  double                                 \n",
      "  beginning_rain_ungrouped         1x449                3592  double                                 \n",
      "  cnt                              1x1                     8  double                                 \n",
      "  consecutive_zeros                1x1                     8  double                                 \n",
      "  count                            1x1                     8  double                                 \n",
      "  end_core                         1x623                4984  double                                 \n",
      "  end_flow                         1x623                4984  double                                 \n",
      "  end_flow_checked                 1x623                4984  double                                 \n",
      "  end_flow_grouped                 1x449                3592  double                                 \n",
      "  end_flow_ungrouped               1x449                3592  double                                 \n",
      "  end_idx                          1x1                     8  double                                 \n",
      "  end_rain                         1x623                4984  double                                 \n",
      "  end_rain_checked                 1x623                4984  double                                 \n",
      "  end_rain_grouped                 1x449                3592  double                                 \n",
      "  end_rain_ungrouped               1x449                3592  double                                 \n",
      "  fig                              1x1                     8  matlab.ui.Figure                       \n",
      "  flag                             1x1                     8  double                                 \n",
      "  flow                             1x9131              73048  double                                 \n",
      "  flow_int                         1x9131              73048  double                                 \n",
      "  flow_mean                       49x9131            3579352  double                                 \n",
      "  flow_original                 9131x7                511336  double                                 \n",
      "  fluct_bivariate_Tr               1x9131              73048  double                                 \n",
      "  fluct_flow                      49x9131            3579352  double                                 \n",
      "  fluct_flow_Tr                    1x9131              73048  double                                 \n",
      "  fluct_rain                      49x9131            3579352  double                                 \n",
      "  fluct_rain_Tr                    1x9131              73048  double                                 \n",
      "  g                                1x1                     8  double                                 \n",
      "  i                                1x1                     8  double                                 \n",
      "  index_events                     1x449                3592  double                                 \n",
      "  index_events2                    1x449                3592  double                                 \n",
      "  index_finish_flow                1x449                3592  double                                 \n",
      "  index_finish_rain                1x449                3592  double                                 \n",
      "  index_start_flow                 1x449                3592  double                                 \n",
      "  index_start_rain                 1x449                3592  double                                 \n",
      "  indices                          1x1                     8  double                                 \n",
      "  left_color                       1x3                    24  double                                 \n",
      "  len_rho                          1x1                     8  double                                 \n",
      "  marker_overlapping               0x0                     0  double                                 \n",
      "  max_window                       1x1                     8  double                                 \n",
      "  maxcnt                           1x1                     8  double                                 \n",
      "  multiple                         1x1                     8  double                                 \n",
      "  n                                1x1                     8  double                                 \n",
      "  next_core_beginning              1x1                     8  double                                 \n",
      "  next_event_beginning             0x0                     0  double                                 \n",
      "  num_zeros                        1x1                     8  double                                 \n",
      "  position_minimum                 1x1                     8  double                                 \n",
      "  previous_event_end               1x622                4976  double                                 \n",
      "  q                                1x1                     8  double                                 \n",
      "  rain                             1x9131              73048  double                                 \n",
      "  rain_int                         1x9131              73048  double                                 \n",
      "  rain_mean                       49x9131            3579352  double                                 \n",
      "  rain_min                         1x1                     8  double                                 \n",
      "  rain_original                 9131x7                511336  double                                 \n",
      "  rho                              1x49                  392  double                                 \n",
      "  right_color                      1x3                    24  double                                 \n",
      "  start_idx                        1x2                    16  double                                 \n",
      "  time                          9131x1                 73048  double                                 \n",
      "  tol_fluct_flow                   1x1                     8  double                                 \n",
      "  tol_fluct_rain                   1x1                     8  double                                 \n",
      "  window                           1x1                     8  double                                 \n",
      "  x                                1x1                     8  double                                 \n",
      "  y                                1x1                     8  double                                 \n",
      "  zero_count                       1x1                     8  double                                 \n",
      "\n"
     ]
    }
   ],
   "source": [
    "whos"
   ]
  },
  {
   "cell_type": "code",
   "execution_count": 142,
   "id": "d5db63fe-9067-4666-86a2-536544cb63d5",
   "metadata": {
    "tags": []
   },
   "outputs": [
    {
     "name": "stdout",
     "output_type": "stream",
     "text": [
      "\n",
      "marker_overlapping =\n",
      "\n",
      "     []\n",
      "\n"
     ]
    }
   ],
   "source": [
    "marker_overlapping"
   ]
  },
  {
   "cell_type": "code",
   "execution_count": 143,
   "id": "e68063bf-15ad-4628-b01e-38b6bf44d472",
   "metadata": {
    "collapsed": true,
    "jupyter": {
     "outputs_hidden": true
    },
    "tags": []
   },
   "outputs": [
    {
     "data": {
      "text/html": [
       "<html><body><pre>BEGINNING_RAIN = 449x1 double\n",
       "      726838\n",
       "      726900\n",
       "      726916\n",
       "      726925\n",
       "      726937\n",
       "      726959\n",
       "      726989\n",
       "      727002\n",
       "      727054\n",
       "      727069\n",
       "...</pre></body></html>"
      ],
      "text/plain": [
       "BEGINNING_RAIN = 449x1 double\n",
       "      726838\n",
       "      726900\n",
       "      726916\n",
       "      726925\n",
       "      726937\n",
       "      726959\n",
       "      726989\n",
       "      727002\n",
       "      727054\n",
       "      727069\n",
       "..."
      ]
     },
     "execution_count": 143,
     "metadata": {},
     "output_type": "execute_result"
    }
   ],
   "source": [
    "BEGINNING_RAIN"
   ]
  },
  {
   "cell_type": "code",
   "execution_count": 144,
   "id": "7c73bbe4-d024-4b1a-9c66-8c8ced386e9b",
   "metadata": {
    "tags": []
   },
   "outputs": [
    {
     "data": {
      "text/html": [
       "<html><body><pre>ans = logical\n",
       "   0</pre></body></html>"
      ],
      "text/plain": [
       "ans = logical\n",
       "   0"
      ]
     },
     "execution_count": 144,
     "metadata": {},
     "output_type": "execute_result"
    }
   ],
   "source": [
    "isempty(marker_overlapping)==0"
   ]
  },
  {
   "cell_type": "code",
   "execution_count": 145,
   "id": "08c7496d-56fa-485d-b383-ed2a1e9e1138",
   "metadata": {
    "tags": []
   },
   "outputs": [
    {
     "name": "stdout",
     "output_type": "stream",
     "text": [
      "\n",
      "marker_overlapping =\n",
      "\n",
      "     []\n",
      "\n"
     ]
    }
   ],
   "source": [
    "marker_overlapping"
   ]
  },
  {
   "cell_type": "code",
   "execution_count": 146,
   "id": "6d5e222b-267a-492d-9f83-7da7cfee9293",
   "metadata": {
    "tags": []
   },
   "outputs": [
    {
     "data": {
      "text/html": [
       "<html><body><pre>ans = logical\n",
       "   1</pre></body></html>"
      ],
      "text/plain": [
       "ans = logical\n",
       "   1"
      ]
     },
     "execution_count": 146,
     "metadata": {},
     "output_type": "execute_result"
    }
   ],
   "source": [
    "isempty(marker_overlapping)"
   ]
  },
  {
   "cell_type": "code",
   "execution_count": 147,
   "id": "bccfe736-b363-455c-91ba-8ba514e44377",
   "metadata": {
    "tags": []
   },
   "outputs": [
    {
     "name": "stdout",
     "output_type": "stream",
     "text": [
      "\n",
      "marker_overlapping =\n",
      "\n",
      "     []\n",
      "\n"
     ]
    }
   ],
   "source": [
    "marker_overlapping"
   ]
  },
  {
   "cell_type": "code",
   "execution_count": 148,
   "id": "292c1b74-a498-4aa5-b007-442e350f9980",
   "metadata": {
    "tags": []
   },
   "outputs": [
    {
     "data": {
      "text/html": [
       "<html><body><pre>baseflow = 1x9131 double\n",
       "    0.0238    0.0260    0.0501    0.0559    0.0374    0.0337    0.0341    0.0345    0.0350    0.0354    0.0358    0.0362    0.0366    0.0370    0.0370    0.0379    0.0383    0.0387    0.0391    0.0396    0.0400    0.0404    0.0408    0.0412    0.0416    0.0421    0.0425    0.0429    0.0433    0.0437\n",
       "...</pre></body></html>"
      ],
      "text/plain": [
       "baseflow = 1x9131 double\n",
       "    0.0238    0.0260    0.0501    0.0559    0.0374    0.0337    0.0341    0.0345    0.0350    0.0354    0.0358    0.0362    0.0366    0.0370    0.0370    0.0379    0.0383    0.0387    0.0391    0.0396    0.0400    0.0404    0.0408    0.0412    0.0416    0.0421    0.0425    0.0429    0.0433    0.0437\n",
       "..."
      ]
     },
     "execution_count": 148,
     "metadata": {},
     "output_type": "execute_result"
    }
   ],
   "source": [
    "baseflow"
   ]
  },
  {
   "cell_type": "code",
   "execution_count": 13,
   "id": "16aa3166-c0c4-4f2d-96d4-40a1e898df91",
   "metadata": {},
   "outputs": [
    {
     "data": {
      "text/html": [
       "<html><body><pre>ans = \n",
       "   4</pre></body></html>"
      ],
      "text/plain": [
       "ans = \n",
       "   4"
      ]
     },
     "execution_count": 13,
     "metadata": {},
     "output_type": "execute_result"
    }
   ],
   "source": [
    "to_group= [2 3 4];\n",
    "to_group(end)"
   ]
  },
  {
   "cell_type": "code",
   "execution_count": 14,
   "id": "0a60cade-77b2-43d3-b7de-d0cac1d2b5d0",
   "metadata": {
    "tags": []
   },
   "outputs": [
    {
     "data": {
      "text/html": [
       "<html><body><pre>ans = 1x3 double\n",
       "     3     4     5\n",
       "</pre></body></html>"
      ],
      "text/plain": [
       "ans = 1x3 double\n",
       "     3     4     5\n"
      ]
     },
     "execution_count": 14,
     "metadata": {},
     "output_type": "execute_result"
    }
   ],
   "source": [
    "to_group(2:end):(to_group(end)+1)"
   ]
  },
  {
   "cell_type": "code",
   "execution_count": 15,
   "id": "2099e050-8a7b-4511-a27a-088b660227db",
   "metadata": {
    "tags": []
   },
   "outputs": [
    {
     "data": {
      "text/html": [
       "<html><body><pre>beginning_flow_ungrouped = 1x449 double\n",
       "     6    72    83    92   105   126   156   170   221   236   248   262   272   289   298   315   340   350   382   405   416   440   456   473   484   518   547   553   566   571\n",
       "...</pre></body></html>"
      ],
      "text/plain": [
       "beginning_flow_ungrouped = 1x449 double\n",
       "     6    72    83    92   105   126   156   170   221   236   248   262   272   289   298   315   340   350   382   405   416   440   456   473   484   518   547   553   566   571\n",
       "..."
      ]
     },
     "execution_count": 15,
     "metadata": {},
     "output_type": "execute_result"
    }
   ],
   "source": [
    "beginning_flow_ungrouped"
   ]
  },
  {
   "cell_type": "code",
   "execution_count": 20,
   "id": "b6358a7c-6608-4686-87a0-58d650e88795",
   "metadata": {
    "tags": []
   },
   "outputs": [
    {
     "data": {
      "text/html": [
       "<html><body><pre>beginning_rain_grouped = 1x449 double\n",
       "     5    67    83    92   104   126   156   169   221   236   248   260   271   288   297   314   340   350   382   402   416   438   455   473   484   518   547   553   564   569\n",
       "...</pre></body></html>"
      ],
      "text/plain": [
       "beginning_rain_grouped = 1x449 double\n",
       "     5    67    83    92   104   126   156   169   221   236   248   260   271   288   297   314   340   350   382   402   416   438   455   473   484   518   547   553   564   569\n",
       "..."
      ]
     },
     "execution_count": 20,
     "metadata": {},
     "output_type": "execute_result"
    }
   ],
   "source": [
    "beginning_rain_grouped"
   ]
  },
  {
   "cell_type": "code",
   "execution_count": 19,
   "id": "8082671c-8c4d-4c3e-9d62-2ac54f3b635e",
   "metadata": {
    "tags": []
   },
   "outputs": [
    {
     "data": {
      "text/html": [
       "<html><body><pre>end_rain_grouped = 1x449 double\n",
       "    63    74    83    93   111   137   163   190   222   237   249   267   284   293   310   331   345   377   389   411   433   446   462   476   492   541   549   558   566   571\n",
       "...</pre></body></html>"
      ],
      "text/plain": [
       "end_rain_grouped = 1x449 double\n",
       "    63    74    83    93   111   137   163   190   222   237   249   267   284   293   310   331   345   377   389   411   433   446   462   476   492   541   549   558   566   571\n",
       "..."
      ]
     },
     "execution_count": 19,
     "metadata": {},
     "output_type": "execute_result"
    }
   ],
   "source": [
    "end_rain_grouped"
   ]
  },
  {
   "cell_type": "code",
   "execution_count": 16,
   "id": "3b01d6f5-f55f-4db5-a5cd-0e8910d5987d",
   "metadata": {
    "tags": []
   },
   "outputs": [
    {
     "data": {
      "text/html": [
       "<html><body><pre>BEGINNING_FLOW = 449x1 double\n",
       "      726839\n",
       "      726905\n",
       "      726916\n",
       "      726925\n",
       "      726938\n",
       "      726959\n",
       "      726989\n",
       "      727003\n",
       "      727054\n",
       "      727069\n",
       "...</pre></body></html>"
      ],
      "text/plain": [
       "BEGINNING_FLOW = 449x1 double\n",
       "      726839\n",
       "      726905\n",
       "      726916\n",
       "      726925\n",
       "      726938\n",
       "      726959\n",
       "      726989\n",
       "      727003\n",
       "      727054\n",
       "      727069\n",
       "..."
      ]
     },
     "execution_count": 16,
     "metadata": {},
     "output_type": "execute_result"
    }
   ],
   "source": [
    "BEGINNING_FLOW"
   ]
  },
  {
   "cell_type": "code",
   "execution_count": 17,
   "id": "215e5681-c1dc-4076-aa66-ed85bc575c15",
   "metadata": {
    "collapsed": true,
    "jupyter": {
     "outputs_hidden": true
    },
    "tags": []
   },
   "outputs": [
    {
     "data": {
      "text/html": [
       "<html><body><pre>END_FLOW = 449x1 double\n",
       "      726900\n",
       "      726907\n",
       "      726921\n",
       "      726928\n",
       "      726949\n",
       "      726978\n",
       "      726999\n",
       "      727029\n",
       "      727055\n",
       "      727073\n",
       "...</pre></body></html>"
      ],
      "text/plain": [
       "END_FLOW = 449x1 double\n",
       "      726900\n",
       "      726907\n",
       "      726921\n",
       "      726928\n",
       "      726949\n",
       "      726978\n",
       "      726999\n",
       "      727029\n",
       "      727055\n",
       "      727073\n",
       "..."
      ]
     },
     "execution_count": 17,
     "metadata": {},
     "output_type": "execute_result"
    }
   ],
   "source": [
    "END_FLOW"
   ]
  },
  {
   "cell_type": "code",
   "execution_count": 18,
   "id": "44e76cb4-e46f-4d26-b06b-133e10ff26a5",
   "metadata": {
    "tags": []
   },
   "outputs": [
    {
     "data": {
      "text/html": [
       "<html><body><pre>beg_end_series = 898x1 double\n",
       "      726839\n",
       "      726900\n",
       "      726905\n",
       "      726907\n",
       "      726916\n",
       "      726921\n",
       "      726925\n",
       "      726928\n",
       "      726938\n",
       "      726949\n",
       "...</pre></body></html>"
      ],
      "text/plain": [
       "beg_end_series = 898x1 double\n",
       "      726839\n",
       "      726900\n",
       "      726905\n",
       "      726907\n",
       "      726916\n",
       "      726921\n",
       "      726925\n",
       "      726928\n",
       "      726938\n",
       "      726949\n",
       "..."
      ]
     },
     "execution_count": 18,
     "metadata": {},
     "output_type": "execute_result"
    }
   ],
   "source": [
    "beg_end_series"
   ]
  },
  {
   "cell_type": "code",
   "execution_count": 22,
   "id": "b38df2f1-a4c3-406f-b0fd-7c5270f35127",
   "metadata": {
    "tags": []
   },
   "outputs": [
    {
     "data": {
      "text/html": [
       "<html><body><pre>ans = \n",
       "   6</pre></body></html>"
      ],
      "text/plain": [
       "ans = \n",
       "   6"
      ]
     },
     "execution_count": 22,
     "metadata": {},
     "output_type": "execute_result"
    }
   ],
   "source": [
    "find(time == beg_end_series(1))"
   ]
  },
  {
   "cell_type": "code",
   "execution_count": 23,
   "id": "e11db35a-e1da-4f82-a146-91a236a66716",
   "metadata": {
    "tags": []
   },
   "outputs": [
    {
     "data": {
      "text/html": [
       "<html><body><pre>ans = \n",
       "   67</pre></body></html>"
      ],
      "text/plain": [
       "ans = \n",
       "   67"
      ]
     },
     "execution_count": 23,
     "metadata": {},
     "output_type": "execute_result"
    }
   ],
   "source": [
    "find(time==beg_end_series(2))"
   ]
  },
  {
   "cell_type": "code",
   "execution_count": 26,
   "id": "7e5272ae-1515-451d-a504-71ac2920bf20",
   "metadata": {
    "tags": []
   },
   "outputs": [
    {
     "data": {
      "text/html": [
       "<html><body><pre>ans = 3x1 logical array\n",
       "   0\n",
       "   1\n",
       "   0</pre></body></html>"
      ],
      "text/plain": [
       "ans = 3x1 logical array\n",
       "   0\n",
       "   1\n",
       "   0"
      ]
     },
     "execution_count": 26,
     "metadata": {},
     "output_type": "execute_result"
    }
   ],
   "source": [
    "A = time==beg_end_series(2);\n",
    "A(66:68)"
   ]
  },
  {
   "cell_type": "code",
   "execution_count": 27,
   "id": "b66dba63-efd9-4e0e-ac2d-577891376a5d",
   "metadata": {
    "tags": []
   },
   "outputs": [
    {
     "data": {
      "text/html": [
       "<html><body><pre>flow = 1x9131 double\n",
       "    0.0238    0.0260    0.0501    0.0559    0.0374    0.0337    0.0519    0.0563    0.0540    0.0450    0.0872    0.1225    0.0602    0.0422    0.0370    0.0470    0.1037    0.0621    0.0484    0.1100    0.0522    0.0472    0.0648    0.1239    0.0764    0.2274    0.1038    0.1383    0.1265    0.2761\n",
       "...</pre></body></html>"
      ],
      "text/plain": [
       "flow = 1x9131 double\n",
       "    0.0238    0.0260    0.0501    0.0559    0.0374    0.0337    0.0519    0.0563    0.0540    0.0450    0.0872    0.1225    0.0602    0.0422    0.0370    0.0470    0.1037    0.0621    0.0484    0.1100    0.0522    0.0472    0.0648    0.1239    0.0764    0.2274    0.1038    0.1383    0.1265    0.2761\n",
       "..."
      ]
     },
     "execution_count": 27,
     "metadata": {},
     "output_type": "execute_result"
    }
   ],
   "source": [
    "flow"
   ]
  },
  {
   "cell_type": "code",
   "execution_count": 28,
   "id": "ba2c3bbe-9f30-4d38-881a-6d8fcfef8c59",
   "metadata": {
    "tags": []
   },
   "outputs": [
    {
     "data": {
      "text/html": [
       "<html><body><pre>rain = 1x9131 double\n",
       "    0.2507    0.2054    0.0158    0.0030    0.0223    0.1870    0.1500    0.0144    0.0189    0.1246    0.1378    0.0287    0.0011    0.0135    0.0550    0.1605    0.0622    0.0250    0.2694    0.0110    0.0359    0.1020    0.5016    0.1495    0.6009    0.1270    0.7577    0.5133    0.3353    0.1783\n",
       "...</pre></body></html>"
      ],
      "text/plain": [
       "rain = 1x9131 double\n",
       "    0.2507    0.2054    0.0158    0.0030    0.0223    0.1870    0.1500    0.0144    0.0189    0.1246    0.1378    0.0287    0.0011    0.0135    0.0550    0.1605    0.0622    0.0250    0.2694    0.0110    0.0359    0.1020    0.5016    0.1495    0.6009    0.1270    0.7577    0.5133    0.3353    0.1783\n",
       "..."
      ]
     },
     "execution_count": 28,
     "metadata": {},
     "output_type": "execute_result"
    }
   ],
   "source": [
    "rain"
   ]
  },
  {
   "cell_type": "code",
   "execution_count": 40,
   "id": "b16509f9-4380-4895-b73c-55195a550db9",
   "metadata": {
    "collapsed": true,
    "jupyter": {
     "outputs_hidden": true
    },
    "tags": []
   },
   "outputs": [
    {
     "data": {
      "text/html": [
       "<html><body><pre>ans = 1x6 logical array\n",
       "   0   0   1   0   1   0</pre></body></html>"
      ],
      "text/plain": [
       "ans = 1x6 logical array\n",
       "   0   0   1   0   1   0"
      ]
     },
     "execution_count": 40,
     "metadata": {},
     "output_type": "execute_result"
    }
   ],
   "source": [
    "X = [1 2 NaN 2 NaN 3];\n",
    "isnan(X(1:end))"
   ]
  },
  {
   "cell_type": "code",
   "execution_count": 41,
   "id": "5da1d90a-299e-470a-955a-598cd3899fc6",
   "metadata": {
    "tags": []
   },
   "outputs": [
    {
     "data": {
      "text/html": [
       "<html><body><pre>ans = 1x2 double\n",
       "     3     5\n",
       "</pre></body></html>"
      ],
      "text/plain": [
       "ans = 1x2 double\n",
       "     3     5\n"
      ]
     },
     "execution_count": 41,
     "metadata": {},
     "output_type": "execute_result"
    }
   ],
   "source": [
    "find(isnan(X(1:end))==1)"
   ]
  },
  {
   "cell_type": "code",
   "execution_count": 42,
   "id": "0ae8e677-7498-4cb8-bfd3-3167f22175ee",
   "metadata": {
    "collapsed": true,
    "jupyter": {
     "outputs_hidden": true
    },
    "tags": []
   },
   "outputs": [
    {
     "data": {
      "text/html": [
       "<html><body><pre>ans = \n",
       "   5.4000</pre></body></html>"
      ],
      "text/plain": [
       "ans = \n",
       "   5.4000"
      ]
     },
     "execution_count": 42,
     "metadata": {},
     "output_type": "execute_result"
    }
   ],
   "source": [
    "length(X(1:end))*0.9"
   ]
  },
  {
   "cell_type": "code",
   "execution_count": 43,
   "id": "8e6df1c0-efa6-4fee-bc4e-16db32231eee",
   "metadata": {
    "collapsed": true,
    "jupyter": {
     "outputs_hidden": true
    },
    "tags": []
   },
   "outputs": [
    {
     "data": {
      "text/html": [
       "<html><body><pre>ans = \n",
       "   2</pre></body></html>"
      ],
      "text/plain": [
       "ans = \n",
       "   2"
      ]
     },
     "execution_count": 43,
     "metadata": {},
     "output_type": "execute_result"
    }
   ],
   "source": [
    "length(find(isnan(X(1:end))==1))"
   ]
  },
  {
   "cell_type": "code",
   "execution_count": 44,
   "id": "7680b707-4fbc-4fcd-a05d-da5f71389a6c",
   "metadata": {
    "tags": []
   },
   "outputs": [
    {
     "data": {
      "text/html": [
       "<html><body><pre>ans = logical\n",
       "   0</pre></body></html>"
      ],
      "text/plain": [
       "ans = logical\n",
       "   0"
      ]
     },
     "execution_count": 44,
     "metadata": {},
     "output_type": "execute_result"
    }
   ],
   "source": [
    "K=beg_end_series(2)-beg_end_series(1);\n",
    "K==1"
   ]
  },
  {
   "cell_type": "code",
   "execution_count": 48,
   "id": "1b515008-3609-447d-a0b1-a3c92bb2283d",
   "metadata": {
    "collapsed": true,
    "jupyter": {
     "outputs_hidden": true,
     "source_hidden": true
    },
    "tags": []
   },
   "outputs": [
    {
     "data": {
      "text/html": [
       "<html><body><pre>ans = 2x2 double\n",
       "     2     2\n",
       "     2     4\n",
       "</pre></body></html>"
      ],
      "text/plain": [
       "ans = 2x2 double\n",
       "     2     2\n",
       "     2     4\n"
      ]
     },
     "execution_count": 48,
     "metadata": {},
     "output_type": "execute_result"
    }
   ],
   "source": [
    "A=[2 4;4 8];\n",
    "B=[1 2;2 2];\n",
    "A./B"
   ]
  },
  {
   "cell_type": "code",
   "execution_count": 52,
   "id": "68677c1b-7368-4ebb-a5c4-befa616c06e9",
   "metadata": {
    "tags": []
   },
   "outputs": [
    {
     "data": {
      "text/html": [
       "<html><body><pre>ans = \n",
       "   4.1735e-04</pre></body></html>"
      ],
      "text/plain": [
       "ans = \n",
       "   4.1735e-04"
      ]
     },
     "execution_count": 52,
     "metadata": {},
     "output_type": "execute_result"
    }
   ],
   "source": [
    "W=flow(find(time==beg_end_series(2)))-flow(find(time == beg_end_series(1)));\n",
    "P=find(time == beg_end_series(2))-find(time == beg_end_series(1));\n",
    "W./P"
   ]
  },
  {
   "cell_type": "code",
   "execution_count": 50,
   "id": "2f1f1dc9-5561-4d95-b95b-4e62cfd87d08",
   "metadata": {
    "tags": []
   },
   "outputs": [
    {
     "data": {
      "text/html": [
       "<html><body><pre>ans = \n",
       "   726900</pre></body></html>"
      ],
      "text/plain": [
       "ans = \n",
       "   726900"
      ]
     },
     "execution_count": 50,
     "metadata": {},
     "output_type": "execute_result"
    }
   ],
   "source": [
    "beg_end_series(2)"
   ]
  },
  {
   "cell_type": "code",
   "execution_count": 51,
   "id": "8fb5e907-8329-41f1-96f2-cbe42fab80f4",
   "metadata": {
    "tags": []
   },
   "outputs": [
    {
     "data": {
      "text/html": [
       "<html><body><pre>ans = \n",
       "   726839</pre></body></html>"
      ],
      "text/plain": [
       "ans = \n",
       "   726839"
      ]
     },
     "execution_count": 51,
     "metadata": {},
     "output_type": "execute_result"
    }
   ],
   "source": [
    "beg_end_series(1)"
   ]
  },
  {
   "cell_type": "code",
   "execution_count": 53,
   "id": "4b4104b9-10e5-4ade-b0e0-504b0943dd34",
   "metadata": {
    "tags": []
   },
   "outputs": [
    {
     "data": {
      "text/html": [
       "<html><body><pre>W = \n",
       "   0.0255</pre></body></html>"
      ],
      "text/plain": [
       "W = \n",
       "   0.0255"
      ]
     },
     "execution_count": 53,
     "metadata": {},
     "output_type": "execute_result"
    }
   ],
   "source": [
    "W"
   ]
  },
  {
   "cell_type": "code",
   "execution_count": 54,
   "id": "d13e590e-fc17-42db-9ec0-f43c5a7de4e3",
   "metadata": {
    "tags": []
   },
   "outputs": [
    {
     "data": {
      "text/html": [
       "<html><body><pre>ans = \n",
       "   0.0592</pre></body></html>"
      ],
      "text/plain": [
       "ans = \n",
       "   0.0592"
      ]
     },
     "execution_count": 54,
     "metadata": {},
     "output_type": "execute_result"
    }
   ],
   "source": [
    "flow(find(time==beg_end_series(2)))"
   ]
  },
  {
   "cell_type": "code",
   "execution_count": 55,
   "id": "57ef9758-4ac2-4990-b0ff-e593b8e8fffa",
   "metadata": {
    "tags": []
   },
   "outputs": [
    {
     "data": {
      "text/html": [
       "<html><body><pre>ans = \n",
       "   0.0592</pre></body></html>"
      ],
      "text/plain": [
       "ans = \n",
       "   0.0592"
      ]
     },
     "execution_count": 55,
     "metadata": {},
     "output_type": "execute_result"
    }
   ],
   "source": [
    "flow(67)"
   ]
  },
  {
   "cell_type": "code",
   "execution_count": 56,
   "id": "97c4fbd0-066a-4314-9c1f-303eab8c99fb",
   "metadata": {
    "tags": []
   },
   "outputs": [
    {
     "data": {
      "text/html": [
       "<html><body><pre>ans = \n",
       "   0.0337</pre></body></html>"
      ],
      "text/plain": [
       "ans = \n",
       "   0.0337"
      ]
     },
     "execution_count": 56,
     "metadata": {},
     "output_type": "execute_result"
    }
   ],
   "source": [
    "flow(6)"
   ]
  },
  {
   "cell_type": "code",
   "execution_count": 57,
   "id": "372a9e6d-e0cf-448b-a5d1-07e2cab3d262",
   "metadata": {
    "tags": []
   },
   "outputs": [
    {
     "data": {
      "text/html": [
       "<html><body><pre>baseflow_original = 1x9131 double\n",
       "    0.5710    0.6230    1.2020    1.3420    0.8980    0.8090    0.8190    0.8290    0.8390    0.8491    0.8591    0.8691    0.8791    0.8891    0.8890    0.9092    0.9192    0.9292    0.9392    0.9492    0.9592    0.9693    0.9793    0.9893    0.9993    1.0093    1.0193    1.0294    1.0394    1.0494\n",
       "...</pre></body></html>"
      ],
      "text/plain": [
       "baseflow_original = 1x9131 double\n",
       "    0.5710    0.6230    1.2020    1.3420    0.8980    0.8090    0.8190    0.8290    0.8390    0.8491    0.8591    0.8691    0.8791    0.8891    0.8890    0.9092    0.9192    0.9292    0.9392    0.9492    0.9592    0.9693    0.9793    0.9893    0.9993    1.0093    1.0193    1.0294    1.0394    1.0494\n",
       "..."
      ]
     },
     "execution_count": 57,
     "metadata": {},
     "output_type": "execute_result"
    }
   ],
   "source": [
    "baseflow_original"
   ]
  },
  {
   "cell_type": "code",
   "execution_count": 58,
   "id": "7a504da5-a809-4092-bd61-a2c3c0e8a4bc",
   "metadata": {
    "collapsed": true,
    "jupyter": {
     "outputs_hidden": true
    },
    "tags": []
   },
   "outputs": [
    {
     "data": {
      "text/html": [
       "<html><body><pre>BEGINNING_RAIN = 449x1 double\n",
       "      726838\n",
       "      726900\n",
       "      726916\n",
       "      726925\n",
       "      726937\n",
       "      726959\n",
       "      726989\n",
       "      727002\n",
       "      727054\n",
       "      727069\n",
       "...</pre></body></html>"
      ],
      "text/plain": [
       "BEGINNING_RAIN = 449x1 double\n",
       "      726838\n",
       "      726900\n",
       "      726916\n",
       "      726925\n",
       "      726937\n",
       "      726959\n",
       "      726989\n",
       "      727002\n",
       "      727054\n",
       "      727069\n",
       "..."
      ]
     },
     "execution_count": 58,
     "metadata": {},
     "output_type": "execute_result"
    }
   ],
   "source": [
    "BEGINNING_RAIN"
   ]
  },
  {
   "cell_type": "code",
   "execution_count": 59,
   "id": "1eed4f03-b083-4b68-9526-602ddf92d96e",
   "metadata": {
    "collapsed": true,
    "jupyter": {
     "outputs_hidden": true
    },
    "tags": []
   },
   "outputs": [
    {
     "data": {
      "text/html": [
       "<html><body><pre>BEGINNING_FLOW = 449x1 double\n",
       "      726839\n",
       "      726905\n",
       "      726916\n",
       "      726925\n",
       "      726938\n",
       "      726959\n",
       "      726989\n",
       "      727003\n",
       "      727054\n",
       "      727069\n",
       "...</pre></body></html>"
      ],
      "text/plain": [
       "BEGINNING_FLOW = 449x1 double\n",
       "      726839\n",
       "      726905\n",
       "      726916\n",
       "      726925\n",
       "      726938\n",
       "      726959\n",
       "      726989\n",
       "      727003\n",
       "      727054\n",
       "      727069\n",
       "..."
      ]
     },
     "execution_count": 59,
     "metadata": {},
     "output_type": "execute_result"
    }
   ],
   "source": [
    "BEGINNING_FLOW"
   ]
  },
  {
   "cell_type": "code",
   "execution_count": 61,
   "id": "3c5b34ec-f97c-498c-a6b1-012bdf65c2a4",
   "metadata": {
    "tags": []
   },
   "outputs": [
    {
     "data": {
      "text/html": [
       "<html><body><pre>ans = 1x6 double\n",
       "        1990           3           8           0           0           0\n",
       "</pre></body></html>"
      ],
      "text/plain": [
       "ans = 1x6 double\n",
       "        1990           3           8           0           0           0\n"
      ]
     },
     "execution_count": 61,
     "metadata": {},
     "output_type": "execute_result"
    }
   ],
   "source": [
    "datevec(END_FLOW(1))"
   ]
  },
  {
   "cell_type": "code",
   "execution_count": 62,
   "id": "cf2818c8-a50b-4b09-944a-9348808965d0",
   "metadata": {
    "tags": []
   },
   "outputs": [
    {
     "data": {
      "text/html": [
       "<html><body><pre>ans = 1x6 double\n",
       "        1990           1           6           0           0           0\n",
       "</pre></body></html>"
      ],
      "text/plain": [
       "ans = 1x6 double\n",
       "        1990           1           6           0           0           0\n"
      ]
     },
     "execution_count": 62,
     "metadata": {},
     "output_type": "execute_result"
    }
   ],
   "source": [
    "datevec(BEGINNING_FLOW(1))"
   ]
  },
  {
   "cell_type": "code",
   "execution_count": 64,
   "id": "f6512881-a38b-422a-a07f-494df92a2644",
   "metadata": {
    "tags": []
   },
   "outputs": [
    {
     "data": {
      "text/html": [
       "<html><body><pre>ans = \n",
       "   61</pre></body></html>"
      ],
      "text/plain": [
       "ans = \n",
       "   61"
      ]
     },
     "execution_count": 64,
     "metadata": {},
     "output_type": "execute_result"
    }
   ],
   "source": [
    "etime(datevec(END_FLOW(1)),datevec(BEGINNING_FLOW(1)))./(60*60*multiple)"
   ]
  },
  {
   "cell_type": "code",
   "execution_count": 66,
   "id": "a634f986-e391-4b85-8ae5-7c0a6308460a",
   "metadata": {
    "tags": []
   },
   "outputs": [
    {
     "data": {
      "text/html": [
       "<html><body><pre>ans = \n",
       "   5</pre></body></html>"
      ],
      "text/plain": [
       "ans = \n",
       "   5"
      ]
     },
     "execution_count": 66,
     "metadata": {},
     "output_type": "execute_result"
    }
   ],
   "source": [
    "find(time==BEGINNING_RAIN(1))"
   ]
  },
  {
   "cell_type": "code",
   "execution_count": 67,
   "id": "2c2ac0f8-e8bf-41c4-9ef6-fe04d60486e7",
   "metadata": {
    "tags": []
   },
   "outputs": [
    {
     "data": {
      "text/html": [
       "<html><body><pre>ans = \n",
       "   63</pre></body></html>"
      ],
      "text/plain": [
       "ans = \n",
       "   63"
      ]
     },
     "execution_count": 67,
     "metadata": {},
     "output_type": "execute_result"
    }
   ],
   "source": [
    "find(time==END_RAIN(1))"
   ]
  },
  {
   "cell_type": "code",
   "execution_count": 69,
   "id": "70439bc1-047b-400d-9b87-0e56707d1ac6",
   "metadata": {
    "tags": []
   },
   "outputs": [
    {
     "data": {
      "text/html": [
       "<html><body><pre>ans = \n",
       "   58</pre></body></html>"
      ],
      "text/plain": [
       "ans = \n",
       "   58"
      ]
     },
     "execution_count": 69,
     "metadata": {},
     "output_type": "execute_result"
    }
   ],
   "source": [
    "etime(datevec(END_RAIN(1)),datevec(BEGINNING_RAIN(1)))./(60*60*multiple)"
   ]
  },
  {
   "cell_type": "code",
   "execution_count": 70,
   "id": "c811b09a-1b0f-47fb-8065-c1c2c73534e5",
   "metadata": {
    "tags": []
   },
   "outputs": [
    {
     "data": {
      "text/html": [
       "<html><body><pre>VOLUME_RUNOFF = 1x449 double\n",
       "  104.9271    0.1470    0.1770    0.0260    1.3510    1.3060    0.2445    5.3170         0    0.2270         0    0.7720    6.6145    1.9064    7.1195   11.1255   16.0913   61.3390    8.6359    0.6530   58.2820   14.9640   10.0255    0.4685    0.5750    3.9499         0    0.3450    0.0220    0.1270\n",
       "...</pre></body></html>"
      ],
      "text/plain": [
       "VOLUME_RUNOFF = 1x449 double\n",
       "  104.9271    0.1470    0.1770    0.0260    1.3510    1.3060    0.2445    5.3170         0    0.2270         0    0.7720    6.6145    1.9064    7.1195   11.1255   16.0913   61.3390    8.6359    0.6530   58.2820   14.9640   10.0255    0.4685    0.5750    3.9499         0    0.3450    0.0220    0.1270\n",
       "..."
      ]
     },
     "execution_count": 70,
     "metadata": {},
     "output_type": "execute_result"
    }
   ],
   "source": [
    "VOLUME_RUNOFF"
   ]
  },
  {
   "cell_type": "code",
   "execution_count": 71,
   "id": "9a304eb6-9a0d-447e-96c4-9decaee57160",
   "metadata": {
    "tags": []
   },
   "outputs": [
    {
     "data": {
      "text/html": [
       "<html><body><pre>baseflow = 1x9131 double\n",
       "    0.0238    0.0260    0.0501    0.0559    0.0374    0.0337    0.0341    0.0345    0.0350    0.0354    0.0358    0.0362    0.0366    0.0370    0.0370    0.0379    0.0383    0.0387    0.0391    0.0396    0.0400    0.0404    0.0408    0.0412    0.0416    0.0421    0.0425    0.0429    0.0433    0.0437\n",
       "...</pre></body></html>"
      ],
      "text/plain": [
       "baseflow = 1x9131 double\n",
       "    0.0238    0.0260    0.0501    0.0559    0.0374    0.0337    0.0341    0.0345    0.0350    0.0354    0.0358    0.0362    0.0366    0.0370    0.0370    0.0379    0.0383    0.0387    0.0391    0.0396    0.0400    0.0404    0.0408    0.0412    0.0416    0.0421    0.0425    0.0429    0.0433    0.0437\n",
       "..."
      ]
     },
     "execution_count": 71,
     "metadata": {},
     "output_type": "execute_result"
    }
   ],
   "source": [
    "baseflow"
   ]
  },
  {
   "cell_type": "code",
   "execution_count": 83,
   "id": "89163c51-c83e-45b9-bb7a-fcf2703fba4f",
   "metadata": {
    "tags": []
   },
   "outputs": [
    {
     "data": {
      "text/html": [
       "<html><body><pre>flow = 1x9131 double\n",
       "    0.0238    0.0260    0.0501    0.0559    0.0374    0.0337    0.0519    0.0563    0.0540    0.0450    0.0872    0.1225    0.0602    0.0422    0.0370    0.0470    0.1037    0.0621    0.0484    0.1100    0.0522    0.0472    0.0648    0.1239    0.0764    0.2274    0.1038    0.1383    0.1265    0.2761\n",
       "...</pre></body></html>"
      ],
      "text/plain": [
       "flow = 1x9131 double\n",
       "    0.0238    0.0260    0.0501    0.0559    0.0374    0.0337    0.0519    0.0563    0.0540    0.0450    0.0872    0.1225    0.0602    0.0422    0.0370    0.0470    0.1037    0.0621    0.0484    0.1100    0.0522    0.0472    0.0648    0.1239    0.0764    0.2274    0.1038    0.1383    0.1265    0.2761\n",
       "..."
      ]
     },
     "execution_count": 83,
     "metadata": {},
     "output_type": "execute_result"
    }
   ],
   "source": [
    "flow"
   ]
  },
  {
   "cell_type": "code",
   "execution_count": 77,
   "id": "37f6e858-5e7e-466e-ad9e-cf9044ec82e6",
   "metadata": {
    "tags": []
   },
   "outputs": [
    {
     "data": {
      "text/html": [
       "<html><body><pre>index_beginning_event = \n",
       "   6</pre></body></html>"
      ],
      "text/plain": [
       "index_beginning_event = \n",
       "   6"
      ]
     },
     "execution_count": 77,
     "metadata": {},
     "output_type": "execute_result"
    }
   ],
   "source": [
    "index_beginning_event"
   ]
  },
  {
   "cell_type": "code",
   "execution_count": 76,
   "id": "0b9a50ab-54dd-4c97-8d38-ad5bce4d08cd",
   "metadata": {
    "tags": []
   },
   "outputs": [
    {
     "data": {
      "text/html": [
       "<html><body><pre>index_beginning_event = \n",
       "   6</pre></body></html>"
      ],
      "text/plain": [
       "index_beginning_event = \n",
       "   6"
      ]
     },
     "execution_count": 76,
     "metadata": {},
     "output_type": "execute_result"
    }
   ],
   "source": [
    "index_beginning_event=find(time==BEGINNING_FLOW(1))"
   ]
  },
  {
   "cell_type": "code",
   "execution_count": 79,
   "id": "643037c5-38a3-48da-a17c-3f9ffeb58939",
   "metadata": {
    "tags": []
   },
   "outputs": [
    {
     "data": {
      "text/html": [
       "<html><body><pre>index_end_event = \n",
       "   67</pre></body></html>"
      ],
      "text/plain": [
       "index_end_event = \n",
       "   67"
      ]
     },
     "execution_count": 79,
     "metadata": {},
     "output_type": "execute_result"
    }
   ],
   "source": [
    "index_end_event=find(time==END_FLOW(1))"
   ]
  },
  {
   "cell_type": "code",
   "execution_count": 80,
   "id": "21f2761b-d4ab-450b-9424-b64115ea109a",
   "metadata": {
    "tags": []
   },
   "outputs": [
    {
     "data": {
      "text/html": [
       "<html><body><pre>index_end_event = \n",
       "   67</pre></body></html>"
      ],
      "text/plain": [
       "index_end_event = \n",
       "   67"
      ]
     },
     "execution_count": 80,
     "metadata": {},
     "output_type": "execute_result"
    }
   ],
   "source": [
    "index_end_event"
   ]
  },
  {
   "cell_type": "code",
   "execution_count": 81,
   "id": "82929605-ad06-43b7-995c-d31ec0658e11",
   "metadata": {
    "tags": []
   },
   "outputs": [
    {
     "data": {
      "text/html": [
       "<html><body><pre>qb = 1x62 double\n",
       "    0.0337    0.0341    0.0345    0.0350    0.0354    0.0358    0.0362    0.0366    0.0370    0.0370    0.0379    0.0383    0.0387    0.0391    0.0396    0.0400    0.0404    0.0408    0.0412    0.0416    0.0421    0.0425    0.0429    0.0433    0.0437    0.0441    0.0446    0.0450    0.0454    0.0458\n",
       "...</pre></body></html>"
      ],
      "text/plain": [
       "qb = 1x62 double\n",
       "    0.0337    0.0341    0.0345    0.0350    0.0354    0.0358    0.0362    0.0366    0.0370    0.0370    0.0379    0.0383    0.0387    0.0391    0.0396    0.0400    0.0404    0.0408    0.0412    0.0416    0.0421    0.0425    0.0429    0.0433    0.0437    0.0441    0.0446    0.0450    0.0454    0.0458\n",
       "..."
      ]
     },
     "execution_count": 81,
     "metadata": {},
     "output_type": "execute_result"
    }
   ],
   "source": [
    "qb=baseflow(index_beginning_event:index_end_event)"
   ]
  },
  {
   "cell_type": "code",
   "execution_count": 82,
   "id": "52ff4208-e620-4452-9d01-738eee1b2708",
   "metadata": {
    "tags": []
   },
   "outputs": [
    {
     "data": {
      "text/html": [
       "<html><body><pre>q = 1x62 double\n",
       "    0.0337    0.0519    0.0563    0.0540    0.0450    0.0872    0.1225    0.0602    0.0422    0.0370    0.0470    0.1037    0.0621    0.0484    0.1100    0.0522    0.0472    0.0648    0.1239    0.0764    0.2274    0.1038    0.1383    0.1265    0.2761    0.2973    0.2251    0.1890    0.1492    0.1138\n",
       "...</pre></body></html>"
      ],
      "text/plain": [
       "q = 1x62 double\n",
       "    0.0337    0.0519    0.0563    0.0540    0.0450    0.0872    0.1225    0.0602    0.0422    0.0370    0.0470    0.1037    0.0621    0.0484    0.1100    0.0522    0.0472    0.0648    0.1239    0.0764    0.2274    0.1038    0.1383    0.1265    0.2761    0.2973    0.2251    0.1890    0.1492    0.1138\n",
       "..."
      ]
     },
     "execution_count": 82,
     "metadata": {},
     "output_type": "execute_result"
    }
   ],
   "source": [
    "q=flow(index_beginning_event:index_end_event)"
   ]
  },
  {
   "cell_type": "code",
   "execution_count": 84,
   "id": "c18f514f-305e-4054-9142-6113cbde55c7",
   "metadata": {
    "tags": []
   },
   "outputs": [
    {
     "data": {
      "text/html": [
       "<html><body><pre>VOLUME_RUNOFF = \n",
       "   4.3720</pre></body></html>"
      ],
      "text/plain": [
       "VOLUME_RUNOFF = \n",
       "   4.3720"
      ]
     },
     "execution_count": 84,
     "metadata": {},
     "output_type": "execute_result"
    }
   ],
   "source": [
    "VOLUME_RUNOFF=nansum(q-qb)"
   ]
  },
  {
   "cell_type": "code",
   "execution_count": 85,
   "id": "f2db0afb-dd2b-499b-b460-a816f45757ca",
   "metadata": {
    "tags": []
   },
   "outputs": [
    {
     "data": {
      "text/html": [
       "<html><body><pre>ans = \n",
       "   104.9271</pre></body></html>"
      ],
      "text/plain": [
       "ans = \n",
       "   104.9271"
      ]
     },
     "execution_count": 85,
     "metadata": {},
     "output_type": "execute_result"
    }
   ],
   "source": [
    "VOLUME_RUNOFF.*multiple"
   ]
  },
  {
   "cell_type": "code",
   "execution_count": 86,
   "id": "8b8caad4-6161-4058-af78-0c3a98712ba4",
   "metadata": {
    "tags": []
   },
   "outputs": [
    {
     "data": {
      "text/html": [
       "<html><body><pre>qb = 1x62 double\n",
       "    0.0337    0.0341    0.0345    0.0350    0.0354    0.0358    0.0362    0.0366    0.0370    0.0370    0.0379    0.0383    0.0387    0.0391    0.0396    0.0400    0.0404    0.0408    0.0412    0.0416    0.0421    0.0425    0.0429    0.0433    0.0437    0.0441    0.0446    0.0450    0.0454    0.0458\n",
       "...</pre></body></html>"
      ],
      "text/plain": [
       "qb = 1x62 double\n",
       "    0.0337    0.0341    0.0345    0.0350    0.0354    0.0358    0.0362    0.0366    0.0370    0.0370    0.0379    0.0383    0.0387    0.0391    0.0396    0.0400    0.0404    0.0408    0.0412    0.0416    0.0421    0.0425    0.0429    0.0433    0.0437    0.0441    0.0446    0.0450    0.0454    0.0458\n",
       "..."
      ]
     },
     "execution_count": 86,
     "metadata": {},
     "output_type": "execute_result"
    }
   ],
   "source": [
    "qb"
   ]
  },
  {
   "cell_type": "code",
   "execution_count": 87,
   "id": "34ace7f2-7f6d-4c30-96e9-96d3e7d2eceb",
   "metadata": {
    "tags": []
   },
   "outputs": [],
   "source": [
    "for h=1:length(BEGINNING_FLOW)\n",
    "    index_beginning_event=find(time==BEGINNING_FLOW(h));\n",
    "    index_end_event=find(time==END_FLOW(h));\n",
    "    q=flow(index_beginning_event:index_end_event); \n",
    "    qb=baseflow(index_beginning_event:index_end_event); \n",
    "    VOLUME_RUNOFF(h)=nansum(q-qb).*multiple;\n",
    "end"
   ]
  },
  {
   "cell_type": "code",
   "execution_count": 88,
   "id": "bb1f0dff-26fe-44bf-b926-8afd5a188a1c",
   "metadata": {
    "tags": []
   },
   "outputs": [
    {
     "data": {
      "text/html": [
       "<html><body><pre>qb = 1x64 double\n",
       "    0.0268    0.0270    0.0272    0.0274    0.0275    0.0277    0.0279    0.0280    0.0282    0.0284    0.0286    0.0287    0.0289    0.0291    0.0293    0.0205    0.0296    0.0298    0.0300    0.0301    0.0303    0.0305    0.0306    0.0308    0.0310    0.0312    0.0313    0.0315    0.0317    0.0319\n",
       "...</pre></body></html>"
      ],
      "text/plain": [
       "qb = 1x64 double\n",
       "    0.0268    0.0270    0.0272    0.0274    0.0275    0.0277    0.0279    0.0280    0.0282    0.0284    0.0286    0.0287    0.0289    0.0291    0.0293    0.0205    0.0296    0.0298    0.0300    0.0301    0.0303    0.0305    0.0306    0.0308    0.0310    0.0312    0.0313    0.0315    0.0317    0.0319\n",
       "..."
      ]
     },
     "execution_count": 88,
     "metadata": {},
     "output_type": "execute_result"
    }
   ],
   "source": [
    "qb"
   ]
  },
  {
   "cell_type": "code",
   "execution_count": 89,
   "id": "d714babc-52b6-457c-8c96-6901b9a9dfff",
   "metadata": {
    "tags": []
   },
   "outputs": [
    {
     "data": {
      "text/html": [
       "<html><body><pre>VOLUME_RUNOFF = 1x449 double\n",
       "  104.9271    0.1470    0.1770    0.0260    1.3510    1.3060    0.2445    5.3170         0    0.2270         0    0.7720    6.6145    1.9064    7.1195   11.1255   16.0913   61.3390    8.6359    0.6530   58.2820   14.9640   10.0255    0.4685    0.5750    3.9499         0    0.3450    0.0220    0.1270\n",
       "...</pre></body></html>"
      ],
      "text/plain": [
       "VOLUME_RUNOFF = 1x449 double\n",
       "  104.9271    0.1470    0.1770    0.0260    1.3510    1.3060    0.2445    5.3170         0    0.2270         0    0.7720    6.6145    1.9064    7.1195   11.1255   16.0913   61.3390    8.6359    0.6530   58.2820   14.9640   10.0255    0.4685    0.5750    3.9499         0    0.3450    0.0220    0.1270\n",
       "..."
      ]
     },
     "execution_count": 89,
     "metadata": {},
     "output_type": "execute_result"
    }
   ],
   "source": [
    "VOLUME_RUNOFF"
   ]
  },
  {
   "cell_type": "code",
   "execution_count": 90,
   "id": "d5429329-4de1-44d8-b4f7-4b0fbd4f5357",
   "metadata": {
    "tags": []
   },
   "outputs": [
    {
     "data": {
      "text/html": [
       "<html><body><pre>VOLUME_RAIN = 1x449 double\n",
       "  255.9330   10.0710    2.2480    3.8900   10.5980   30.8090   17.2640   83.0960    2.2830   21.6520    2.5810   21.6530   46.3420   14.6340   41.2650   40.0190   69.3900  143.3150   10.8400   39.0030  102.9890   35.9350   29.8470   12.9530   18.1370   64.2760    6.5480    9.0950    3.9080    6.8530\n",
       "...</pre></body></html>"
      ],
      "text/plain": [
       "VOLUME_RAIN = 1x449 double\n",
       "  255.9330   10.0710    2.2480    3.8900   10.5980   30.8090   17.2640   83.0960    2.2830   21.6520    2.5810   21.6530   46.3420   14.6340   41.2650   40.0190   69.3900  143.3150   10.8400   39.0030  102.9890   35.9350   29.8470   12.9530   18.1370   64.2760    6.5480    9.0950    3.9080    6.8530\n",
       "..."
      ]
     },
     "execution_count": 90,
     "metadata": {},
     "output_type": "execute_result"
    }
   ],
   "source": [
    "VOLUME_RAIN"
   ]
  },
  {
   "cell_type": "markdown",
   "id": "246862f6-0184-4fc4-b458-401ca0117993",
   "metadata": {},
   "source": [
    "# 各个事件的径流系数"
   ]
  },
  {
   "cell_type": "code",
   "execution_count": 91,
   "id": "2f2cdbf1-eed2-499d-a1c5-d1de8bdd5f31",
   "metadata": {
    "tags": []
   },
   "outputs": [
    {
     "data": {
      "text/html": [
       "<html><body><pre>RUNOFF_RATIO = 1x449 double\n",
       "    0.4100    0.0146    0.0787    0.0067    0.1275    0.0424    0.0142    0.0640         0    0.0105         0    0.0357    0.1427    0.1303    0.1725    0.2780    0.2319    0.4280    0.7967    0.0167    0.5659    0.4164    0.3359    0.0362    0.0317    0.0615         0    0.0379    0.0056    0.0185\n",
       "...</pre></body></html>"
      ],
      "text/plain": [
       "RUNOFF_RATIO = 1x449 double\n",
       "    0.4100    0.0146    0.0787    0.0067    0.1275    0.0424    0.0142    0.0640         0    0.0105         0    0.0357    0.1427    0.1303    0.1725    0.2780    0.2319    0.4280    0.7967    0.0167    0.5659    0.4164    0.3359    0.0362    0.0317    0.0615         0    0.0379    0.0056    0.0185\n",
       "..."
      ]
     },
     "execution_count": 91,
     "metadata": {},
     "output_type": "execute_result"
    }
   ],
   "source": [
    "RUNOFF_RATIO=VOLUME_RUNOFF./VOLUME_RAIN"
   ]
  },
  {
   "cell_type": "code",
   "execution_count": 95,
   "id": "6213137c-7392-4f07-8024-0afec6373da4",
   "metadata": {
    "tags": []
   },
   "outputs": [
    {
     "data": {
      "text/html": [
       "<html><body><pre>quick_flow = 1x9131 double\n",
       "         0         0         0         0         0         0    0.0178    0.0218    0.0190    0.0096    0.0514    0.0863    0.0236    0.0052         0    0.0091    0.0654    0.0234    0.0092    0.0704    0.0122    0.0069    0.0240    0.0827    0.0348    0.1854    0.0613    0.0954    0.0832    0.2324\n",
       "...</pre></body></html>"
      ],
      "text/plain": [
       "quick_flow = 1x9131 double\n",
       "         0         0         0         0         0         0    0.0178    0.0218    0.0190    0.0096    0.0514    0.0863    0.0236    0.0052         0    0.0091    0.0654    0.0234    0.0092    0.0704    0.0122    0.0069    0.0240    0.0827    0.0348    0.1854    0.0613    0.0954    0.0832    0.2324\n",
       "..."
      ]
     },
     "execution_count": 95,
     "metadata": {},
     "output_type": "execute_result"
    }
   ],
   "source": [
    "% 定义快速径流为quick_flow\n",
    "quick_flow=flow-baseflow;\n",
    "quick_flow"
   ]
  },
  {
   "cell_type": "code",
   "execution_count": 96,
   "id": "0bb2d3d5-ce8a-48bb-bb9e-405e4ab4440f",
   "metadata": {
    "collapsed": true,
    "jupyter": {
     "outputs_hidden": true
    },
    "tags": []
   },
   "outputs": [
    {
     "data": {
      "text/html": [
       "<html><body><pre>index_start_rain = 1x449 double\n",
       "     5    67    83    92   104   126   156   169   221   236   248   260   271   288   297   314   340   350   382   402   416   438   455   473   484   518   547   553   564   569\n",
       "...</pre></body></html>"
      ],
      "text/plain": [
       "index_start_rain = 1x449 double\n",
       "     5    67    83    92   104   126   156   169   221   236   248   260   271   288   297   314   340   350   382   402   416   438   455   473   484   518   547   553   564   569\n",
       "..."
      ]
     },
     "execution_count": 96,
     "metadata": {},
     "output_type": "execute_result"
    }
   ],
   "source": [
    "index_start_rain"
   ]
  },
  {
   "cell_type": "code",
   "execution_count": 97,
   "id": "138feeb2-2fb2-49ef-b1b3-e74fd0024af9",
   "metadata": {
    "collapsed": true,
    "jupyter": {
     "outputs_hidden": true
    },
    "tags": []
   },
   "outputs": [
    {
     "data": {
      "text/html": [
       "<html><body><pre>ans = 1x449 double\n",
       "     4    66    82    91   103   125   155   168   220   235   247   259   270   287   296   313   339   349   381   401   415   437   454   472   483   517   546   552   563   568\n",
       "...</pre></body></html>"
      ],
      "text/plain": [
       "ans = 1x449 double\n",
       "     4    66    82    91   103   125   155   168   220   235   247   259   270   287   296   313   339   349   381   401   415   437   454   472   483   517   546   552   563   568\n",
       "..."
      ]
     },
     "execution_count": 97,
     "metadata": {},
     "output_type": "execute_result"
    }
   ],
   "source": [
    "index_start_rain-1"
   ]
  },
  {
   "cell_type": "code",
   "execution_count": 98,
   "id": "59a343a3-e3a5-4e74-9056-c20b5c01d724",
   "metadata": {
    "tags": []
   },
   "outputs": [
    {
     "data": {
      "text/html": [
       "<html><body><pre>ans = 449x1 double\n",
       "      726837\n",
       "      726899\n",
       "      726915\n",
       "      726924\n",
       "      726936\n",
       "      726958\n",
       "      726988\n",
       "      727001\n",
       "      727053\n",
       "      727068\n",
       "...</pre></body></html>"
      ],
      "text/plain": [
       "ans = 449x1 double\n",
       "      726837\n",
       "      726899\n",
       "      726915\n",
       "      726924\n",
       "      726936\n",
       "      726958\n",
       "      726988\n",
       "      727001\n",
       "      727053\n",
       "      727068\n",
       "..."
      ]
     },
     "execution_count": 98,
     "metadata": {},
     "output_type": "execute_result"
    }
   ],
   "source": [
    "time(index_start_rain-1)"
   ]
  },
  {
   "cell_type": "code",
   "execution_count": 99,
   "id": "c9a79368-e13d-4a97-8c73-1aa07759f351",
   "metadata": {},
   "outputs": [
    {
     "data": {
      "text/html": [
       "<html><body><pre>rain = 1x9131 double\n",
       "    0.2507    0.2054    0.0158    0.0030    0.0223    0.1870    0.1500    0.0144    0.0189    0.1246    0.1378    0.0287    0.0011    0.0135    0.0550    0.1605    0.0622    0.0250    0.2694    0.0110    0.0359    0.1020    0.5016    0.1495    0.6009    0.1270    0.7577    0.5133    0.3353    0.1783\n",
       "...</pre></body></html>"
      ],
      "text/plain": [
       "rain = 1x9131 double\n",
       "    0.2507    0.2054    0.0158    0.0030    0.0223    0.1870    0.1500    0.0144    0.0189    0.1246    0.1378    0.0287    0.0011    0.0135    0.0550    0.1605    0.0622    0.0250    0.2694    0.0110    0.0359    0.1020    0.5016    0.1495    0.6009    0.1270    0.7577    0.5133    0.3353    0.1783\n",
       "..."
      ]
     },
     "execution_count": 99,
     "metadata": {},
     "output_type": "execute_result"
    }
   ],
   "source": [
    "rain"
   ]
  },
  {
   "cell_type": "code",
   "execution_count": 1,
   "id": "5402ca30-b4ab-4f3e-b15d-abcaa9eb6894",
   "metadata": {
    "tags": []
   },
   "outputs": [
    {
     "data": {
      "text/html": [
       "<html><body><pre>time = 9131x1 double\n",
       "      726834\n",
       "      726835\n",
       "      726836\n",
       "      726837\n",
       "      726838\n",
       "      726839\n",
       "      726840\n",
       "      726841\n",
       "      726842\n",
       "      726843\n",
       "...</pre></body></html>"
      ],
      "text/plain": [
       "time = 9131x1 double\n",
       "      726834\n",
       "      726835\n",
       "      726836\n",
       "      726837\n",
       "      726838\n",
       "      726839\n",
       "      726840\n",
       "      726841\n",
       "      726842\n",
       "      726843\n",
       "..."
      ]
     },
     "execution_count": 1,
     "metadata": {},
     "output_type": "execute_result"
    }
   ],
   "source": [
    "time"
   ]
  },
  {
   "cell_type": "code",
   "execution_count": 3,
   "id": "d1cc718c-d986-4d79-a8da-5c1edbc37356",
   "metadata": {
    "collapsed": true,
    "jupyter": {
     "outputs_hidden": true
    },
    "tags": []
   },
   "outputs": [
    {
     "name": "stdout",
     "output_type": "stream",
     "text": [
      "  Name                             Size                Bytes  Class                        Attributes\n",
      "\n",
      "  A                                2x2                    32  double                                 \n",
      "  B                                2x2                    32  double                                 \n",
      "  BEGINNING_FLOW                 449x1                  3592  double                                 \n",
      "  BEGINNING_RAIN                 449x1                  3592  double                                 \n",
      "  C                                1x2                    16  double                                 \n",
      "  DURATION_RAIN                    1x449                3592  double                                 \n",
      "  DURATION_RUNOFF                  1x449                3592  double                                 \n",
      "  END_FLOW                       449x1                  3592  double                                 \n",
      "  END_RAIN                       449x1                  3592  double                                 \n",
      "  F_flow                           1x49                  392  double                                 \n",
      "  F_rain                           1x49                  392  double                                 \n",
      "  F_rain_flow                      1x49                  392  double                                 \n",
      "  K                                1x1                     8  double                                 \n",
      "  M3                               2x5                    80  double                                 \n",
      "  M_all                            1x1                     8  double                                 \n",
      "  P                                1x1                     8  double                                 \n",
      "  RUNOFF_RATIO                     1x449                3592  double                                 \n",
      "  T                                1x1                     8  double                                 \n",
      "  Tr                               1x1                     8  double                                 \n",
      "  VOLUME_RAIN                      1x449                3592  double                                 \n",
      "  VOLUME_RUNOFF                    1x449                3592  double                                 \n",
      "  W                                1x1                     8  double                                 \n",
      "  X                                1x6                    48  double                                 \n",
      "  X_as                             2x5x3                 240  double                                 \n",
      "  Y                                1x2                    16  double                                 \n",
      "  a                                1x1                     8  double                                 \n",
      "  ans                            449x1                  3592  double                                 \n",
      "  ax                               1x1                     8  matlab.graphics.axis.Axes              \n",
      "  b                                1x1                     8  double                                 \n",
      "  baseflow                         1x9131              73048  double                                 \n",
      "  baseflow_original                1x9131              73048  double                                 \n",
      "  beg_end_series                 898x1                  7184  double                                 \n",
      "  beginning_core                   1x623                4984  double                                 \n",
      "  beginning_flow                   1x623                4984  double                                 \n",
      "  beginning_flow_checked           1x623                4984  double                                 \n",
      "  beginning_flow_grouped           1x449                3592  double                                 \n",
      "  beginning_flow_ungrouped         1x449                3592  double                                 \n",
      "  beginning_rain                   1x623                4984  double                                 \n",
      "  beginning_rain_checked           1x623                4984  double                                 \n",
      "  beginning_rain_grouped           1x449                3592  double                                 \n",
      "  beginning_rain_ungrouped         1x449                3592  double                                 \n",
      "  cnt                              1x1                     8  double                                 \n",
      "  consecutive_zeros                1x1                     8  double                                 \n",
      "  count                            1x1                     8  double                                 \n",
      "  end_core                         1x623                4984  double                                 \n",
      "  end_flow                         1x623                4984  double                                 \n",
      "  end_flow_checked                 1x623                4984  double                                 \n",
      "  end_flow_grouped                 1x449                3592  double                                 \n",
      "  end_flow_ungrouped               1x449                3592  double                                 \n",
      "  end_idx                          1x1                     8  double                                 \n",
      "  end_rain                         1x623                4984  double                                 \n",
      "  end_rain_checked                 1x623                4984  double                                 \n",
      "  end_rain_grouped                 1x449                3592  double                                 \n",
      "  end_rain_ungrouped               1x449                3592  double                                 \n",
      "  fig                              1x1                     8  matlab.ui.Figure                       \n",
      "  flag                             1x1                     8  double                                 \n",
      "  flow                             1x9131              73048  double                                 \n",
      "  flow_int                         1x9131              73048  double                                 \n",
      "  flow_mean                       49x9131            3579352  double                                 \n",
      "  flow_original                 9131x7                511336  double                                 \n",
      "  fluct_bivariate_Tr               1x9131              73048  double                                 \n",
      "  fluct_flow                      49x9131            3579352  double                                 \n",
      "  fluct_flow_Tr                    1x9131              73048  double                                 \n",
      "  fluct_rain                      49x9131            3579352  double                                 \n",
      "  fluct_rain_Tr                    1x9131              73048  double                                 \n",
      "  g                                1x1                     8  double                                 \n",
      "  h                                1x1                     8  double                                 \n",
      "  i                                1x1                     8  double                                 \n",
      "  increment                        1x1                     8  double                                 \n",
      "  index_beg                        1x1                     8  double                                 \n",
      "  index_beginning_event            1x1                     8  double                                 \n",
      "  index_end                        1x1                     8  double                                 \n",
      "  index_end_event                  1x1                     8  double                                 \n",
      "  index_events                     1x449                3592  double                                 \n",
      "  index_events2                    1x449                3592  double                                 \n",
      "  index_finish_flow                1x449                3592  double                                 \n",
      "  index_finish_rain                1x449                3592  double                                 \n",
      "  index_start_flow                 1x449                3592  double                                 \n",
      "  index_start_rain                 1x449                3592  double                                 \n",
      "  indices                          1x1                     8  double                                 \n",
      "  j                                1x1                     8  double                                 \n",
      "  k                                1x1                     8  double                                 \n",
      "  left_color                       1x3                    24  double                                 \n",
      "  len_rho                          1x1                     8  double                                 \n",
      "  m                                1x1                     8  double                                 \n",
      "  marker_overlapping               0x0                     0  double                                 \n",
      "  max_window                       1x1                     8  double                                 \n",
      "  maxcnt                           1x1                     8  double                                 \n",
      "  multiple                         1x1                     8  double                                 \n",
      "  n                                1x1                     8  double                                 \n",
      "  next_core_beginning              1x1                     8  double                                 \n",
      "  next_event_beginning             0x0                     0  double                                 \n",
      "  num_zeros                        1x1                     8  double                                 \n",
      "  position_minimum                 1x1                     8  double                                 \n",
      "  previous_event_end               1x622                4976  double                                 \n",
      "  q                                1x64                  512  double                                 \n",
      "  qb                               1x64                  512  double                                 \n",
      "  quick_flow                       1x9131              73048  double                                 \n",
      "  rain                             1x9131              73048  double                                 \n",
      "  rain_int                         1x9131              73048  double                                 \n",
      "  rain_mean                       49x9131            3579352  double                                 \n",
      "  rain_min                         1x1                     8  double                                 \n",
      "  rain_original                 9131x7                511336  double                                 \n",
      "  rho                              1x49                  392  double                                 \n",
      "  right_color                      1x3                    24  double                                 \n",
      "  start_idx                        1x2                    16  double                                 \n",
      "  time                          9131x1                 73048  double                                 \n",
      "  to_group                         1x3                    24  double                                 \n",
      "  tol_fluct_flow                   1x1                     8  double                                 \n",
      "  tol_fluct_rain                   1x1                     8  double                                 \n",
      "  window                           1x1                     8  double                                 \n",
      "  x                                1x1                     8  double                                 \n",
      "  y                                1x1                     8  double                                 \n",
      "  zero_count                       1x1                     8  double                                 \n",
      "\n"
     ]
    }
   ],
   "source": [
    "whos"
   ]
  },
  {
   "cell_type": "code",
   "execution_count": 4,
   "id": "7ab8b515-e913-475c-bf24-ed08e80f0676",
   "metadata": {
    "collapsed": true,
    "jupyter": {
     "outputs_hidden": true
    },
    "tags": []
   },
   "outputs": [
    {
     "data": {
      "text/html": [
       "<html><body><pre>time_str = 9131x19 char array\n",
       "   '1990-01-01 00:00:00'\n",
       "    '1990-01-02 00:00:00'\n",
       "    '1990-01-03 00:00:00'\n",
       "    '1990-01-04 00:00:00'\n",
       "    '1990-01-05 00:00:00'\n",
       "    '1990-01-06 00:00:00'\n",
       "    '1990-01-07 00:00:00'\n",
       "    '1990-01-08 00:00:00'\n",
       "    '1990-01-09 00:00:00'\n",
       "    '1990-01-10 00:00:00'\n",
       "    '1990-01-11 00:00:00'\n",
       "    '1990-01-12 00:00:00'\n",
       "    '1990-01-13 00:00:00'\n",
       "    '1990-01-14 00:00:00'\n",
       "    '1990-01-15 00:00:00'\n",
       "    '1990-01-16 00:00:00'\n",
       "    '1990-01-17 00:00:00'\n",
       "    '1990-01-18 00:00:00'\n",
       "    '1990-01-19 00:00:00'\n",
       "    '1990-01-20 00:00:00'\n",
       "    '1990-01-21 00:00:00'\n",
       "    '1990-01-22 00:00:00'\n",
       "    '1990-01-23 00:00:00'\n",
       "    '1990-01-24 00:00:00'\n",
       "    '1990-01-25 00:00:00'\n",
       "    '1990-01-26 00:00:00'\n",
       "    '1990-01-27 00:00:00'\n",
       "    '1990-01-28 00:00:00'\n",
       "    '1990-01-29 00:00:00'\n",
       "    '1990-01-30 00:00:00'\n",
       "    '1990-01-31 00:00:00'\n",
       "    '1990-02-01 00:00:00'\n",
       "    '1990-02-02 00:00:00'\n",
       "    '1990-02-03 00:00:00'\n",
       "    '1990-02-04 00:00:00'\n",
       "    '1990-02-05 00:00:00'\n",
       "    '1990-02-06 00:00:00'\n",
       "    '1990-02-07 00:00:00'\n",
       "    '1990-02-08 00:00:00'\n",
       "    '1990-02-09 00:00:00'\n",
       "    '1990-02-10 00:00:00'\n",
       "    '1990-02-11 00:00:00'\n",
       "    '1990-02-12 00:00:00'\n",
       "    '1990-02-13 00:00:00'\n",
       "    '1990-02-14 00:00:00'\n",
       "    '1990-02-15 00:00:00'\n",
       "    '1990-02-16 00:00:00'\n",
       "    '1990-02-17 00:00:00'\n",
       "    '1990-02-18 00:00:00'\n",
       "    '1990-02-19 00:00:00'\n",
       "    '1990-02-20 00:00:00'\n",
       "    '1990-02-21 00:00:00'\n",
       "    '1990-02-22 00:00:00'\n",
       "    '1990-02-23 00:00:00'\n",
       "    '1990-02-24 00:00:00'\n",
       "    '1990-02-25 00:00:00'\n",
       "    '1990-02-26 00:00:00'\n",
       "    '1990-02-27 00:00:00'\n",
       "    '1990-02-28 00:00:00'\n",
       "    '1990-03-01 00:00:00'\n",
       "    '1990-03-02 00:00:00'\n",
       "    '1990-03-03 00:00:00'\n",
       "    '1990-03-04 00:00:00'\n",
       "    '1990-03-05 00:00:00'\n",
       "    '1990-03-06 00:00:00'\n",
       "    '1990-03-07 00:00:00'\n",
       "    '1990-03-08 00:00:00'\n",
       "    '1990-03-09 00:00:00'\n",
       "    '1990-03-10 00:00:00'\n",
       "    '1990-03-11 00:00:00'\n",
       "    '1990-03-12 00:00:00'\n",
       "    '1990-03-13 00:00:00'\n",
       "    '1990-03-14 00:00:00'\n",
       "    '1990-03-15 00:00:00'\n",
       "    '1990-03-16 00:00:00'\n",
       "    '1990-03-17 00:00:00'\n",
       "    '1990-03-18 00:00:00'\n",
       "    '1990-03-19 00:00:00'\n",
       "    '1990-03-20 00:00:00'\n",
       "    '1990-03-21 00:00:00'\n",
       "    '1990-03-22 00:00:00'\n",
       "    '1990-03-23 00:00:00'\n",
       "    '1990-03-24 00:00:00'\n",
       "    '1990-03-25 00:00:00'\n",
       "    '1990-03-26 00:00:00'\n",
       "    '1990-03-27 00:00:00'\n",
       "    '1990-03-28 00:00:00'\n",
       "    '1990-03-29 00:00:00'\n",
       "    '1990-03-30 00:00:00'\n",
       "    '1990-03-31 00:00:00'\n",
       "    '1990-04-01 00:00:00'\n",
       "    '1990-04-02 00:00:00'\n",
       "    '1990-04-03 00:00:00'\n",
       "    '1990-04-04 00:00:00'\n",
       "    '1990-04-05 00:00:00'\n",
       "    '1990-04-06 00:00:00'\n",
       "    '1990-04-07 00:00:00'\n",
       "    '1990-04-08 00:00:00'\n",
       "    '1990-04-09 00:00:00'\n",
       "    '1990-04-10 00:00:00'\n",
       "    '1990-04-11 00:00:00'\n",
       "    '1990-04-12 00:00:00'\n",
       "    '1990-04-13 00:00:00'\n",
       "    '1990-04-14 00:00:00'\n",
       "    '1990-04-15 00:00:00'\n",
       "    '1990-04-16 00:00:00'\n",
       "    '1990-04-17 00:00:00'\n",
       "    '1990-04-18 00:00:00'\n",
       "    '1990-04-19 00:00:00'\n",
       "    '1990-04-20 00:00:00'\n",
       "    '1990-04-21 00:00:00'\n",
       "    '1990-04-22 00:00:00'\n",
       "    '1990-04-23 00:00:00'\n",
       "    '1990-04-24 00:00:00'\n",
       "    '1990-04-25 00:00:00'\n",
       "    '1990-04-26 00:00:00'\n",
       "    '1990-04-27 00:00:00'\n",
       "    '1990-04-28 00:00:00'\n",
       "    '1990-04-29 00:00:00'\n",
       "    '1990-04-30 00:00:00'\n",
       "    '1990-05-01 00:00:00'\n",
       "    '1990-05-02 00:00:00'\n",
       "    '1990-05-03 00:00:00'\n",
       "    '1990-05-04 00:00:00'\n",
       "    '1990-05-05 00:00:00'\n",
       "    '1990-05-06 00:00:00'\n",
       "    '1990-05-07 00:00:00'\n",
       "    '1990-05-08 00:00:00'\n",
       "    '1990-05-09 00:00:00'\n",
       "    '1990-05-10 00:00:00'\n",
       "    '1990-05-11 00:00:00'\n",
       "    '1990-05-12 00:00:00'\n",
       "    '1990-05-13 00:00:00'\n",
       "    '1990-05-14 00:00:00'\n",
       "    '1990-05-15 00:00:00'\n",
       "    '1990-05-16 00:00:00'\n",
       "    '1990-05-17 00:00:00'\n",
       "    '1990-05-18 00:00:00'\n",
       "    '1990-05-19 00:00:00'\n",
       "    '1990-05-20 00:00:00'\n",
       "    '1990-05-21 00:00:00'\n",
       "    '1990-05-22 00:00:00'\n",
       "    '1990-05-23 00:00:00'\n",
       "    '1990-05-24 00:00:00'\n",
       "    '1990-05-25 00:00:00'\n",
       "    '1990-05-26 00:00:00'\n",
       "    '1990-05-27 00:00:00'\n",
       "    '1990-05-28 00:00:00'\n",
       "    '1990-05-29 00:00:00'\n",
       "    '1990-05-30 00:00:00'\n",
       "    '1990-05-31 00:00:00'\n",
       "    '1990-06-01 00:00:00'\n",
       "    '1990-06-02 00:00:00'\n",
       "    '1990-06-03 00:00:00'\n",
       "    '1990-06-04 00:00:00'\n",
       "    '1990-06-05 00:00:00'\n",
       "    '1990-06-06 00:00:00'\n",
       "    '1990-06-07 00:00:00'\n",
       "    '1990-06-08 00:00:00'\n",
       "    '1990-06-09 00:00:00'\n",
       "    '1990-06-10 00:00:00'\n",
       "    '1990-06-11 00:00:00'\n",
       "    '1990-06-12 00:00:00'\n",
       "    '1990-06-13 00:00:00'\n",
       "    '1990-06-14 00:00:00'\n",
       "    '1990-06-15 00:00:00'\n",
       "    '1990-06-16 00:00:00'\n",
       "    '1990-06-17 00:00:00'\n",
       "    '1990-06-18 00:00:00'\n",
       "    '1990-06-19 00:00:00'\n",
       "    '1990-06-20 00:00:00'\n",
       "    '1990-06-21 00:00:00'\n",
       "    '1990-06-22 00:00:00'\n",
       "    '1990-06-23 00:00:00'\n",
       "    '1990-06-24 00:00:00'\n",
       "    '1990-06-25 00:00:00'\n",
       "    '1990-06-26 00:00:00'\n",
       "    '1990-06-27 00:00:00'\n",
       "    '1990-06-28 00:00:00'\n",
       "    '1990-06-29 00:00:00'\n",
       "    '1990-06-30 00:00:00'\n",
       "    '1990-07-01 00:00:00'\n",
       "    '1990-07-02 00:00:00'\n",
       "    '1990-07-03 00:00:00'\n",
       "    '1990-07-04 00:00:00'\n",
       "    '1990-07-05 00:00:00'\n",
       "    '1990-07-06 00:00:00'\n",
       "    '1990-07-07 00:00:00'\n",
       "    '1990-07-08 00:00:00'\n",
       "    '1990-07-09 00:00:00'\n",
       "    '1990-07-10 00:00:00'\n",
       "    '1990-07-11 00:00:00'\n",
       "    '1990-07-12 00:00:00'\n",
       "    '1990-07-13 00:00:00'\n",
       "    '1990-07-14 00:00:00'\n",
       "    '1990-07-15 00:00:00'\n",
       "    '1990-07-16 00:00:00'\n",
       "    '1990-07-17 00:00:00'\n",
       "    '1990-07-18 00:00:00'\n",
       "    '1990-07-19 00:00:00'\n",
       "    '1990-07-20 00:00:00'\n",
       "    '1990-07-21 00:00:00'\n",
       "    '1990-07-22 00:00:00'\n",
       "    '1990-07-23 00:00:00'\n",
       "    '1990-07-24 00:00:00'\n",
       "    '1990-07-25 00:00:00'\n",
       "    '1990-07-26 00:00:00'\n",
       "    '1990-07-27 00:00:00'\n",
       "    '1990-07-28 00:00:00'\n",
       "    '1990-07-29 00:00:00'\n",
       "    '1990-07-30 00:00:00'\n",
       "    '1990-07-31 00:00:00'\n",
       "    '1990-08-01 00:00:00'\n",
       "    '1990-08-02 00:00:00'\n",
       "    '1990-08-03 00:00:00'\n",
       "    '1990-08-04 00:00:00'\n",
       "    '1990-08-05 00:00:00'\n",
       "    '1990-08-06 00:00:00'\n",
       "    '1990-08-07 00:00:00'\n",
       "    '1990-08-08 00:00:00'\n",
       "    '1990-08-09 00:00:00'\n",
       "    '1990-08-10 00:00:00'\n",
       "    '1990-08-11 00:00:00'\n",
       "    '1990-08-12 00:00:00'\n",
       "    '1990-08-13 00:00:00'\n",
       "    '1990-08-14 00:00:00'\n",
       "    '1990-08-15 00:00:00'\n",
       "    '1990-08-16 00:00:00'\n",
       "    '1990-08-17 00:00:00'\n",
       "    '1990-08-18 00:00:00'\n",
       "    '1990-08-19 00:00:00'\n",
       "    '1990-08-20 00:00:00'\n",
       "    '1990-08-21 00:00:00'\n",
       "    '1990-08-22 00:00:00'\n",
       "    '1990-08-23 00:00:00'\n",
       "    '1990-08-24 00:00:00'\n",
       "    '1990-08-25 00:00:00'\n",
       "    '1990-08-26 00:00:00'\n",
       "    '1990-08-27 00:00:00'\n",
       "    '1990-08-28 00:00:00'\n",
       "    '1990-08-29 00:00:00'\n",
       "    '1990-08-30 00:00:00'\n",
       "    '1990-08-31 00:00:00'\n",
       "    '1990-09-01 00:00:00'\n",
       "    '1990-09-02 00:00:00'\n",
       "    '1990-09-03 00:00:00'\n",
       "    '1990-09-04 00:00:00'\n",
       "    '1990-09-05 00:00:00'\n",
       "    '1990-09-06 00:00:00'\n",
       "    '1990-09-07 00:00:00'\n",
       "    '1990-09-08 00:00:00'\n",
       "    '1990-09-09 00:00:00'\n",
       "    '1990-09-10 00:00:00'\n",
       "    '1990-09-11 00:00:00'\n",
       "    '1990-09-12 00:00:00'\n",
       "    '1990-09-13 00:00:00'\n",
       "    '1990-09-14 00:00:00'\n",
       "    '1990-09-15 00:00:00'\n",
       "    '1990-09-16 00:00:00'\n",
       "    '1990-09-17 00:00:00'\n",
       "    '1990-09-18 00:00:00'\n",
       "    '1990-09-19 00:00:00'\n",
       "    '1990-09-20 00:00:00'\n",
       "    '1990-09-21 00:00:00'\n",
       "    '1990-09-22 00:00:00'\n",
       "    '1990-09-23 00:00:00'\n",
       "    '1990-09-24 00:00:00'\n",
       "    '1990-09-25 00:00:00'\n",
       "    '1990-09-26 00:00:00'\n",
       "    '1990-09-27 00:00:00'\n",
       "    '1990-09-28 00:00:00'\n",
       "    '1990-09-29 00:00:00'\n",
       "    '1990-09-30 00:00:00'\n",
       "    '1990-10-01 00:00:00'\n",
       "    '1990-10-02 00:00:00'\n",
       "    '1990-10-03 00:00:00'\n",
       "    '1990-10-04 00:00:00'\n",
       "    '1990-10-05 00:00:00'\n",
       "    '1990-10-06 00:00:00'\n",
       "    '1990-10-07 00:00:00'\n",
       "    '1990-10-08 00:00:00'\n",
       "    '1990-10-09 00:00:00'\n",
       "    '1990-10-10 00:00:00'\n",
       "    '1990-10-11 00:00:00'\n",
       "    '1990-10-12 00:00:00'\n",
       "    '1990-10-13 00:00:00'\n",
       "    '1990-10-14 00:00:00'\n",
       "    '1990-10-15 00:00:00'\n",
       "    '1990-10-16 00:00:00'\n",
       "    '1990-10-17 00:00:00'\n",
       "    '1990-10-18 00:00:00'\n",
       "    '1990-10-19 00:00:00'\n",
       "    '1990-10-20 00:00:00'\n",
       "    '1990-10-21 00:00:00'\n",
       "    '1990-10-22 00:00:00'\n",
       "    '1990-10-23 00:00:00'\n",
       "    '1990-10-24 00:00:00'\n",
       "    '1990-10-25 00:00:00'\n",
       "    '1990-10-26 00:00:00'\n",
       "    '1990-10-27 00:00:00'\n",
       "    '1990-10-28 00:00:00'\n",
       "    '1990-10-29 00:00:00'\n",
       "    '1990-10-30 00:00:00'\n",
       "    '1990-10-31 00:00:00'\n",
       "    '1990-11-01 00:00:00'\n",
       "    '1990-11-02 00:00:00'\n",
       "    '1990-11-03 00:00:00'\n",
       "    '1990-11-04 00:00:00'\n",
       "    '1990-11-05 00:00:00'\n",
       "    '1990-11-06 00:00:00'\n",
       "    '1990-11-07 00:00:00'\n",
       "    '1990-11-08 00:00:00'\n",
       "    '1990-11-09 00:00:00'\n",
       "    '1990-11-10 00:00:00'\n",
       "    '1990-11-11 00:00:00'\n",
       "    '1990-11-12 00:00:00'\n",
       "    '1990-11-13 00:00:00'\n",
       "    '1990-11-14 00:00:00'\n",
       "    '1990-11-15 00:00:00'\n",
       "    '1990-11-16 00:00:00'\n",
       "    '1990-11-17 00:00:00'\n",
       "    '1990-11-18 00:00:00'\n",
       "    '1990-11-19 00:00:00'\n",
       "    '1990-11-20 00:00:00'\n",
       "    '1990-11-21 00:00:00'\n",
       "    '1990-11-22 00:00:00'\n",
       "    '1990-11-23 00:00:00'\n",
       "    '1990-11-24 00:00:00'\n",
       "    '1990-11-25 00:00:00'\n",
       "    '1990-11-26 00:00:00'\n",
       "    '1990-11-27 00:00:00'\n",
       "    '1990-11-28 00:00:00'\n",
       "    '1990-11-29 00:00:00'\n",
       "    '1990-11-30 00:00:00'\n",
       "    '1990-12-01 00:00:00'\n",
       "    '1990-12-02 00:00:00'\n",
       "    '1990-12-03 00:00:00'\n",
       "    '1990-12-04 00:00:00'\n",
       "    '1990-12-05 00:00:00'\n",
       "    '1990-12-06 00:00:00'\n",
       "    '1990-12-07 00:00:00'\n",
       "    '1990-12-08 00:00:00'\n",
       "    '1990-12-09 00:00:00'\n",
       "    '1990-12-10 00:00:00'\n",
       "    '1990-12-11 00:00:00'\n",
       "    '1990-12-12 00:00:00'\n",
       "    '1990-12-13 00:00:00'\n",
       "    '1990-12-14 00:00:00'\n",
       "    '1990-12-15 00:00:00'\n",
       "    '1990-12-16 00:00:00'\n",
       "    '1990-12-17 00:00:00'\n",
       "    '1990-12-18 00:00:00'\n",
       "    '1990-12-19 00:00:00'\n",
       "    '1990-12-20 00:00:00'\n",
       "    '1990-12-21 00:00:00'\n",
       "    '1990-12-22 00:00:00'\n",
       "    '1990-12-23 00:00:00'\n",
       "    '1990-12-24 00:00:00'\n",
       "    '1990-12-25 00:00:00'\n",
       "    '1990-12-26 00:00:00'\n",
       "    '1990-12-27 00:00:00'\n",
       "    '1990-12-28 00:00:00'\n",
       "    '1990-12-29 00:00:00'\n",
       "    '1990-12-30 00:00:00'\n",
       "    '1990-12-31 00:00:00'\n",
       "    '1991-01-01 00:00:00'\n",
       "    '1991-01-02 00:00:00'\n",
       "    '1991-01-03 00:00:00'\n",
       "    '1991-01-04 00:00:00'\n",
       "    '1991-01-05 00:00:00'\n",
       "    '1991-01-06 00:00:00'\n",
       "    '1991-01-07 00:00:00'\n",
       "    '1991-01-08 00:00:00'\n",
       "    '1991-01-09 00:00:00'\n",
       "    '1991-01-10 00:00:00'\n",
       "    '1991-01-11 00:00:00'\n",
       "    '1991-01-12 00:00:00'\n",
       "    '1991-01-13 00:00:00'\n",
       "    '1991-01-14 00:00:00'\n",
       "    '1991-01-15 00:00:00'\n",
       "    '1991-01-16 00:00:00'\n",
       "    '1991-01-17 00:00:00'\n",
       "    '1991-01-18 00:00:00'\n",
       "    '1991-01-19 00:00:00'\n",
       "    '1991-01-20 00:00:00'\n",
       "    '1991-01-21 00:00:00'\n",
       "    '1991-01-22 00:00:00'\n",
       "    '1991-01-23 00:00:00'\n",
       "    '1991-01-24 00:00:00'\n",
       "    '1991-01-25 00:00:00'\n",
       "    '1991-01-26 00:00:00'\n",
       "    '1991-01-27 00:00:00'\n",
       "    '1991-01-28 00:00:00'\n",
       "    '1991-01-29 00:00:00'\n",
       "    '1991-01-30 00:00:00'\n",
       "    '1991-01-31 00:00:00'\n",
       "    '1991-02-01 00:00:00'\n",
       "    '1991-02-02 00:00:00'\n",
       "    '1991-02-03 00:00:00'\n",
       "    '1991-02-04 00:00:00'\n",
       "    '1991-02-05 00:00:00'\n",
       "    '1991-02-06 00:00:00'\n",
       "    '1991-02-07 00:00:00'\n",
       "    '1991-02-08 00:00:00'\n",
       "    '1991-02-09 00:00:00'\n",
       "    '1991-02-10 00:00:00'\n",
       "    '1991-02-11 00:00:00'\n",
       "    '1991-02-12 00:00:00'\n",
       "    '1991-02-13 00:00:00'\n",
       "    '1991-02-14 00:00:00'\n",
       "    '1991-02-15 00:00:00'\n",
       "    '1991-02-16 00:00:00'\n",
       "    '1991-02-17 00:00:00'\n",
       "    '1991-02-18 00:00:00'\n",
       "    '1991-02-19 00:00:00'\n",
       "    '1991-02-20 00:00:00'\n",
       "    '1991-02-21 00:00:00'\n",
       "    '1991-02-22 00:00:00'\n",
       "    '1991-02-23 00:00:00'\n",
       "    '1991-02-24 00:00:00'\n",
       "    '1991-02-25 00:00:00'\n",
       "    '1991-02-26 00:00:00'\n",
       "    '1991-02-27 00:00:00'\n",
       "    '1991-02-28 00:00:00'\n",
       "    '1991-03-01 00:00:00'\n",
       "    '1991-03-02 00:00:00'\n",
       "    '1991-03-03 00:00:00'\n",
       "    '1991-03-04 00:00:00'\n",
       "    '1991-03-05 00:00:00'\n",
       "    '1991-03-06 00:00:00'\n",
       "    '1991-03-07 00:00:00'\n",
       "    '1991-03-08 00:00:00'\n",
       "    '1991-03-09 00:00:00'\n",
       "    '1991-03-10 00:00:00'\n",
       "    '1991-03-11 00:00:00'\n",
       "    '1991-03-12 00:00:00'\n",
       "    '1991-03-13 00:00:00'\n",
       "    '1991-03-14 00:00:00'\n",
       "    '1991-03-15 00:00:00'\n",
       "    '1991-03-16 00:00:00'\n",
       "    '1991-03-17 00:00:00'\n",
       "    '1991-03-18 00:00:00'\n",
       "    '1991-03-19 00:00:00'\n",
       "    '1991-03-20 00:00:00'\n",
       "    '1991-03-21 00:00:00'\n",
       "    '1991-03-22 00:00:00'\n",
       "    '1991-03-23 00:00:00'\n",
       "    '1991-03-24 00:00:00'\n",
       "    '1991-03-25 00:00:00'\n",
       "    '1991-03-26 00:00:00'\n",
       "    '1991-03-27 00:00:00'\n",
       "    '1991-03-28 00:00:00'\n",
       "    '1991-03-29 00:00:00'\n",
       "    '1991-03-30 00:00:00'\n",
       "    '1991-03-31 00:00:00'\n",
       "    '1991-04-01 00:00:00'\n",
       "    '1991-04-02 00:00:00'\n",
       "    '1991-04-03 00:00:00'\n",
       "    '1991-04-04 00:00:00'\n",
       "    '1991-04-05 00:00:00'\n",
       "    '1991-04-06 00:00:00'\n",
       "    '1991-04-07 00:00:00'\n",
       "    '1991-04-08 00:00:00'\n",
       "    '1991-04-09 00:00:00'\n",
       "    '1991-04-10 00:00:00'\n",
       "    '1991-04-11 00:00:00'\n",
       "    '1991-04-12 00:00:00'\n",
       "    '1991-04-13 00:00:00'\n",
       "    '1991-04-14 00:00:00'\n",
       "    '1991-04-15 00:00:00'\n",
       "    '1991-04-16 00:00:00'\n",
       "    '1991-04-17 00:00:00'\n",
       "    '1991-04-18 00:00:00'\n",
       "    '1991-04-19 00:00:00'\n",
       "    '1991-04-20 00:00:00'\n",
       "    '1991-04-21 00:00:00'\n",
       "    '1991-04-22 00:00:00'\n",
       "    '1991-04-23 00:00:00'\n",
       "    '1991-04-24 00:00:00'\n",
       "    '1991-04-25 00:00:00'\n",
       "    '1991-04-26 00:00:00'\n",
       "    '1991-04-27 00:00:00'\n",
       "    '1991-04-28 00:00:00'\n",
       "    '1991-04-29 00:00:00'\n",
       "    '1991-04-30 00:00:00'\n",
       "    '1991-05-01 00:00:00'\n",
       "    '1991-05-02 00:00:00'\n",
       "    '1991-05-03 00:00:00'\n",
       "    '1991-05-04 00:00:00'\n",
       "    '1991-05-05 00:00:00'\n",
       "    '1991-05-06 00:00:00'\n",
       "    '1991-05-07 00:00:00'\n",
       "    '1991-05-08 00:00:00'\n",
       "    '1991-05-09 00:00:00'\n",
       "    '1991-05-10 00:00:00'\n",
       "    '1991-05-11 00:00:00'\n",
       "    '1991-05-12 00:00:00'\n",
       "    '1991-05-13 00:00:00'\n",
       "    '1991-05-14 00:00:00'\n",
       "    '1991-05-15 00:00:00'\n",
       "    '1991-05-16 00:00:00'\n",
       "    '1991-05-17 00:00:00'\n",
       "    '1991-05-18 00:00:00'\n",
       "    '1991-05-19 00:00:00'\n",
       "    '1991-05-20 00:00:00'\n",
       "    '1991-05-21 00:00:00'\n",
       "    '1991-05-22 00:00:00'\n",
       "    '1991-05-23 00:00:00'\n",
       "    '1991-05-24 00:00:00'\n",
       "    '1991-05-25 00:00:00'\n",
       "    '1991-05-26 00:00:00'\n",
       "    '1991-05-27 00:00:00'\n",
       "    '1991-05-28 00:00:00'\n",
       "    '1991-05-29 00:00:00'\n",
       "    '1991-05-30 00:00:00'\n",
       "    '1991-05-31 00:00:00'\n",
       "    '1991-06-01 00:00:00'\n",
       "    '1991-06-02 00:00:00'\n",
       "    '1991-06-03 00:00:00'\n",
       "    '1991-06-04 00:00:00'\n",
       "    '1991-06-05 00:00:00'\n",
       "    '1991-06-06 00:00:00'\n",
       "    '1991-06-07 00:00:00'\n",
       "    '1991-06-08 00:00:00'\n",
       "    '1991-06-09 00:00:00'\n",
       "    '1991-06-10 00:00:00'\n",
       "    '1991-06-11 00:00:00'\n",
       "    '1991-06-12 00:00:00'\n",
       "    '1991-06-13 00:00:00'\n",
       "    '1991-06-14 00:00:00'\n",
       "    '1991-06-15 00:00:00'\n",
       "    '1991-06-16 00:00:00'\n",
       "    '1991-06-17 00:00:00'\n",
       "    '1991-06-18 00:00:00'\n",
       "    '1991-06-19 00:00:00'\n",
       "    '1991-06-20 00:00:00'\n",
       "    '1991-06-21 00:00:00'\n",
       "    '1991-06-22 00:00:00'\n",
       "    '1991-06-23 00:00:00'\n",
       "    '1991-06-24 00:00:00'\n",
       "    '1991-06-25 00:00:00'\n",
       "    '1991-06-26 00:00:00'\n",
       "    '1991-06-27 00:00:00'\n",
       "    '1991-06-28 00:00:00'\n",
       "    '1991-06-29 00:00:00'\n",
       "    '1991-06-30 00:00:00'\n",
       "    '1991-07-01 00:00:00'\n",
       "    '1991-07-02 00:00:00'\n",
       "    '1991-07-03 00:00:00'\n",
       "    '1991-07-04 00:00:00'\n",
       "    '1991-07-05 00:00:00'\n",
       "    '1991-07-06 00:00:00'\n",
       "    '1991-07-07 00:00:00'\n",
       "    '1991-07-08 00:00:00'\n",
       "    '1991-07-09 00:00:00'\n",
       "    '1991-07-10 00:00:00'\n",
       "    '1991-07-11 00:00:00'\n",
       "    '1991-07-12 00:00:00'\n",
       "    '1991-07-13 00:00:00'\n",
       "    '1991-07-14 00:00:00'\n",
       "    '1991-07-15 00:00:00'\n",
       "    '1991-07-16 00:00:00'\n",
       "    '1991-07-17 00:00:00'\n",
       "    '1991-07-18 00:00:00'\n",
       "    '1991-07-19 00:00:00'\n",
       "    '1991-07-20 00:00:00'\n",
       "    '1991-07-21 00:00:00'\n",
       "    '1991-07-22 00:00:00'\n",
       "    '1991-07-23 00:00:00'\n",
       "    '1991-07-24 00:00:00'\n",
       "    '1991-07-25 00:00:00'\n",
       "    '1991-07-26 00:00:00'\n",
       "    '1991-07-27 00:00:00'\n",
       "    '1991-07-28 00:00:00'\n",
       "    '1991-07-29 00:00:00'\n",
       "    '1991-07-30 00:00:00'\n",
       "    '1991-07-31 00:00:00'\n",
       "    '1991-08-01 00:00:00'\n",
       "    '1991-08-02 00:00:00'\n",
       "    '1991-08-03 00:00:00'\n",
       "    '1991-08-04 00:00:00'\n",
       "    '1991-08-05 00:00:00'\n",
       "    '1991-08-06 00:00:00'\n",
       "    '1991-08-07 00:00:00'\n",
       "    '1991-08-08 00:00:00'\n",
       "    '1991-08-09 00:00:00'\n",
       "    '1991-08-10 00:00:00'\n",
       "    '1991-08-11 00:00:00'\n",
       "    '1991-08-12 00:00:00'\n",
       "    '1991-08-13 00:00:00'\n",
       "    '1991-08-14 00:00:00'\n",
       "    '1991-08-15 00:00:00'\n",
       "    '1991-08-16 00:00:00'\n",
       "    '1991-08-17 00:00:00'\n",
       "    '1991-08-18 00:00:00'\n",
       "    '1991-08-19 00:00:00'\n",
       "    '1991-08-20 00:00:00'\n",
       "    '1991-08-21 00:00:00'\n",
       "    '1991-08-22 00:00:00'\n",
       "    '1991-08-23 00:00:00'\n",
       "    '1991-08-24 00:00:00'\n",
       "    '1991-08-25 00:00:00'\n",
       "    '1991-08-26 00:00:00'\n",
       "    '1991-08-27 00:00:00'\n",
       "    '1991-08-28 00:00:00'\n",
       "    '1991-08-29 00:00:00'\n",
       "    '1991-08-30 00:00:00'\n",
       "    '1991-08-31 00:00:00'\n",
       "    '1991-09-01 00:00:00'\n",
       "    '1991-09-02 00:00:00'\n",
       "    '1991-09-03 00:00:00'\n",
       "    '1991-09-04 00:00:00'\n",
       "    '1991-09-05 00:00:00'\n",
       "    '1991-09-06 00:00:00'\n",
       "    '1991-09-07 00:00:00'\n",
       "    '1991-09-08 00:00:00'\n",
       "    '1991-09-09 00:00:00'\n",
       "    '1991-09-10 00:00:00'\n",
       "    '1991-09-11 00:00:00'\n",
       "    '1991-09-12 00:00:00'\n",
       "    '1991-09-13 00:00:00'\n",
       "    '1991-09-14 00:00:00'\n",
       "    '1991-09-15 00:00:00'\n",
       "    '1991-09-16 00:00:00'\n",
       "    '1991-09-17 00:00:00'\n",
       "    '1991-09-18 00:00:00'\n",
       "    '1991-09-19 00:00:00'\n",
       "    '1991-09-20 00:00:00'\n",
       "    '1991-09-21 00:00:00'\n",
       "    '1991-09-22 00:00:00'\n",
       "    '1991-09-23 00:00:00'\n",
       "    '1991-09-24 00:00:00'\n",
       "    '1991-09-25 00:00:00'\n",
       "    '1991-09-26 00:00:00'\n",
       "    '1991-09-27 00:00:00'\n",
       "    '1991-09-28 00:00:00'\n",
       "    '1991-09-29 00:00:00'\n",
       "    '1991-09-30 00:00:00'\n",
       "    '1991-10-01 00:00:00'\n",
       "    '1991-10-02 00:00:00'\n",
       "    '1991-10-03 00:00:00'\n",
       "    '1991-10-04 00:00:00'\n",
       "    '1991-10-05 00:00:00'\n",
       "    '1991-10-06 00:00:00'\n",
       "    '1991-10-07 00:00:00'\n",
       "    '1991-10-08 00:00:00'\n",
       "    '1991-10-09 00:00:00'\n",
       "    '1991-10-10 00:00:00'\n",
       "    '1991-10-11 00:00:00'\n",
       "    '1991-10-12 00:00:00'\n",
       "    '1991-10-13 00:00:00'\n",
       "    '1991-10-14 00:00:00'\n",
       "    '1991-10-15 00:00:00'\n",
       "    '1991-10-16 00:00:00'\n",
       "    '1991-10-17 00:00:00'\n",
       "    '1991-10-18 00:00:00'\n",
       "    '1991-10-19 00:00:00'\n",
       "    '1991-10-20 00:00:00'\n",
       "    '1991-10-21 00:00:00'\n",
       "    '1991-10-22 00:00:00'\n",
       "    '1991-10-23 00:00:00'\n",
       "    '1991-10-24 00:00:00'\n",
       "    '1991-10-25 00:00:00'\n",
       "    '1991-10-26 00:00:00'\n",
       "    '1991-10-27 00:00:00'\n",
       "    '1991-10-28 00:00:00'\n",
       "    '1991-10-29 00:00:00'\n",
       "    '1991-10-30 00:00:00'\n",
       "    '1991-10-31 00:00:00'\n",
       "    '1991-11-01 00:00:00'\n",
       "    '1991-11-02 00:00:00'\n",
       "    '1991-11-03 00:00:00'\n",
       "    '1991-11-04 00:00:00'\n",
       "    '1991-11-05 00:00:00'\n",
       "    '1991-11-06 00:00:00'\n",
       "    '1991-11-07 00:00:00'\n",
       "    '1991-11-08 00:00:00'\n",
       "    '1991-11-09 00:00:00'\n",
       "    '1991-11-10 00:00:00'\n",
       "    '1991-11-11 00:00:00'\n",
       "    '1991-11-12 00:00:00'\n",
       "    '1991-11-13 00:00:00'\n",
       "    '1991-11-14 00:00:00'\n",
       "    '1991-11-15 00:00:00'\n",
       "    '1991-11-16 00:00:00'\n",
       "    '1991-11-17 00:00:00'\n",
       "    '1991-11-18 00:00:00'\n",
       "    '1991-11-19 00:00:00'\n",
       "    '1991-11-20 00:00:00'\n",
       "    '1991-11-21 00:00:00'\n",
       "    '1991-11-22 00:00:00'\n",
       "    '1991-11-23 00:00:00'\n",
       "    '1991-11-24 00:00:00'\n",
       "    '1991-11-25 00:00:00'\n",
       "    '1991-11-26 00:00:00'\n",
       "    '1991-11-27 00:00:00'\n",
       "    '1991-11-28 00:00:00'\n",
       "    '1991-11-29 00:00:00'\n",
       "    '1991-11-30 00:00:00'\n",
       "    '1991-12-01 00:00:00'\n",
       "    '1991-12-02 00:00:00'\n",
       "    '1991-12-03 00:00:00'\n",
       "    '1991-12-04 00:00:00'\n",
       "    '1991-12-05 00:00:00'\n",
       "    '1991-12-06 00:00:00'\n",
       "    '1991-12-07 00:00:00'\n",
       "    '1991-12-08 00:00:00'\n",
       "    '1991-12-09 00:00:00'\n",
       "    '1991-12-10 00:00:00'\n",
       "    '1991-12-11 00:00:00'\n",
       "    '1991-12-12 00:00:00'\n",
       "    '1991-12-13 00:00:00'\n",
       "    '1991-12-14 00:00:00'\n",
       "    '1991-12-15 00:00:00'\n",
       "    '1991-12-16 00:00:00'\n",
       "    '1991-12-17 00:00:00'\n",
       "    '1991-12-18 00:00:00'\n",
       "    '1991-12-19 00:00:00'\n",
       "    '1991-12-20 00:00:00'\n",
       "    '1991-12-21 00:00:00'\n",
       "    '1991-12-22 00:00:00'\n",
       "    '1991-12-23 00:00:00'\n",
       "    '1991-12-24 00:00:00'\n",
       "    '1991-12-25 00:00:00'\n",
       "    '1991-12-26 00:00:00'\n",
       "    '1991-12-27 00:00:00'\n",
       "    '1991-12-28 00:00:00'\n",
       "    '1991-12-29 00:00:00'\n",
       "    '1991-12-30 00:00:00'\n",
       "    '1991-12-31 00:00:00'\n",
       "    '1992-01-01 00:00:00'\n",
       "    '1992-01-02 00:00:00'\n",
       "    '1992-01-03 00:00:00'\n",
       "    '1992-01-04 00:00:00'\n",
       "    '1992-01-05 00:00:00'\n",
       "    '1992-01-06 00:00:00'\n",
       "    '1992-01-07 00:00:00'\n",
       "    '1992-01-08 00:00:00'\n",
       "    '1992-01-09 00:00:00'\n",
       "    '1992-01-10 00:00:00'\n",
       "    '1992-01-11 00:00:00'\n",
       "    '1992-01-12 00:00:00'\n",
       "    '1992-01-13 00:00:00'\n",
       "    '1992-01-14 00:00:00'\n",
       "    '1992-01-15 00:00:00'\n",
       "    '1992-01-16 00:00:00'\n",
       "    '1992-01-17 00:00:00'\n",
       "    '1992-01-18 00:00:00'\n",
       "    '1992-01-19 00:00:00'\n",
       "    '1992-01-20 00:00:00'\n",
       "    '1992-01-21 00:00:00'\n",
       "    '1992-01-22 00:00:00'\n",
       "    '1992-01-23 00:00:00'\n",
       "    '1992-01-24 00:00:00'\n",
       "    '1992-01-25 00:00:00'\n",
       "    '1992-01-26 00:00:00'\n",
       "    '1992-01-27 00:00:00'\n",
       "    '1992-01-28 00:00:00'\n",
       "    '1992-01-29 00:00:00'\n",
       "    '1992-01-30 00:00:00'\n",
       "    '1992-01-31 00:00:00'\n",
       "    '1992-02-01 00:00:00'\n",
       "    '1992-02-02 00:00:00'\n",
       "    '1992-02-03 00:00:00'\n",
       "    '1992-02-04 00:00:00'\n",
       "    '1992-02-05 00:00:00'\n",
       "    '1992-02-06 00:00:00'\n",
       "    '1992-02-07 00:00:00'\n",
       "    '1992-02-08 00:00:00'\n",
       "    '1992-02-09 00:00:00'\n",
       "    '1992-02-10 00:00:00'\n",
       "    '1992-02-11 00:00:00'\n",
       "    '1992-02-12 00:00:00'\n",
       "    '1992-02-13 00:00:00'\n",
       "    '1992-02-14 00:00:00'\n",
       "    '1992-02-15 00:00:00'\n",
       "    '1992-02-16 00:00:00'\n",
       "    '1992-02-17 00:00:00'\n",
       "    '1992-02-18 00:00:00'\n",
       "    '1992-02-19 00:00:00'\n",
       "    '1992-02-20 00:00:00'\n",
       "    '1992-02-21 00:00:00'\n",
       "    '1992-02-22 00:00:00'\n",
       "    '1992-02-23 00:00:00'\n",
       "    '1992-02-24 00:00:00'\n",
       "    '1992-02-25 00:00:00'\n",
       "    '1992-02-26 00:00:00'\n",
       "    '1992-02-27 00:00:00'\n",
       "    '1992-02-28 00:00:00'\n",
       "    '1992-02-29 00:00:00'\n",
       "    '1992-03-01 00:00:00'\n",
       "    '1992-03-02 00:00:00'\n",
       "    '1992-03-03 00:00:00'\n",
       "    '1992-03-04 00:00:00'\n",
       "    '1992-03-05 00:00:00'\n",
       "    '1992-03-06 00:00:00'\n",
       "    '1992-03-07 00:00:00'\n",
       "    '1992-03-08 00:00:00'\n",
       "    '1992-03-09 00:00:00'\n",
       "    '1992-03-10 00:00:00'\n",
       "    '1992-03-11 00:00:00'\n",
       "    '1992-03-12 00:00:00'\n",
       "    '1992-03-13 00:00:00'\n",
       "    '1992-03-14 00:00:00'\n",
       "    '1992-03-15 00:00:00'\n",
       "    '1992-03-16 00:00:00'\n",
       "    '1992-03-17 00:00:00'\n",
       "    '1992-03-18 00:00:00'\n",
       "    '1992-03-19 00:00:00'\n",
       "    '1992-03-20 00:00:00'\n",
       "    '1992-03-21 00:00:00'\n",
       "    '1992-03-22 00:00:00'\n",
       "    '1992-03-23 00:00:00'\n",
       "    '1992-03-24 00:00:00'\n",
       "    '1992-03-25 00:00:00'\n",
       "    '1992-03-26 00:00:00'\n",
       "    '1992-03-27 00:00:00'\n",
       "    '1992-03-28 00:00:00'\n",
       "    '1992-03-29 00:00:00'\n",
       "    '1992-03-30 00:00:00'\n",
       "    '1992-03-31 00:00:00'\n",
       "    '1992-04-01 00:00:00'\n",
       "    '1992-04-02 00:00:00'\n",
       "    '1992-04-03 00:00:00'\n",
       "    '1992-04-04 00:00:00'\n",
       "    '1992-04-05 00:00:00'\n",
       "    '1992-04-06 00:00:00'\n",
       "    '1992-04-07 00:00:00'\n",
       "    '1992-04-08 00:00:00'\n",
       "    '1992-04-09 00:00:00'\n",
       "    '1992-04-10 00:00:00'\n",
       "    '1992-04-11 00:00:00'\n",
       "    '1992-04-12 00:00:00'\n",
       "    '1992-04-13 00:00:00'\n",
       "    '1992-04-14 00:00:00'\n",
       "    '1992-04-15 00:00:00'\n",
       "    '1992-04-16 00:00:00'\n",
       "    '1992-04-17 00:00:00'\n",
       "    '1992-04-18 00:00:00'\n",
       "    '1992-04-19 00:00:00'\n",
       "    '1992-04-20 00:00:00'\n",
       "    '1992-04-21 00:00:00'\n",
       "    '1992-04-22 00:00:00'\n",
       "    '1992-04-23 00:00:00'\n",
       "    '1992-04-24 00:00:00'\n",
       "    '1992-04-25 00:00:00'\n",
       "    '1992-04-26 00:00:00'\n",
       "    '1992-04-27 00:00:00'\n",
       "    '1992-04-28 00:00:00'\n",
       "    '1992-04-29 00:00:00'\n",
       "    '1992-04-30 00:00:00'\n",
       "    '1992-05-01 00:00:00'\n",
       "    '1992-05-02 00:00:00'\n",
       "    '1992-05-03 00:00:00'\n",
       "    '1992-05-04 00:00:00'\n",
       "    '1992-05-05 00:00:00'\n",
       "    '1992-05-06 00:00:00'\n",
       "    '1992-05-07 00:00:00'\n",
       "    '1992-05-08 00:00:00'\n",
       "    '1992-05-09 00:00:00'\n",
       "    '1992-05-10 00:00:00'\n",
       "    '1992-05-11 00:00:00'\n",
       "    '1992-05-12 00:00:00'\n",
       "    '1992-05-13 00:00:00'\n",
       "    '1992-05-14 00:00:00'\n",
       "    '1992-05-15 00:00:00'\n",
       "    '1992-05-16 00:00:00'\n",
       "    '1992-05-17 00:00:00'\n",
       "    '1992-05-18 00:00:00'\n",
       "    '1992-05-19 00:00:00'\n",
       "    '1992-05-20 00:00:00'\n",
       "    '1992-05-21 00:00:00'\n",
       "    '1992-05-22 00:00:00'\n",
       "    '1992-05-23 00:00:00'\n",
       "    '1992-05-24 00:00:00'\n",
       "    '1992-05-25 00:00:00'\n",
       "    '1992-05-26 00:00:00'\n",
       "    '1992-05-27 00:00:00'\n",
       "    '1992-05-28 00:00:00'\n",
       "    '1992-05-29 00:00:00'\n",
       "    '1992-05-30 00:00:00'\n",
       "    '1992-05-31 00:00:00'\n",
       "    '1992-06-01 00:00:00'\n",
       "    '1992-06-02 00:00:00'\n",
       "    '1992-06-03 00:00:00'\n",
       "    '1992-06-04 00:00:00'\n",
       "    '1992-06-05 00:00:00'\n",
       "    '1992-06-06 00:00:00'\n",
       "    '1992-06-07 00:00:00'\n",
       "    '1992-06-08 00:00:00'\n",
       "    '1992-06-09 00:00:00'\n",
       "    '1992-06-10 00:00:00'\n",
       "    '1992-06-11 00:00:00'\n",
       "    '1992-06-12 00:00:00'\n",
       "    '1992-06-13 00:00:00'\n",
       "    '1992-06-14 00:00:00'\n",
       "    '1992-06-15 00:00:00'\n",
       "    '1992-06-16 00:00:00'\n",
       "    '1992-06-17 00:00:00'\n",
       "    '1992-06-18 00:00:00'\n",
       "    '1992-06-19 00:00:00'\n",
       "    '1992-06-20 00:00:00'\n",
       "    '1992-06-21 00:00:00'\n",
       "    '1992-06-22 00:00:00'\n",
       "    '1992-06-23 00:00:00'\n",
       "    '1992-06-24 00:00:00'\n",
       "    '1992-06-25 00:00:00'\n",
       "    '1992-06-26 00:00:00'\n",
       "    '1992-06-27 00:00:00'\n",
       "    '1992-06-28 00:00:00'\n",
       "    '1992-06-29 00:00:00'\n",
       "    '1992-06-30 00:00:00'\n",
       "    '1992-07-01 00:00:00'\n",
       "    '1992-07-02 00:00:00'\n",
       "    '1992-07-03 00:00:00'\n",
       "    '1992-07-04 00:00:00'\n",
       "    '1992-07-05 00:00:00'\n",
       "    '1992-07-06 00:00:00'\n",
       "    '1992-07-07 00:00:00'\n",
       "    '1992-07-08 00:00:00'\n",
       "    '1992-07-09 00:00:00'\n",
       "    '1992-07-10 00:00:00'\n",
       "    '1992-07-11 00:00:00'\n",
       "    '1992-07-12 00:00:00'\n",
       "    '1992-07-13 00:00:00'\n",
       "    '1992-07-14 00:00:00'\n",
       "    '1992-07-15 00:00:00'\n",
       "    '1992-07-16 00:00:00'\n",
       "    '1992-07-17 00:00:00'\n",
       "    '1992-07-18 00:00:00'\n",
       "    '1992-07-19 00:00:00'\n",
       "    '1992-07-20 00:00:00'\n",
       "    '1992-07-21 00:00:00'\n",
       "    '1992-07-22 00:00:00'\n",
       "    '1992-07-23 00:00:00'\n",
       "    '1992-07-24 00:00:00'\n",
       "    '1992-07-25 00:00:00'\n",
       "    '1992-07-26 00:00:00'\n",
       "    '1992-07-27 00:00:00'\n",
       "    '1992-07-28 00:00:00'\n",
       "    '1992-07-29 00:00:00'\n",
       "    '1992-07-30 00:00:00'\n",
       "    '1992-07-31 00:00:00'\n",
       "    '1992-08-01 00:00:00'\n",
       "    '1992-08-02 00:00:00'\n",
       "    '1992-08-03 00:00:00'\n",
       "    '1992-08-04 00:00:00'\n",
       "    '1992-08-05 00:00:00'\n",
       "    '1992-08-06 00:00:00'\n",
       "    '1992-08-07 00:00:00'\n",
       "    '1992-08-08 00:00:00'\n",
       "    '1992-08-09 00:00:00'\n",
       "    '1992-08-10 00:00:00'\n",
       "    '1992-08-11 00:00:00'\n",
       "    '1992-08-12 00:00:00'\n",
       "    '1992-08-13 00:00:00'\n",
       "    '1992-08-14 00:00:00'\n",
       "    '1992-08-15 00:00:00'\n",
       "    '1992-08-16 00:00:00'\n",
       "    '1992-08-17 00:00:00'\n",
       "    '1992-08-18 00:00:00'\n",
       "    '1992-08-19 00:00:00'\n",
       "    '1992-08-20 00:00:00'\n",
       "    '1992-08-21 00:00:00'\n",
       "    '1992-08-22 00:00:00'\n",
       "    '1992-08-23 00:00:00'\n",
       "    '1992-08-24 00:00:00'\n",
       "    '1992-08-25 00:00:00'\n",
       "    '1992-08-26 00:00:00'\n",
       "    '1992-08-27 00:00:00'\n",
       "    '1992-08-28 00:00:00'\n",
       "    '1992-08-29 00:00:00'\n",
       "    '1992-08-30 00:00:00'\n",
       "    '1992-08-31 00:00:00'\n",
       "    '1992-09-01 00:00:00'\n",
       "    '1992-09-02 00:00:00'\n",
       "    '1992-09-03 00:00:00'\n",
       "    '1992-09-04 00:00:00'\n",
       "    '1992-09-05 00:00:00'\n",
       "    '1992-09-06 00:00:00'\n",
       "    '1992-09-07 00:00:00'\n",
       "    '1992-09-08 00:00:00'\n",
       "    '1992-09-09 00:00:00'\n",
       "    '1992-09-10 00:00:00'\n",
       "    '1992-09-11 00:00:00'\n",
       "    '1992-09-12 00:00:00'\n",
       "    '1992-09-13 00:00:00'\n",
       "    '1992-09-14 00:00:00'\n",
       "    '1992-09-15 00:00:00'\n",
       "    '1992-09-16 00:00:00'\n",
       "    '1992-09-17 00:00:00'\n",
       "    '1992-09-18 00:00:00'\n",
       "    '1992-09-19 00:00:00'\n",
       "    '1992-09-20 00:00:00'\n",
       "    '1992-09-21 00:00:00'\n",
       "    '1992-09-22 00:00:00'\n",
       "    '1992-09-23 00:00:00'\n",
       "    '1992-09-24 00:00:00'\n",
       "    '1992-09-25 00:00:00'\n",
       "    '1992-09-26 00:00:00'\n",
       "    '1992-09-27 00:00:00'\n",
       "    '1992-09-28 00:00:00'\n",
       "    '1992-09-29 00:00:00'\n",
       "    '1992-09-30 00:00:00'\n",
       "    '1992-10-01 00:00:00'\n",
       "    '1992-10-02 00:00:00'\n",
       "    '1992-10-03 00:00:00'\n",
       "    '1992-10-04 00:00:00'\n",
       "    '1992-10-05 00:00:00'\n",
       "    '1992-10-06 00:00:00'\n",
       "    '1992-10-07 00:00:00'\n",
       "    '1992-10-08 00:00:00'\n",
       "    '1992-10-09 00:00:00'\n",
       "    '1992-10-10 00:00:00'\n",
       "    '1992-10-11 00:00:00'\n",
       "    '1992-10-12 00:00:00'\n",
       "    '1992-10-13 00:00:00'\n",
       "    '1992-10-14 00:00:00'\n",
       "    '1992-10-15 00:00:00'\n",
       "    '1992-10-16 00:00:00'\n",
       "    '1992-10-17 00:00:00'\n",
       "    '1992-10-18 00:00:00'\n",
       "    '1992-10-19 00:00:00'\n",
       "    '1992-10-20 00:00:00'\n",
       "    '1992-10-21 00:00:00'\n",
       "    '1992-10-22 00:00:00'\n",
       "    '1992-10-23 00:00:00'\n",
       "    '1992-10-24 00:00:00'\n",
       "    '1992-10-25 00:00:00'\n",
       "    '1992-10-26 00:00:00'\n",
       "    '1992-10-27 00:00:00'\n",
       "    '1992-10-28 00:00:00'\n",
       "    '1992-10-29 00:00:00'\n",
       "    '1992-10-30 00:00:00'\n",
       "    '1992-10-31 00:00:00'\n",
       "    '1992-11-01 00:00:00'\n",
       "    '1992-11-02 00:00:00'\n",
       "    '1992-11-03 00:00:00'\n",
       "    '1992-11-04 00:00:00'\n",
       "    '1992-11-05 00:00:00'\n",
       "    '1992-11-06 00:00:00'\n",
       "    '1992-11-07 00:00:00'\n",
       "    '1992-11-08 00:00:00'\n",
       "    '1992-11-09 00:00:00'\n",
       "    '1992-11-10 00:00:00'\n",
       "    '1992-11-11 00:00:00'\n",
       "    '1992-11-12 00:00:00'\n",
       "    '1992-11-13 00:00:00'\n",
       "    '1992-11-14 00:00:00'\n",
       "    '1992-11-15 00:00:00'\n",
       "    '1992-11-16 00:00:00'\n",
       "    '1992-11-17 00:00:00'\n",
       "    '1992-11-18 00:00:00'\n",
       "    '1992-11-19 00:00:00'\n",
       "    '1992-11-20 00:00:00'\n",
       "    '1992-11-21 00:00:00'\n",
       "    '1992-11-22 00:00:00'\n",
       "    '1992-11-23 00:00:00'\n",
       "    '1992-11-24 00:00:00'\n",
       "    '1992-11-25 00:00:00'\n",
       "    '1992-11-26 00:00:00'\n",
       "    '1992-11-27 00:00:00'\n",
       "    '1992-11-28 00:00:00'\n",
       "    '1992-11-29 00:00:00'\n",
       "    '1992-11-30 00:00:00'\n",
       "    '1992-12-01 00:00:00'\n",
       "    '1992-12-02 00:00:00'\n",
       "    '1992-12-03 00:00:00'\n",
       "    '1992-12-04 00:00:00'\n",
       "    '1992-12-05 00:00:00'\n",
       "    '1992-12-06 00:00:00'\n",
       "    '1992-12-07 00:00:00'\n",
       "    '1992-12-08 00:00:00'\n",
       "    '1992-12-09 00:00:00'\n",
       "    '1992-12-10 00:00:00'\n",
       "    '1992-12-11 00:00:00'\n",
       "    '1992-12-12 00:00:00'\n",
       "    '1992-12-13 00:00:00'\n",
       "    '1992-12-14 00:00:00'\n",
       "    '1992-12-15 00:00:00'\n",
       "    '1992-12-16 00:00:00'\n",
       "    '1992-12-17 00:00:00'\n",
       "    '1992-12-18 00:00:00'\n",
       "    '1992-12-19 00:00:00'\n",
       "    '1992-12-20 00:00:00'\n",
       "    '1992-12-21 00:00:00'\n",
       "    '1992-12-22 00:00:00'\n",
       "    '1992-12-23 00:00:00'\n",
       "    '1992-12-24 00:00:00'\n",
       "    '1992-12-25 00:00:00'\n",
       "    '1992-12-26 00:00:00'\n",
       "    '1992-12-27 00:00:00'\n",
       "    '1992-12-28 00:00:00'\n",
       "    '1992-12-29 00:00:00'\n",
       "    '1992-12-30 00:00:00'\n",
       "    '1992-12-31 00:00:00'\n",
       "    '1993-01-01 00:00:00'\n",
       "    '1993-01-02 00:00:00'\n",
       "    '1993-01-03 00:00:00'\n",
       "    '1993-01-04 00:00:00'\n",
       "    '1993-01-05 00:00:00'\n",
       "    '1993-01-06 00:00:00'\n",
       "    '1993-01-07 00:00:00'\n",
       "    '1993-01-08 00:00:00'\n",
       "    '1993-01-09 00:00:00'\n",
       "    '1993-01-10 00:00:00'\n",
       "    '1993-01-11 00:00:00'\n",
       "    '1993-01-12 00:00:00'\n",
       "    '1993-01-13 00:00:00'\n",
       "    '1993-01-14 00:00:00'\n",
       "    '1993-01-15 00:00:00'\n",
       "    '1993-01-16 00:00:00'\n",
       "    '1993-01-17 00:00:00'\n",
       "    '1993-01-18 00:00:00'\n",
       "    '1993-01-19 00:00:00'\n",
       "    '1993-01-20 00:00:00'\n",
       "    '1993-01-21 00:00:00'\n",
       "    '1993-01-22 00:00:00'\n",
       "    '1993-01-23 00:00:00'\n",
       "    '1993-01-24 00:00:00'\n",
       "    '1993-01-25 00:00:00'\n",
       "    '1993-01-26 00:00:00'\n",
       "    '1993-01-27 00:00:00'\n",
       "    '1993-01-28 00:00:00'\n",
       "    '1993-01-29 00:00:00'\n",
       "    '1993-01-30 00:00:00'\n",
       "    '1993-01-31 00:00:00'\n",
       "    '1993-02-01 00:00:00'\n",
       "    '1993-02-02 00:00:00'\n",
       "    '1993-02-03 00:00:00'\n",
       "    '1993-02-04 00:00:00'\n",
       "    '1993-02-05 00:00:00'\n",
       "    '1993-02-06 00:00:00'\n",
       "    '1993-02-07 00:00:00'\n",
       "    '1993-02-08 00:00:00'\n",
       "    '1993-02-09 00:00:00'\n",
       "    '1993-02-10 00:00:00'\n",
       "    '1993-02-11 00:00:00'\n",
       "    '1993-02-12 00:00:00'\n",
       "    '1993-02-13 00:00:00'\n",
       "    '1993-02-14 00:00:00'\n",
       "    '1993-02-15 00:00:00'\n",
       "    '1993-02-16 00:00:00'\n",
       "    '1993-02-17 00:00:00'\n",
       "    '1993-02-18 00:00:00'\n",
       "    '1993-02-19 00:00:00'\n",
       "    '1993-02-20 00:00:00'\n",
       "    '1993-02-21 00:00:00'\n",
       "    '1993-02-22 00:00:00'\n",
       "    '1993-02-23 00:00:00'\n",
       "    '1993-02-24 00:00:00'\n",
       "    '1993-02-25 00:00:00'\n",
       "    '1993-02-26 00:00:00'\n",
       "    '1993-02-27 00:00:00'\n",
       "    '1993-02-28 00:00:00'\n",
       "    '1993-03-01 00:00:00'\n",
       "    '1993-03-02 00:00:00'\n",
       "    '1993-03-03 00:00:00'\n",
       "    '1993-03-04 00:00:00'\n",
       "    '1993-03-05 00:00:00'\n",
       "    '1993-03-06 00:00:00'\n",
       "    '1993-03-07 00:00:00'\n",
       "    '1993-03-08 00:00:00'\n",
       "    '1993-03-09 00:00:00'\n",
       "    '1993-03-10 00:00:00'\n",
       "    '1993-03-11 00:00:00'\n",
       "    '1993-03-12 00:00:00'\n",
       "    '1993-03-13 00:00:00'\n",
       "    '1993-03-14 00:00:00'\n",
       "    '1993-03-15 00:00:00'\n",
       "    '1993-03-16 00:00:00'\n",
       "    '1993-03-17 00:00:00'\n",
       "    '1993-03-18 00:00:00'\n",
       "    '1993-03-19 00:00:00'\n",
       "    '1993-03-20 00:00:00'\n",
       "    '1993-03-21 00:00:00'\n",
       "    '1993-03-22 00:00:00'\n",
       "    '1993-03-23 00:00:00'\n",
       "    '1993-03-24 00:00:00'\n",
       "    '1993-03-25 00:00:00'\n",
       "    '1993-03-26 00:00:00'\n",
       "    '1993-03-27 00:00:00'\n",
       "    '1993-03-28 00:00:00'\n",
       "    '1993-03-29 00:00:00'\n",
       "    '1993-03-30 00:00:00'\n",
       "    '1993-03-31 00:00:00'\n",
       "    '1993-04-01 00:00:00'\n",
       "    '1993-04-02 00:00:00'\n",
       "    '1993-04-03 00:00:00'\n",
       "    '1993-04-04 00:00:00'\n",
       "    '1993-04-05 00:00:00'\n",
       "    '1993-04-06 00:00:00'\n",
       "    '1993-04-07 00:00:00'\n",
       "    '1993-04-08 00:00:00'\n",
       "    '1993-04-09 00:00:00'\n",
       "    '1993-04-10 00:00:00'\n",
       "    '1993-04-11 00:00:00'\n",
       "    '1993-04-12 00:00:00'\n",
       "    '1993-04-13 00:00:00'\n",
       "    '1993-04-14 00:00:00'\n",
       "    '1993-04-15 00:00:00'\n",
       "    '1993-04-16 00:00:00'\n",
       "    '1993-04-17 00:00:00'\n",
       "    '1993-04-18 00:00:00'\n",
       "    '1993-04-19 00:00:00'\n",
       "    '1993-04-20 00:00:00'\n",
       "    '1993-04-21 00:00:00'\n",
       "    '1993-04-22 00:00:00'\n",
       "    '1993-04-23 00:00:00'\n",
       "    '1993-04-24 00:00:00'\n",
       "    '1993-04-25 00:00:00'\n",
       "    '1993-04-26 00:00:00'\n",
       "    '1993-04-27 00:00:00'\n",
       "    '1993-04-28 00:00:00'\n",
       "    '1993-04-29 00:00:00'\n",
       "    '1993-04-30 00:00:00'\n",
       "    '1993-05-01 00:00:00'\n",
       "    '1993-05-02 00:00:00'\n",
       "    '1993-05-03 00:00:00'\n",
       "    '1993-05-04 00:00:00'\n",
       "    '1993-05-05 00:00:00'\n",
       "    '1993-05-06 00:00:00'\n",
       "    '1993-05-07 00:00:00'\n",
       "    '1993-05-08 00:00:00'\n",
       "    '1993-05-09 00:00:00'\n",
       "    '1993-05-10 00:00:00'\n",
       "    '1993-05-11 00:00:00'\n",
       "    '1993-05-12 00:00:00'\n",
       "    '1993-05-13 00:00:00'\n",
       "    '1993-05-14 00:00:00'\n",
       "    '1993-05-15 00:00:00'\n",
       "    '1993-05-16 00:00:00'\n",
       "    '1993-05-17 00:00:00'\n",
       "    '1993-05-18 00:00:00'\n",
       "    '1993-05-19 00:00:00'\n",
       "    '1993-05-20 00:00:00'\n",
       "    '1993-05-21 00:00:00'\n",
       "    '1993-05-22 00:00:00'\n",
       "    '1993-05-23 00:00:00'\n",
       "    '1993-05-24 00:00:00'\n",
       "    '1993-05-25 00:00:00'\n",
       "    '1993-05-26 00:00:00'\n",
       "    '1993-05-27 00:00:00'\n",
       "    '1993-05-28 00:00:00'\n",
       "    '1993-05-29 00:00:00'\n",
       "    '1993-05-30 00:00:00'\n",
       "    '1993-05-31 00:00:00'\n",
       "    '1993-06-01 00:00:00'\n",
       "    '1993-06-02 00:00:00'\n",
       "    '1993-06-03 00:00:00'\n",
       "    '1993-06-04 00:00:00'\n",
       "    '1993-06-05 00:00:00'\n",
       "    '1993-06-06 00:00:00'\n",
       "    '1993-06-07 00:00:00'\n",
       "    '1993-06-08 00:00:00'\n",
       "    '1993-06-09 00:00:00'\n",
       "    '1993-06-10 00:00:00'\n",
       "    '1993-06-11 00:00:00'\n",
       "    '1993-06-12 00:00:00'\n",
       "    '1993-06-13 00:00:00'\n",
       "    '1993-06-14 00:00:00'\n",
       "    '1993-06-15 00:00:00'\n",
       "    '1993-06-16 00:00:00'\n",
       "    '1993-06-17 00:00:00'\n",
       "    '1993-06-18 00:00:00'\n",
       "    '1993-06-19 00:00:00'\n",
       "    '1993-06-20 00:00:00'\n",
       "    '1993-06-21 00:00:00'\n",
       "    '1993-06-22 00:00:00'\n",
       "    '1993-06-23 00:00:00'\n",
       "    '1993-06-24 00:00:00'\n",
       "    '1993-06-25 00:00:00'\n",
       "    '1993-06-26 00:00:00'\n",
       "    '1993-06-27 00:00:00'\n",
       "    '1993-06-28 00:00:00'\n",
       "    '1993-06-29 00:00:00'\n",
       "    '1993-06-30 00:00:00'\n",
       "    '1993-07-01 00:00:00'\n",
       "    '1993-07-02 00:00:00'\n",
       "    '1993-07-03 00:00:00'\n",
       "    '1993-07-04 00:00:00'\n",
       "    '1993-07-05 00:00:00'\n",
       "    '1993-07-06 00:00:00'\n",
       "    '1993-07-07 00:00:00'\n",
       "    '1993-07-08 00:00:00'\n",
       "    '1993-07-09 00:00:00'\n",
       "    '1993-07-10 00:00:00'\n",
       "    '1993-07-11 00:00:00'\n",
       "    '1993-07-12 00:00:00'\n",
       "    '1993-07-13 00:00:00'\n",
       "    '1993-07-14 00:00:00'\n",
       "    '1993-07-15 00:00:00'\n",
       "    '1993-07-16 00:00:00'\n",
       "    '1993-07-17 00:00:00'\n",
       "    '1993-07-18 00:00:00'\n",
       "    '1993-07-19 00:00:00'\n",
       "    '1993-07-20 00:00:00'\n",
       "    '1993-07-21 00:00:00'\n",
       "    '1993-07-22 00:00:00'\n",
       "    '1993-07-23 00:00:00'\n",
       "    '1993-07-24 00:00:00'\n",
       "    '1993-07-25 00:00:00'\n",
       "    '1993-07-26 00:00:00'\n",
       "    '1993-07-27 00:00:00'\n",
       "    '1993-07-28 00:00:00'\n",
       "    '1993-07-29 00:00:00'\n",
       "    '1993-07-30 00:00:00'\n",
       "    '1993-07-31 00:00:00'\n",
       "    '1993-08-01 00:00:00'\n",
       "    '1993-08-02 00:00:00'\n",
       "    '1993-08-03 00:00:00'\n",
       "    '1993-08-04 00:00:00'\n",
       "    '1993-08-05 00:00:00'\n",
       "    '1993-08-06 00:00:00'\n",
       "    '1993-08-07 00:00:00'\n",
       "    '1993-08-08 00:00:00'\n",
       "    '1993-08-09 00:00:00'\n",
       "    '1993-08-10 00:00:00'\n",
       "    '1993-08-11 00:00:00'\n",
       "    '1993-08-12 00:00:00'\n",
       "    '1993-08-13 00:00:00'\n",
       "    '1993-08-14 00:00:00'\n",
       "    '1993-08-15 00:00:00'\n",
       "    '1993-08-16 00:00:00'\n",
       "    '1993-08-17 00:00:00'\n",
       "    '1993-08-18 00:00:00'\n",
       "    '1993-08-19 00:00:00'\n",
       "    '1993-08-20 00:00:00'\n",
       "    '1993-08-21 00:00:00'\n",
       "    '1993-08-22 00:00:00'\n",
       "    '1993-08-23 00:00:00'\n",
       "    '1993-08-24 00:00:00'\n",
       "    '1993-08-25 00:00:00'\n",
       "    '1993-08-26 00:00:00'\n",
       "    '1993-08-27 00:00:00'\n",
       "    '1993-08-28 00:00:00'\n",
       "    '1993-08-29 00:00:00'\n",
       "    '1993-08-30 00:00:00'\n",
       "    '1993-08-31 00:00:00'\n",
       "    '1993-09-01 00:00:00'\n",
       "    '1993-09-02 00:00:00'\n",
       "    '1993-09-03 00:00:00'\n",
       "    '1993-09-04 00:00:00'\n",
       "    '1993-09-05 00:00:00'\n",
       "    '1993-09-06 00:00:00'\n",
       "    '1993-09-07 00:00:00'\n",
       "    '1993-09-08 00:00:00'\n",
       "    '1993-09-09 00:00:00'\n",
       "    '1993-09-10 00:00:00'\n",
       "    '1993-09-11 00:00:00'\n",
       "    '1993-09-12 00:00:00'\n",
       "    '1993-09-13 00:00:00'\n",
       "    '1993-09-14 00:00:00'\n",
       "    '1993-09-15 00:00:00'\n",
       "    '1993-09-16 00:00:00'\n",
       "    '1993-09-17 00:00:00'\n",
       "    '1993-09-18 00:00:00'\n",
       "    '1993-09-19 00:00:00'\n",
       "    '1993-09-20 00:00:00'\n",
       "    '1993-09-21 00:00:00'\n",
       "    '1993-09-22 00:00:00'\n",
       "    '1993-09-23 00:00:00'\n",
       "    '1993-09-24 00:00:00'\n",
       "    '1993-09-25 00:00:00'\n",
       "    '1993-09-26 00:00:00'\n",
       "    '1993-09-27 00:00:00'\n",
       "    '1993-09-28 00:00:00'\n",
       "    '1993-09-29 00:00:00'\n",
       "    '1993-09-30 00:00:00'\n",
       "    '1993-10-01 00:00:00'\n",
       "    '1993-10-02 00:00:00'\n",
       "    '1993-10-03 00:00:00'\n",
       "    '1993-10-04 00:00:00'\n",
       "    '1993-10-05 00:00:00'\n",
       "    '1993-10-06 00:00:00'\n",
       "    '1993-10-07 00:00:00'\n",
       "    '1993-10-08 00:00:00'\n",
       "    '1993-10-09 00:00:00'\n",
       "    '1993-10-10 00:00:00'\n",
       "    '1993-10-11 00:00:00'\n",
       "    '1993-10-12 00:00:00'\n",
       "    '1993-10-13 00:00:00'\n",
       "    '1993-10-14 00:00:00'\n",
       "    '1993-10-15 00:00:00'\n",
       "    '1993-10-16 00:00:00'\n",
       "    '1993-10-17 00:00:00'\n",
       "    '1993-10-18 00:00:00'\n",
       "    '1993-10-19 00:00:00'\n",
       "    '1993-10-20 00:00:00'\n",
       "    '1993-10-21 00:00:00'\n",
       "    '1993-10-22 00:00:00'\n",
       "    '1993-10-23 00:00:00'\n",
       "    '1993-10-24 00:00:00'\n",
       "    '1993-10-25 00:00:00'\n",
       "    '1993-10-26 00:00:00'\n",
       "    '1993-10-27 00:00:00'\n",
       "    '1993-10-28 00:00:00'\n",
       "    '1993-10-29 00:00:00'\n",
       "    '1993-10-30 00:00:00'\n",
       "    '1993-10-31 00:00:00'\n",
       "    '1993-11-01 00:00:00'\n",
       "    '1993-11-02 00:00:00'\n",
       "    '1993-11-03 00:00:00'\n",
       "    '1993-11-04 00:00:00'\n",
       "    '1993-11-05 00:00:00'\n",
       "    '1993-11-06 00:00:00'\n",
       "    '1993-11-07 00:00:00'\n",
       "    '1993-11-08 00:00:00'\n",
       "    '1993-11-09 00:00:00'\n",
       "    '1993-11-10 00:00:00'\n",
       "    '1993-11-11 00:00:00'\n",
       "    '1993-11-12 00:00:00'\n",
       "    '1993-11-13 00:00:00'\n",
       "    '1993-11-14 00:00:00'\n",
       "    '1993-11-15 00:00:00'\n",
       "    '1993-11-16 00:00:00'\n",
       "    '1993-11-17 00:00:00'\n",
       "    '1993-11-18 00:00:00'\n",
       "    '1993-11-19 00:00:00'\n",
       "    '1993-11-20 00:00:00'\n",
       "    '1993-11-21 00:00:00'\n",
       "    '1993-11-22 00:00:00'\n",
       "    '1993-11-23 00:00:00'\n",
       "    '1993-11-24 00:00:00'\n",
       "    '1993-11-25 00:00:00'\n",
       "    '1993-11-26 00:00:00'\n",
       "    '1993-11-27 00:00:00'\n",
       "    '1993-11-28 00:00:00'\n",
       "    '1993-11-29 00:00:00'\n",
       "    '1993-11-30 00:00:00'\n",
       "    '1993-12-01 00:00:00'\n",
       "    '1993-12-02 00:00:00'\n",
       "    '1993-12-03 00:00:00'\n",
       "    '1993-12-04 00:00:00'\n",
       "    '1993-12-05 00:00:00'\n",
       "    '1993-12-06 00:00:00'\n",
       "    '1993-12-07 00:00:00'\n",
       "    '1993-12-08 00:00:00'\n",
       "    '1993-12-09 00:00:00'\n",
       "    '1993-12-10 00:00:00'\n",
       "    '1993-12-11 00:00:00'\n",
       "    '1993-12-12 00:00:00'\n",
       "    '1993-12-13 00:00:00'\n",
       "    '1993-12-14 00:00:00'\n",
       "    '1993-12-15 00:00:00'\n",
       "    '1993-12-16 00:00:00'\n",
       "    '1993-12-17 00:00:00'\n",
       "    '1993-12-18 00:00:00'\n",
       "    '1993-12-19 00:00:00'\n",
       "    '1993-12-20 00:00:00'\n",
       "    '1993-12-21 00:00:00'\n",
       "    '1993-12-22 00:00:00'\n",
       "    '1993-12-23 00:00:00'\n",
       "    '1993-12-24 00:00:00'\n",
       "    '1993-12-25 00:00:00'\n",
       "    '1993-12-26 00:00:00'\n",
       "    '1993-12-27 00:00:00'\n",
       "    '1993-12-28 00:00:00'\n",
       "    '1993-12-29 00:00:00'\n",
       "    '1993-12-30 00:00:00'\n",
       "    '1993-12-31 00:00:00'\n",
       "    '1994-01-01 00:00:00'\n",
       "    '1994-01-02 00:00:00'\n",
       "    '1994-01-03 00:00:00'\n",
       "    '1994-01-04 00:00:00'\n",
       "    '1994-01-05 00:00:00'\n",
       "    '1994-01-06 00:00:00'\n",
       "    '1994-01-07 00:00:00'\n",
       "    '1994-01-08 00:00:00'\n",
       "    '1994-01-09 00:00:00'\n",
       "    '1994-01-10 00:00:00'\n",
       "    '1994-01-11 00:00:00'\n",
       "    '1994-01-12 00:00:00'\n",
       "    '1994-01-13 00:00:00'\n",
       "    '1994-01-14 00:00:00'\n",
       "    '1994-01-15 00:00:00'\n",
       "    '1994-01-16 00:00:00'\n",
       "    '1994-01-17 00:00:00'\n",
       "    '1994-01-18 00:00:00'\n",
       "    '1994-01-19 00:00:00'\n",
       "    '1994-01-20 00:00:00'\n",
       "    '1994-01-21 00:00:00'\n",
       "    '1994-01-22 00:00:00'\n",
       "    '1994-01-23 00:00:00'\n",
       "    '1994-01-24 00:00:00'\n",
       "    '1994-01-25 00:00:00'\n",
       "    '1994-01-26 00:00:00'\n",
       "    '1994-01-27 00:00:00'\n",
       "    '1994-01-28 00:00:00'\n",
       "    '1994-01-29 00:00:00'\n",
       "    '1994-01-30 00:00:00'\n",
       "    '1994-01-31 00:00:00'\n",
       "    '1994-02-01 00:00:00'\n",
       "    '1994-02-02 00:00:00'\n",
       "    '1994-02-03 00:00:00'\n",
       "    '1994-02-04 00:00:00'\n",
       "    '1994-02-05 00:00:00'\n",
       "    '1994-02-06 00:00:00'\n",
       "    '1994-02-07 00:00:00'\n",
       "    '1994-02-08 00:00:00'\n",
       "    '1994-02-09 00:00:00'\n",
       "    '1994-02-10 00:00:00'\n",
       "    '1994-02-11 00:00:00'\n",
       "    '1994-02-12 00:00:00'\n",
       "    '1994-02-13 00:00:00'\n",
       "    '1994-02-14 00:00:00'\n",
       "    '1994-02-15 00:00:00'\n",
       "    '1994-02-16 00:00:00'\n",
       "    '1994-02-17 00:00:00'\n",
       "    '1994-02-18 00:00:00'\n",
       "    '1994-02-19 00:00:00'\n",
       "    '1994-02-20 00:00:00'\n",
       "    '1994-02-21 00:00:00'\n",
       "    '1994-02-22 00:00:00'\n",
       "    '1994-02-23 00:00:00'\n",
       "    '1994-02-24 00:00:00'\n",
       "    '1994-02-25 00:00:00'\n",
       "    '1994-02-26 00:00:00'\n",
       "    '1994-02-27 00:00:00'\n",
       "    '1994-02-28 00:00:00'\n",
       "    '1994-03-01 00:00:00'\n",
       "    '1994-03-02 00:00:00'\n",
       "    '1994-03-03 00:00:00'\n",
       "    '1994-03-04 00:00:00'\n",
       "    '1994-03-05 00:00:00'\n",
       "    '1994-03-06 00:00:00'\n",
       "    '1994-03-07 00:00:00'\n",
       "    '1994-03-08 00:00:00'\n",
       "    '1994-03-09 00:00:00'\n",
       "    '1994-03-10 00:00:00'\n",
       "    '1994-03-11 00:00:00'\n",
       "    '1994-03-12 00:00:00'\n",
       "    '1994-03-13 00:00:00'\n",
       "    '1994-03-14 00:00:00'\n",
       "    '1994-03-15 00:00:00'\n",
       "    '1994-03-16 00:00:00'\n",
       "    '1994-03-17 00:00:00'\n",
       "    '1994-03-18 00:00:00'\n",
       "    '1994-03-19 00:00:00'\n",
       "    '1994-03-20 00:00:00'\n",
       "    '1994-03-21 00:00:00'\n",
       "    '1994-03-22 00:00:00'\n",
       "    '1994-03-23 00:00:00'\n",
       "    '1994-03-24 00:00:00'\n",
       "    '1994-03-25 00:00:00'\n",
       "    '1994-03-26 00:00:00'\n",
       "    '1994-03-27 00:00:00'\n",
       "    '1994-03-28 00:00:00'\n",
       "    '1994-03-29 00:00:00'\n",
       "    '1994-03-30 00:00:00'\n",
       "    '1994-03-31 00:00:00'\n",
       "    '1994-04-01 00:00:00'\n",
       "    '1994-04-02 00:00:00'\n",
       "    '1994-04-03 00:00:00'\n",
       "    '1994-04-04 00:00:00'\n",
       "    '1994-04-05 00:00:00'\n",
       "    '1994-04-06 00:00:00'\n",
       "    '1994-04-07 00:00:00'\n",
       "    '1994-04-08 00:00:00'\n",
       "    '1994-04-09 00:00:00'\n",
       "    '1994-04-10 00:00:00'\n",
       "    '1994-04-11 00:00:00'\n",
       "    '1994-04-12 00:00:00'\n",
       "    '1994-04-13 00:00:00'\n",
       "    '1994-04-14 00:00:00'\n",
       "    '1994-04-15 00:00:00'\n",
       "    '1994-04-16 00:00:00'\n",
       "    '1994-04-17 00:00:00'\n",
       "    '1994-04-18 00:00:00'\n",
       "    '1994-04-19 00:00:00'\n",
       "    '1994-04-20 00:00:00'\n",
       "    '1994-04-21 00:00:00'\n",
       "    '1994-04-22 00:00:00'\n",
       "    '1994-04-23 00:00:00'\n",
       "    '1994-04-24 00:00:00'\n",
       "    '1994-04-25 00:00:00'\n",
       "    '1994-04-26 00:00:00'\n",
       "    '1994-04-27 00:00:00'\n",
       "    '1994-04-28 00:00:00'\n",
       "    '1994-04-29 00:00:00'\n",
       "    '1994-04-30 00:00:00'\n",
       "    '1994-05-01 00:00:00'\n",
       "    '1994-05-02 00:00:00'\n",
       "    '1994-05-03 00:00:00'\n",
       "    '1994-05-04 00:00:00'\n",
       "    '1994-05-05 00:00:00'\n",
       "    '1994-05-06 00:00:00'\n",
       "    '1994-05-07 00:00:00'\n",
       "    '1994-05-08 00:00:00'\n",
       "    '1994-05-09 00:00:00'\n",
       "    '1994-05-10 00:00:00'\n",
       "    '1994-05-11 00:00:00'\n",
       "    '1994-05-12 00:00:00'\n",
       "    '1994-05-13 00:00:00'\n",
       "    '1994-05-14 00:00:00'\n",
       "    '1994-05-15 00:00:00'\n",
       "    '1994-05-16 00:00:00'\n",
       "    '1994-05-17 00:00:00'\n",
       "    '1994-05-18 00:00:00'\n",
       "    '1994-05-19 00:00:00'\n",
       "    '1994-05-20 00:00:00'\n",
       "    '1994-05-21 00:00:00'\n",
       "    '1994-05-22 00:00:00'\n",
       "    '1994-05-23 00:00:00'\n",
       "    '1994-05-24 00:00:00'\n",
       "    '1994-05-25 00:00:00'\n",
       "    '1994-05-26 00:00:00'\n",
       "    '1994-05-27 00:00:00'\n",
       "    '1994-05-28 00:00:00'\n",
       "    '1994-05-29 00:00:00'\n",
       "    '1994-05-30 00:00:00'\n",
       "    '1994-05-31 00:00:00'\n",
       "    '1994-06-01 00:00:00'\n",
       "    '1994-06-02 00:00:00'\n",
       "    '1994-06-03 00:00:00'\n",
       "    '1994-06-04 00:00:00'\n",
       "    '1994-06-05 00:00:00'\n",
       "    '1994-06-06 00:00:00'\n",
       "    '1994-06-07 00:00:00'\n",
       "    '1994-06-08 00:00:00'\n",
       "    '1994-06-09 00:00:00'\n",
       "    '1994-06-10 00:00:00'\n",
       "    '1994-06-11 00:00:00'\n",
       "    '1994-06-12 00:00:00'\n",
       "    '1994-06-13 00:00:00'\n",
       "    '1994-06-14 00:00:00'\n",
       "    '1994-06-15 00:00:00'\n",
       "    '1994-06-16 00:00:00'\n",
       "    '1994-06-17 00:00:00'\n",
       "    '1994-06-18 00:00:00'\n",
       "    '1994-06-19 00:00:00'\n",
       "    '1994-06-20 00:00:00'\n",
       "    '1994-06-21 00:00:00'\n",
       "    '1994-06-22 00:00:00'\n",
       "    '1994-06-23 00:00:00'\n",
       "    '1994-06-24 00:00:00'\n",
       "    '1994-06-25 00:00:00'\n",
       "    '1994-06-26 00:00:00'\n",
       "    '1994-06-27 00:00:00'\n",
       "    '1994-06-28 00:00:00'\n",
       "    '1994-06-29 00:00:00'\n",
       "    '1994-06-30 00:00:00'\n",
       "    '1994-07-01 00:00:00'\n",
       "    '1994-07-02 00:00:00'\n",
       "    '1994-07-03 00:00:00'\n",
       "    '1994-07-04 00:00:00'\n",
       "    '1994-07-05 00:00:00'\n",
       "    '1994-07-06 00:00:00'\n",
       "    '1994-07-07 00:00:00'\n",
       "    '1994-07-08 00:00:00'\n",
       "    '1994-07-09 00:00:00'\n",
       "    '1994-07-10 00:00:00'\n",
       "    '1994-07-11 00:00:00'\n",
       "    '1994-07-12 00:00:00'\n",
       "    '1994-07-13 00:00:00'\n",
       "    '1994-07-14 00:00:00'\n",
       "    '1994-07-15 00:00:00'\n",
       "    '1994-07-16 00:00:00'\n",
       "    '1994-07-17 00:00:00'\n",
       "    '1994-07-18 00:00:00'\n",
       "    '1994-07-19 00:00:00'\n",
       "    '1994-07-20 00:00:00'\n",
       "    '1994-07-21 00:00:00'\n",
       "    '1994-07-22 00:00:00'\n",
       "    '1994-07-23 00:00:00'\n",
       "    '1994-07-24 00:00:00'\n",
       "    '1994-07-25 00:00:00'\n",
       "    '1994-07-26 00:00:00'\n",
       "    '1994-07-27 00:00:00'\n",
       "    '1994-07-28 00:00:00'\n",
       "    '1994-07-29 00:00:00'\n",
       "    '1994-07-30 00:00:00'\n",
       "    '1994-07-31 00:00:00'\n",
       "    '1994-08-01 00:00:00'\n",
       "    '1994-08-02 00:00:00'\n",
       "    '1994-08-03 00:00:00'\n",
       "    '1994-08-04 00:00:00'\n",
       "    '1994-08-05 00:00:00'\n",
       "    '1994-08-06 00:00:00'\n",
       "    '1994-08-07 00:00:00'\n",
       "    '1994-08-08 00:00:00'\n",
       "    '1994-08-09 00:00:00'\n",
       "    '1994-08-10 00:00:00'\n",
       "    '1994-08-11 00:00:00'\n",
       "    '1994-08-12 00:00:00'\n",
       "    '1994-08-13 00:00:00'\n",
       "    '1994-08-14 00:00:00'\n",
       "    '1994-08-15 00:00:00'\n",
       "    '1994-08-16 00:00:00'\n",
       "    '1994-08-17 00:00:00'\n",
       "    '1994-08-18 00:00:00'\n",
       "    '1994-08-19 00:00:00'\n",
       "    '1994-08-20 00:00:00'\n",
       "    '1994-08-21 00:00:00'\n",
       "    '1994-08-22 00:00:00'\n",
       "    '1994-08-23 00:00:00'\n",
       "    '1994-08-24 00:00:00'\n",
       "    '1994-08-25 00:00:00'\n",
       "    '1994-08-26 00:00:00'\n",
       "    '1994-08-27 00:00:00'\n",
       "    '1994-08-28 00:00:00'\n",
       "    '1994-08-29 00:00:00'\n",
       "    '1994-08-30 00:00:00'\n",
       "    '1994-08-31 00:00:00'\n",
       "    '1994-09-01 00:00:00'\n",
       "    '1994-09-02 00:00:00'\n",
       "    '1994-09-03 00:00:00'\n",
       "    '1994-09-04 00:00:00'\n",
       "    '1994-09-05 00:00:00'\n",
       "    '1994-09-06 00:00:00'\n",
       "    '1994-09-07 00:00:00'\n",
       "    '1994-09-08 00:00:00'\n",
       "    '1994-09-09 00:00:00'\n",
       "    '1994-09-10 00:00:00'\n",
       "    '1994-09-11 00:00:00'\n",
       "    '1994-09-12 00:00:00'\n",
       "    '1994-09-13 00:00:00'\n",
       "    '1994-09-14 00:00:00'\n",
       "    '1994-09-15 00:00:00'\n",
       "    '1994-09-16 00:00:00'\n",
       "    '1994-09-17 00:00:00'\n",
       "    '1994-09-18 00:00:00'\n",
       "    '1994-09-19 00:00:00'\n",
       "    '1994-09-20 00:00:00'\n",
       "    '1994-09-21 00:00:00'\n",
       "    '1994-09-22 00:00:00'\n",
       "    '1994-09-23 00:00:00'\n",
       "    '1994-09-24 00:00:00'\n",
       "    '1994-09-25 00:00:00'\n",
       "    '1994-09-26 00:00:00'\n",
       "    '1994-09-27 00:00:00'\n",
       "    '1994-09-28 00:00:00'\n",
       "    '1994-09-29 00:00:00'\n",
       "    '1994-09-30 00:00:00'\n",
       "    '1994-10-01 00:00:00'\n",
       "    '1994-10-02 00:00:00'\n",
       "    '1994-10-03 00:00:00'\n",
       "    '1994-10-04 00:00:00'\n",
       "    '1994-10-05 00:00:00'\n",
       "    '1994-10-06 00:00:00'\n",
       "    '1994-10-07 00:00:00'\n",
       "    '1994-10-08 00:00:00'\n",
       "    '1994-10-09 00:00:00'\n",
       "    '1994-10-10 00:00:00'\n",
       "    '1994-10-11 00:00:00'\n",
       "    '1994-10-12 00:00:00'\n",
       "    '1994-10-13 00:00:00'\n",
       "    '1994-10-14 00:00:00'\n",
       "    '1994-10-15 00:00:00'\n",
       "    '1994-10-16 00:00:00'\n",
       "    '1994-10-17 00:00:00'\n",
       "    '1994-10-18 00:00:00'\n",
       "    '1994-10-19 00:00:00'\n",
       "    '1994-10-20 00:00:00'\n",
       "    '1994-10-21 00:00:00'\n",
       "    '1994-10-22 00:00:00'\n",
       "    '1994-10-23 00:00:00'\n",
       "    '1994-10-24 00:00:00'\n",
       "    '1994-10-25 00:00:00'\n",
       "    '1994-10-26 00:00:00'\n",
       "    '1994-10-27 00:00:00'\n",
       "    '1994-10-28 00:00:00'\n",
       "    '1994-10-29 00:00:00'\n",
       "    '1994-10-30 00:00:00'\n",
       "    '1994-10-31 00:00:00'\n",
       "    '1994-11-01 00:00:00'\n",
       "    '1994-11-02 00:00:00'\n",
       "    '1994-11-03 00:00:00'\n",
       "    '1994-11-04 00:00:00'\n",
       "    '1994-11-05 00:00:00'\n",
       "    '1994-11-06 00:00:00'\n",
       "    '1994-11-07 00:00:00'\n",
       "    '1994-11-08 00:00:00'\n",
       "    '1994-11-09 00:00:00'\n",
       "    '1994-11-10 00:00:00'\n",
       "    '1994-11-11 00:00:00'\n",
       "    '1994-11-12 00:00:00'\n",
       "    '1994-11-13 00:00:00'\n",
       "    '1994-11-14 00:00:00'\n",
       "    '1994-11-15 00:00:00'\n",
       "    '1994-11-16 00:00:00'\n",
       "    '1994-11-17 00:00:00'\n",
       "    '1994-11-18 00:00:00'\n",
       "    '1994-11-19 00:00:00'\n",
       "    '1994-11-20 00:00:00'\n",
       "    '1994-11-21 00:00:00'\n",
       "    '1994-11-22 00:00:00'\n",
       "    '1994-11-23 00:00:00'\n",
       "    '1994-11-24 00:00:00'\n",
       "    '1994-11-25 00:00:00'\n",
       "    '1994-11-26 00:00:00'\n",
       "    '1994-11-27 00:00:00'\n",
       "    '1994-11-28 00:00:00'\n",
       "    '1994-11-29 00:00:00'\n",
       "    '1994-11-30 00:00:00'\n",
       "    '1994-12-01 00:00:00'\n",
       "    '1994-12-02 00:00:00'\n",
       "    '1994-12-03 00:00:00'\n",
       "    '1994-12-04 00:00:00'\n",
       "    '1994-12-05 00:00:00'\n",
       "    '1994-12-06 00:00:00'\n",
       "    '1994-12-07 00:00:00'\n",
       "    '1994-12-08 00:00:00'\n",
       "    '1994-12-09 00:00:00'\n",
       "    '1994-12-10 00:00:00'\n",
       "    '1994-12-11 00:00:00'\n",
       "    '1994-12-12 00:00:00'\n",
       "    '1994-12-13 00:00:00'\n",
       "    '1994-12-14 00:00:00'\n",
       "    '1994-12-15 00:00:00'\n",
       "    '1994-12-16 00:00:00'\n",
       "    '1994-12-17 00:00:00'\n",
       "    '1994-12-18 00:00:00'\n",
       "    '1994-12-19 00:00:00'\n",
       "    '1994-12-20 00:00:00'\n",
       "    '1994-12-21 00:00:00'\n",
       "    '1994-12-22 00:00:00'\n",
       "    '1994-12-23 00:00:00'\n",
       "    '1994-12-24 00:00:00'\n",
       "    '1994-12-25 00:00:00'\n",
       "    '1994-12-26 00:00:00'\n",
       "    '1994-12-27 00:00:00'\n",
       "    '1994-12-28 00:00:00'\n",
       "    '1994-12-29 00:00:00'\n",
       "    '1994-12-30 00:00:00'\n",
       "    '1994-12-31 00:00:00'\n",
       "    '1995-01-01 00:00:00'\n",
       "    '1995-01-02 00:00:00'\n",
       "    '1995-01-03 00:00:00'\n",
       "    '1995-01-04 00:00:00'\n",
       "    '1995-01-05 00:00:00'\n",
       "    '1995-01-06 00:00:00'\n",
       "    '1995-01-07 00:00:00'\n",
       "    '1995-01-08 00:00:00'\n",
       "    '1995-01-09 00:00:00'\n",
       "    '1995-01-10 00:00:00'\n",
       "    '1995-01-11 00:00:00'\n",
       "    '1995-01-12 00:00:00'\n",
       "    '1995-01-13 00:00:00'\n",
       "    '1995-01-14 00:00:00'\n",
       "    '1995-01-15 00:00:00'\n",
       "    '1995-01-16 00:00:00'\n",
       "    '1995-01-17 00:00:00'\n",
       "    '1995-01-18 00:00:00'\n",
       "    '1995-01-19 00:00:00'\n",
       "    '1995-01-20 00:00:00'\n",
       "    '1995-01-21 00:00:00'\n",
       "    '1995-01-22 00:00:00'\n",
       "    '1995-01-23 00:00:00'\n",
       "    '1995-01-24 00:00:00'\n",
       "    '1995-01-25 00:00:00'\n",
       "    '1995-01-26 00:00:00'\n",
       "    '1995-01-27 00:00:00'\n",
       "    '1995-01-28 00:00:00'\n",
       "    '1995-01-29 00:00:00'\n",
       "    '1995-01-30 00:00:00'\n",
       "    '1995-01-31 00:00:00'\n",
       "    '1995-02-01 00:00:00'\n",
       "    '1995-02-02 00:00:00'\n",
       "    '1995-02-03 00:00:00'\n",
       "    '1995-02-04 00:00:00'\n",
       "    '1995-02-05 00:00:00'\n",
       "    '1995-02-06 00:00:00'\n",
       "    '1995-02-07 00:00:00'\n",
       "    '1995-02-08 00:00:00'\n",
       "    '1995-02-09 00:00:00'\n",
       "    '1995-02-10 00:00:00'\n",
       "    '1995-02-11 00:00:00'\n",
       "    '1995-02-12 00:00:00'\n",
       "    '1995-02-13 00:00:00'\n",
       "    '1995-02-14 00:00:00'\n",
       "    '1995-02-15 00:00:00'\n",
       "    '1995-02-16 00:00:00'\n",
       "    '1995-02-17 00:00:00'\n",
       "    '1995-02-18 00:00:00'\n",
       "    '1995-02-19 00:00:00'\n",
       "    '1995-02-20 00:00:00'\n",
       "    '1995-02-21 00:00:00'\n",
       "    '1995-02-22 00:00:00'\n",
       "    '1995-02-23 00:00:00'\n",
       "    '1995-02-24 00:00:00'\n",
       "    '1995-02-25 00:00:00'\n",
       "    '1995-02-26 00:00:00'\n",
       "    '1995-02-27 00:00:00'\n",
       "    '1995-02-28 00:00:00'\n",
       "    '1995-03-01 00:00:00'\n",
       "    '1995-03-02 00:00:00'\n",
       "    '1995-03-03 00:00:00'\n",
       "    '1995-03-04 00:00:00'\n",
       "    '1995-03-05 00:00:00'\n",
       "    '1995-03-06 00:00:00'\n",
       "    '1995-03-07 00:00:00'\n",
       "    '1995-03-08 00:00:00'\n",
       "    '1995-03-09 00:00:00'\n",
       "    '1995-03-10 00:00:00'\n",
       "    '1995-03-11 00:00:00'\n",
       "    '1995-03-12 00:00:00'\n",
       "    '1995-03-13 00:00:00'\n",
       "    '1995-03-14 00:00:00'\n",
       "    '1995-03-15 00:00:00'\n",
       "    '1995-03-16 00:00:00'\n",
       "    '1995-03-17 00:00:00'\n",
       "    '1995-03-18 00:00:00'\n",
       "    '1995-03-19 00:00:00'\n",
       "    '1995-03-20 00:00:00'\n",
       "    '1995-03-21 00:00:00'\n",
       "    '1995-03-22 00:00:00'\n",
       "    '1995-03-23 00:00:00'\n",
       "    '1995-03-24 00:00:00'\n",
       "    '1995-03-25 00:00:00'\n",
       "    '1995-03-26 00:00:00'\n",
       "    '1995-03-27 00:00:00'\n",
       "    '1995-03-28 00:00:00'\n",
       "    '1995-03-29 00:00:00'\n",
       "    '1995-03-30 00:00:00'\n",
       "    '1995-03-31 00:00:00'\n",
       "    '1995-04-01 00:00:00'\n",
       "    '1995-04-02 00:00:00'\n",
       "    '1995-04-03 00:00:00'\n",
       "    '1995-04-04 00:00:00'\n",
       "    '1995-04-05 00:00:00'\n",
       "    '1995-04-06 00:00:00'\n",
       "    '1995-04-07 00:00:00'\n",
       "    '1995-04-08 00:00:00'\n",
       "    '1995-04-09 00:00:00'\n",
       "    '1995-04-10 00:00:00'\n",
       "    '1995-04-11 00:00:00'\n",
       "    '1995-04-12 00:00:00'\n",
       "    '1995-04-13 00:00:00'\n",
       "    '1995-04-14 00:00:00'\n",
       "    '1995-04-15 00:00:00'\n",
       "    '1995-04-16 00:00:00'\n",
       "    '1995-04-17 00:00:00'\n",
       "    '1995-04-18 00:00:00'\n",
       "    '1995-04-19 00:00:00'\n",
       "    '1995-04-20 00:00:00'\n",
       "    '1995-04-21 00:00:00'\n",
       "    '1995-04-22 00:00:00'\n",
       "    '1995-04-23 00:00:00'\n",
       "    '1995-04-24 00:00:00'\n",
       "    '1995-04-25 00:00:00'\n",
       "    '1995-04-26 00:00:00'\n",
       "    '1995-04-27 00:00:00'\n",
       "    '1995-04-28 00:00:00'\n",
       "    '1995-04-29 00:00:00'\n",
       "    '1995-04-30 00:00:00'\n",
       "    '1995-05-01 00:00:00'\n",
       "    '1995-05-02 00:00:00'\n",
       "    '1995-05-03 00:00:00'\n",
       "    '1995-05-04 00:00:00'\n",
       "    '1995-05-05 00:00:00'\n",
       "    '1995-05-06 00:00:00'\n",
       "    '1995-05-07 00:00:00'\n",
       "    '1995-05-08 00:00:00'\n",
       "    '1995-05-09 00:00:00'\n",
       "    '1995-05-10 00:00:00'\n",
       "    '1995-05-11 00:00:00'\n",
       "    '1995-05-12 00:00:00'\n",
       "    '1995-05-13 00:00:00'\n",
       "    '1995-05-14 00:00:00'\n",
       "    '1995-05-15 00:00:00'\n",
       "    '1995-05-16 00:00:00'\n",
       "    '1995-05-17 00:00:00'\n",
       "    '1995-05-18 00:00:00'\n",
       "    '1995-05-19 00:00:00'\n",
       "    '1995-05-20 00:00:00'\n",
       "    '1995-05-21 00:00:00'\n",
       "    '1995-05-22 00:00:00'\n",
       "    '1995-05-23 00:00:00'\n",
       "    '1995-05-24 00:00:00'\n",
       "    '1995-05-25 00:00:00'\n",
       "    '1995-05-26 00:00:00'\n",
       "    '1995-05-27 00:00:00'\n",
       "    '1995-05-28 00:00:00'\n",
       "    '1995-05-29 00:00:00'\n",
       "    '1995-05-30 00:00:00'\n",
       "    '1995-05-31 00:00:00'\n",
       "    '1995-06-01 00:00:00'\n",
       "    '1995-06-02 00:00:00'\n",
       "    '1995-06-03 00:00:00'\n",
       "    '1995-06-04 00:00:00'\n",
       "    '1995-06-05 00:00:00'\n",
       "    '1995-06-06 00:00:00'\n",
       "    '1995-06-07 00:00:00'\n",
       "    '1995-06-08 00:00:00'\n",
       "    '1995-06-09 00:00:00'\n",
       "    '1995-06-10 00:00:00'\n",
       "    '1995-06-11 00:00:00'\n",
       "    '1995-06-12 00:00:00'\n",
       "    '1995-06-13 00:00:00'\n",
       "    '1995-06-14 00:00:00'\n",
       "    '1995-06-15 00:00:00'\n",
       "    '1995-06-16 00:00:00'\n",
       "    '1995-06-17 00:00:00'\n",
       "    '1995-06-18 00:00:00'\n",
       "    '1995-06-19 00:00:00'\n",
       "    '1995-06-20 00:00:00'\n",
       "    '1995-06-21 00:00:00'\n",
       "    '1995-06-22 00:00:00'\n",
       "    '1995-06-23 00:00:00'\n",
       "    '1995-06-24 00:00:00'\n",
       "    '1995-06-25 00:00:00'\n",
       "    '1995-06-26 00:00:00'\n",
       "    '1995-06-27 00:00:00'\n",
       "    '1995-06-28 00:00:00'\n",
       "    '1995-06-29 00:00:00'\n",
       "    '1995-06-30 00:00:00'\n",
       "    '1995-07-01 00:00:00'\n",
       "    '1995-07-02 00:00:00'\n",
       "    '1995-07-03 00:00:00'\n",
       "    '1995-07-04 00:00:00'\n",
       "    '1995-07-05 00:00:00'\n",
       "    '1995-07-06 00:00:00'\n",
       "    '1995-07-07 00:00:00'\n",
       "    '1995-07-08 00:00:00'\n",
       "    '1995-07-09 00:00:00'\n",
       "    '1995-07-10 00:00:00'\n",
       "    '1995-07-11 00:00:00'\n",
       "    '1995-07-12 00:00:00'\n",
       "    '1995-07-13 00:00:00'\n",
       "    '1995-07-14 00:00:00'\n",
       "    '1995-07-15 00:00:00'\n",
       "    '1995-07-16 00:00:00'\n",
       "    '1995-07-17 00:00:00'\n",
       "    '1995-07-18 00:00:00'\n",
       "    '1995-07-19 00:00:00'\n",
       "    '1995-07-20 00:00:00'\n",
       "    '1995-07-21 00:00:00'\n",
       "    '1995-07-22 00:00:00'\n",
       "    '1995-07-23 00:00:00'\n",
       "    '1995-07-24 00:00:00'\n",
       "    '1995-07-25 00:00:00'\n",
       "    '1995-07-26 00:00:00'\n",
       "    '1995-07-27 00:00:00'\n",
       "    '1995-07-28 00:00:00'\n",
       "    '1995-07-29 00:00:00'\n",
       "    '1995-07-30 00:00:00'\n",
       "    '1995-07-31 00:00:00'\n",
       "    '1995-08-01 00:00:00'\n",
       "    '1995-08-02 00:00:00'\n",
       "    '1995-08-03 00:00:00'\n",
       "    '1995-08-04 00:00:00'\n",
       "    '1995-08-05 00:00:00'\n",
       "    '1995-08-06 00:00:00'\n",
       "    '1995-08-07 00:00:00'\n",
       "    '1995-08-08 00:00:00'\n",
       "    '1995-08-09 00:00:00'\n",
       "    '1995-08-10 00:00:00'\n",
       "    '1995-08-11 00:00:00'\n",
       "    '1995-08-12 00:00:00'\n",
       "    '1995-08-13 00:00:00'\n",
       "    '1995-08-14 00:00:00'\n",
       "    '1995-08-15 00:00:00'\n",
       "    '1995-08-16 00:00:00'\n",
       "    '1995-08-17 00:00:00'\n",
       "    '1995-08-18 00:00:00'\n",
       "    '1995-08-19 00:00:00'\n",
       "    '1995-08-20 00:00:00'\n",
       "    '1995-08-21 00:00:00'\n",
       "    '1995-08-22 00:00:00'\n",
       "    '1995-08-23 00:00:00'\n",
       "    '1995-08-24 00:00:00'\n",
       "    '1995-08-25 00:00:00'\n",
       "    '1995-08-26 00:00:00'\n",
       "    '1995-08-27 00:00:00'\n",
       "    '1995-08-28 00:00:00'\n",
       "    '1995-08-29 00:00:00'\n",
       "    '1995-08-30 00:00:00'\n",
       "    '1995-08-31 00:00:00'\n",
       "    '1995-09-01 00:00:00'\n",
       "    '1995-09-02 00:00:00'\n",
       "    '1995-09-03 00:00:00'\n",
       "    '1995-09-04 00:00:00'\n",
       "    '1995-09-05 00:00:00'\n",
       "    '1995-09-06 00:00:00'\n",
       "    '1995-09-07 00:00:00'\n",
       "    '1995-09-08 00:00:00'\n",
       "    '1995-09-09 00:00:00'\n",
       "    '1995-09-10 00:00:00'\n",
       "    '1995-09-11 00:00:00'\n",
       "    '1995-09-12 00:00:00'\n",
       "    '1995-09-13 00:00:00'\n",
       "    '1995-09-14 00:00:00'\n",
       "    '1995-09-15 00:00:00'\n",
       "    '1995-09-16 00:00:00'\n",
       "    '1995-09-17 00:00:00'\n",
       "    '1995-09-18 00:00:00'\n",
       "    '1995-09-19 00:00:00'\n",
       "    '1995-09-20 00:00:00'\n",
       "    '1995-09-21 00:00:00'\n",
       "    '1995-09-22 00:00:00'\n",
       "    '1995-09-23 00:00:00'\n",
       "    '1995-09-24 00:00:00'\n",
       "    '1995-09-25 00:00:00'\n",
       "    '1995-09-26 00:00:00'\n",
       "    '1995-09-27 00:00:00'\n",
       "    '1995-09-28 00:00:00'\n",
       "    '1995-09-29 00:00:00'\n",
       "    '1995-09-30 00:00:00'\n",
       "    '1995-10-01 00:00:00'\n",
       "    '1995-10-02 00:00:00'\n",
       "    '1995-10-03 00:00:00'\n",
       "    '1995-10-04 00:00:00'\n",
       "    '1995-10-05 00:00:00'\n",
       "    '1995-10-06 00:00:00'\n",
       "    '1995-10-07 00:00:00'\n",
       "    '1995-10-08 00:00:00'\n",
       "    '1995-10-09 00:00:00'\n",
       "    '1995-10-10 00:00:00'\n",
       "    '1995-10-11 00:00:00'\n",
       "    '1995-10-12 00:00:00'\n",
       "    '1995-10-13 00:00:00'\n",
       "    '1995-10-14 00:00:00'\n",
       "    '1995-10-15 00:00:00'\n",
       "    '1995-10-16 00:00:00'\n",
       "    '1995-10-17 00:00:00'\n",
       "    '1995-10-18 00:00:00'\n",
       "    '1995-10-19 00:00:00'\n",
       "    '1995-10-20 00:00:00'\n",
       "    '1995-10-21 00:00:00'\n",
       "    '1995-10-22 00:00:00'\n",
       "    '1995-10-23 00:00:00'\n",
       "    '1995-10-24 00:00:00'\n",
       "    '1995-10-25 00:00:00'\n",
       "    '1995-10-26 00:00:00'\n",
       "    '1995-10-27 00:00:00'\n",
       "    '1995-10-28 00:00:00'\n",
       "    '1995-10-29 00:00:00'\n",
       "    '1995-10-30 00:00:00'\n",
       "    '1995-10-31 00:00:00'\n",
       "    '1995-11-01 00:00:00'\n",
       "    '1995-11-02 00:00:00'\n",
       "    '1995-11-03 00:00:00'\n",
       "    '1995-11-04 00:00:00'\n",
       "    '1995-11-05 00:00:00'\n",
       "    '1995-11-06 00:00:00'\n",
       "    '1995-11-07 00:00:00'\n",
       "    '1995-11-08 00:00:00'\n",
       "    '1995-11-09 00:00:00'\n",
       "    '1995-11-10 00:00:00'\n",
       "    '1995-11-11 00:00:00'\n",
       "    '1995-11-12 00:00:00'\n",
       "    '1995-11-13 00:00:00'\n",
       "    '1995-11-14 00:00:00'\n",
       "    '1995-11-15 00:00:00'\n",
       "    '1995-11-16 00:00:00'\n",
       "    '1995-11-17 00:00:00'\n",
       "    '1995-11-18 00:00:00'\n",
       "    '1995-11-19 00:00:00'\n",
       "    '1995-11-20 00:00:00'\n",
       "    '1995-11-21 00:00:00'\n",
       "    '1995-11-22 00:00:00'\n",
       "    '1995-11-23 00:00:00'\n",
       "    '1995-11-24 00:00:00'\n",
       "    '1995-11-25 00:00:00'\n",
       "    '1995-11-26 00:00:00'\n",
       "    '1995-11-27 00:00:00'\n",
       "    '1995-11-28 00:00:00'\n",
       "    '1995-11-29 00:00:00'\n",
       "    '1995-11-30 00:00:00'\n",
       "    '1995-12-01 00:00:00'\n",
       "    '1995-12-02 00:00:00'\n",
       "    '1995-12-03 00:00:00'\n",
       "    '1995-12-04 00:00:00'\n",
       "    '1995-12-05 00:00:00'\n",
       "    '1995-12-06 00:00:00'\n",
       "    '1995-12-07 00:00:00'\n",
       "    '1995-12-08 00:00:00'\n",
       "    '1995-12-09 00:00:00'\n",
       "    '1995-12-10 00:00:00'\n",
       "    '1995-12-11 00:00:00'\n",
       "    '1995-12-12 00:00:00'\n",
       "    '1995-12-13 00:00:00'\n",
       "    '1995-12-14 00:00:00'\n",
       "    '1995-12-15 00:00:00'\n",
       "    '1995-12-16 00:00:00'\n",
       "    '1995-12-17 00:00:00'\n",
       "    '1995-12-18 00:00:00'\n",
       "    '1995-12-19 00:00:00'\n",
       "    '1995-12-20 00:00:00'\n",
       "    '1995-12-21 00:00:00'\n",
       "    '1995-12-22 00:00:00'\n",
       "    '1995-12-23 00:00:00'\n",
       "    '1995-12-24 00:00:00'\n",
       "    '1995-12-25 00:00:00'\n",
       "    '1995-12-26 00:00:00'\n",
       "    '1995-12-27 00:00:00'\n",
       "    '1995-12-28 00:00:00'\n",
       "    '1995-12-29 00:00:00'\n",
       "    '1995-12-30 00:00:00'\n",
       "    '1995-12-31 00:00:00'\n",
       "    '1996-01-01 00:00:00'\n",
       "    '1996-01-02 00:00:00'\n",
       "    '1996-01-03 00:00:00'\n",
       "    '1996-01-04 00:00:00'\n",
       "    '1996-01-05 00:00:00'\n",
       "    '1996-01-06 00:00:00'\n",
       "    '1996-01-07 00:00:00'\n",
       "    '1996-01-08 00:00:00'\n",
       "    '1996-01-09 00:00:00'\n",
       "    '1996-01-10 00:00:00'\n",
       "    '1996-01-11 00:00:00'\n",
       "    '1996-01-12 00:00:00'\n",
       "    '1996-01-13 00:00:00'\n",
       "    '1996-01-14 00:00:00'\n",
       "    '1996-01-15 00:00:00'\n",
       "    '1996-01-16 00:00:00'\n",
       "    '1996-01-17 00:00:00'\n",
       "    '1996-01-18 00:00:00'\n",
       "    '1996-01-19 00:00:00'\n",
       "    '1996-01-20 00:00:00'\n",
       "    '1996-01-21 00:00:00'\n",
       "    '1996-01-22 00:00:00'\n",
       "    '1996-01-23 00:00:00'\n",
       "    '1996-01-24 00:00:00'\n",
       "    '1996-01-25 00:00:00'\n",
       "    '1996-01-26 00:00:00'\n",
       "    '1996-01-27 00:00:00'\n",
       "    '1996-01-28 00:00:00'\n",
       "    '1996-01-29 00:00:00'\n",
       "    '1996-01-30 00:00:00'\n",
       "    '1996-01-31 00:00:00'\n",
       "    '1996-02-01 00:00:00'\n",
       "    '1996-02-02 00:00:00'\n",
       "    '1996-02-03 00:00:00'\n",
       "    '1996-02-04 00:00:00'\n",
       "    '1996-02-05 00:00:00'\n",
       "    '1996-02-06 00:00:00'\n",
       "    '1996-02-07 00:00:00'\n",
       "    '1996-02-08 00:00:00'\n",
       "    '1996-02-09 00:00:00'\n",
       "    '1996-02-10 00:00:00'\n",
       "    '1996-02-11 00:00:00'\n",
       "    '1996-02-12 00:00:00'\n",
       "    '1996-02-13 00:00:00'\n",
       "    '1996-02-14 00:00:00'\n",
       "    '1996-02-15 00:00:00'\n",
       "    '1996-02-16 00:00:00'\n",
       "    '1996-02-17 00:00:00'\n",
       "    '1996-02-18 00:00:00'\n",
       "    '1996-02-19 00:00:00'\n",
       "    '1996-02-20 00:00:00'\n",
       "    '1996-02-21 00:00:00'\n",
       "    '1996-02-22 00:00:00'\n",
       "    '1996-02-23 00:00:00'\n",
       "    '1996-02-24 00:00:00'\n",
       "    '1996-02-25 00:00:00'\n",
       "    '1996-02-26 00:00:00'\n",
       "    '1996-02-27 00:00:00'\n",
       "    '1996-02-28 00:00:00'\n",
       "    '1996-02-29 00:00:00'\n",
       "    '1996-03-01 00:00:00'\n",
       "    '1996-03-02 00:00:00'\n",
       "    '1996-03-03 00:00:00'\n",
       "    '1996-03-04 00:00:00'\n",
       "    '1996-03-05 00:00:00'\n",
       "    '1996-03-06 00:00:00'\n",
       "    '1996-03-07 00:00:00'\n",
       "    '1996-03-08 00:00:00'\n",
       "    '1996-03-09 00:00:00'\n",
       "    '1996-03-10 00:00:00'\n",
       "    '1996-03-11 00:00:00'\n",
       "    '1996-03-12 00:00:00'\n",
       "    '1996-03-13 00:00:00'\n",
       "    '1996-03-14 00:00:00'\n",
       "    '1996-03-15 00:00:00'\n",
       "    '1996-03-16 00:00:00'\n",
       "    '1996-03-17 00:00:00'\n",
       "    '1996-03-18 00:00:00'\n",
       "    '1996-03-19 00:00:00'\n",
       "    '1996-03-20 00:00:00'\n",
       "    '1996-03-21 00:00:00'\n",
       "    '1996-03-22 00:00:00'\n",
       "    '1996-03-23 00:00:00'\n",
       "    '1996-03-24 00:00:00'\n",
       "    '1996-03-25 00:00:00'\n",
       "    '1996-03-26 00:00:00'\n",
       "    '1996-03-27 00:00:00'\n",
       "    '1996-03-28 00:00:00'\n",
       "    '1996-03-29 00:00:00'\n",
       "    '1996-03-30 00:00:00'\n",
       "    '1996-03-31 00:00:00'\n",
       "    '1996-04-01 00:00:00'\n",
       "    '1996-04-02 00:00:00'\n",
       "    '1996-04-03 00:00:00'\n",
       "    '1996-04-04 00:00:00'\n",
       "    '1996-04-05 00:00:00'\n",
       "    '1996-04-06 00:00:00'\n",
       "    '1996-04-07 00:00:00'\n",
       "    '1996-04-08 00:00:00'\n",
       "    '1996-04-09 00:00:00'\n",
       "    '1996-04-10 00:00:00'\n",
       "    '1996-04-11 00:00:00'\n",
       "    '1996-04-12 00:00:00'\n",
       "    '1996-04-13 00:00:00'\n",
       "    '1996-04-14 00:00:00'\n",
       "    '1996-04-15 00:00:00'\n",
       "    '1996-04-16 00:00:00'\n",
       "    '1996-04-17 00:00:00'\n",
       "    '1996-04-18 00:00:00'\n",
       "    '1996-04-19 00:00:00'\n",
       "    '1996-04-20 00:00:00'\n",
       "    '1996-04-21 00:00:00'\n",
       "    '1996-04-22 00:00:00'\n",
       "    '1996-04-23 00:00:00'\n",
       "    '1996-04-24 00:00:00'\n",
       "    '1996-04-25 00:00:00'</pre></body></html>"
      ],
      "text/plain": [
       "time_str = 9131x19 char array\n",
       "   '1990-01-01 00:00:00'\n",
       "    '1990-01-02 00:00:00'\n",
       "    '1990-01-03 00:00:00'\n",
       "    '1990-01-04 00:00:00'\n",
       "    '1990-01-05 00:00:00'\n",
       "    '1990-01-06 00:00:00'\n",
       "    '1990-01-07 00:00:00'\n",
       "    '1990-01-08 00:00:00'\n",
       "    '1990-01-09 00:00:00'\n",
       "    '1990-01-10 00:00:00'\n",
       "    '1990-01-11 00:00:00'\n",
       "    '1990-01-12 00:00:00'\n",
       "    '1990-01-13 00:00:00'\n",
       "    '1990-01-14 00:00:00'\n",
       "    '1990-01-15 00:00:00'\n",
       "    '1990-01-16 00:00:00'\n",
       "    '1990-01-17 00:00:00'\n",
       "    '1990-01-18 00:00:00'\n",
       "    '1990-01-19 00:00:00'\n",
       "    '1990-01-20 00:00:00'\n",
       "    '1990-01-21 00:00:00'\n",
       "    '1990-01-22 00:00:00'\n",
       "    '1990-01-23 00:00:00'\n",
       "    '1990-01-24 00:00:00'\n",
       "    '1990-01-25 00:00:00'\n",
       "    '1990-01-26 00:00:00'\n",
       "    '1990-01-27 00:00:00'\n",
       "    '1990-01-28 00:00:00'\n",
       "    '1990-01-29 00:00:00'\n",
       "    '1990-01-30 00:00:00'\n",
       "    '1990-01-31 00:00:00'\n",
       "    '1990-02-01 00:00:00'\n",
       "    '1990-02-02 00:00:00'\n",
       "    '1990-02-03 00:00:00'\n",
       "    '1990-02-04 00:00:00'\n",
       "    '1990-02-05 00:00:00'\n",
       "    '1990-02-06 00:00:00'\n",
       "    '1990-02-07 00:00:00'\n",
       "    '1990-02-08 00:00:00'\n",
       "    '1990-02-09 00:00:00'\n",
       "    '1990-02-10 00:00:00'\n",
       "    '1990-02-11 00:00:00'\n",
       "    '1990-02-12 00:00:00'\n",
       "    '1990-02-13 00:00:00'\n",
       "    '1990-02-14 00:00:00'\n",
       "    '1990-02-15 00:00:00'\n",
       "    '1990-02-16 00:00:00'\n",
       "    '1990-02-17 00:00:00'\n",
       "    '1990-02-18 00:00:00'\n",
       "    '1990-02-19 00:00:00'\n",
       "    '1990-02-20 00:00:00'\n",
       "    '1990-02-21 00:00:00'\n",
       "    '1990-02-22 00:00:00'\n",
       "    '1990-02-23 00:00:00'\n",
       "    '1990-02-24 00:00:00'\n",
       "    '1990-02-25 00:00:00'\n",
       "    '1990-02-26 00:00:00'\n",
       "    '1990-02-27 00:00:00'\n",
       "    '1990-02-28 00:00:00'\n",
       "    '1990-03-01 00:00:00'\n",
       "    '1990-03-02 00:00:00'\n",
       "    '1990-03-03 00:00:00'\n",
       "    '1990-03-04 00:00:00'\n",
       "    '1990-03-05 00:00:00'\n",
       "    '1990-03-06 00:00:00'\n",
       "    '1990-03-07 00:00:00'\n",
       "    '1990-03-08 00:00:00'\n",
       "    '1990-03-09 00:00:00'\n",
       "    '1990-03-10 00:00:00'\n",
       "    '1990-03-11 00:00:00'\n",
       "    '1990-03-12 00:00:00'\n",
       "    '1990-03-13 00:00:00'\n",
       "    '1990-03-14 00:00:00'\n",
       "    '1990-03-15 00:00:00'\n",
       "    '1990-03-16 00:00:00'\n",
       "    '1990-03-17 00:00:00'\n",
       "    '1990-03-18 00:00:00'\n",
       "    '1990-03-19 00:00:00'\n",
       "    '1990-03-20 00:00:00'\n",
       "    '1990-03-21 00:00:00'\n",
       "    '1990-03-22 00:00:00'\n",
       "    '1990-03-23 00:00:00'\n",
       "    '1990-03-24 00:00:00'\n",
       "    '1990-03-25 00:00:00'\n",
       "    '1990-03-26 00:00:00'\n",
       "    '1990-03-27 00:00:00'\n",
       "    '1990-03-28 00:00:00'\n",
       "    '1990-03-29 00:00:00'\n",
       "    '1990-03-30 00:00:00'\n",
       "    '1990-03-31 00:00:00'\n",
       "    '1990-04-01 00:00:00'\n",
       "    '1990-04-02 00:00:00'\n",
       "    '1990-04-03 00:00:00'\n",
       "    '1990-04-04 00:00:00'\n",
       "    '1990-04-05 00:00:00'\n",
       "    '1990-04-06 00:00:00'\n",
       "    '1990-04-07 00:00:00'\n",
       "    '1990-04-08 00:00:00'\n",
       "    '1990-04-09 00:00:00'\n",
       "    '1990-04-10 00:00:00'\n",
       "    '1990-04-11 00:00:00'\n",
       "    '1990-04-12 00:00:00'\n",
       "    '1990-04-13 00:00:00'\n",
       "    '1990-04-14 00:00:00'\n",
       "    '1990-04-15 00:00:00'\n",
       "    '1990-04-16 00:00:00'\n",
       "    '1990-04-17 00:00:00'\n",
       "    '1990-04-18 00:00:00'\n",
       "    '1990-04-19 00:00:00'\n",
       "    '1990-04-20 00:00:00'\n",
       "    '1990-04-21 00:00:00'\n",
       "    '1990-04-22 00:00:00'\n",
       "    '1990-04-23 00:00:00'\n",
       "    '1990-04-24 00:00:00'\n",
       "    '1990-04-25 00:00:00'\n",
       "    '1990-04-26 00:00:00'\n",
       "    '1990-04-27 00:00:00'\n",
       "    '1990-04-28 00:00:00'\n",
       "    '1990-04-29 00:00:00'\n",
       "    '1990-04-30 00:00:00'\n",
       "    '1990-05-01 00:00:00'\n",
       "    '1990-05-02 00:00:00'\n",
       "    '1990-05-03 00:00:00'\n",
       "    '1990-05-04 00:00:00'\n",
       "    '1990-05-05 00:00:00'\n",
       "    '1990-05-06 00:00:00'\n",
       "    '1990-05-07 00:00:00'\n",
       "    '1990-05-08 00:00:00'\n",
       "    '1990-05-09 00:00:00'\n",
       "    '1990-05-10 00:00:00'\n",
       "    '1990-05-11 00:00:00'\n",
       "    '1990-05-12 00:00:00'\n",
       "    '1990-05-13 00:00:00'\n",
       "    '1990-05-14 00:00:00'\n",
       "    '1990-05-15 00:00:00'\n",
       "    '1990-05-16 00:00:00'\n",
       "    '1990-05-17 00:00:00'\n",
       "    '1990-05-18 00:00:00'\n",
       "    '1990-05-19 00:00:00'\n",
       "    '1990-05-20 00:00:00'\n",
       "    '1990-05-21 00:00:00'\n",
       "    '1990-05-22 00:00:00'\n",
       "    '1990-05-23 00:00:00'\n",
       "    '1990-05-24 00:00:00'\n",
       "    '1990-05-25 00:00:00'\n",
       "    '1990-05-26 00:00:00'\n",
       "    '1990-05-27 00:00:00'\n",
       "    '1990-05-28 00:00:00'\n",
       "    '1990-05-29 00:00:00'\n",
       "    '1990-05-30 00:00:00'\n",
       "    '1990-05-31 00:00:00'\n",
       "    '1990-06-01 00:00:00'\n",
       "    '1990-06-02 00:00:00'\n",
       "    '1990-06-03 00:00:00'\n",
       "    '1990-06-04 00:00:00'\n",
       "    '1990-06-05 00:00:00'\n",
       "    '1990-06-06 00:00:00'\n",
       "    '1990-06-07 00:00:00'\n",
       "    '1990-06-08 00:00:00'\n",
       "    '1990-06-09 00:00:00'\n",
       "    '1990-06-10 00:00:00'\n",
       "    '1990-06-11 00:00:00'\n",
       "    '1990-06-12 00:00:00'\n",
       "    '1990-06-13 00:00:00'\n",
       "    '1990-06-14 00:00:00'\n",
       "    '1990-06-15 00:00:00'\n",
       "    '1990-06-16 00:00:00'\n",
       "    '1990-06-17 00:00:00'\n",
       "    '1990-06-18 00:00:00'\n",
       "    '1990-06-19 00:00:00'\n",
       "    '1990-06-20 00:00:00'\n",
       "    '1990-06-21 00:00:00'\n",
       "    '1990-06-22 00:00:00'\n",
       "    '1990-06-23 00:00:00'\n",
       "    '1990-06-24 00:00:00'\n",
       "    '1990-06-25 00:00:00'\n",
       "    '1990-06-26 00:00:00'\n",
       "    '1990-06-27 00:00:00'\n",
       "    '1990-06-28 00:00:00'\n",
       "    '1990-06-29 00:00:00'\n",
       "    '1990-06-30 00:00:00'\n",
       "    '1990-07-01 00:00:00'\n",
       "    '1990-07-02 00:00:00'\n",
       "    '1990-07-03 00:00:00'\n",
       "    '1990-07-04 00:00:00'\n",
       "    '1990-07-05 00:00:00'\n",
       "    '1990-07-06 00:00:00'\n",
       "    '1990-07-07 00:00:00'\n",
       "    '1990-07-08 00:00:00'\n",
       "    '1990-07-09 00:00:00'\n",
       "    '1990-07-10 00:00:00'\n",
       "    '1990-07-11 00:00:00'\n",
       "    '1990-07-12 00:00:00'\n",
       "    '1990-07-13 00:00:00'\n",
       "    '1990-07-14 00:00:00'\n",
       "    '1990-07-15 00:00:00'\n",
       "    '1990-07-16 00:00:00'\n",
       "    '1990-07-17 00:00:00'\n",
       "    '1990-07-18 00:00:00'\n",
       "    '1990-07-19 00:00:00'\n",
       "    '1990-07-20 00:00:00'\n",
       "    '1990-07-21 00:00:00'\n",
       "    '1990-07-22 00:00:00'\n",
       "    '1990-07-23 00:00:00'\n",
       "    '1990-07-24 00:00:00'\n",
       "    '1990-07-25 00:00:00'\n",
       "    '1990-07-26 00:00:00'\n",
       "    '1990-07-27 00:00:00'\n",
       "    '1990-07-28 00:00:00'\n",
       "    '1990-07-29 00:00:00'\n",
       "    '1990-07-30 00:00:00'\n",
       "    '1990-07-31 00:00:00'\n",
       "    '1990-08-01 00:00:00'\n",
       "    '1990-08-02 00:00:00'\n",
       "    '1990-08-03 00:00:00'\n",
       "    '1990-08-04 00:00:00'\n",
       "    '1990-08-05 00:00:00'\n",
       "    '1990-08-06 00:00:00'\n",
       "    '1990-08-07 00:00:00'\n",
       "    '1990-08-08 00:00:00'\n",
       "    '1990-08-09 00:00:00'\n",
       "    '1990-08-10 00:00:00'\n",
       "    '1990-08-11 00:00:00'\n",
       "    '1990-08-12 00:00:00'\n",
       "    '1990-08-13 00:00:00'\n",
       "    '1990-08-14 00:00:00'\n",
       "    '1990-08-15 00:00:00'\n",
       "    '1990-08-16 00:00:00'\n",
       "    '1990-08-17 00:00:00'\n",
       "    '1990-08-18 00:00:00'\n",
       "    '1990-08-19 00:00:00'\n",
       "    '1990-08-20 00:00:00'\n",
       "    '1990-08-21 00:00:00'\n",
       "    '1990-08-22 00:00:00'\n",
       "    '1990-08-23 00:00:00'\n",
       "    '1990-08-24 00:00:00'\n",
       "    '1990-08-25 00:00:00'\n",
       "    '1990-08-26 00:00:00'\n",
       "    '1990-08-27 00:00:00'\n",
       "    '1990-08-28 00:00:00'\n",
       "    '1990-08-29 00:00:00'\n",
       "    '1990-08-30 00:00:00'\n",
       "    '1990-08-31 00:00:00'\n",
       "    '1990-09-01 00:00:00'\n",
       "    '1990-09-02 00:00:00'\n",
       "    '1990-09-03 00:00:00'\n",
       "    '1990-09-04 00:00:00'\n",
       "    '1990-09-05 00:00:00'\n",
       "    '1990-09-06 00:00:00'\n",
       "    '1990-09-07 00:00:00'\n",
       "    '1990-09-08 00:00:00'\n",
       "    '1990-09-09 00:00:00'\n",
       "    '1990-09-10 00:00:00'\n",
       "    '1990-09-11 00:00:00'\n",
       "    '1990-09-12 00:00:00'\n",
       "    '1990-09-13 00:00:00'\n",
       "    '1990-09-14 00:00:00'\n",
       "    '1990-09-15 00:00:00'\n",
       "    '1990-09-16 00:00:00'\n",
       "    '1990-09-17 00:00:00'\n",
       "    '1990-09-18 00:00:00'\n",
       "    '1990-09-19 00:00:00'\n",
       "    '1990-09-20 00:00:00'\n",
       "    '1990-09-21 00:00:00'\n",
       "    '1990-09-22 00:00:00'\n",
       "    '1990-09-23 00:00:00'\n",
       "    '1990-09-24 00:00:00'\n",
       "    '1990-09-25 00:00:00'\n",
       "    '1990-09-26 00:00:00'\n",
       "    '1990-09-27 00:00:00'\n",
       "    '1990-09-28 00:00:00'\n",
       "    '1990-09-29 00:00:00'\n",
       "    '1990-09-30 00:00:00'\n",
       "    '1990-10-01 00:00:00'\n",
       "    '1990-10-02 00:00:00'\n",
       "    '1990-10-03 00:00:00'\n",
       "    '1990-10-04 00:00:00'\n",
       "    '1990-10-05 00:00:00'\n",
       "    '1990-10-06 00:00:00'\n",
       "    '1990-10-07 00:00:00'\n",
       "    '1990-10-08 00:00:00'\n",
       "    '1990-10-09 00:00:00'\n",
       "    '1990-10-10 00:00:00'\n",
       "    '1990-10-11 00:00:00'\n",
       "    '1990-10-12 00:00:00'\n",
       "    '1990-10-13 00:00:00'\n",
       "    '1990-10-14 00:00:00'\n",
       "    '1990-10-15 00:00:00'\n",
       "    '1990-10-16 00:00:00'\n",
       "    '1990-10-17 00:00:00'\n",
       "    '1990-10-18 00:00:00'\n",
       "    '1990-10-19 00:00:00'\n",
       "    '1990-10-20 00:00:00'\n",
       "    '1990-10-21 00:00:00'\n",
       "    '1990-10-22 00:00:00'\n",
       "    '1990-10-23 00:00:00'\n",
       "    '1990-10-24 00:00:00'\n",
       "    '1990-10-25 00:00:00'\n",
       "    '1990-10-26 00:00:00'\n",
       "    '1990-10-27 00:00:00'\n",
       "    '1990-10-28 00:00:00'\n",
       "    '1990-10-29 00:00:00'\n",
       "    '1990-10-30 00:00:00'\n",
       "    '1990-10-31 00:00:00'\n",
       "    '1990-11-01 00:00:00'\n",
       "    '1990-11-02 00:00:00'\n",
       "    '1990-11-03 00:00:00'\n",
       "    '1990-11-04 00:00:00'\n",
       "    '1990-11-05 00:00:00'\n",
       "    '1990-11-06 00:00:00'\n",
       "    '1990-11-07 00:00:00'\n",
       "    '1990-11-08 00:00:00'\n",
       "    '1990-11-09 00:00:00'\n",
       "    '1990-11-10 00:00:00'\n",
       "    '1990-11-11 00:00:00'\n",
       "    '1990-11-12 00:00:00'\n",
       "    '1990-11-13 00:00:00'\n",
       "    '1990-11-14 00:00:00'\n",
       "    '1990-11-15 00:00:00'\n",
       "    '1990-11-16 00:00:00'\n",
       "    '1990-11-17 00:00:00'\n",
       "    '1990-11-18 00:00:00'\n",
       "    '1990-11-19 00:00:00'\n",
       "    '1990-11-20 00:00:00'\n",
       "    '1990-11-21 00:00:00'\n",
       "    '1990-11-22 00:00:00'\n",
       "    '1990-11-23 00:00:00'\n",
       "    '1990-11-24 00:00:00'\n",
       "    '1990-11-25 00:00:00'\n",
       "    '1990-11-26 00:00:00'\n",
       "    '1990-11-27 00:00:00'\n",
       "    '1990-11-28 00:00:00'\n",
       "    '1990-11-29 00:00:00'\n",
       "    '1990-11-30 00:00:00'\n",
       "    '1990-12-01 00:00:00'\n",
       "    '1990-12-02 00:00:00'\n",
       "    '1990-12-03 00:00:00'\n",
       "    '1990-12-04 00:00:00'\n",
       "    '1990-12-05 00:00:00'\n",
       "    '1990-12-06 00:00:00'\n",
       "    '1990-12-07 00:00:00'\n",
       "    '1990-12-08 00:00:00'\n",
       "    '1990-12-09 00:00:00'\n",
       "    '1990-12-10 00:00:00'\n",
       "    '1990-12-11 00:00:00'\n",
       "    '1990-12-12 00:00:00'\n",
       "    '1990-12-13 00:00:00'\n",
       "    '1990-12-14 00:00:00'\n",
       "    '1990-12-15 00:00:00'\n",
       "    '1990-12-16 00:00:00'\n",
       "    '1990-12-17 00:00:00'\n",
       "    '1990-12-18 00:00:00'\n",
       "    '1990-12-19 00:00:00'\n",
       "    '1990-12-20 00:00:00'\n",
       "    '1990-12-21 00:00:00'\n",
       "    '1990-12-22 00:00:00'\n",
       "    '1990-12-23 00:00:00'\n",
       "    '1990-12-24 00:00:00'\n",
       "    '1990-12-25 00:00:00'\n",
       "    '1990-12-26 00:00:00'\n",
       "    '1990-12-27 00:00:00'\n",
       "    '1990-12-28 00:00:00'\n",
       "    '1990-12-29 00:00:00'\n",
       "    '1990-12-30 00:00:00'\n",
       "    '1990-12-31 00:00:00'\n",
       "    '1991-01-01 00:00:00'\n",
       "    '1991-01-02 00:00:00'\n",
       "    '1991-01-03 00:00:00'\n",
       "    '1991-01-04 00:00:00'\n",
       "    '1991-01-05 00:00:00'\n",
       "    '1991-01-06 00:00:00'\n",
       "    '1991-01-07 00:00:00'\n",
       "    '1991-01-08 00:00:00'\n",
       "    '1991-01-09 00:00:00'\n",
       "    '1991-01-10 00:00:00'\n",
       "    '1991-01-11 00:00:00'\n",
       "    '1991-01-12 00:00:00'\n",
       "    '1991-01-13 00:00:00'\n",
       "    '1991-01-14 00:00:00'\n",
       "    '1991-01-15 00:00:00'\n",
       "    '1991-01-16 00:00:00'\n",
       "    '1991-01-17 00:00:00'\n",
       "    '1991-01-18 00:00:00'\n",
       "    '1991-01-19 00:00:00'\n",
       "    '1991-01-20 00:00:00'\n",
       "    '1991-01-21 00:00:00'\n",
       "    '1991-01-22 00:00:00'\n",
       "    '1991-01-23 00:00:00'\n",
       "    '1991-01-24 00:00:00'\n",
       "    '1991-01-25 00:00:00'\n",
       "    '1991-01-26 00:00:00'\n",
       "    '1991-01-27 00:00:00'\n",
       "    '1991-01-28 00:00:00'\n",
       "    '1991-01-29 00:00:00'\n",
       "    '1991-01-30 00:00:00'\n",
       "    '1991-01-31 00:00:00'\n",
       "    '1991-02-01 00:00:00'\n",
       "    '1991-02-02 00:00:00'\n",
       "    '1991-02-03 00:00:00'\n",
       "    '1991-02-04 00:00:00'\n",
       "    '1991-02-05 00:00:00'\n",
       "    '1991-02-06 00:00:00'\n",
       "    '1991-02-07 00:00:00'\n",
       "    '1991-02-08 00:00:00'\n",
       "    '1991-02-09 00:00:00'\n",
       "    '1991-02-10 00:00:00'\n",
       "    '1991-02-11 00:00:00'\n",
       "    '1991-02-12 00:00:00'\n",
       "    '1991-02-13 00:00:00'\n",
       "    '1991-02-14 00:00:00'\n",
       "    '1991-02-15 00:00:00'\n",
       "    '1991-02-16 00:00:00'\n",
       "    '1991-02-17 00:00:00'\n",
       "    '1991-02-18 00:00:00'\n",
       "    '1991-02-19 00:00:00'\n",
       "    '1991-02-20 00:00:00'\n",
       "    '1991-02-21 00:00:00'\n",
       "    '1991-02-22 00:00:00'\n",
       "    '1991-02-23 00:00:00'\n",
       "    '1991-02-24 00:00:00'\n",
       "    '1991-02-25 00:00:00'\n",
       "    '1991-02-26 00:00:00'\n",
       "    '1991-02-27 00:00:00'\n",
       "    '1991-02-28 00:00:00'\n",
       "    '1991-03-01 00:00:00'\n",
       "    '1991-03-02 00:00:00'\n",
       "    '1991-03-03 00:00:00'\n",
       "    '1991-03-04 00:00:00'\n",
       "    '1991-03-05 00:00:00'\n",
       "    '1991-03-06 00:00:00'\n",
       "    '1991-03-07 00:00:00'\n",
       "    '1991-03-08 00:00:00'\n",
       "    '1991-03-09 00:00:00'\n",
       "    '1991-03-10 00:00:00'\n",
       "    '1991-03-11 00:00:00'\n",
       "    '1991-03-12 00:00:00'\n",
       "    '1991-03-13 00:00:00'\n",
       "    '1991-03-14 00:00:00'\n",
       "    '1991-03-15 00:00:00'\n",
       "    '1991-03-16 00:00:00'\n",
       "    '1991-03-17 00:00:00'\n",
       "    '1991-03-18 00:00:00'\n",
       "    '1991-03-19 00:00:00'\n",
       "    '1991-03-20 00:00:00'\n",
       "    '1991-03-21 00:00:00'\n",
       "    '1991-03-22 00:00:00'\n",
       "    '1991-03-23 00:00:00'\n",
       "    '1991-03-24 00:00:00'\n",
       "    '1991-03-25 00:00:00'\n",
       "    '1991-03-26 00:00:00'\n",
       "    '1991-03-27 00:00:00'\n",
       "    '1991-03-28 00:00:00'\n",
       "    '1991-03-29 00:00:00'\n",
       "    '1991-03-30 00:00:00'\n",
       "    '1991-03-31 00:00:00'\n",
       "    '1991-04-01 00:00:00'\n",
       "    '1991-04-02 00:00:00'\n",
       "    '1991-04-03 00:00:00'\n",
       "    '1991-04-04 00:00:00'\n",
       "    '1991-04-05 00:00:00'\n",
       "    '1991-04-06 00:00:00'\n",
       "    '1991-04-07 00:00:00'\n",
       "    '1991-04-08 00:00:00'\n",
       "    '1991-04-09 00:00:00'\n",
       "    '1991-04-10 00:00:00'\n",
       "    '1991-04-11 00:00:00'\n",
       "    '1991-04-12 00:00:00'\n",
       "    '1991-04-13 00:00:00'\n",
       "    '1991-04-14 00:00:00'\n",
       "    '1991-04-15 00:00:00'\n",
       "    '1991-04-16 00:00:00'\n",
       "    '1991-04-17 00:00:00'\n",
       "    '1991-04-18 00:00:00'\n",
       "    '1991-04-19 00:00:00'\n",
       "    '1991-04-20 00:00:00'\n",
       "    '1991-04-21 00:00:00'\n",
       "    '1991-04-22 00:00:00'\n",
       "    '1991-04-23 00:00:00'\n",
       "    '1991-04-24 00:00:00'\n",
       "    '1991-04-25 00:00:00'\n",
       "    '1991-04-26 00:00:00'\n",
       "    '1991-04-27 00:00:00'\n",
       "    '1991-04-28 00:00:00'\n",
       "    '1991-04-29 00:00:00'\n",
       "    '1991-04-30 00:00:00'\n",
       "    '1991-05-01 00:00:00'\n",
       "    '1991-05-02 00:00:00'\n",
       "    '1991-05-03 00:00:00'\n",
       "    '1991-05-04 00:00:00'\n",
       "    '1991-05-05 00:00:00'\n",
       "    '1991-05-06 00:00:00'\n",
       "    '1991-05-07 00:00:00'\n",
       "    '1991-05-08 00:00:00'\n",
       "    '1991-05-09 00:00:00'\n",
       "    '1991-05-10 00:00:00'\n",
       "    '1991-05-11 00:00:00'\n",
       "    '1991-05-12 00:00:00'\n",
       "    '1991-05-13 00:00:00'\n",
       "    '1991-05-14 00:00:00'\n",
       "    '1991-05-15 00:00:00'\n",
       "    '1991-05-16 00:00:00'\n",
       "    '1991-05-17 00:00:00'\n",
       "    '1991-05-18 00:00:00'\n",
       "    '1991-05-19 00:00:00'\n",
       "    '1991-05-20 00:00:00'\n",
       "    '1991-05-21 00:00:00'\n",
       "    '1991-05-22 00:00:00'\n",
       "    '1991-05-23 00:00:00'\n",
       "    '1991-05-24 00:00:00'\n",
       "    '1991-05-25 00:00:00'\n",
       "    '1991-05-26 00:00:00'\n",
       "    '1991-05-27 00:00:00'\n",
       "    '1991-05-28 00:00:00'\n",
       "    '1991-05-29 00:00:00'\n",
       "    '1991-05-30 00:00:00'\n",
       "    '1991-05-31 00:00:00'\n",
       "    '1991-06-01 00:00:00'\n",
       "    '1991-06-02 00:00:00'\n",
       "    '1991-06-03 00:00:00'\n",
       "    '1991-06-04 00:00:00'\n",
       "    '1991-06-05 00:00:00'\n",
       "    '1991-06-06 00:00:00'\n",
       "    '1991-06-07 00:00:00'\n",
       "    '1991-06-08 00:00:00'\n",
       "    '1991-06-09 00:00:00'\n",
       "    '1991-06-10 00:00:00'\n",
       "    '1991-06-11 00:00:00'\n",
       "    '1991-06-12 00:00:00'\n",
       "    '1991-06-13 00:00:00'\n",
       "    '1991-06-14 00:00:00'\n",
       "    '1991-06-15 00:00:00'\n",
       "    '1991-06-16 00:00:00'\n",
       "    '1991-06-17 00:00:00'\n",
       "    '1991-06-18 00:00:00'\n",
       "    '1991-06-19 00:00:00'\n",
       "    '1991-06-20 00:00:00'\n",
       "    '1991-06-21 00:00:00'\n",
       "    '1991-06-22 00:00:00'\n",
       "    '1991-06-23 00:00:00'\n",
       "    '1991-06-24 00:00:00'\n",
       "    '1991-06-25 00:00:00'\n",
       "    '1991-06-26 00:00:00'\n",
       "    '1991-06-27 00:00:00'\n",
       "    '1991-06-28 00:00:00'\n",
       "    '1991-06-29 00:00:00'\n",
       "    '1991-06-30 00:00:00'\n",
       "    '1991-07-01 00:00:00'\n",
       "    '1991-07-02 00:00:00'\n",
       "    '1991-07-03 00:00:00'\n",
       "    '1991-07-04 00:00:00'\n",
       "    '1991-07-05 00:00:00'\n",
       "    '1991-07-06 00:00:00'\n",
       "    '1991-07-07 00:00:00'\n",
       "    '1991-07-08 00:00:00'\n",
       "    '1991-07-09 00:00:00'\n",
       "    '1991-07-10 00:00:00'\n",
       "    '1991-07-11 00:00:00'\n",
       "    '1991-07-12 00:00:00'\n",
       "    '1991-07-13 00:00:00'\n",
       "    '1991-07-14 00:00:00'\n",
       "    '1991-07-15 00:00:00'\n",
       "    '1991-07-16 00:00:00'\n",
       "    '1991-07-17 00:00:00'\n",
       "    '1991-07-18 00:00:00'\n",
       "    '1991-07-19 00:00:00'\n",
       "    '1991-07-20 00:00:00'\n",
       "    '1991-07-21 00:00:00'\n",
       "    '1991-07-22 00:00:00'\n",
       "    '1991-07-23 00:00:00'\n",
       "    '1991-07-24 00:00:00'\n",
       "    '1991-07-25 00:00:00'\n",
       "    '1991-07-26 00:00:00'\n",
       "    '1991-07-27 00:00:00'\n",
       "    '1991-07-28 00:00:00'\n",
       "    '1991-07-29 00:00:00'\n",
       "    '1991-07-30 00:00:00'\n",
       "    '1991-07-31 00:00:00'\n",
       "    '1991-08-01 00:00:00'\n",
       "    '1991-08-02 00:00:00'\n",
       "    '1991-08-03 00:00:00'\n",
       "    '1991-08-04 00:00:00'\n",
       "    '1991-08-05 00:00:00'\n",
       "    '1991-08-06 00:00:00'\n",
       "    '1991-08-07 00:00:00'\n",
       "    '1991-08-08 00:00:00'\n",
       "    '1991-08-09 00:00:00'\n",
       "    '1991-08-10 00:00:00'\n",
       "    '1991-08-11 00:00:00'\n",
       "    '1991-08-12 00:00:00'\n",
       "    '1991-08-13 00:00:00'\n",
       "    '1991-08-14 00:00:00'\n",
       "    '1991-08-15 00:00:00'\n",
       "    '1991-08-16 00:00:00'\n",
       "    '1991-08-17 00:00:00'\n",
       "    '1991-08-18 00:00:00'\n",
       "    '1991-08-19 00:00:00'\n",
       "    '1991-08-20 00:00:00'\n",
       "    '1991-08-21 00:00:00'\n",
       "    '1991-08-22 00:00:00'\n",
       "    '1991-08-23 00:00:00'\n",
       "    '1991-08-24 00:00:00'\n",
       "    '1991-08-25 00:00:00'\n",
       "    '1991-08-26 00:00:00'\n",
       "    '1991-08-27 00:00:00'\n",
       "    '1991-08-28 00:00:00'\n",
       "    '1991-08-29 00:00:00'\n",
       "    '1991-08-30 00:00:00'\n",
       "    '1991-08-31 00:00:00'\n",
       "    '1991-09-01 00:00:00'\n",
       "    '1991-09-02 00:00:00'\n",
       "    '1991-09-03 00:00:00'\n",
       "    '1991-09-04 00:00:00'\n",
       "    '1991-09-05 00:00:00'\n",
       "    '1991-09-06 00:00:00'\n",
       "    '1991-09-07 00:00:00'\n",
       "    '1991-09-08 00:00:00'\n",
       "    '1991-09-09 00:00:00'\n",
       "    '1991-09-10 00:00:00'\n",
       "    '1991-09-11 00:00:00'\n",
       "    '1991-09-12 00:00:00'\n",
       "    '1991-09-13 00:00:00'\n",
       "    '1991-09-14 00:00:00'\n",
       "    '1991-09-15 00:00:00'\n",
       "    '1991-09-16 00:00:00'\n",
       "    '1991-09-17 00:00:00'\n",
       "    '1991-09-18 00:00:00'\n",
       "    '1991-09-19 00:00:00'\n",
       "    '1991-09-20 00:00:00'\n",
       "    '1991-09-21 00:00:00'\n",
       "    '1991-09-22 00:00:00'\n",
       "    '1991-09-23 00:00:00'\n",
       "    '1991-09-24 00:00:00'\n",
       "    '1991-09-25 00:00:00'\n",
       "    '1991-09-26 00:00:00'\n",
       "    '1991-09-27 00:00:00'\n",
       "    '1991-09-28 00:00:00'\n",
       "    '1991-09-29 00:00:00'\n",
       "    '1991-09-30 00:00:00'\n",
       "    '1991-10-01 00:00:00'\n",
       "    '1991-10-02 00:00:00'\n",
       "    '1991-10-03 00:00:00'\n",
       "    '1991-10-04 00:00:00'\n",
       "    '1991-10-05 00:00:00'\n",
       "    '1991-10-06 00:00:00'\n",
       "    '1991-10-07 00:00:00'\n",
       "    '1991-10-08 00:00:00'\n",
       "    '1991-10-09 00:00:00'\n",
       "    '1991-10-10 00:00:00'\n",
       "    '1991-10-11 00:00:00'\n",
       "    '1991-10-12 00:00:00'\n",
       "    '1991-10-13 00:00:00'\n",
       "    '1991-10-14 00:00:00'\n",
       "    '1991-10-15 00:00:00'\n",
       "    '1991-10-16 00:00:00'\n",
       "    '1991-10-17 00:00:00'\n",
       "    '1991-10-18 00:00:00'\n",
       "    '1991-10-19 00:00:00'\n",
       "    '1991-10-20 00:00:00'\n",
       "    '1991-10-21 00:00:00'\n",
       "    '1991-10-22 00:00:00'\n",
       "    '1991-10-23 00:00:00'\n",
       "    '1991-10-24 00:00:00'\n",
       "    '1991-10-25 00:00:00'\n",
       "    '1991-10-26 00:00:00'\n",
       "    '1991-10-27 00:00:00'\n",
       "    '1991-10-28 00:00:00'\n",
       "    '1991-10-29 00:00:00'\n",
       "    '1991-10-30 00:00:00'\n",
       "    '1991-10-31 00:00:00'\n",
       "    '1991-11-01 00:00:00'\n",
       "    '1991-11-02 00:00:00'\n",
       "    '1991-11-03 00:00:00'\n",
       "    '1991-11-04 00:00:00'\n",
       "    '1991-11-05 00:00:00'\n",
       "    '1991-11-06 00:00:00'\n",
       "    '1991-11-07 00:00:00'\n",
       "    '1991-11-08 00:00:00'\n",
       "    '1991-11-09 00:00:00'\n",
       "    '1991-11-10 00:00:00'\n",
       "    '1991-11-11 00:00:00'\n",
       "    '1991-11-12 00:00:00'\n",
       "    '1991-11-13 00:00:00'\n",
       "    '1991-11-14 00:00:00'\n",
       "    '1991-11-15 00:00:00'\n",
       "    '1991-11-16 00:00:00'\n",
       "    '1991-11-17 00:00:00'\n",
       "    '1991-11-18 00:00:00'\n",
       "    '1991-11-19 00:00:00'\n",
       "    '1991-11-20 00:00:00'\n",
       "    '1991-11-21 00:00:00'\n",
       "    '1991-11-22 00:00:00'\n",
       "    '1991-11-23 00:00:00'\n",
       "    '1991-11-24 00:00:00'\n",
       "    '1991-11-25 00:00:00'\n",
       "    '1991-11-26 00:00:00'\n",
       "    '1991-11-27 00:00:00'\n",
       "    '1991-11-28 00:00:00'\n",
       "    '1991-11-29 00:00:00'\n",
       "    '1991-11-30 00:00:00'\n",
       "    '1991-12-01 00:00:00'\n",
       "    '1991-12-02 00:00:00'\n",
       "    '1991-12-03 00:00:00'\n",
       "    '1991-12-04 00:00:00'\n",
       "    '1991-12-05 00:00:00'\n",
       "    '1991-12-06 00:00:00'\n",
       "    '1991-12-07 00:00:00'\n",
       "    '1991-12-08 00:00:00'\n",
       "    '1991-12-09 00:00:00'\n",
       "    '1991-12-10 00:00:00'\n",
       "    '1991-12-11 00:00:00'\n",
       "    '1991-12-12 00:00:00'\n",
       "    '1991-12-13 00:00:00'\n",
       "    '1991-12-14 00:00:00'\n",
       "    '1991-12-15 00:00:00'\n",
       "    '1991-12-16 00:00:00'\n",
       "    '1991-12-17 00:00:00'\n",
       "    '1991-12-18 00:00:00'\n",
       "    '1991-12-19 00:00:00'\n",
       "    '1991-12-20 00:00:00'\n",
       "    '1991-12-21 00:00:00'\n",
       "    '1991-12-22 00:00:00'\n",
       "    '1991-12-23 00:00:00'\n",
       "    '1991-12-24 00:00:00'\n",
       "    '1991-12-25 00:00:00'\n",
       "    '1991-12-26 00:00:00'\n",
       "    '1991-12-27 00:00:00'\n",
       "    '1991-12-28 00:00:00'\n",
       "    '1991-12-29 00:00:00'\n",
       "    '1991-12-30 00:00:00'\n",
       "    '1991-12-31 00:00:00'\n",
       "    '1992-01-01 00:00:00'\n",
       "    '1992-01-02 00:00:00'\n",
       "    '1992-01-03 00:00:00'\n",
       "    '1992-01-04 00:00:00'\n",
       "    '1992-01-05 00:00:00'\n",
       "    '1992-01-06 00:00:00'\n",
       "    '1992-01-07 00:00:00'\n",
       "    '1992-01-08 00:00:00'\n",
       "    '1992-01-09 00:00:00'\n",
       "    '1992-01-10 00:00:00'\n",
       "    '1992-01-11 00:00:00'\n",
       "    '1992-01-12 00:00:00'\n",
       "    '1992-01-13 00:00:00'\n",
       "    '1992-01-14 00:00:00'\n",
       "    '1992-01-15 00:00:00'\n",
       "    '1992-01-16 00:00:00'\n",
       "    '1992-01-17 00:00:00'\n",
       "    '1992-01-18 00:00:00'\n",
       "    '1992-01-19 00:00:00'\n",
       "    '1992-01-20 00:00:00'\n",
       "    '1992-01-21 00:00:00'\n",
       "    '1992-01-22 00:00:00'\n",
       "    '1992-01-23 00:00:00'\n",
       "    '1992-01-24 00:00:00'\n",
       "    '1992-01-25 00:00:00'\n",
       "    '1992-01-26 00:00:00'\n",
       "    '1992-01-27 00:00:00'\n",
       "    '1992-01-28 00:00:00'\n",
       "    '1992-01-29 00:00:00'\n",
       "    '1992-01-30 00:00:00'\n",
       "    '1992-01-31 00:00:00'\n",
       "    '1992-02-01 00:00:00'\n",
       "    '1992-02-02 00:00:00'\n",
       "    '1992-02-03 00:00:00'\n",
       "    '1992-02-04 00:00:00'\n",
       "    '1992-02-05 00:00:00'\n",
       "    '1992-02-06 00:00:00'\n",
       "    '1992-02-07 00:00:00'\n",
       "    '1992-02-08 00:00:00'\n",
       "    '1992-02-09 00:00:00'\n",
       "    '1992-02-10 00:00:00'\n",
       "    '1992-02-11 00:00:00'\n",
       "    '1992-02-12 00:00:00'\n",
       "    '1992-02-13 00:00:00'\n",
       "    '1992-02-14 00:00:00'\n",
       "    '1992-02-15 00:00:00'\n",
       "    '1992-02-16 00:00:00'\n",
       "    '1992-02-17 00:00:00'\n",
       "    '1992-02-18 00:00:00'\n",
       "    '1992-02-19 00:00:00'\n",
       "    '1992-02-20 00:00:00'\n",
       "    '1992-02-21 00:00:00'\n",
       "    '1992-02-22 00:00:00'\n",
       "    '1992-02-23 00:00:00'\n",
       "    '1992-02-24 00:00:00'\n",
       "    '1992-02-25 00:00:00'\n",
       "    '1992-02-26 00:00:00'\n",
       "    '1992-02-27 00:00:00'\n",
       "    '1992-02-28 00:00:00'\n",
       "    '1992-02-29 00:00:00'\n",
       "    '1992-03-01 00:00:00'\n",
       "    '1992-03-02 00:00:00'\n",
       "    '1992-03-03 00:00:00'\n",
       "    '1992-03-04 00:00:00'\n",
       "    '1992-03-05 00:00:00'\n",
       "    '1992-03-06 00:00:00'\n",
       "    '1992-03-07 00:00:00'\n",
       "    '1992-03-08 00:00:00'\n",
       "    '1992-03-09 00:00:00'\n",
       "    '1992-03-10 00:00:00'\n",
       "    '1992-03-11 00:00:00'\n",
       "    '1992-03-12 00:00:00'\n",
       "    '1992-03-13 00:00:00'\n",
       "    '1992-03-14 00:00:00'\n",
       "    '1992-03-15 00:00:00'\n",
       "    '1992-03-16 00:00:00'\n",
       "    '1992-03-17 00:00:00'\n",
       "    '1992-03-18 00:00:00'\n",
       "    '1992-03-19 00:00:00'\n",
       "    '1992-03-20 00:00:00'\n",
       "    '1992-03-21 00:00:00'\n",
       "    '1992-03-22 00:00:00'\n",
       "    '1992-03-23 00:00:00'\n",
       "    '1992-03-24 00:00:00'\n",
       "    '1992-03-25 00:00:00'\n",
       "    '1992-03-26 00:00:00'\n",
       "    '1992-03-27 00:00:00'\n",
       "    '1992-03-28 00:00:00'\n",
       "    '1992-03-29 00:00:00'\n",
       "    '1992-03-30 00:00:00'\n",
       "    '1992-03-31 00:00:00'\n",
       "    '1992-04-01 00:00:00'\n",
       "    '1992-04-02 00:00:00'\n",
       "    '1992-04-03 00:00:00'\n",
       "    '1992-04-04 00:00:00'\n",
       "    '1992-04-05 00:00:00'\n",
       "    '1992-04-06 00:00:00'\n",
       "    '1992-04-07 00:00:00'\n",
       "    '1992-04-08 00:00:00'\n",
       "    '1992-04-09 00:00:00'\n",
       "    '1992-04-10 00:00:00'\n",
       "    '1992-04-11 00:00:00'\n",
       "    '1992-04-12 00:00:00'\n",
       "    '1992-04-13 00:00:00'\n",
       "    '1992-04-14 00:00:00'\n",
       "    '1992-04-15 00:00:00'\n",
       "    '1992-04-16 00:00:00'\n",
       "    '1992-04-17 00:00:00'\n",
       "    '1992-04-18 00:00:00'\n",
       "    '1992-04-19 00:00:00'\n",
       "    '1992-04-20 00:00:00'\n",
       "    '1992-04-21 00:00:00'\n",
       "    '1992-04-22 00:00:00'\n",
       "    '1992-04-23 00:00:00'\n",
       "    '1992-04-24 00:00:00'\n",
       "    '1992-04-25 00:00:00'\n",
       "    '1992-04-26 00:00:00'\n",
       "    '1992-04-27 00:00:00'\n",
       "    '1992-04-28 00:00:00'\n",
       "    '1992-04-29 00:00:00'\n",
       "    '1992-04-30 00:00:00'\n",
       "    '1992-05-01 00:00:00'\n",
       "    '1992-05-02 00:00:00'\n",
       "    '1992-05-03 00:00:00'\n",
       "    '1992-05-04 00:00:00'\n",
       "    '1992-05-05 00:00:00'\n",
       "    '1992-05-06 00:00:00'\n",
       "    '1992-05-07 00:00:00'\n",
       "    '1992-05-08 00:00:00'\n",
       "    '1992-05-09 00:00:00'\n",
       "    '1992-05-10 00:00:00'\n",
       "    '1992-05-11 00:00:00'\n",
       "    '1992-05-12 00:00:00'\n",
       "    '1992-05-13 00:00:00'\n",
       "    '1992-05-14 00:00:00'\n",
       "    '1992-05-15 00:00:00'\n",
       "    '1992-05-16 00:00:00'\n",
       "    '1992-05-17 00:00:00'\n",
       "    '1992-05-18 00:00:00'\n",
       "    '1992-05-19 00:00:00'\n",
       "    '1992-05-20 00:00:00'\n",
       "    '1992-05-21 00:00:00'\n",
       "    '1992-05-22 00:00:00'\n",
       "    '1992-05-23 00:00:00'\n",
       "    '1992-05-24 00:00:00'\n",
       "    '1992-05-25 00:00:00'\n",
       "    '1992-05-26 00:00:00'\n",
       "    '1992-05-27 00:00:00'\n",
       "    '1992-05-28 00:00:00'\n",
       "    '1992-05-29 00:00:00'\n",
       "    '1992-05-30 00:00:00'\n",
       "    '1992-05-31 00:00:00'\n",
       "    '1992-06-01 00:00:00'\n",
       "    '1992-06-02 00:00:00'\n",
       "    '1992-06-03 00:00:00'\n",
       "    '1992-06-04 00:00:00'\n",
       "    '1992-06-05 00:00:00'\n",
       "    '1992-06-06 00:00:00'\n",
       "    '1992-06-07 00:00:00'\n",
       "    '1992-06-08 00:00:00'\n",
       "    '1992-06-09 00:00:00'\n",
       "    '1992-06-10 00:00:00'\n",
       "    '1992-06-11 00:00:00'\n",
       "    '1992-06-12 00:00:00'\n",
       "    '1992-06-13 00:00:00'\n",
       "    '1992-06-14 00:00:00'\n",
       "    '1992-06-15 00:00:00'\n",
       "    '1992-06-16 00:00:00'\n",
       "    '1992-06-17 00:00:00'\n",
       "    '1992-06-18 00:00:00'\n",
       "    '1992-06-19 00:00:00'\n",
       "    '1992-06-20 00:00:00'\n",
       "    '1992-06-21 00:00:00'\n",
       "    '1992-06-22 00:00:00'\n",
       "    '1992-06-23 00:00:00'\n",
       "    '1992-06-24 00:00:00'\n",
       "    '1992-06-25 00:00:00'\n",
       "    '1992-06-26 00:00:00'\n",
       "    '1992-06-27 00:00:00'\n",
       "    '1992-06-28 00:00:00'\n",
       "    '1992-06-29 00:00:00'\n",
       "    '1992-06-30 00:00:00'\n",
       "    '1992-07-01 00:00:00'\n",
       "    '1992-07-02 00:00:00'\n",
       "    '1992-07-03 00:00:00'\n",
       "    '1992-07-04 00:00:00'\n",
       "    '1992-07-05 00:00:00'\n",
       "    '1992-07-06 00:00:00'\n",
       "    '1992-07-07 00:00:00'\n",
       "    '1992-07-08 00:00:00'\n",
       "    '1992-07-09 00:00:00'\n",
       "    '1992-07-10 00:00:00'\n",
       "    '1992-07-11 00:00:00'\n",
       "    '1992-07-12 00:00:00'\n",
       "    '1992-07-13 00:00:00'\n",
       "    '1992-07-14 00:00:00'\n",
       "    '1992-07-15 00:00:00'\n",
       "    '1992-07-16 00:00:00'\n",
       "    '1992-07-17 00:00:00'\n",
       "    '1992-07-18 00:00:00'\n",
       "    '1992-07-19 00:00:00'\n",
       "    '1992-07-20 00:00:00'\n",
       "    '1992-07-21 00:00:00'\n",
       "    '1992-07-22 00:00:00'\n",
       "    '1992-07-23 00:00:00'\n",
       "    '1992-07-24 00:00:00'\n",
       "    '1992-07-25 00:00:00'\n",
       "    '1992-07-26 00:00:00'\n",
       "    '1992-07-27 00:00:00'\n",
       "    '1992-07-28 00:00:00'\n",
       "    '1992-07-29 00:00:00'\n",
       "    '1992-07-30 00:00:00'\n",
       "    '1992-07-31 00:00:00'\n",
       "    '1992-08-01 00:00:00'\n",
       "    '1992-08-02 00:00:00'\n",
       "    '1992-08-03 00:00:00'\n",
       "    '1992-08-04 00:00:00'\n",
       "    '1992-08-05 00:00:00'\n",
       "    '1992-08-06 00:00:00'\n",
       "    '1992-08-07 00:00:00'\n",
       "    '1992-08-08 00:00:00'\n",
       "    '1992-08-09 00:00:00'\n",
       "    '1992-08-10 00:00:00'\n",
       "    '1992-08-11 00:00:00'\n",
       "    '1992-08-12 00:00:00'\n",
       "    '1992-08-13 00:00:00'\n",
       "    '1992-08-14 00:00:00'\n",
       "    '1992-08-15 00:00:00'\n",
       "    '1992-08-16 00:00:00'\n",
       "    '1992-08-17 00:00:00'\n",
       "    '1992-08-18 00:00:00'\n",
       "    '1992-08-19 00:00:00'\n",
       "    '1992-08-20 00:00:00'\n",
       "    '1992-08-21 00:00:00'\n",
       "    '1992-08-22 00:00:00'\n",
       "    '1992-08-23 00:00:00'\n",
       "    '1992-08-24 00:00:00'\n",
       "    '1992-08-25 00:00:00'\n",
       "    '1992-08-26 00:00:00'\n",
       "    '1992-08-27 00:00:00'\n",
       "    '1992-08-28 00:00:00'\n",
       "    '1992-08-29 00:00:00'\n",
       "    '1992-08-30 00:00:00'\n",
       "    '1992-08-31 00:00:00'\n",
       "    '1992-09-01 00:00:00'\n",
       "    '1992-09-02 00:00:00'\n",
       "    '1992-09-03 00:00:00'\n",
       "    '1992-09-04 00:00:00'\n",
       "    '1992-09-05 00:00:00'\n",
       "    '1992-09-06 00:00:00'\n",
       "    '1992-09-07 00:00:00'\n",
       "    '1992-09-08 00:00:00'\n",
       "    '1992-09-09 00:00:00'\n",
       "    '1992-09-10 00:00:00'\n",
       "    '1992-09-11 00:00:00'\n",
       "    '1992-09-12 00:00:00'\n",
       "    '1992-09-13 00:00:00'\n",
       "    '1992-09-14 00:00:00'\n",
       "    '1992-09-15 00:00:00'\n",
       "    '1992-09-16 00:00:00'\n",
       "    '1992-09-17 00:00:00'\n",
       "    '1992-09-18 00:00:00'\n",
       "    '1992-09-19 00:00:00'\n",
       "    '1992-09-20 00:00:00'\n",
       "    '1992-09-21 00:00:00'\n",
       "    '1992-09-22 00:00:00'\n",
       "    '1992-09-23 00:00:00'\n",
       "    '1992-09-24 00:00:00'\n",
       "    '1992-09-25 00:00:00'\n",
       "    '1992-09-26 00:00:00'\n",
       "    '1992-09-27 00:00:00'\n",
       "    '1992-09-28 00:00:00'\n",
       "    '1992-09-29 00:00:00'\n",
       "    '1992-09-30 00:00:00'\n",
       "    '1992-10-01 00:00:00'\n",
       "    '1992-10-02 00:00:00'\n",
       "    '1992-10-03 00:00:00'\n",
       "    '1992-10-04 00:00:00'\n",
       "    '1992-10-05 00:00:00'\n",
       "    '1992-10-06 00:00:00'\n",
       "    '1992-10-07 00:00:00'\n",
       "    '1992-10-08 00:00:00'\n",
       "    '1992-10-09 00:00:00'\n",
       "    '1992-10-10 00:00:00'\n",
       "    '1992-10-11 00:00:00'\n",
       "    '1992-10-12 00:00:00'\n",
       "    '1992-10-13 00:00:00'\n",
       "    '1992-10-14 00:00:00'\n",
       "    '1992-10-15 00:00:00'\n",
       "    '1992-10-16 00:00:00'\n",
       "    '1992-10-17 00:00:00'\n",
       "    '1992-10-18 00:00:00'\n",
       "    '1992-10-19 00:00:00'\n",
       "    '1992-10-20 00:00:00'\n",
       "    '1992-10-21 00:00:00'\n",
       "    '1992-10-22 00:00:00'\n",
       "    '1992-10-23 00:00:00'\n",
       "    '1992-10-24 00:00:00'\n",
       "    '1992-10-25 00:00:00'\n",
       "    '1992-10-26 00:00:00'\n",
       "    '1992-10-27 00:00:00'\n",
       "    '1992-10-28 00:00:00'\n",
       "    '1992-10-29 00:00:00'\n",
       "    '1992-10-30 00:00:00'\n",
       "    '1992-10-31 00:00:00'\n",
       "    '1992-11-01 00:00:00'\n",
       "    '1992-11-02 00:00:00'\n",
       "    '1992-11-03 00:00:00'\n",
       "    '1992-11-04 00:00:00'\n",
       "    '1992-11-05 00:00:00'\n",
       "    '1992-11-06 00:00:00'\n",
       "    '1992-11-07 00:00:00'\n",
       "    '1992-11-08 00:00:00'\n",
       "    '1992-11-09 00:00:00'\n",
       "    '1992-11-10 00:00:00'\n",
       "    '1992-11-11 00:00:00'\n",
       "    '1992-11-12 00:00:00'\n",
       "    '1992-11-13 00:00:00'\n",
       "    '1992-11-14 00:00:00'\n",
       "    '1992-11-15 00:00:00'\n",
       "    '1992-11-16 00:00:00'\n",
       "    '1992-11-17 00:00:00'\n",
       "    '1992-11-18 00:00:00'\n",
       "    '1992-11-19 00:00:00'\n",
       "    '1992-11-20 00:00:00'\n",
       "    '1992-11-21 00:00:00'\n",
       "    '1992-11-22 00:00:00'\n",
       "    '1992-11-23 00:00:00'\n",
       "    '1992-11-24 00:00:00'\n",
       "    '1992-11-25 00:00:00'\n",
       "    '1992-11-26 00:00:00'\n",
       "    '1992-11-27 00:00:00'\n",
       "    '1992-11-28 00:00:00'\n",
       "    '1992-11-29 00:00:00'\n",
       "    '1992-11-30 00:00:00'\n",
       "    '1992-12-01 00:00:00'\n",
       "    '1992-12-02 00:00:00'\n",
       "    '1992-12-03 00:00:00'\n",
       "    '1992-12-04 00:00:00'\n",
       "    '1992-12-05 00:00:00'\n",
       "    '1992-12-06 00:00:00'\n",
       "    '1992-12-07 00:00:00'\n",
       "    '1992-12-08 00:00:00'\n",
       "    '1992-12-09 00:00:00'\n",
       "    '1992-12-10 00:00:00'\n",
       "    '1992-12-11 00:00:00'\n",
       "    '1992-12-12 00:00:00'\n",
       "    '1992-12-13 00:00:00'\n",
       "    '1992-12-14 00:00:00'\n",
       "    '1992-12-15 00:00:00'\n",
       "    '1992-12-16 00:00:00'\n",
       "    '1992-12-17 00:00:00'\n",
       "    '1992-12-18 00:00:00'\n",
       "    '1992-12-19 00:00:00'\n",
       "    '1992-12-20 00:00:00'\n",
       "    '1992-12-21 00:00:00'\n",
       "    '1992-12-22 00:00:00'\n",
       "    '1992-12-23 00:00:00'\n",
       "    '1992-12-24 00:00:00'\n",
       "    '1992-12-25 00:00:00'\n",
       "    '1992-12-26 00:00:00'\n",
       "    '1992-12-27 00:00:00'\n",
       "    '1992-12-28 00:00:00'\n",
       "    '1992-12-29 00:00:00'\n",
       "    '1992-12-30 00:00:00'\n",
       "    '1992-12-31 00:00:00'\n",
       "    '1993-01-01 00:00:00'\n",
       "    '1993-01-02 00:00:00'\n",
       "    '1993-01-03 00:00:00'\n",
       "    '1993-01-04 00:00:00'\n",
       "    '1993-01-05 00:00:00'\n",
       "    '1993-01-06 00:00:00'\n",
       "    '1993-01-07 00:00:00'\n",
       "    '1993-01-08 00:00:00'\n",
       "    '1993-01-09 00:00:00'\n",
       "    '1993-01-10 00:00:00'\n",
       "    '1993-01-11 00:00:00'\n",
       "    '1993-01-12 00:00:00'\n",
       "    '1993-01-13 00:00:00'\n",
       "    '1993-01-14 00:00:00'\n",
       "    '1993-01-15 00:00:00'\n",
       "    '1993-01-16 00:00:00'\n",
       "    '1993-01-17 00:00:00'\n",
       "    '1993-01-18 00:00:00'\n",
       "    '1993-01-19 00:00:00'\n",
       "    '1993-01-20 00:00:00'\n",
       "    '1993-01-21 00:00:00'\n",
       "    '1993-01-22 00:00:00'\n",
       "    '1993-01-23 00:00:00'\n",
       "    '1993-01-24 00:00:00'\n",
       "    '1993-01-25 00:00:00'\n",
       "    '1993-01-26 00:00:00'\n",
       "    '1993-01-27 00:00:00'\n",
       "    '1993-01-28 00:00:00'\n",
       "    '1993-01-29 00:00:00'\n",
       "    '1993-01-30 00:00:00'\n",
       "    '1993-01-31 00:00:00'\n",
       "    '1993-02-01 00:00:00'\n",
       "    '1993-02-02 00:00:00'\n",
       "    '1993-02-03 00:00:00'\n",
       "    '1993-02-04 00:00:00'\n",
       "    '1993-02-05 00:00:00'\n",
       "    '1993-02-06 00:00:00'\n",
       "    '1993-02-07 00:00:00'\n",
       "    '1993-02-08 00:00:00'\n",
       "    '1993-02-09 00:00:00'\n",
       "    '1993-02-10 00:00:00'\n",
       "    '1993-02-11 00:00:00'\n",
       "    '1993-02-12 00:00:00'\n",
       "    '1993-02-13 00:00:00'\n",
       "    '1993-02-14 00:00:00'\n",
       "    '1993-02-15 00:00:00'\n",
       "    '1993-02-16 00:00:00'\n",
       "    '1993-02-17 00:00:00'\n",
       "    '1993-02-18 00:00:00'\n",
       "    '1993-02-19 00:00:00'\n",
       "    '1993-02-20 00:00:00'\n",
       "    '1993-02-21 00:00:00'\n",
       "    '1993-02-22 00:00:00'\n",
       "    '1993-02-23 00:00:00'\n",
       "    '1993-02-24 00:00:00'\n",
       "    '1993-02-25 00:00:00'\n",
       "    '1993-02-26 00:00:00'\n",
       "    '1993-02-27 00:00:00'\n",
       "    '1993-02-28 00:00:00'\n",
       "    '1993-03-01 00:00:00'\n",
       "    '1993-03-02 00:00:00'\n",
       "    '1993-03-03 00:00:00'\n",
       "    '1993-03-04 00:00:00'\n",
       "    '1993-03-05 00:00:00'\n",
       "    '1993-03-06 00:00:00'\n",
       "    '1993-03-07 00:00:00'\n",
       "    '1993-03-08 00:00:00'\n",
       "    '1993-03-09 00:00:00'\n",
       "    '1993-03-10 00:00:00'\n",
       "    '1993-03-11 00:00:00'\n",
       "    '1993-03-12 00:00:00'\n",
       "    '1993-03-13 00:00:00'\n",
       "    '1993-03-14 00:00:00'\n",
       "    '1993-03-15 00:00:00'\n",
       "    '1993-03-16 00:00:00'\n",
       "    '1993-03-17 00:00:00'\n",
       "    '1993-03-18 00:00:00'\n",
       "    '1993-03-19 00:00:00'\n",
       "    '1993-03-20 00:00:00'\n",
       "    '1993-03-21 00:00:00'\n",
       "    '1993-03-22 00:00:00'\n",
       "    '1993-03-23 00:00:00'\n",
       "    '1993-03-24 00:00:00'\n",
       "    '1993-03-25 00:00:00'\n",
       "    '1993-03-26 00:00:00'\n",
       "    '1993-03-27 00:00:00'\n",
       "    '1993-03-28 00:00:00'\n",
       "    '1993-03-29 00:00:00'\n",
       "    '1993-03-30 00:00:00'\n",
       "    '1993-03-31 00:00:00'\n",
       "    '1993-04-01 00:00:00'\n",
       "    '1993-04-02 00:00:00'\n",
       "    '1993-04-03 00:00:00'\n",
       "    '1993-04-04 00:00:00'\n",
       "    '1993-04-05 00:00:00'\n",
       "    '1993-04-06 00:00:00'\n",
       "    '1993-04-07 00:00:00'\n",
       "    '1993-04-08 00:00:00'\n",
       "    '1993-04-09 00:00:00'\n",
       "    '1993-04-10 00:00:00'\n",
       "    '1993-04-11 00:00:00'\n",
       "    '1993-04-12 00:00:00'\n",
       "    '1993-04-13 00:00:00'\n",
       "    '1993-04-14 00:00:00'\n",
       "    '1993-04-15 00:00:00'\n",
       "    '1993-04-16 00:00:00'\n",
       "    '1993-04-17 00:00:00'\n",
       "    '1993-04-18 00:00:00'\n",
       "    '1993-04-19 00:00:00'\n",
       "    '1993-04-20 00:00:00'\n",
       "    '1993-04-21 00:00:00'\n",
       "    '1993-04-22 00:00:00'\n",
       "    '1993-04-23 00:00:00'\n",
       "    '1993-04-24 00:00:00'\n",
       "    '1993-04-25 00:00:00'\n",
       "    '1993-04-26 00:00:00'\n",
       "    '1993-04-27 00:00:00'\n",
       "    '1993-04-28 00:00:00'\n",
       "    '1993-04-29 00:00:00'\n",
       "    '1993-04-30 00:00:00'\n",
       "    '1993-05-01 00:00:00'\n",
       "    '1993-05-02 00:00:00'\n",
       "    '1993-05-03 00:00:00'\n",
       "    '1993-05-04 00:00:00'\n",
       "    '1993-05-05 00:00:00'\n",
       "    '1993-05-06 00:00:00'\n",
       "    '1993-05-07 00:00:00'\n",
       "    '1993-05-08 00:00:00'\n",
       "    '1993-05-09 00:00:00'\n",
       "    '1993-05-10 00:00:00'\n",
       "    '1993-05-11 00:00:00'\n",
       "    '1993-05-12 00:00:00'\n",
       "    '1993-05-13 00:00:00'\n",
       "    '1993-05-14 00:00:00'\n",
       "    '1993-05-15 00:00:00'\n",
       "    '1993-05-16 00:00:00'\n",
       "    '1993-05-17 00:00:00'\n",
       "    '1993-05-18 00:00:00'\n",
       "    '1993-05-19 00:00:00'\n",
       "    '1993-05-20 00:00:00'\n",
       "    '1993-05-21 00:00:00'\n",
       "    '1993-05-22 00:00:00'\n",
       "    '1993-05-23 00:00:00'\n",
       "    '1993-05-24 00:00:00'\n",
       "    '1993-05-25 00:00:00'\n",
       "    '1993-05-26 00:00:00'\n",
       "    '1993-05-27 00:00:00'\n",
       "    '1993-05-28 00:00:00'\n",
       "    '1993-05-29 00:00:00'\n",
       "    '1993-05-30 00:00:00'\n",
       "    '1993-05-31 00:00:00'\n",
       "    '1993-06-01 00:00:00'\n",
       "    '1993-06-02 00:00:00'\n",
       "    '1993-06-03 00:00:00'\n",
       "    '1993-06-04 00:00:00'\n",
       "    '1993-06-05 00:00:00'\n",
       "    '1993-06-06 00:00:00'\n",
       "    '1993-06-07 00:00:00'\n",
       "    '1993-06-08 00:00:00'\n",
       "    '1993-06-09 00:00:00'\n",
       "    '1993-06-10 00:00:00'\n",
       "    '1993-06-11 00:00:00'\n",
       "    '1993-06-12 00:00:00'\n",
       "    '1993-06-13 00:00:00'\n",
       "    '1993-06-14 00:00:00'\n",
       "    '1993-06-15 00:00:00'\n",
       "    '1993-06-16 00:00:00'\n",
       "    '1993-06-17 00:00:00'\n",
       "    '1993-06-18 00:00:00'\n",
       "    '1993-06-19 00:00:00'\n",
       "    '1993-06-20 00:00:00'\n",
       "    '1993-06-21 00:00:00'\n",
       "    '1993-06-22 00:00:00'\n",
       "    '1993-06-23 00:00:00'\n",
       "    '1993-06-24 00:00:00'\n",
       "    '1993-06-25 00:00:00'\n",
       "    '1993-06-26 00:00:00'\n",
       "    '1993-06-27 00:00:00'\n",
       "    '1993-06-28 00:00:00'\n",
       "    '1993-06-29 00:00:00'\n",
       "    '1993-06-30 00:00:00'\n",
       "    '1993-07-01 00:00:00'\n",
       "    '1993-07-02 00:00:00'\n",
       "    '1993-07-03 00:00:00'\n",
       "    '1993-07-04 00:00:00'\n",
       "    '1993-07-05 00:00:00'\n",
       "    '1993-07-06 00:00:00'\n",
       "    '1993-07-07 00:00:00'\n",
       "    '1993-07-08 00:00:00'\n",
       "    '1993-07-09 00:00:00'\n",
       "    '1993-07-10 00:00:00'\n",
       "    '1993-07-11 00:00:00'\n",
       "    '1993-07-12 00:00:00'\n",
       "    '1993-07-13 00:00:00'\n",
       "    '1993-07-14 00:00:00'\n",
       "    '1993-07-15 00:00:00'\n",
       "    '1993-07-16 00:00:00'\n",
       "    '1993-07-17 00:00:00'\n",
       "    '1993-07-18 00:00:00'\n",
       "    '1993-07-19 00:00:00'\n",
       "    '1993-07-20 00:00:00'\n",
       "    '1993-07-21 00:00:00'\n",
       "    '1993-07-22 00:00:00'\n",
       "    '1993-07-23 00:00:00'\n",
       "    '1993-07-24 00:00:00'\n",
       "    '1993-07-25 00:00:00'\n",
       "    '1993-07-26 00:00:00'\n",
       "    '1993-07-27 00:00:00'\n",
       "    '1993-07-28 00:00:00'\n",
       "    '1993-07-29 00:00:00'\n",
       "    '1993-07-30 00:00:00'\n",
       "    '1993-07-31 00:00:00'\n",
       "    '1993-08-01 00:00:00'\n",
       "    '1993-08-02 00:00:00'\n",
       "    '1993-08-03 00:00:00'\n",
       "    '1993-08-04 00:00:00'\n",
       "    '1993-08-05 00:00:00'\n",
       "    '1993-08-06 00:00:00'\n",
       "    '1993-08-07 00:00:00'\n",
       "    '1993-08-08 00:00:00'\n",
       "    '1993-08-09 00:00:00'\n",
       "    '1993-08-10 00:00:00'\n",
       "    '1993-08-11 00:00:00'\n",
       "    '1993-08-12 00:00:00'\n",
       "    '1993-08-13 00:00:00'\n",
       "    '1993-08-14 00:00:00'\n",
       "    '1993-08-15 00:00:00'\n",
       "    '1993-08-16 00:00:00'\n",
       "    '1993-08-17 00:00:00'\n",
       "    '1993-08-18 00:00:00'\n",
       "    '1993-08-19 00:00:00'\n",
       "    '1993-08-20 00:00:00'\n",
       "    '1993-08-21 00:00:00'\n",
       "    '1993-08-22 00:00:00'\n",
       "    '1993-08-23 00:00:00'\n",
       "    '1993-08-24 00:00:00'\n",
       "    '1993-08-25 00:00:00'\n",
       "    '1993-08-26 00:00:00'\n",
       "    '1993-08-27 00:00:00'\n",
       "    '1993-08-28 00:00:00'\n",
       "    '1993-08-29 00:00:00'\n",
       "    '1993-08-30 00:00:00'\n",
       "    '1993-08-31 00:00:00'\n",
       "    '1993-09-01 00:00:00'\n",
       "    '1993-09-02 00:00:00'\n",
       "    '1993-09-03 00:00:00'\n",
       "    '1993-09-04 00:00:00'\n",
       "    '1993-09-05 00:00:00'\n",
       "    '1993-09-06 00:00:00'\n",
       "    '1993-09-07 00:00:00'\n",
       "    '1993-09-08 00:00:00'\n",
       "    '1993-09-09 00:00:00'\n",
       "    '1993-09-10 00:00:00'\n",
       "    '1993-09-11 00:00:00'\n",
       "    '1993-09-12 00:00:00'\n",
       "    '1993-09-13 00:00:00'\n",
       "    '1993-09-14 00:00:00'\n",
       "    '1993-09-15 00:00:00'\n",
       "    '1993-09-16 00:00:00'\n",
       "    '1993-09-17 00:00:00'\n",
       "    '1993-09-18 00:00:00'\n",
       "    '1993-09-19 00:00:00'\n",
       "    '1993-09-20 00:00:00'\n",
       "    '1993-09-21 00:00:00'\n",
       "    '1993-09-22 00:00:00'\n",
       "    '1993-09-23 00:00:00'\n",
       "    '1993-09-24 00:00:00'\n",
       "    '1993-09-25 00:00:00'\n",
       "    '1993-09-26 00:00:00'\n",
       "    '1993-09-27 00:00:00'\n",
       "    '1993-09-28 00:00:00'\n",
       "    '1993-09-29 00:00:00'\n",
       "    '1993-09-30 00:00:00'\n",
       "    '1993-10-01 00:00:00'\n",
       "    '1993-10-02 00:00:00'\n",
       "    '1993-10-03 00:00:00'\n",
       "    '1993-10-04 00:00:00'\n",
       "    '1993-10-05 00:00:00'\n",
       "    '1993-10-06 00:00:00'\n",
       "    '1993-10-07 00:00:00'\n",
       "    '1993-10-08 00:00:00'\n",
       "    '1993-10-09 00:00:00'\n",
       "    '1993-10-10 00:00:00'\n",
       "    '1993-10-11 00:00:00'\n",
       "    '1993-10-12 00:00:00'\n",
       "    '1993-10-13 00:00:00'\n",
       "    '1993-10-14 00:00:00'\n",
       "    '1993-10-15 00:00:00'\n",
       "    '1993-10-16 00:00:00'\n",
       "    '1993-10-17 00:00:00'\n",
       "    '1993-10-18 00:00:00'\n",
       "    '1993-10-19 00:00:00'\n",
       "    '1993-10-20 00:00:00'\n",
       "    '1993-10-21 00:00:00'\n",
       "    '1993-10-22 00:00:00'\n",
       "    '1993-10-23 00:00:00'\n",
       "    '1993-10-24 00:00:00'\n",
       "    '1993-10-25 00:00:00'\n",
       "    '1993-10-26 00:00:00'\n",
       "    '1993-10-27 00:00:00'\n",
       "    '1993-10-28 00:00:00'\n",
       "    '1993-10-29 00:00:00'\n",
       "    '1993-10-30 00:00:00'\n",
       "    '1993-10-31 00:00:00'\n",
       "    '1993-11-01 00:00:00'\n",
       "    '1993-11-02 00:00:00'\n",
       "    '1993-11-03 00:00:00'\n",
       "    '1993-11-04 00:00:00'\n",
       "    '1993-11-05 00:00:00'\n",
       "    '1993-11-06 00:00:00'\n",
       "    '1993-11-07 00:00:00'\n",
       "    '1993-11-08 00:00:00'\n",
       "    '1993-11-09 00:00:00'\n",
       "    '1993-11-10 00:00:00'\n",
       "    '1993-11-11 00:00:00'\n",
       "    '1993-11-12 00:00:00'\n",
       "    '1993-11-13 00:00:00'\n",
       "    '1993-11-14 00:00:00'\n",
       "    '1993-11-15 00:00:00'\n",
       "    '1993-11-16 00:00:00'\n",
       "    '1993-11-17 00:00:00'\n",
       "    '1993-11-18 00:00:00'\n",
       "    '1993-11-19 00:00:00'\n",
       "    '1993-11-20 00:00:00'\n",
       "    '1993-11-21 00:00:00'\n",
       "    '1993-11-22 00:00:00'\n",
       "    '1993-11-23 00:00:00'\n",
       "    '1993-11-24 00:00:00'\n",
       "    '1993-11-25 00:00:00'\n",
       "    '1993-11-26 00:00:00'\n",
       "    '1993-11-27 00:00:00'\n",
       "    '1993-11-28 00:00:00'\n",
       "    '1993-11-29 00:00:00'\n",
       "    '1993-11-30 00:00:00'\n",
       "    '1993-12-01 00:00:00'\n",
       "    '1993-12-02 00:00:00'\n",
       "    '1993-12-03 00:00:00'\n",
       "    '1993-12-04 00:00:00'\n",
       "    '1993-12-05 00:00:00'\n",
       "    '1993-12-06 00:00:00'\n",
       "    '1993-12-07 00:00:00'\n",
       "    '1993-12-08 00:00:00'\n",
       "    '1993-12-09 00:00:00'\n",
       "    '1993-12-10 00:00:00'\n",
       "    '1993-12-11 00:00:00'\n",
       "    '1993-12-12 00:00:00'\n",
       "    '1993-12-13 00:00:00'\n",
       "    '1993-12-14 00:00:00'\n",
       "    '1993-12-15 00:00:00'\n",
       "    '1993-12-16 00:00:00'\n",
       "    '1993-12-17 00:00:00'\n",
       "    '1993-12-18 00:00:00'\n",
       "    '1993-12-19 00:00:00'\n",
       "    '1993-12-20 00:00:00'\n",
       "    '1993-12-21 00:00:00'\n",
       "    '1993-12-22 00:00:00'\n",
       "    '1993-12-23 00:00:00'\n",
       "    '1993-12-24 00:00:00'\n",
       "    '1993-12-25 00:00:00'\n",
       "    '1993-12-26 00:00:00'\n",
       "    '1993-12-27 00:00:00'\n",
       "    '1993-12-28 00:00:00'\n",
       "    '1993-12-29 00:00:00'\n",
       "    '1993-12-30 00:00:00'\n",
       "    '1993-12-31 00:00:00'\n",
       "    '1994-01-01 00:00:00'\n",
       "    '1994-01-02 00:00:00'\n",
       "    '1994-01-03 00:00:00'\n",
       "    '1994-01-04 00:00:00'\n",
       "    '1994-01-05 00:00:00'\n",
       "    '1994-01-06 00:00:00'\n",
       "    '1994-01-07 00:00:00'\n",
       "    '1994-01-08 00:00:00'\n",
       "    '1994-01-09 00:00:00'\n",
       "    '1994-01-10 00:00:00'\n",
       "    '1994-01-11 00:00:00'\n",
       "    '1994-01-12 00:00:00'\n",
       "    '1994-01-13 00:00:00'\n",
       "    '1994-01-14 00:00:00'\n",
       "    '1994-01-15 00:00:00'\n",
       "    '1994-01-16 00:00:00'\n",
       "    '1994-01-17 00:00:00'\n",
       "    '1994-01-18 00:00:00'\n",
       "    '1994-01-19 00:00:00'\n",
       "    '1994-01-20 00:00:00'\n",
       "    '1994-01-21 00:00:00'\n",
       "    '1994-01-22 00:00:00'\n",
       "    '1994-01-23 00:00:00'\n",
       "    '1994-01-24 00:00:00'\n",
       "    '1994-01-25 00:00:00'\n",
       "    '1994-01-26 00:00:00'\n",
       "    '1994-01-27 00:00:00'\n",
       "    '1994-01-28 00:00:00'\n",
       "    '1994-01-29 00:00:00'\n",
       "    '1994-01-30 00:00:00'\n",
       "    '1994-01-31 00:00:00'\n",
       "    '1994-02-01 00:00:00'\n",
       "    '1994-02-02 00:00:00'\n",
       "    '1994-02-03 00:00:00'\n",
       "    '1994-02-04 00:00:00'\n",
       "    '1994-02-05 00:00:00'\n",
       "    '1994-02-06 00:00:00'\n",
       "    '1994-02-07 00:00:00'\n",
       "    '1994-02-08 00:00:00'\n",
       "    '1994-02-09 00:00:00'\n",
       "    '1994-02-10 00:00:00'\n",
       "    '1994-02-11 00:00:00'\n",
       "    '1994-02-12 00:00:00'\n",
       "    '1994-02-13 00:00:00'\n",
       "    '1994-02-14 00:00:00'\n",
       "    '1994-02-15 00:00:00'\n",
       "    '1994-02-16 00:00:00'\n",
       "    '1994-02-17 00:00:00'\n",
       "    '1994-02-18 00:00:00'\n",
       "    '1994-02-19 00:00:00'\n",
       "    '1994-02-20 00:00:00'\n",
       "    '1994-02-21 00:00:00'\n",
       "    '1994-02-22 00:00:00'\n",
       "    '1994-02-23 00:00:00'\n",
       "    '1994-02-24 00:00:00'\n",
       "    '1994-02-25 00:00:00'\n",
       "    '1994-02-26 00:00:00'\n",
       "    '1994-02-27 00:00:00'\n",
       "    '1994-02-28 00:00:00'\n",
       "    '1994-03-01 00:00:00'\n",
       "    '1994-03-02 00:00:00'\n",
       "    '1994-03-03 00:00:00'\n",
       "    '1994-03-04 00:00:00'\n",
       "    '1994-03-05 00:00:00'\n",
       "    '1994-03-06 00:00:00'\n",
       "    '1994-03-07 00:00:00'\n",
       "    '1994-03-08 00:00:00'\n",
       "    '1994-03-09 00:00:00'\n",
       "    '1994-03-10 00:00:00'\n",
       "    '1994-03-11 00:00:00'\n",
       "    '1994-03-12 00:00:00'\n",
       "    '1994-03-13 00:00:00'\n",
       "    '1994-03-14 00:00:00'\n",
       "    '1994-03-15 00:00:00'\n",
       "    '1994-03-16 00:00:00'\n",
       "    '1994-03-17 00:00:00'\n",
       "    '1994-03-18 00:00:00'\n",
       "    '1994-03-19 00:00:00'\n",
       "    '1994-03-20 00:00:00'\n",
       "    '1994-03-21 00:00:00'\n",
       "    '1994-03-22 00:00:00'\n",
       "    '1994-03-23 00:00:00'\n",
       "    '1994-03-24 00:00:00'\n",
       "    '1994-03-25 00:00:00'\n",
       "    '1994-03-26 00:00:00'\n",
       "    '1994-03-27 00:00:00'\n",
       "    '1994-03-28 00:00:00'\n",
       "    '1994-03-29 00:00:00'\n",
       "    '1994-03-30 00:00:00'\n",
       "    '1994-03-31 00:00:00'\n",
       "    '1994-04-01 00:00:00'\n",
       "    '1994-04-02 00:00:00'\n",
       "    '1994-04-03 00:00:00'\n",
       "    '1994-04-04 00:00:00'\n",
       "    '1994-04-05 00:00:00'\n",
       "    '1994-04-06 00:00:00'\n",
       "    '1994-04-07 00:00:00'\n",
       "    '1994-04-08 00:00:00'\n",
       "    '1994-04-09 00:00:00'\n",
       "    '1994-04-10 00:00:00'\n",
       "    '1994-04-11 00:00:00'\n",
       "    '1994-04-12 00:00:00'\n",
       "    '1994-04-13 00:00:00'\n",
       "    '1994-04-14 00:00:00'\n",
       "    '1994-04-15 00:00:00'\n",
       "    '1994-04-16 00:00:00'\n",
       "    '1994-04-17 00:00:00'\n",
       "    '1994-04-18 00:00:00'\n",
       "    '1994-04-19 00:00:00'\n",
       "    '1994-04-20 00:00:00'\n",
       "    '1994-04-21 00:00:00'\n",
       "    '1994-04-22 00:00:00'\n",
       "    '1994-04-23 00:00:00'\n",
       "    '1994-04-24 00:00:00'\n",
       "    '1994-04-25 00:00:00'\n",
       "    '1994-04-26 00:00:00'\n",
       "    '1994-04-27 00:00:00'\n",
       "    '1994-04-28 00:00:00'\n",
       "    '1994-04-29 00:00:00'\n",
       "    '1994-04-30 00:00:00'\n",
       "    '1994-05-01 00:00:00'\n",
       "    '1994-05-02 00:00:00'\n",
       "    '1994-05-03 00:00:00'\n",
       "    '1994-05-04 00:00:00'\n",
       "    '1994-05-05 00:00:00'\n",
       "    '1994-05-06 00:00:00'\n",
       "    '1994-05-07 00:00:00'\n",
       "    '1994-05-08 00:00:00'\n",
       "    '1994-05-09 00:00:00'\n",
       "    '1994-05-10 00:00:00'\n",
       "    '1994-05-11 00:00:00'\n",
       "    '1994-05-12 00:00:00'\n",
       "    '1994-05-13 00:00:00'\n",
       "    '1994-05-14 00:00:00'\n",
       "    '1994-05-15 00:00:00'\n",
       "    '1994-05-16 00:00:00'\n",
       "    '1994-05-17 00:00:00'\n",
       "    '1994-05-18 00:00:00'\n",
       "    '1994-05-19 00:00:00'\n",
       "    '1994-05-20 00:00:00'\n",
       "    '1994-05-21 00:00:00'\n",
       "    '1994-05-22 00:00:00'\n",
       "    '1994-05-23 00:00:00'\n",
       "    '1994-05-24 00:00:00'\n",
       "    '1994-05-25 00:00:00'\n",
       "    '1994-05-26 00:00:00'\n",
       "    '1994-05-27 00:00:00'\n",
       "    '1994-05-28 00:00:00'\n",
       "    '1994-05-29 00:00:00'\n",
       "    '1994-05-30 00:00:00'\n",
       "    '1994-05-31 00:00:00'\n",
       "    '1994-06-01 00:00:00'\n",
       "    '1994-06-02 00:00:00'\n",
       "    '1994-06-03 00:00:00'\n",
       "    '1994-06-04 00:00:00'\n",
       "    '1994-06-05 00:00:00'\n",
       "    '1994-06-06 00:00:00'\n",
       "    '1994-06-07 00:00:00'\n",
       "    '1994-06-08 00:00:00'\n",
       "    '1994-06-09 00:00:00'\n",
       "    '1994-06-10 00:00:00'\n",
       "    '1994-06-11 00:00:00'\n",
       "    '1994-06-12 00:00:00'\n",
       "    '1994-06-13 00:00:00'\n",
       "    '1994-06-14 00:00:00'\n",
       "    '1994-06-15 00:00:00'\n",
       "    '1994-06-16 00:00:00'\n",
       "    '1994-06-17 00:00:00'\n",
       "    '1994-06-18 00:00:00'\n",
       "    '1994-06-19 00:00:00'\n",
       "    '1994-06-20 00:00:00'\n",
       "    '1994-06-21 00:00:00'\n",
       "    '1994-06-22 00:00:00'\n",
       "    '1994-06-23 00:00:00'\n",
       "    '1994-06-24 00:00:00'\n",
       "    '1994-06-25 00:00:00'\n",
       "    '1994-06-26 00:00:00'\n",
       "    '1994-06-27 00:00:00'\n",
       "    '1994-06-28 00:00:00'\n",
       "    '1994-06-29 00:00:00'\n",
       "    '1994-06-30 00:00:00'\n",
       "    '1994-07-01 00:00:00'\n",
       "    '1994-07-02 00:00:00'\n",
       "    '1994-07-03 00:00:00'\n",
       "    '1994-07-04 00:00:00'\n",
       "    '1994-07-05 00:00:00'\n",
       "    '1994-07-06 00:00:00'\n",
       "    '1994-07-07 00:00:00'\n",
       "    '1994-07-08 00:00:00'\n",
       "    '1994-07-09 00:00:00'\n",
       "    '1994-07-10 00:00:00'\n",
       "    '1994-07-11 00:00:00'\n",
       "    '1994-07-12 00:00:00'\n",
       "    '1994-07-13 00:00:00'\n",
       "    '1994-07-14 00:00:00'\n",
       "    '1994-07-15 00:00:00'\n",
       "    '1994-07-16 00:00:00'\n",
       "    '1994-07-17 00:00:00'\n",
       "    '1994-07-18 00:00:00'\n",
       "    '1994-07-19 00:00:00'\n",
       "    '1994-07-20 00:00:00'\n",
       "    '1994-07-21 00:00:00'\n",
       "    '1994-07-22 00:00:00'\n",
       "    '1994-07-23 00:00:00'\n",
       "    '1994-07-24 00:00:00'\n",
       "    '1994-07-25 00:00:00'\n",
       "    '1994-07-26 00:00:00'\n",
       "    '1994-07-27 00:00:00'\n",
       "    '1994-07-28 00:00:00'\n",
       "    '1994-07-29 00:00:00'\n",
       "    '1994-07-30 00:00:00'\n",
       "    '1994-07-31 00:00:00'\n",
       "    '1994-08-01 00:00:00'\n",
       "    '1994-08-02 00:00:00'\n",
       "    '1994-08-03 00:00:00'\n",
       "    '1994-08-04 00:00:00'\n",
       "    '1994-08-05 00:00:00'\n",
       "    '1994-08-06 00:00:00'\n",
       "    '1994-08-07 00:00:00'\n",
       "    '1994-08-08 00:00:00'\n",
       "    '1994-08-09 00:00:00'\n",
       "    '1994-08-10 00:00:00'\n",
       "    '1994-08-11 00:00:00'\n",
       "    '1994-08-12 00:00:00'\n",
       "    '1994-08-13 00:00:00'\n",
       "    '1994-08-14 00:00:00'\n",
       "    '1994-08-15 00:00:00'\n",
       "    '1994-08-16 00:00:00'\n",
       "    '1994-08-17 00:00:00'\n",
       "    '1994-08-18 00:00:00'\n",
       "    '1994-08-19 00:00:00'\n",
       "    '1994-08-20 00:00:00'\n",
       "    '1994-08-21 00:00:00'\n",
       "    '1994-08-22 00:00:00'\n",
       "    '1994-08-23 00:00:00'\n",
       "    '1994-08-24 00:00:00'\n",
       "    '1994-08-25 00:00:00'\n",
       "    '1994-08-26 00:00:00'\n",
       "    '1994-08-27 00:00:00'\n",
       "    '1994-08-28 00:00:00'\n",
       "    '1994-08-29 00:00:00'\n",
       "    '1994-08-30 00:00:00'\n",
       "    '1994-08-31 00:00:00'\n",
       "    '1994-09-01 00:00:00'\n",
       "    '1994-09-02 00:00:00'\n",
       "    '1994-09-03 00:00:00'\n",
       "    '1994-09-04 00:00:00'\n",
       "    '1994-09-05 00:00:00'\n",
       "    '1994-09-06 00:00:00'\n",
       "    '1994-09-07 00:00:00'\n",
       "    '1994-09-08 00:00:00'\n",
       "    '1994-09-09 00:00:00'\n",
       "    '1994-09-10 00:00:00'\n",
       "    '1994-09-11 00:00:00'\n",
       "    '1994-09-12 00:00:00'\n",
       "    '1994-09-13 00:00:00'\n",
       "    '1994-09-14 00:00:00'\n",
       "    '1994-09-15 00:00:00'\n",
       "    '1994-09-16 00:00:00'\n",
       "    '1994-09-17 00:00:00'\n",
       "    '1994-09-18 00:00:00'\n",
       "    '1994-09-19 00:00:00'\n",
       "    '1994-09-20 00:00:00'\n",
       "    '1994-09-21 00:00:00'\n",
       "    '1994-09-22 00:00:00'\n",
       "    '1994-09-23 00:00:00'\n",
       "    '1994-09-24 00:00:00'\n",
       "    '1994-09-25 00:00:00'\n",
       "    '1994-09-26 00:00:00'\n",
       "    '1994-09-27 00:00:00'\n",
       "    '1994-09-28 00:00:00'\n",
       "    '1994-09-29 00:00:00'\n",
       "    '1994-09-30 00:00:00'\n",
       "    '1994-10-01 00:00:00'\n",
       "    '1994-10-02 00:00:00'\n",
       "    '1994-10-03 00:00:00'\n",
       "    '1994-10-04 00:00:00'\n",
       "    '1994-10-05 00:00:00'\n",
       "    '1994-10-06 00:00:00'\n",
       "    '1994-10-07 00:00:00'\n",
       "    '1994-10-08 00:00:00'\n",
       "    '1994-10-09 00:00:00'\n",
       "    '1994-10-10 00:00:00'\n",
       "    '1994-10-11 00:00:00'\n",
       "    '1994-10-12 00:00:00'\n",
       "    '1994-10-13 00:00:00'\n",
       "    '1994-10-14 00:00:00'\n",
       "    '1994-10-15 00:00:00'\n",
       "    '1994-10-16 00:00:00'\n",
       "    '1994-10-17 00:00:00'\n",
       "    '1994-10-18 00:00:00'\n",
       "    '1994-10-19 00:00:00'\n",
       "    '1994-10-20 00:00:00'\n",
       "    '1994-10-21 00:00:00'\n",
       "    '1994-10-22 00:00:00'\n",
       "    '1994-10-23 00:00:00'\n",
       "    '1994-10-24 00:00:00'\n",
       "    '1994-10-25 00:00:00'\n",
       "    '1994-10-26 00:00:00'\n",
       "    '1994-10-27 00:00:00'\n",
       "    '1994-10-28 00:00:00'\n",
       "    '1994-10-29 00:00:00'\n",
       "    '1994-10-30 00:00:00'\n",
       "    '1994-10-31 00:00:00'\n",
       "    '1994-11-01 00:00:00'\n",
       "    '1994-11-02 00:00:00'\n",
       "    '1994-11-03 00:00:00'\n",
       "    '1994-11-04 00:00:00'\n",
       "    '1994-11-05 00:00:00'\n",
       "    '1994-11-06 00:00:00'\n",
       "    '1994-11-07 00:00:00'\n",
       "    '1994-11-08 00:00:00'\n",
       "    '1994-11-09 00:00:00'\n",
       "    '1994-11-10 00:00:00'\n",
       "    '1994-11-11 00:00:00'\n",
       "    '1994-11-12 00:00:00'\n",
       "    '1994-11-13 00:00:00'\n",
       "    '1994-11-14 00:00:00'\n",
       "    '1994-11-15 00:00:00'\n",
       "    '1994-11-16 00:00:00'\n",
       "    '1994-11-17 00:00:00'\n",
       "    '1994-11-18 00:00:00'\n",
       "    '1994-11-19 00:00:00'\n",
       "    '1994-11-20 00:00:00'\n",
       "    '1994-11-21 00:00:00'\n",
       "    '1994-11-22 00:00:00'\n",
       "    '1994-11-23 00:00:00'\n",
       "    '1994-11-24 00:00:00'\n",
       "    '1994-11-25 00:00:00'\n",
       "    '1994-11-26 00:00:00'\n",
       "    '1994-11-27 00:00:00'\n",
       "    '1994-11-28 00:00:00'\n",
       "    '1994-11-29 00:00:00'\n",
       "    '1994-11-30 00:00:00'\n",
       "    '1994-12-01 00:00:00'\n",
       "    '1994-12-02 00:00:00'\n",
       "    '1994-12-03 00:00:00'\n",
       "    '1994-12-04 00:00:00'\n",
       "    '1994-12-05 00:00:00'\n",
       "    '1994-12-06 00:00:00'\n",
       "    '1994-12-07 00:00:00'\n",
       "    '1994-12-08 00:00:00'\n",
       "    '1994-12-09 00:00:00'\n",
       "    '1994-12-10 00:00:00'\n",
       "    '1994-12-11 00:00:00'\n",
       "    '1994-12-12 00:00:00'\n",
       "    '1994-12-13 00:00:00'\n",
       "    '1994-12-14 00:00:00'\n",
       "    '1994-12-15 00:00:00'\n",
       "    '1994-12-16 00:00:00'\n",
       "    '1994-12-17 00:00:00'\n",
       "    '1994-12-18 00:00:00'\n",
       "    '1994-12-19 00:00:00'\n",
       "    '1994-12-20 00:00:00'\n",
       "    '1994-12-21 00:00:00'\n",
       "    '1994-12-22 00:00:00'\n",
       "    '1994-12-23 00:00:00'\n",
       "    '1994-12-24 00:00:00'\n",
       "    '1994-12-25 00:00:00'\n",
       "    '1994-12-26 00:00:00'\n",
       "    '1994-12-27 00:00:00'\n",
       "    '1994-12-28 00:00:00'\n",
       "    '1994-12-29 00:00:00'\n",
       "    '1994-12-30 00:00:00'\n",
       "    '1994-12-31 00:00:00'\n",
       "    '1995-01-01 00:00:00'\n",
       "    '1995-01-02 00:00:00'\n",
       "    '1995-01-03 00:00:00'\n",
       "    '1995-01-04 00:00:00'\n",
       "    '1995-01-05 00:00:00'\n",
       "    '1995-01-06 00:00:00'\n",
       "    '1995-01-07 00:00:00'\n",
       "    '1995-01-08 00:00:00'\n",
       "    '1995-01-09 00:00:00'\n",
       "    '1995-01-10 00:00:00'\n",
       "    '1995-01-11 00:00:00'\n",
       "    '1995-01-12 00:00:00'\n",
       "    '1995-01-13 00:00:00'\n",
       "    '1995-01-14 00:00:00'\n",
       "    '1995-01-15 00:00:00'\n",
       "    '1995-01-16 00:00:00'\n",
       "    '1995-01-17 00:00:00'\n",
       "    '1995-01-18 00:00:00'\n",
       "    '1995-01-19 00:00:00'\n",
       "    '1995-01-20 00:00:00'\n",
       "    '1995-01-21 00:00:00'\n",
       "    '1995-01-22 00:00:00'\n",
       "    '1995-01-23 00:00:00'\n",
       "    '1995-01-24 00:00:00'\n",
       "    '1995-01-25 00:00:00'\n",
       "    '1995-01-26 00:00:00'\n",
       "    '1995-01-27 00:00:00'\n",
       "    '1995-01-28 00:00:00'\n",
       "    '1995-01-29 00:00:00'\n",
       "    '1995-01-30 00:00:00'\n",
       "    '1995-01-31 00:00:00'\n",
       "    '1995-02-01 00:00:00'\n",
       "    '1995-02-02 00:00:00'\n",
       "    '1995-02-03 00:00:00'\n",
       "    '1995-02-04 00:00:00'\n",
       "    '1995-02-05 00:00:00'\n",
       "    '1995-02-06 00:00:00'\n",
       "    '1995-02-07 00:00:00'\n",
       "    '1995-02-08 00:00:00'\n",
       "    '1995-02-09 00:00:00'\n",
       "    '1995-02-10 00:00:00'\n",
       "    '1995-02-11 00:00:00'\n",
       "    '1995-02-12 00:00:00'\n",
       "    '1995-02-13 00:00:00'\n",
       "    '1995-02-14 00:00:00'\n",
       "    '1995-02-15 00:00:00'\n",
       "    '1995-02-16 00:00:00'\n",
       "    '1995-02-17 00:00:00'\n",
       "    '1995-02-18 00:00:00'\n",
       "    '1995-02-19 00:00:00'\n",
       "    '1995-02-20 00:00:00'\n",
       "    '1995-02-21 00:00:00'\n",
       "    '1995-02-22 00:00:00'\n",
       "    '1995-02-23 00:00:00'\n",
       "    '1995-02-24 00:00:00'\n",
       "    '1995-02-25 00:00:00'\n",
       "    '1995-02-26 00:00:00'\n",
       "    '1995-02-27 00:00:00'\n",
       "    '1995-02-28 00:00:00'\n",
       "    '1995-03-01 00:00:00'\n",
       "    '1995-03-02 00:00:00'\n",
       "    '1995-03-03 00:00:00'\n",
       "    '1995-03-04 00:00:00'\n",
       "    '1995-03-05 00:00:00'\n",
       "    '1995-03-06 00:00:00'\n",
       "    '1995-03-07 00:00:00'\n",
       "    '1995-03-08 00:00:00'\n",
       "    '1995-03-09 00:00:00'\n",
       "    '1995-03-10 00:00:00'\n",
       "    '1995-03-11 00:00:00'\n",
       "    '1995-03-12 00:00:00'\n",
       "    '1995-03-13 00:00:00'\n",
       "    '1995-03-14 00:00:00'\n",
       "    '1995-03-15 00:00:00'\n",
       "    '1995-03-16 00:00:00'\n",
       "    '1995-03-17 00:00:00'\n",
       "    '1995-03-18 00:00:00'\n",
       "    '1995-03-19 00:00:00'\n",
       "    '1995-03-20 00:00:00'\n",
       "    '1995-03-21 00:00:00'\n",
       "    '1995-03-22 00:00:00'\n",
       "    '1995-03-23 00:00:00'\n",
       "    '1995-03-24 00:00:00'\n",
       "    '1995-03-25 00:00:00'\n",
       "    '1995-03-26 00:00:00'\n",
       "    '1995-03-27 00:00:00'\n",
       "    '1995-03-28 00:00:00'\n",
       "    '1995-03-29 00:00:00'\n",
       "    '1995-03-30 00:00:00'\n",
       "    '1995-03-31 00:00:00'\n",
       "    '1995-04-01 00:00:00'\n",
       "    '1995-04-02 00:00:00'\n",
       "    '1995-04-03 00:00:00'\n",
       "    '1995-04-04 00:00:00'\n",
       "    '1995-04-05 00:00:00'\n",
       "    '1995-04-06 00:00:00'\n",
       "    '1995-04-07 00:00:00'\n",
       "    '1995-04-08 00:00:00'\n",
       "    '1995-04-09 00:00:00'\n",
       "    '1995-04-10 00:00:00'\n",
       "    '1995-04-11 00:00:00'\n",
       "    '1995-04-12 00:00:00'\n",
       "    '1995-04-13 00:00:00'\n",
       "    '1995-04-14 00:00:00'\n",
       "    '1995-04-15 00:00:00'\n",
       "    '1995-04-16 00:00:00'\n",
       "    '1995-04-17 00:00:00'\n",
       "    '1995-04-18 00:00:00'\n",
       "    '1995-04-19 00:00:00'\n",
       "    '1995-04-20 00:00:00'\n",
       "    '1995-04-21 00:00:00'\n",
       "    '1995-04-22 00:00:00'\n",
       "    '1995-04-23 00:00:00'\n",
       "    '1995-04-24 00:00:00'\n",
       "    '1995-04-25 00:00:00'\n",
       "    '1995-04-26 00:00:00'\n",
       "    '1995-04-27 00:00:00'\n",
       "    '1995-04-28 00:00:00'\n",
       "    '1995-04-29 00:00:00'\n",
       "    '1995-04-30 00:00:00'\n",
       "    '1995-05-01 00:00:00'\n",
       "    '1995-05-02 00:00:00'\n",
       "    '1995-05-03 00:00:00'\n",
       "    '1995-05-04 00:00:00'\n",
       "    '1995-05-05 00:00:00'\n",
       "    '1995-05-06 00:00:00'\n",
       "    '1995-05-07 00:00:00'\n",
       "    '1995-05-08 00:00:00'\n",
       "    '1995-05-09 00:00:00'\n",
       "    '1995-05-10 00:00:00'\n",
       "    '1995-05-11 00:00:00'\n",
       "    '1995-05-12 00:00:00'\n",
       "    '1995-05-13 00:00:00'\n",
       "    '1995-05-14 00:00:00'\n",
       "    '1995-05-15 00:00:00'\n",
       "    '1995-05-16 00:00:00'\n",
       "    '1995-05-17 00:00:00'\n",
       "    '1995-05-18 00:00:00'\n",
       "    '1995-05-19 00:00:00'\n",
       "    '1995-05-20 00:00:00'\n",
       "    '1995-05-21 00:00:00'\n",
       "    '1995-05-22 00:00:00'\n",
       "    '1995-05-23 00:00:00'\n",
       "    '1995-05-24 00:00:00'\n",
       "    '1995-05-25 00:00:00'\n",
       "    '1995-05-26 00:00:00'\n",
       "    '1995-05-27 00:00:00'\n",
       "    '1995-05-28 00:00:00'\n",
       "    '1995-05-29 00:00:00'\n",
       "    '1995-05-30 00:00:00'\n",
       "    '1995-05-31 00:00:00'\n",
       "    '1995-06-01 00:00:00'\n",
       "    '1995-06-02 00:00:00'\n",
       "    '1995-06-03 00:00:00'\n",
       "    '1995-06-04 00:00:00'\n",
       "    '1995-06-05 00:00:00'\n",
       "    '1995-06-06 00:00:00'\n",
       "    '1995-06-07 00:00:00'\n",
       "    '1995-06-08 00:00:00'\n",
       "    '1995-06-09 00:00:00'\n",
       "    '1995-06-10 00:00:00'\n",
       "    '1995-06-11 00:00:00'\n",
       "    '1995-06-12 00:00:00'\n",
       "    '1995-06-13 00:00:00'\n",
       "    '1995-06-14 00:00:00'\n",
       "    '1995-06-15 00:00:00'\n",
       "    '1995-06-16 00:00:00'\n",
       "    '1995-06-17 00:00:00'\n",
       "    '1995-06-18 00:00:00'\n",
       "    '1995-06-19 00:00:00'\n",
       "    '1995-06-20 00:00:00'\n",
       "    '1995-06-21 00:00:00'\n",
       "    '1995-06-22 00:00:00'\n",
       "    '1995-06-23 00:00:00'\n",
       "    '1995-06-24 00:00:00'\n",
       "    '1995-06-25 00:00:00'\n",
       "    '1995-06-26 00:00:00'\n",
       "    '1995-06-27 00:00:00'\n",
       "    '1995-06-28 00:00:00'\n",
       "    '1995-06-29 00:00:00'\n",
       "    '1995-06-30 00:00:00'\n",
       "    '1995-07-01 00:00:00'\n",
       "    '1995-07-02 00:00:00'\n",
       "    '1995-07-03 00:00:00'\n",
       "    '1995-07-04 00:00:00'\n",
       "    '1995-07-05 00:00:00'\n",
       "    '1995-07-06 00:00:00'\n",
       "    '1995-07-07 00:00:00'\n",
       "    '1995-07-08 00:00:00'\n",
       "    '1995-07-09 00:00:00'\n",
       "    '1995-07-10 00:00:00'\n",
       "    '1995-07-11 00:00:00'\n",
       "    '1995-07-12 00:00:00'\n",
       "    '1995-07-13 00:00:00'\n",
       "    '1995-07-14 00:00:00'\n",
       "    '1995-07-15 00:00:00'\n",
       "    '1995-07-16 00:00:00'\n",
       "    '1995-07-17 00:00:00'\n",
       "    '1995-07-18 00:00:00'\n",
       "    '1995-07-19 00:00:00'\n",
       "    '1995-07-20 00:00:00'\n",
       "    '1995-07-21 00:00:00'\n",
       "    '1995-07-22 00:00:00'\n",
       "    '1995-07-23 00:00:00'\n",
       "    '1995-07-24 00:00:00'\n",
       "    '1995-07-25 00:00:00'\n",
       "    '1995-07-26 00:00:00'\n",
       "    '1995-07-27 00:00:00'\n",
       "    '1995-07-28 00:00:00'\n",
       "    '1995-07-29 00:00:00'\n",
       "    '1995-07-30 00:00:00'\n",
       "    '1995-07-31 00:00:00'\n",
       "    '1995-08-01 00:00:00'\n",
       "    '1995-08-02 00:00:00'\n",
       "    '1995-08-03 00:00:00'\n",
       "    '1995-08-04 00:00:00'\n",
       "    '1995-08-05 00:00:00'\n",
       "    '1995-08-06 00:00:00'\n",
       "    '1995-08-07 00:00:00'\n",
       "    '1995-08-08 00:00:00'\n",
       "    '1995-08-09 00:00:00'\n",
       "    '1995-08-10 00:00:00'\n",
       "    '1995-08-11 00:00:00'\n",
       "    '1995-08-12 00:00:00'\n",
       "    '1995-08-13 00:00:00'\n",
       "    '1995-08-14 00:00:00'\n",
       "    '1995-08-15 00:00:00'\n",
       "    '1995-08-16 00:00:00'\n",
       "    '1995-08-17 00:00:00'\n",
       "    '1995-08-18 00:00:00'\n",
       "    '1995-08-19 00:00:00'\n",
       "    '1995-08-20 00:00:00'\n",
       "    '1995-08-21 00:00:00'\n",
       "    '1995-08-22 00:00:00'\n",
       "    '1995-08-23 00:00:00'\n",
       "    '1995-08-24 00:00:00'\n",
       "    '1995-08-25 00:00:00'\n",
       "    '1995-08-26 00:00:00'\n",
       "    '1995-08-27 00:00:00'\n",
       "    '1995-08-28 00:00:00'\n",
       "    '1995-08-29 00:00:00'\n",
       "    '1995-08-30 00:00:00'\n",
       "    '1995-08-31 00:00:00'\n",
       "    '1995-09-01 00:00:00'\n",
       "    '1995-09-02 00:00:00'\n",
       "    '1995-09-03 00:00:00'\n",
       "    '1995-09-04 00:00:00'\n",
       "    '1995-09-05 00:00:00'\n",
       "    '1995-09-06 00:00:00'\n",
       "    '1995-09-07 00:00:00'\n",
       "    '1995-09-08 00:00:00'\n",
       "    '1995-09-09 00:00:00'\n",
       "    '1995-09-10 00:00:00'\n",
       "    '1995-09-11 00:00:00'\n",
       "    '1995-09-12 00:00:00'\n",
       "    '1995-09-13 00:00:00'\n",
       "    '1995-09-14 00:00:00'\n",
       "    '1995-09-15 00:00:00'\n",
       "    '1995-09-16 00:00:00'\n",
       "    '1995-09-17 00:00:00'\n",
       "    '1995-09-18 00:00:00'\n",
       "    '1995-09-19 00:00:00'\n",
       "    '1995-09-20 00:00:00'\n",
       "    '1995-09-21 00:00:00'\n",
       "    '1995-09-22 00:00:00'\n",
       "    '1995-09-23 00:00:00'\n",
       "    '1995-09-24 00:00:00'\n",
       "    '1995-09-25 00:00:00'\n",
       "    '1995-09-26 00:00:00'\n",
       "    '1995-09-27 00:00:00'\n",
       "    '1995-09-28 00:00:00'\n",
       "    '1995-09-29 00:00:00'\n",
       "    '1995-09-30 00:00:00'\n",
       "    '1995-10-01 00:00:00'\n",
       "    '1995-10-02 00:00:00'\n",
       "    '1995-10-03 00:00:00'\n",
       "    '1995-10-04 00:00:00'\n",
       "    '1995-10-05 00:00:00'\n",
       "    '1995-10-06 00:00:00'\n",
       "    '1995-10-07 00:00:00'\n",
       "    '1995-10-08 00:00:00'\n",
       "    '1995-10-09 00:00:00'\n",
       "    '1995-10-10 00:00:00'\n",
       "    '1995-10-11 00:00:00'\n",
       "    '1995-10-12 00:00:00'\n",
       "    '1995-10-13 00:00:00'\n",
       "    '1995-10-14 00:00:00'\n",
       "    '1995-10-15 00:00:00'\n",
       "    '1995-10-16 00:00:00'\n",
       "    '1995-10-17 00:00:00'\n",
       "    '1995-10-18 00:00:00'\n",
       "    '1995-10-19 00:00:00'\n",
       "    '1995-10-20 00:00:00'\n",
       "    '1995-10-21 00:00:00'\n",
       "    '1995-10-22 00:00:00'\n",
       "    '1995-10-23 00:00:00'\n",
       "    '1995-10-24 00:00:00'\n",
       "    '1995-10-25 00:00:00'\n",
       "    '1995-10-26 00:00:00'\n",
       "    '1995-10-27 00:00:00'\n",
       "    '1995-10-28 00:00:00'\n",
       "    '1995-10-29 00:00:00'\n",
       "    '1995-10-30 00:00:00'\n",
       "    '1995-10-31 00:00:00'\n",
       "    '1995-11-01 00:00:00'\n",
       "    '1995-11-02 00:00:00'\n",
       "    '1995-11-03 00:00:00'\n",
       "    '1995-11-04 00:00:00'\n",
       "    '1995-11-05 00:00:00'\n",
       "    '1995-11-06 00:00:00'\n",
       "    '1995-11-07 00:00:00'\n",
       "    '1995-11-08 00:00:00'\n",
       "    '1995-11-09 00:00:00'\n",
       "    '1995-11-10 00:00:00'\n",
       "    '1995-11-11 00:00:00'\n",
       "    '1995-11-12 00:00:00'\n",
       "    '1995-11-13 00:00:00'\n",
       "    '1995-11-14 00:00:00'\n",
       "    '1995-11-15 00:00:00'\n",
       "    '1995-11-16 00:00:00'\n",
       "    '1995-11-17 00:00:00'\n",
       "    '1995-11-18 00:00:00'\n",
       "    '1995-11-19 00:00:00'\n",
       "    '1995-11-20 00:00:00'\n",
       "    '1995-11-21 00:00:00'\n",
       "    '1995-11-22 00:00:00'\n",
       "    '1995-11-23 00:00:00'\n",
       "    '1995-11-24 00:00:00'\n",
       "    '1995-11-25 00:00:00'\n",
       "    '1995-11-26 00:00:00'\n",
       "    '1995-11-27 00:00:00'\n",
       "    '1995-11-28 00:00:00'\n",
       "    '1995-11-29 00:00:00'\n",
       "    '1995-11-30 00:00:00'\n",
       "    '1995-12-01 00:00:00'\n",
       "    '1995-12-02 00:00:00'\n",
       "    '1995-12-03 00:00:00'\n",
       "    '1995-12-04 00:00:00'\n",
       "    '1995-12-05 00:00:00'\n",
       "    '1995-12-06 00:00:00'\n",
       "    '1995-12-07 00:00:00'\n",
       "    '1995-12-08 00:00:00'\n",
       "    '1995-12-09 00:00:00'\n",
       "    '1995-12-10 00:00:00'\n",
       "    '1995-12-11 00:00:00'\n",
       "    '1995-12-12 00:00:00'\n",
       "    '1995-12-13 00:00:00'\n",
       "    '1995-12-14 00:00:00'\n",
       "    '1995-12-15 00:00:00'\n",
       "    '1995-12-16 00:00:00'\n",
       "    '1995-12-17 00:00:00'\n",
       "    '1995-12-18 00:00:00'\n",
       "    '1995-12-19 00:00:00'\n",
       "    '1995-12-20 00:00:00'\n",
       "    '1995-12-21 00:00:00'\n",
       "    '1995-12-22 00:00:00'\n",
       "    '1995-12-23 00:00:00'\n",
       "    '1995-12-24 00:00:00'\n",
       "    '1995-12-25 00:00:00'\n",
       "    '1995-12-26 00:00:00'\n",
       "    '1995-12-27 00:00:00'\n",
       "    '1995-12-28 00:00:00'\n",
       "    '1995-12-29 00:00:00'\n",
       "    '1995-12-30 00:00:00'\n",
       "    '1995-12-31 00:00:00'\n",
       "    '1996-01-01 00:00:00'\n",
       "    '1996-01-02 00:00:00'\n",
       "    '1996-01-03 00:00:00'\n",
       "    '1996-01-04 00:00:00'\n",
       "    '1996-01-05 00:00:00'\n",
       "    '1996-01-06 00:00:00'\n",
       "    '1996-01-07 00:00:00'\n",
       "    '1996-01-08 00:00:00'\n",
       "    '1996-01-09 00:00:00'\n",
       "    '1996-01-10 00:00:00'\n",
       "    '1996-01-11 00:00:00'\n",
       "    '1996-01-12 00:00:00'\n",
       "    '1996-01-13 00:00:00'\n",
       "    '1996-01-14 00:00:00'\n",
       "    '1996-01-15 00:00:00'\n",
       "    '1996-01-16 00:00:00'\n",
       "    '1996-01-17 00:00:00'\n",
       "    '1996-01-18 00:00:00'\n",
       "    '1996-01-19 00:00:00'\n",
       "    '1996-01-20 00:00:00'\n",
       "    '1996-01-21 00:00:00'\n",
       "    '1996-01-22 00:00:00'\n",
       "    '1996-01-23 00:00:00'\n",
       "    '1996-01-24 00:00:00'\n",
       "    '1996-01-25 00:00:00'\n",
       "    '1996-01-26 00:00:00'\n",
       "    '1996-01-27 00:00:00'\n",
       "    '1996-01-28 00:00:00'\n",
       "    '1996-01-29 00:00:00'\n",
       "    '1996-01-30 00:00:00'\n",
       "    '1996-01-31 00:00:00'\n",
       "    '1996-02-01 00:00:00'\n",
       "    '1996-02-02 00:00:00'\n",
       "    '1996-02-03 00:00:00'\n",
       "    '1996-02-04 00:00:00'\n",
       "    '1996-02-05 00:00:00'\n",
       "    '1996-02-06 00:00:00'\n",
       "    '1996-02-07 00:00:00'\n",
       "    '1996-02-08 00:00:00'\n",
       "    '1996-02-09 00:00:00'\n",
       "    '1996-02-10 00:00:00'\n",
       "    '1996-02-11 00:00:00'\n",
       "    '1996-02-12 00:00:00'\n",
       "    '1996-02-13 00:00:00'\n",
       "    '1996-02-14 00:00:00'\n",
       "    '1996-02-15 00:00:00'\n",
       "    '1996-02-16 00:00:00'\n",
       "    '1996-02-17 00:00:00'\n",
       "    '1996-02-18 00:00:00'\n",
       "    '1996-02-19 00:00:00'\n",
       "    '1996-02-20 00:00:00'\n",
       "    '1996-02-21 00:00:00'\n",
       "    '1996-02-22 00:00:00'\n",
       "    '1996-02-23 00:00:00'\n",
       "    '1996-02-24 00:00:00'\n",
       "    '1996-02-25 00:00:00'\n",
       "    '1996-02-26 00:00:00'\n",
       "    '1996-02-27 00:00:00'\n",
       "    '1996-02-28 00:00:00'\n",
       "    '1996-02-29 00:00:00'\n",
       "    '1996-03-01 00:00:00'\n",
       "    '1996-03-02 00:00:00'\n",
       "    '1996-03-03 00:00:00'\n",
       "    '1996-03-04 00:00:00'\n",
       "    '1996-03-05 00:00:00'\n",
       "    '1996-03-06 00:00:00'\n",
       "    '1996-03-07 00:00:00'\n",
       "    '1996-03-08 00:00:00'\n",
       "    '1996-03-09 00:00:00'\n",
       "    '1996-03-10 00:00:00'\n",
       "    '1996-03-11 00:00:00'\n",
       "    '1996-03-12 00:00:00'\n",
       "    '1996-03-13 00:00:00'\n",
       "    '1996-03-14 00:00:00'\n",
       "    '1996-03-15 00:00:00'\n",
       "    '1996-03-16 00:00:00'\n",
       "    '1996-03-17 00:00:00'\n",
       "    '1996-03-18 00:00:00'\n",
       "    '1996-03-19 00:00:00'\n",
       "    '1996-03-20 00:00:00'\n",
       "    '1996-03-21 00:00:00'\n",
       "    '1996-03-22 00:00:00'\n",
       "    '1996-03-23 00:00:00'\n",
       "    '1996-03-24 00:00:00'\n",
       "    '1996-03-25 00:00:00'\n",
       "    '1996-03-26 00:00:00'\n",
       "    '1996-03-27 00:00:00'\n",
       "    '1996-03-28 00:00:00'\n",
       "    '1996-03-29 00:00:00'\n",
       "    '1996-03-30 00:00:00'\n",
       "    '1996-03-31 00:00:00'\n",
       "    '1996-04-01 00:00:00'\n",
       "    '1996-04-02 00:00:00'\n",
       "    '1996-04-03 00:00:00'\n",
       "    '1996-04-04 00:00:00'\n",
       "    '1996-04-05 00:00:00'\n",
       "    '1996-04-06 00:00:00'\n",
       "    '1996-04-07 00:00:00'\n",
       "    '1996-04-08 00:00:00'\n",
       "    '1996-04-09 00:00:00'\n",
       "    '1996-04-10 00:00:00'\n",
       "    '1996-04-11 00:00:00'\n",
       "    '1996-04-12 00:00:00'\n",
       "    '1996-04-13 00:00:00'\n",
       "    '1996-04-14 00:00:00'\n",
       "    '1996-04-15 00:00:00'\n",
       "    '1996-04-16 00:00:00'\n",
       "    '1996-04-17 00:00:00'\n",
       "    '1996-04-18 00:00:00'\n",
       "    '1996-04-19 00:00:00'\n",
       "    '1996-04-20 00:00:00'\n",
       "    '1996-04-21 00:00:00'\n",
       "    '1996-04-22 00:00:00'\n",
       "    '1996-04-23 00:00:00'\n",
       "    '1996-04-24 00:00:00'\n",
       "    '1996-04-25 00:00:00'"
      ]
     },
     "execution_count": 4,
     "metadata": {},
     "output_type": "execute_result"
    }
   ],
   "source": [
    "time_str = datestr(time, 'yyyy-mm-dd HH:MM:SS');\n",
    "time_str"
   ]
  },
  {
   "cell_type": "code",
   "execution_count": 12,
   "id": "f1f0ab1c-2dec-4326-8a75-42cc35320ef3",
   "metadata": {
    "tags": []
   },
   "outputs": [],
   "source": [
    "base_flow=baseflow';\n",
    "q_flow=quick_flow';"
   ]
  },
  {
   "cell_type": "code",
   "execution_count": 17,
   "id": "5cb16fe2-4459-472c-89e0-e5ebf4283562",
   "metadata": {
    "tags": []
   },
   "outputs": [
    {
     "name": "stderr",
     "output_type": "stream",
     "text": [
      "Invalid expression. When calling a function or indexing a variable, use parentheses. Otherwise, check for mismatched delimiters."
     ]
    }
   ],
   "source": [
    "all_data1=horzcat[time_str,num2cell(base_flow),num2cell(q_flow)];"
   ]
  },
  {
   "cell_type": "code",
   "execution_count": null,
   "id": "3ea82a46-a7ff-4b50-bb35-77463771ee9c",
   "metadata": {},
   "outputs": [],
   "source": []
  },
  {
   "cell_type": "code",
   "execution_count": 8,
   "id": "209314a2-a3fe-4e37-aa29-4a066da4ca0b",
   "metadata": {
    "tags": []
   },
   "outputs": [
    {
     "data": {
      "text/html": [
       "<html><body><pre>baseflow = 1x9131 double\n",
       "    0.0238    0.0260    0.0501    0.0559    0.0374    0.0337    0.0341    0.0345    0.0350    0.0354    0.0358    0.0362    0.0366    0.0370    0.0370    0.0379    0.0383    0.0387    0.0391    0.0396    0.0400    0.0404    0.0408    0.0412    0.0416    0.0421    0.0425    0.0429    0.0433    0.0437\n",
       "...</pre></body></html>"
      ],
      "text/plain": [
       "baseflow = 1x9131 double\n",
       "    0.0238    0.0260    0.0501    0.0559    0.0374    0.0337    0.0341    0.0345    0.0350    0.0354    0.0358    0.0362    0.0366    0.0370    0.0370    0.0379    0.0383    0.0387    0.0391    0.0396    0.0400    0.0404    0.0408    0.0412    0.0416    0.0421    0.0425    0.0429    0.0433    0.0437\n",
       "..."
      ]
     },
     "execution_count": 8,
     "metadata": {},
     "output_type": "execute_result"
    }
   ],
   "source": [
    "baseflow"
   ]
  },
  {
   "cell_type": "code",
   "execution_count": 9,
   "id": "0877c1e4-2b2a-45be-973d-6cdea16b0477",
   "metadata": {
    "collapsed": true,
    "jupyter": {
     "outputs_hidden": true
    },
    "tags": []
   },
   "outputs": [
    {
     "data": {
      "text/html": [
       "<html><body><pre>ans = 9131x1 double\n",
       "    0.0238\n",
       "    0.0260\n",
       "    0.0501\n",
       "    0.0559\n",
       "    0.0374\n",
       "    0.0337\n",
       "    0.0341\n",
       "    0.0345\n",
       "    0.0350\n",
       "    0.0354\n",
       "...</pre></body></html>"
      ],
      "text/plain": [
       "ans = 9131x1 double\n",
       "    0.0238\n",
       "    0.0260\n",
       "    0.0501\n",
       "    0.0559\n",
       "    0.0374\n",
       "    0.0337\n",
       "    0.0341\n",
       "    0.0345\n",
       "    0.0350\n",
       "    0.0354\n",
       "..."
      ]
     },
     "execution_count": 9,
     "metadata": {},
     "output_type": "execute_result"
    }
   ],
   "source": [
    "baseflow'"
   ]
  },
  {
   "cell_type": "code",
   "execution_count": 10,
   "id": "ddf19bf5-af1d-499e-a911-efde12894340",
   "metadata": {
    "collapsed": true,
    "jupyter": {
     "outputs_hidden": true
    },
    "tags": []
   },
   "outputs": [
    {
     "data": {
      "text/html": [
       "<html><body><pre>ans = 9131x1 double\n",
       "         0\n",
       "         0\n",
       "         0\n",
       "         0\n",
       "         0\n",
       "         0\n",
       "    0.0178\n",
       "    0.0218\n",
       "    0.0190\n",
       "    0.0096\n",
       "...</pre></body></html>"
      ],
      "text/plain": [
       "ans = 9131x1 double\n",
       "         0\n",
       "         0\n",
       "         0\n",
       "         0\n",
       "         0\n",
       "         0\n",
       "    0.0178\n",
       "    0.0218\n",
       "    0.0190\n",
       "    0.0096\n",
       "..."
      ]
     },
     "execution_count": 10,
     "metadata": {},
     "output_type": "execute_result"
    }
   ],
   "source": [
    "quick_flow'"
   ]
  },
  {
   "cell_type": "code",
   "execution_count": 41,
   "id": "b2383461-76b5-4718-8f99-6774cf0f3616",
   "metadata": {
    "tags": []
   },
   "outputs": [],
   "source": [
    "% 将baseflow和quick_flow与时间合并成一个矩阵\n",
    "X=[datevec(time), rain', flow', baseflow', quick_flow'];\n",
    "% 保存到文件中\n",
    "dlmwrite('platform/DMCA-ESR/data/output.txt', X, 'delimiter', ' ', 'precision', '%d\\t%d\\t%d\\t%d\\t%d\\t%d\\t%.4f\\t%.4f\\t%.4f\\t%.4f');"
   ]
  },
  {
   "cell_type": "code",
   "execution_count": 31,
   "id": "6fa079cc-db2c-479c-99bd-1109c28192f1",
   "metadata": {
    "tags": []
   },
   "outputs": [],
   "source": [
    "X = [datevec(time), rain', flow', baseflow', quick_flow'];\n",
    "header = {'year', 'month', 'day', 'hour', 'minute', 'second', 'rain', 'flow', 'baseflow', 'quick_flow'};\n",
    "header_str = strjoin(header, '\\t');\n",
    "\n",
    "% 将数据和表头保存到文件\n",
    "fileID = fopen('platform/DMCA-ESR/data/baseflow_quickflow.txt', 'w');\n",
    "fprintf(fileID, '%s\\n', header_str);\n",
    "fprintf(fileID, '%d\\t%d\\t%d\\t%d\\t%d\\t%d\\t%.4f\\t%.4f\\t%.4f\\t%.4f\\n', X');\n",
    "fclose(fileID);"
   ]
  },
  {
   "cell_type": "code",
   "execution_count": 21,
   "id": "020dc70a-ede4-4da6-9c2b-8faa455b868d",
   "metadata": {
    "tags": []
   },
   "outputs": [],
   "source": [
    "% 将数据转换为字符串格式\n",
    "time_str1 = datestr(time, 'yyyy-mm-dd HH:MM:SS');\n",
    "rain_str1 = num2str(rain', '%.4f');\n",
    "flow_str1 = num2str(flow', '%.4f');\n",
    "baseflow_str1 = num2str(baseflow', '%.4f');\n",
    "quick_flow_str1 = num2str(quick_flow', '%.4f');"
   ]
  },
  {
   "cell_type": "code",
   "execution_count": 36,
   "id": "17d055ab-45b2-4352-a45d-e5a563ded702",
   "metadata": {
    "tags": []
   },
   "outputs": [
    {
     "name": "stderr",
     "output_type": "stream",
     "text": [
      "Failed to execute. Operation may have interrupted by user."
     ]
    }
   ],
   "source": [
    "% 将列名和数据分别写入不同的字符串数组中\n",
    "header = 'time\\t\\t\\train\\tflow\\tbaseflow\\tquick_flow\\n';\n",
    "all_data2=horzcat(time_str1,rain_str1,flow_str1,baseflow_str1,quick_flow_str1);\n",
    "\n",
    "% 将数据保存到文件中\n",
    "fid = fopen('platform/DMCA-ESR/data/output.txt', 'w');\n",
    "fprintf(fid, header);\n",
    "fprintf(fid, '%s\\n', all_data2');\n",
    "fclose(fid);"
   ]
  },
  {
   "cell_type": "code",
   "execution_count": 39,
   "id": "bcd54403-bc1b-4d4e-99ef-f842c663d6cd",
   "metadata": {
    "tags": []
   },
   "outputs": [],
   "source": [
    "dlmwrite('platform/DMCA-ESR/data/output.txt', all_data2, 'delimiter', '\\t', 'newline', 'pc');"
   ]
  },
  {
   "cell_type": "code",
   "execution_count": 40,
   "id": "d9fc0a43-90d1-4b76-938c-2dd3532af0f1",
   "metadata": {
    "collapsed": true,
    "jupyter": {
     "outputs_hidden": true
    },
    "tags": []
   },
   "outputs": [
    {
     "data": {
      "text/html": [
       "<html><body><pre>time = 9131x1 double\n",
       "      726834\n",
       "      726835\n",
       "      726836\n",
       "      726837\n",
       "      726838\n",
       "      726839\n",
       "      726840\n",
       "      726841\n",
       "      726842\n",
       "      726843\n",
       "...</pre></body></html>"
      ],
      "text/plain": [
       "time = 9131x1 double\n",
       "      726834\n",
       "      726835\n",
       "      726836\n",
       "      726837\n",
       "      726838\n",
       "      726839\n",
       "      726840\n",
       "      726841\n",
       "      726842\n",
       "      726843\n",
       "..."
      ]
     },
     "execution_count": 40,
     "metadata": {},
     "output_type": "execute_result"
    }
   ],
   "source": [
    "time"
   ]
  },
  {
   "cell_type": "code",
   "execution_count": 42,
   "id": "44ce21e0-b45d-4bfa-bb27-8bf0c853ad31",
   "metadata": {
    "tags": []
   },
   "outputs": [
    {
     "data": {
      "text/html": [
       "<html><body><pre>date_num = \n",
       "   730486</pre></body></html>"
      ],
      "text/plain": [
       "date_num = \n",
       "   730486"
      ]
     },
     "execution_count": 42,
     "metadata": {},
     "output_type": "execute_result"
    }
   ],
   "source": [
    "date_str = '2000-01-01 00:00:00';\n",
    "date_num = datenum(date_str)"
   ]
  },
  {
   "cell_type": "code",
   "execution_count": 43,
   "id": "b00baa3b-7cb4-4c96-85f5-d19d05ad2de2",
   "metadata": {
    "tags": []
   },
   "outputs": [
    {
     "data": {
      "text/html": [
       "<html><body><pre>ans = 1x6 double\n",
       "        2000           1           1           0           0           0\n",
       "</pre></body></html>"
      ],
      "text/plain": [
       "ans = 1x6 double\n",
       "        2000           1           1           0           0           0\n"
      ]
     },
     "execution_count": 43,
     "metadata": {},
     "output_type": "execute_result"
    }
   ],
   "source": [
    "datevec(date_num)"
   ]
  },
  {
   "cell_type": "code",
   "execution_count": null,
   "id": "fc210fb0-ddb4-4f43-a080-09e59cabc483",
   "metadata": {},
   "outputs": [],
   "source": []
  }
 ],
 "metadata": {
  "kernelspec": {
   "display_name": "MATLAB Kernel",
   "language": "matlab",
   "name": "jupyter_matlab_kernel"
  },
  "language_info": {
   "file_extension": ".m",
   "mimetype": "text/x-matlab",
   "name": "matlab"
  }
 },
 "nbformat": 4,
 "nbformat_minor": 5
}
