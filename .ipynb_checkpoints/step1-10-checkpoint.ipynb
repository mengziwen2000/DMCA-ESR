{
 "cells": [
  {
   "cell_type": "markdown",
   "id": "a4d81f25-6fc9-49a8-86f8-92c424e0c6a0",
   "metadata": {},
   "source": [
    "# Step1-Step2\n",
    "**该函数使用DMCA方法估计平均集水区响应时间，并使用与Tr相对应的窗口长度产生雨量波动、流量波动和双变量波动的时间序列，用于识别事件。**"
   ]
  },
  {
   "cell_type": "code",
   "execution_count": 3,
   "id": "683ebecd-765d-42cc-8340-fcbbe1a30966",
   "metadata": {
    "tags": []
   },
   "outputs": [],
   "source": [
    "rain_original=dlmread('daily_rainfall_27071.txt'); \n",
    "flow_original=dlmread('daily_flow_27071.txt'); \n",
    "multiple=24; %to convert from mm/h to the original units of the timeseries (mm/day)\n",
    "rain=rain_original(:,7)./multiple; %mm/h\n",
    "flow=flow_original(:,7)./multiple; %mm/h\n",
    "time=datenum(rain_original(:,1:6));\n",
    "rain=rain'; \n",
    "flow=flow'; \n",
    "rain_int=cumsum(rain, 'omitnan'); % 计算窗口期内累计降雨（每个元素表示累积前n个元素，n为该元素位置，忽略nan值）\n",
    "flow_int=cumsum(flow, 'omitnan'); %  参考 Eq.1\\Eq.2 in Giani et al., 2021\n",
    "max_window = 100;\n",
    "window = 3;\n",
    "rain_min = 0.02;\n",
    "T=length(rain);"
   ]
  },
  {
   "cell_type": "markdown",
   "id": "a8260371-8dfb-4e53-8564-0c4148cdb821",
   "metadata": {},
   "source": [
    "### moving average on the integrated rainfall\\streamflow timeseries\n",
    "- 窗口期内累积降雨量、径流量的平均值，是滑动计算的 \n",
    "- 参考 Eq.5\\ Eq.6 in Giani et al., 2021"
   ]
  },
  {
   "cell_type": "code",
   "execution_count": 4,
   "id": "793f589c-c36f-46bb-9af4-3c4102965d19",
   "metadata": {
    "tags": []
   },
   "outputs": [],
   "source": [
    "rain_mean((window-1)/2, :)=movmean(rain_int, window);\n",
    "flow_mean((window-1)/2, :)=movmean(flow_int, window);"
   ]
  },
  {
   "cell_type": "markdown",
   "id": "1cc3f218-ecbd-4d9d-b884-21238b03ed5c",
   "metadata": {},
   "source": [
    "### Squared rainfall fluctuations\n",
    "- 计算窗口期内每个累计量相对中心移动均值的波动fluctuation，同时计算这些波动的均方值\n",
    "- 参考Eq.3\\Eq.4 in Giani et al., 2021"
   ]
  },
  {
   "cell_type": "code",
   "execution_count": 5,
   "id": "21894854-209c-4aff-b5a5-1cac0f922541",
   "metadata": {
    "tags": []
   },
   "outputs": [],
   "source": [
    "fluct_rain((window-1)/2,:)=rain_int-rain_mean((window-1)/2,:);\n",
    "F_rain((window-1)/2)=(1/(T-window+1))*nansum((fluct_rain((window-1)/2,window-0.5*(window-1):T-0.5*(window-1))).^2);\n",
    "fluct_flow((window-1)/2,:)=flow_int-flow_mean((window-1)/2,:);\n",
    "F_flow((window-1)/2)=(1/(T-window+1))*nansum((fluct_flow((window-1)/2,window-0.5*(window-1):T-0.5*(window-1))).^2);"
   ]
  },
  {
   "cell_type": "markdown",
   "id": "248cfa08-f5a4-43e3-b343-dc1edf8a4454",
   "metadata": {},
   "source": [
    "### Bivariate rainfall-streamflow fluctuations\n",
    "- 计算二元波动的均方值\n",
    "- 参考 Eq.7 in Giani et al., 2021"
   ]
  },
  {
   "cell_type": "code",
   "execution_count": 6,
   "id": "a7c91dc0-74be-445c-a1cc-b96c1ab3cbcc",
   "metadata": {},
   "outputs": [],
   "source": [
    "F_rain_flow((window-1)/2)=(1/(T-window+1))*nansum(fluct_rain((window-1)/2,window-0.5*(window-1):T-0.5*(window-1)).*fluct_flow((window-1)/2,window-0.5*(window-1):T-0.5*(window-1)));"
   ]
  },
  {
   "cell_type": "markdown",
   "id": "b2cedfec-985e-40c1-837c-a255db0ca4d8",
   "metadata": {},
   "source": [
    "### DMCA-based correlation coefficent\n",
    "- 参考 Eq.8 in Giani et al., 2021\n",
    "- **Tr是作为（window-1）/2的估计，并是基于DMCA相关系数（rho）的最小值，因此需在广泛的窗口期内进行测试，确保包括与Tr相关联的窗口，从而求出集水区的响应时间**\n",
    "- 我这里没有使用for循环，直接设置window=3，应该是max_window=100,window = 3:2:max_window，也就是丛3-100h中找出最强相关系数，即集水区的响应时间"
   ]
  },
  {
   "cell_type": "code",
   "execution_count": 7,
   "id": "dd1b7ffe-159a-42df-88d1-35a07db07414",
   "metadata": {
    "tags": []
   },
   "outputs": [],
   "source": [
    "rho((window-1)/2)=F_rain_flow((window-1)/2)/(sqrt(F_rain((window-1)/2))*sqrt(F_flow((window-1)/2)));"
   ]
  },
  {
   "cell_type": "code",
   "execution_count": 8,
   "id": "d33b31c0-5d43-4c67-ad7d-b6dc90ec52ac",
   "metadata": {
    "tags": []
   },
   "outputs": [
    {
     "data": {
      "text/html": [
       "<html><body><pre>rho = \n",
       "   -0.3575</pre></body></html>"
      ],
      "text/plain": [
       "rho = \n",
       "   -0.3575"
      ]
     },
     "execution_count": 8,
     "metadata": {},
     "output_type": "execute_result"
    }
   ],
   "source": [
    "% 查看一下rho\n",
    "rho"
   ]
  },
  {
   "cell_type": "markdown",
   "id": "c3991cc5-866f-4067-b2be-655c6407c245",
   "metadata": {},
   "source": [
    "- 在for循环下\"position_minimum=find(rho==nanmin(rho));Tr=position_minimum; \"  \n",
    "- 在给定的例子中，rho=[-0.25 0.35 0.18 0.98 -0.57]，nanmin(rho)返回的是rho中去除NaN值后的最小值，即-0.57。**rho == nanmin(rho)返回一个布尔数组，其值为rho中等于-0.57的位置上为true，其他位置为false** 。这个数组在find()函数中用作参数，find()函数返回布尔数组中非零元素的下标。因此，position_minimum=find(rho==nanmin(rho))返回的是rho中最小值的位置，即5。这就求出了最强相关系数，即集水区的响应时间。"
   ]
  },
  {
   "cell_type": "code",
   "execution_count": 9,
   "id": "e5f851ee-7b2b-4023-9a7d-4280afe816d9",
   "metadata": {
    "tags": []
   },
   "outputs": [
    {
     "data": {
      "text/html": [
       "<html><body><pre>Tr = \n",
       "   1</pre></body></html>"
      ],
      "text/plain": [
       "Tr = \n",
       "   1"
      ]
     },
     "execution_count": 9,
     "metadata": {},
     "output_type": "execute_result"
    }
   ],
   "source": [
    "position_minimum=find(rho==nanmin(rho));\n",
    "Tr=position_minimum; \n",
    "Tr"
   ]
  },
  {
   "cell_type": "markdown",
   "id": "ceaa28c0-c8b6-420a-8378-31400ea3c540",
   "metadata": {},
   "source": [
    "## Step2:求出隶属于Tr窗长时间序列的波动情况\n",
    "1. 这一步是为了调整时间序列分析技术，以适应长期干旱或稳定期的需要，从而将降雨和径流的贡献分解为不同的事件\n",
    "2. rain_min:最小降雨强度，用来设置最小降雨量波动的承受能力\n",
    "3. 累积时间序列和平均累积时间序列之间的波动为0，意味着无事件发生。因此可用0波动的周期作为断点来识别事件。但是需要一个最小持续时间等于流域最小响应时间Lmin（即上面求的Tr或是position_minimum）\n",
    "4. 有降雨就有波动，直到波动为0时事件才结束，因此会出现过长事件。虽然这些异常长的事件可能不会影响径流率的估计很大，他们可能不完全符合大多数水文学家预期的事件的长度。\n",
    "5. 出于这个原因，我们给降雨波动引入了一个浮动值（限度tolerance），使小的和孤立的降雨量的贡献不阻止打破在不同的事件的时间序列。\n",
    "6. 绝对值小于降雨波动容限的任何降雨波动被设置为零，因此其可以有助于将时间序列离散成不同的事件。就是代码fluct_rain(position_minimum,abs(fluct_rain(position_minimum,:))<tol_fluct_rain)=0\n",
    "7. 唯一的未知变量是降雨强度Rmin，其需要被设置为等于在数据分辨率下被认为是显著的最小降雨强度。虽然这是主观定义的，但在小时尺度上，我们测试了一系列值，发现在0.1和1毫米/小时之间，所产生的事件选择没有显著差异。范围0.1-1 mm/h转换为0.02- 0.2mm/hr，并且事件识别似乎对Rmin的值不太敏感，除非大于0.2mm/hr。\n",
    "8. 在本研究中，他们选择的Rmin值在小时尺度下等于0.1 mm/ hr，在日尺度下转换为0.02 mm/hr\n",
    "9. 上述范围对所考虑的研究区域有效，**但在其他区域应用DMCA-ESR将需要重新运行敏感性分析**，因为这些范围可能因主要径流产生机制而异。"
   ]
  },
  {
   "cell_type": "code",
   "execution_count": 14,
   "id": "67f8f195-40c6-4837-a049-c27a92d43335",
   "metadata": {
    "tags": []
   },
   "outputs": [],
   "source": [
    "rain_min = 0.02;"
   ]
  },
  {
   "cell_type": "code",
   "execution_count": 15,
   "id": "6ce460a3-ed29-46b2-8346-3235b6784a09",
   "metadata": {
    "tags": []
   },
   "outputs": [],
   "source": [
    "tol_fluct_rain= (rain_min/(2*Tr+1))*(((2*Tr+1)-1)/2);%maximum absolute fluctuation generated by rain_min (Eq. 1 in Giani et al., currently in review with Lmin=2*Tr+1)\n",
    "tol_fluct_flow= flow_int(end)/1e15;"
   ]
  },
  {
   "cell_type": "code",
   "execution_count": 16,
   "id": "f98bbffd-5d61-4624-aa2c-4bca5a460912",
   "metadata": {
    "tags": []
   },
   "outputs": [],
   "source": [
    "fluct_rain(position_minimum,abs(fluct_rain(position_minimum,:))<tol_fluct_rain)=0; %setting to zero differences lower than tol_fluct_rain \n",
    "fluct_flow(position_minimum,abs(fluct_flow(position_minimum,:))<tol_fluct_flow)=0; %setting to zero differences lower than tol_fluct_flow "
   ]
  },
  {
   "cell_type": "code",
   "execution_count": 17,
   "id": "1942359b-09b0-465c-8728-4f6ec7d5fc22",
   "metadata": {
    "tags": []
   },
   "outputs": [],
   "source": [
    "fluct_rain_Tr=fluct_rain(position_minimum,:);\n",
    "fluct_flow_Tr=fluct_flow(position_minimum,:);\n",
    "fluct_bivariate_Tr=fluct_rain_Tr.*fluct_flow_Tr;"
   ]
  },
  {
   "cell_type": "markdown",
   "id": "4991807f-e4ad-4a56-9d80-7de883d4a2da",
   "metadata": {},
   "source": [
    "## 以下更新代码，for循环"
   ]
  },
  {
   "cell_type": "code",
   "execution_count": 19,
   "id": "cba572df-a35a-4ae9-aa0f-802164af4032",
   "metadata": {
    "tags": []
   },
   "outputs": [],
   "source": [
    "for window=3:2:max_window % 起始值、步长和终止值，窗口期\n",
    "    rain_mean((window-1)/2,:)=movmean(rain_int, window);\n",
    "    flow_mean((window-1)/2,:)=movmean(flow_int, window); \n",
    "    fluct_rain((window-1)/2,:)=rain_int-rain_mean((window-1)/2,:);\n",
    "    F_rain((window-1)/2)=(1/(T-window+1))*nansum((fluct_rain((window-1)/2,window-0.5*(window-1):T-0.5*(window-1))).^2); \n",
    "    fluct_flow((window-1)/2,:)=flow_int-flow_mean((window-1)/2,:);\n",
    "    F_flow((window-1)/2)=(1/(T-window+1))*nansum((fluct_flow((window-1)/2,window-0.5*(window-1):T-0.5*(window-1))).^2); \n",
    "    F_rain_flow((window-1)/2)=(1/(T-window+1))*nansum(fluct_rain((window-1)/2,window-0.5*(window-1):T-0.5*(window-1)).*fluct_flow((window-1)/2,window-0.5*(window-1):T-0.5*(window-1))); \n",
    "    rho((window-1)/2)=F_rain_flow((window-1)/2)/(sqrt(F_rain((window-1)/2))*sqrt(F_flow((window-1)/2))); \n",
    "end"
   ]
  },
  {
   "cell_type": "code",
   "execution_count": 20,
   "id": "aac45edc-84fb-43b0-8446-ce6c4cd0f5fb",
   "metadata": {
    "collapsed": true,
    "jupyter": {
     "outputs_hidden": true
    },
    "tags": []
   },
   "outputs": [
    {
     "data": {
      "text/html": [
       "<html><body><pre>rho = 1x49 double\n",
       "   -0.3575   -0.1474    0.0278    0.1546    0.2493    0.3210    0.3769    0.4215    0.4578    0.4883    0.5143    0.5365    0.5559    0.5728    0.5878    0.6012    0.6133    0.6244    0.6345    0.6438    0.6523    0.6601    0.6672    0.6738    0.6799    0.6855    0.6909    0.6960    0.7008    0.7051\n",
       "...</pre></body></html>"
      ],
      "text/plain": [
       "rho = 1x49 double\n",
       "   -0.3575   -0.1474    0.0278    0.1546    0.2493    0.3210    0.3769    0.4215    0.4578    0.4883    0.5143    0.5365    0.5559    0.5728    0.5878    0.6012    0.6133    0.6244    0.6345    0.6438    0.6523    0.6601    0.6672    0.6738    0.6799    0.6855    0.6909    0.6960    0.7008    0.7051\n",
       "..."
      ]
     },
     "execution_count": 20,
     "metadata": {},
     "output_type": "execute_result"
    }
   ],
   "source": [
    "rho"
   ]
  },
  {
   "cell_type": "code",
   "execution_count": 21,
   "id": "bee41e10-f25c-4cb9-8829-b0cbf8702fc0",
   "metadata": {
    "collapsed": true,
    "jupyter": {
     "outputs_hidden": true
    },
    "tags": []
   },
   "outputs": [
    {
     "data": {
      "text/html": [
       "<html><body><pre>Tr = \n",
       "   1</pre></body></html>"
      ],
      "text/plain": [
       "Tr = \n",
       "   1"
      ]
     },
     "execution_count": 21,
     "metadata": {},
     "output_type": "execute_result"
    }
   ],
   "source": [
    "position_minimum=find(rho==nanmin(rho));\n",
    "Tr=position_minimum; \n",
    "Tr"
   ]
  },
  {
   "cell_type": "code",
   "execution_count": 29,
   "id": "d75deaa5-05fb-49f5-a3b8-2f025eaa80b6",
   "metadata": {
    "tags": []
   },
   "outputs": [],
   "source": [
    "%FLUCTUATIONS TIME SERIES FOR WINDOW LENGTH ASSOCITED TO Tr\n",
    "tol_fluct_rain= (rain_min/(2*Tr+1))*(((2*Tr+1)-1)/2);\n",
    "tol_fluct_flow= flow_int(end)/1e15; \n",
    "fluct_rain(position_minimum,abs(fluct_rain(position_minimum,:))<tol_fluct_rain)=0;  \n",
    "fluct_flow(position_minimum,abs(fluct_flow(position_minimum,:))<tol_fluct_flow)=0; \n",
    "\n",
    "fluct_rain_Tr=fluct_rain(position_minimum,:);\n",
    "fluct_flow_Tr=fluct_flow(position_minimum,:);\n",
    "fluct_bivariate_Tr=fluct_rain_Tr.*fluct_flow_Tr;"
   ]
  },
  {
   "cell_type": "code",
   "execution_count": 30,
   "id": "a6a30c88-db2d-4882-8fb5-be573a0efd10",
   "metadata": {
    "collapsed": true,
    "jupyter": {
     "outputs_hidden": true
    },
    "tags": []
   },
   "outputs": [
    {
     "name": "stdout",
     "output_type": "stream",
     "text": [
      "  Name                       Size                Bytes  Class                        Attributes\n",
      "\n",
      "  BEGINNING_FLOW           449x1                  3592  double                                 \n",
      "  BEGINNING_RAIN           449x1                  3592  double                                 \n",
      "  DURATION_RAIN              1x449                3592  double                                 \n",
      "  DURATION_RUNOFF            1x449                3592  double                                 \n",
      "  END_FLOW                 449x1                  3592  double                                 \n",
      "  END_RAIN                 449x1                  3592  double                                 \n",
      "  F_flow                     1x49                  392  double                                 \n",
      "  F_rain                     1x49                  392  double                                 \n",
      "  F_rain_flow                1x49                  392  double                                 \n",
      "  M3                         2x5                    80  double                                 \n",
      "  M_all                      1x1                     8  double                                 \n",
      "  RUNOFF_RATIO               1x449                3592  double                                 \n",
      "  T                          1x1                     8  double                                 \n",
      "  Tr                         1x1                     8  double                                 \n",
      "  VOLUME_RAIN                1x449                3592  double                                 \n",
      "  VOLUME_RUNOFF              1x449                3592  double                                 \n",
      "  X                          2x5x3                 240  double                                 \n",
      "  X_as                       2x5x3                 240  double                                 \n",
      "  ans                        1x1                     8  double                                 \n",
      "  ax                         1x1                     8  matlab.graphics.axis.Axes              \n",
      "  baseflow                9131x1                 73048  double                                 \n",
      "  baseflow_original       9131x1                 73048  double                                 \n",
      "  fig                        1x1                     8  matlab.ui.Figure                       \n",
      "  flag                       1x1                     8  double                                 \n",
      "  flow                       1x9131              73048  double                                 \n",
      "  flow_int                   1x9131              73048  double                                 \n",
      "  flow_mean                 49x9131            3579352  double                                 \n",
      "  flow_original           9131x7                511336  double                                 \n",
      "  fluct_bivariate_Tr         1x9131              73048  double                                 \n",
      "  fluct_flow                49x9131            3579352  double                                 \n",
      "  fluct_flow_Tr              1x9131              73048  double                                 \n",
      "  fluct_rain                49x9131            3579352  double                                 \n",
      "  fluct_rain_Tr              1x9131              73048  double                                 \n",
      "  index_finish_flow          1x449                3592  double                                 \n",
      "  index_finish_rain          1x449                3592  double                                 \n",
      "  index_start_flow           1x449                3592  double                                 \n",
      "  index_start_rain           1x449                3592  double                                 \n",
      "  indices                    1x1                     8  double                                 \n",
      "  left_color                 1x3                    24  double                                 \n",
      "  len_rho                    1x1                     8  double                                 \n",
      "  max_window                 1x1                     8  double                                 \n",
      "  multiple                   1x1                     8  double                                 \n",
      "  n                          1x1                     8  double                                 \n",
      "  position_minimum           1x1                     8  double                                 \n",
      "  rain                       1x9131              73048  double                                 \n",
      "  rain_int                   1x9131              73048  double                                 \n",
      "  rain_mean                 49x9131            3579352  double                                 \n",
      "  rain_min                   1x1                     8  double                                 \n",
      "  rain_original           9131x7                511336  double                                 \n",
      "  rho                        1x49                  392  double                                 \n",
      "  right_color                1x3                    24  double                                 \n",
      "  time                    9131x1                 73048  double                                 \n",
      "  tol_fluct_flow             1x1                     8  double                                 \n",
      "  tol_fluct_rain             1x1                     8  double                                 \n",
      "  window                     1x1                     8  double                                 \n",
      "  y                          1x1                     8  double                                 \n",
      "\n"
     ]
    }
   ],
   "source": [
    "whos"
   ]
  },
  {
   "cell_type": "markdown",
   "id": "2e46c0ac-7f35-449c-a6bf-9d315d9a744f",
   "metadata": {},
   "source": [
    "# Step3 core identification\n",
    "- 上诉漏了一个概念，即二元波动或者又称双变量波动bivariate fluctuations，用来寻找降雨径流事件核心core，是降雨波动和径流波动的乘积。\n",
    "- 双变量波动为0，意味着其中必有一个波动为0。因此双变量波动不为0时，事件已经发生。因此，该方法排除了先验的事件列表中的所有那些小的孤立的降雨的贡献，不产生任何响应，因为他们的二元波动为零（径流是稳定的，因此径流波动为零，以及二元波动）。\n",
    "- 通过识别由零双变量波动的至少两个时间步长分开的**非零双变量波动的时段来执行对事件的核心的搜索**。一旦我们确定了事件核心的开始和结束，我们就可以利用这些信息来隔离降雨和径流事件。核心的分界线实际上是设置降雨和径流事件分界线的起点，具体取决于各个波动符号。"
   ]
  },
  {
   "cell_type": "code",
   "execution_count": 37,
   "id": "38951e16-019b-456e-8f47-73091fe928df",
   "metadata": {
    "tags": []
   },
   "outputs": [],
   "source": [
    "g=1;\n",
    "q=1;\n",
    "while q+1<=(length(fluct_bivariate_Tr))\n",
    "    if abs(fluct_bivariate_Tr(q))> 0\n",
    "        beginning_core(g)=q;\n",
    "        %我们希望有两个连续的零波动的时间步长来结束核心\n",
    "        % && 短路运算符保证在满足前面的情况下才会运行后面那个\n",
    "        while q+1<length(fluct_bivariate_Tr) && sum(abs(fluct_bivariate_Tr(q:q+1)))>0 \n",
    "              q=q+1;\n",
    "              if q>=(length(fluct_bivariate_Tr)) %break when we finish scanning the entire time series\n",
    "                  break\n",
    "              end\n",
    "        end\n",
    "        end_core(g)=q-1;\n",
    "        g=g+1;\n",
    "    end\n",
    "    q=q+1;\n",
    "end"
   ]
  },
  {
   "cell_type": "markdown",
   "id": "a154de8c-a1bc-4ba0-8e44-729a0135b24e",
   "metadata": {},
   "source": [
    "**通过代码计算过了，连续出现0的次数达到了622次**"
   ]
  },
  {
   "cell_type": "markdown",
   "id": "eda6313c-0de6-483f-a870-c690f91805df",
   "metadata": {
    "tags": []
   },
   "source": [
    "# Step4 \n",
    "### 参考end_core，考虑三种情况调整降雨事件的结束位置\n",
    "![step4 流程图](img/step4.png)\n",
    "**<center><font color=red face=\"黑体\">绿色实线为rainfall，虚线为波动</font></center>**\n",
    "1. 核心结束，因为降雨波动为零，并且在那个时间点的降雨已经为零。这是最常见的情况，与移动平均过程有关，该过程导致在降雨结束后等于Lmin的持续时间内波动不为零。在这种情况下，我们在时间上向后移动，直到找到非零降雨量的第一个时间步长，在这里我们设为<font color=red>降雨事件的结束</font>\n",
    "\n",
    "2. 核心结束，因为降雨波动为零，但那个时间点的降雨量不为零。这是由引入降雨波动容限而产生的情况。如果降雨波动为零，则降雨应为零。在这种情况下，我们在时间上向前移动，直到降雨量变得低于Rmin。例中的搜索以下个核心的开头为界\n",
    "\n",
    "3. 核心结束，因为流量波动为零：水流看起来是稳定的，因此我们想利用这一信息来打破时间序列。我们在时间上向后移动，直到降雨量变得低于Rmin，然后再次向后移动到降雨量大于Rmin的第一个时间步长。这种情况下的搜索以与所检查的事件相关联的核心的开始为界\n",
    "\n",
    "- 这里的Rmin仅用于移动到前一个/下一个干燥期，但在此阶段不具有打破时间序列的任何作用。\n",
    "- 由于降雨是气象数据，在降雨波动和流量波动在core结束时**均为零**的情况下，论文将按照因**降雨波动为零**而结束的核心所示的程序来<font color=red>界定降雨事件的结束</font>。"
   ]
  },
  {
   "cell_type": "code",
   "execution_count": null,
   "id": "0d5fb79f-911b-424b-885a-32bd2a36763f",
   "metadata": {},
   "outputs": [],
   "source": [
    "% 输入：beginning_core, end_core, rain, fluct_rain_Tr, rain_min\n",
    "for g=1:length(end_core)\n",
    "\n",
    "        %初步猜测降雨结束点=核心结束点\n",
    "        end_rain(g)=end_core(g);\n",
    "\n",
    "        %是由于降雨波动为0引起的核心结束 (case 1 and 2)\n",
    "        if end_core(g)+2<length(rain) & sum(fluct_rain_Tr(end_core(g)+1:end_core(g)+2)==0)==2\n",
    "            % 如果后两个元素都等于0，则返回值为1（表示满足条件），否则返回0\n",
    "            %WHEN CORE ENDS RAIN IS ZERO (case 1): move backward until find non-zero rainfall\n",
    "            if rain(end_rain(g))==0 \n",
    "                while end_rain(g)-1>0 & rain(end_rain(g))==0  \n",
    "                        end_rain(g)=end_rain(g)-1;\n",
    "                end\n",
    "            else\n",
    "            %WHEN CORE ENDS RAIN IS DIFFERENT FROM ZERO (case 2): move foward\n",
    "            %until the rain becomes lower than rain_min (search bounded by the\n",
    "            %beginning of the following core往前找分两种情况，反正找到小于rain_min就行)\n",
    "                next_core_beginning=find(isnan(beginning_core(g+1:end))==0); \n",
    "                if isempty(next_core_beginning)==0 %next core beginning can be empty for the last or close to the end events hence the the if loop below\n",
    "                    while end_rain(g)+1<length(rain) & rain(end_rain(g))>rain_min & end_rain(g)<beginning_core(g+next_core_beginning(1))\n",
    "                        end_rain(g)=end_rain(g)+1;\n",
    "                    end\n",
    "                    end_rain(g)=end_rain(g)-1;\n",
    "                else %for the \"last\" event\n",
    "                      while end_rain(g)+1<length(rain) & rain(end_rain(g))>rain_min\n",
    "                        end_rain(g)=end_rain(g)+1;\n",
    "                      end\n",
    "                      end_rain(g)=end_rain(g)-1;\n",
    "                end\n",
    "            end\n",
    "        else \n",
    "        %CORE ENDS BECAUSE FLOW FLUCTUATIONS ARE ZERO (case 3): move\n",
    "        %backward until, after an eventual dry (or nearly dry period), we find rainfall\n",
    "        %larger than rain_min (search bounded by the beginning of the core of the same event)\n",
    "\n",
    "            %eventual dry of nearly dry period\n",
    "            while end_rain(g)-1>0 & rain(end_rain(g))>rain_min & end_rain(g)>=beginning_core(g)\n",
    "                    end_rain(g)=end_rain(g)-1;\n",
    "            end\n",
    "            %move back more until rain is larger than rain_min\n",
    "            while end_rain(g)-1>0 & rain(end_rain(g))<rain_min & end_rain(g)>=beginning_core(g)\n",
    "                    end_rain(g)=end_rain(g)-1;\n",
    "            end \n",
    "\n",
    "        end\n",
    "    end"
   ]
  },
  {
   "cell_type": "code",
   "execution_count": null,
   "id": "8a00890b-3090-4e19-a183-f6618b1e38eb",
   "metadata": {},
   "outputs": [],
   "source": []
  }
 ],
 "metadata": {
  "kernelspec": {
   "display_name": "MATLAB Kernel",
   "language": "matlab",
   "name": "jupyter_matlab_kernel"
  },
  "language_info": {
   "file_extension": ".m",
   "mimetype": "text/x-matlab",
   "name": "matlab"
  }
 },
 "nbformat": 4,
 "nbformat_minor": 5
}
