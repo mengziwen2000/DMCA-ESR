{
 "cells": [
  {
   "cell_type": "code",
   "execution_count": 3,
   "id": "a729473f-34ea-4d52-ac6f-42e08ed1c959",
   "metadata": {
    "tags": []
   },
   "outputs": [],
   "source": [
    "import numpy as np\n",
    "from scipy.signal import convolve\n",
    "\n",
    "rain_int = np.array([1, 2, 3, 4, 5, 6, 7])\n",
    "window_sizes = range(3, 8, 2) # 3, 5, 7\n",
    "rain_mean = np.zeros((len(window_sizes), len(rain_int)))\n",
    "\n",
    "for i, window in enumerate(window_sizes):\n",
    "    # Calculate moving average using convolution\n",
    "    weights = np.ones(window) / window\n",
    "    rain_mean[i,:] = np.convolve(rain_int, weights, mode='same')"
   ]
  },
  {
   "cell_type": "code",
   "execution_count": 4,
   "id": "f1d6f1a2-6366-482d-a23e-5326e9e8329e",
   "metadata": {
    "tags": []
   },
   "outputs": [
    {
     "data": {
      "text/plain": [
       "array([[0., 0., 0., 0., 0., 0., 0.],\n",
       "       [0., 0., 0., 0., 0., 0., 0.],\n",
       "       [0., 0., 0., 0., 0., 0., 0.]])"
      ]
     },
     "execution_count": 4,
     "metadata": {},
     "output_type": "execute_result"
    }
   ],
   "source": [
    "rain_mean"
   ]
  },
  {
   "cell_type": "code",
   "execution_count": null,
   "id": "762b3536-83e4-49d2-923c-fcb0c55d66a6",
   "metadata": {},
   "outputs": [],
   "source": []
  }
 ],
 "metadata": {
  "kernelspec": {
   "display_name": "Python (tutorial)",
   "language": "python",
   "name": "tutorial"
  },
  "language_info": {
   "codemirror_mode": {
    "name": "ipython",
    "version": 3
   },
   "file_extension": ".py",
   "mimetype": "text/x-python",
   "name": "python",
   "nbconvert_exporter": "python",
   "pygments_lexer": "ipython3",
   "version": "3.9.13"
  }
 },
 "nbformat": 4,
 "nbformat_minor": 5
}
