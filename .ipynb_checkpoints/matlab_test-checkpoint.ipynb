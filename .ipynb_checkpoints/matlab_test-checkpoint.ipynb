{
 "cells": [
  {
   "cell_type": "markdown",
   "id": "70ee73a6-ba91-4599-8c18-d88e1b238dad",
   "metadata": {},
   "source": [
    "**如果if为true，那么会继续运行下面的if语句，但是不会运行elseif语句了**"
   ]
  },
  {
   "cell_type": "code",
   "execution_count": 40,
   "id": "444e1fea-f529-41b2-a6ce-801beaf7640f",
   "metadata": {
    "tags": []
   },
   "outputs": [
    {
     "name": "stdout",
     "output_type": "stream",
     "text": [
      "ssss\n",
      "Exact value of a is : 300\n",
      "Exact value of b is : 200\n"
     ]
    }
   ],
   "source": [
    "a = 300;\n",
    "b = 200;\n",
    "   %检查布尔条件\n",
    "   if( a == 300 )\n",
    "      fprintf('ssss\\n' );\n",
    "      %如果condition为真，则检查以下内容\n",
    "      if( b == 100 )\n",
    "       \n",
    "         %如果condition为真，则打印以下内容\n",
    "         fprintf('Value of a is 100 and b is 200\\n' );\n",
    "      end\n",
    "       \n",
    "   end\n",
    "   fprintf('Exact value of a is : %d\\n', a );\n",
    "   fprintf('Exact value of b is : %d\\n', b );"
   ]
  },
  {
   "cell_type": "code",
   "execution_count": 16,
   "id": "be1988e8-7c1f-4d3d-9e2c-4a20774c1a2c",
   "metadata": {
    "tags": []
   },
   "outputs": [
    {
     "name": "stdout",
     "output_type": "stream",
     "text": [
      "Value of a is 100\n"
     ]
    }
   ],
   "source": [
    "a = 100;\n",
    "%检查布尔条件\n",
    "   if a == 100 \n",
    "      %如果condition为真，则打印以下内容 \n",
    "      fprintf('Value of a is 100\\n' );\n",
    "   elseif( a == 100 )\n",
    "      % 如果条件成立的话 \n",
    "      fprintf('Value of a is 20\\n' );\n",
    "   elseif a == 100 \n",
    "      % 如果条件成立的话\n",
    "      fprintf('Value of a is 30\\n' );\n",
    "   else\n",
    "      %如果没有一个条件是真的\n",
    "      fprintf('None of the values are matching\\n');\n",
    "   fprintf('Exact value of a is: %d\\n', a );\n",
    "   end"
   ]
  },
  {
   "cell_type": "code",
   "execution_count": 24,
   "id": "42a17583-bd08-4815-94ed-6a393e1015ce",
   "metadata": {
    "tags": []
   },
   "outputs": [
    {
     "name": "stdout",
     "output_type": "stream",
     "text": [
      "Well done\n"
     ]
    }
   ],
   "source": [
    "grade = 2;\n",
    "   switch(grade)\n",
    "   case 'A' \n",
    "      fprintf('Excellent!\\n' );\n",
    "   case 2\n",
    "      fprintf('Well done\\n' );\n",
    "   case 'C' \n",
    "      fprintf('Good done\\n' );\n",
    "   case 'D'\n",
    "      fprintf('You passed\\n' );\n",
    "   case 'F' \n",
    "      fprintf('Better try again\\n' );\n",
    "   otherwise\n",
    "      fprintf('Invalid grade\\n' );\n",
    "   end"
   ]
  },
  {
   "cell_type": "code",
   "execution_count": 27,
   "id": "e5f5f5aa-5916-4cf1-ad8c-cb39cf068b27",
   "metadata": {
    "tags": []
   },
   "outputs": [
    {
     "name": "stdout",
     "output_type": "stream",
     "text": [
      "This is part of outer switch 100\n"
     ]
    }
   ],
   "source": [
    "a = 100;\n",
    "b = 200;\n",
    "switch(a) \n",
    "   case 100 \n",
    "      fprintf('This is part of outer switch %d\\n', a );\n",
    "      switch(b) \n",
    "         case 300\n",
    "            fprintf('This is part of inner switch %d\\n', a );\n",
    "      end\n",
    "end"
   ]
  },
  {
   "cell_type": "code",
   "execution_count": 29,
   "id": "e69ab95a-d15b-4e5d-ae57-f322b436b419",
   "metadata": {
    "tags": []
   },
   "outputs": [
    {
     "data": {
      "text/html": [
       "<html><body><pre>ans = \n",
       "   '/home/mengziwen'</pre></body></html>"
      ],
      "text/plain": [
       "ans = \n",
       "   '/home/mengziwen'"
      ]
     },
     "execution_count": 29,
     "metadata": {},
     "output_type": "execute_result"
    }
   ],
   "source": [
    "pwd"
   ]
  },
  {
   "cell_type": "code",
   "execution_count": 38,
   "id": "32f13f9d-5eff-40ec-bde1-de01bae97dc5",
   "metadata": {
    "collapsed": true,
    "jupyter": {
     "outputs_hidden": true
    },
    "tags": []
   },
   "outputs": [
    {
     "name": "stdout",
     "output_type": "stream",
     "text": [
      "value of a: 1\n",
      "value of a: 0.9\n",
      "value of a: 0.8\n",
      "value of a: 0.7\n",
      "value of a: 0.6\n",
      "value of a: 0.5\n",
      "value of a: 0.4\n",
      "value of a: 0.3\n",
      "value of a: 0.2\n",
      "value of a: 0.1\n",
      "value of a: 0\n"
     ]
    }
   ],
   "source": [
    "for a = 1.0: -0.1: 0.0\n",
    "   fprintf('value of a: %g\\n', a);\n",
    "end"
   ]
  },
  {
   "cell_type": "code",
   "execution_count": 49,
   "id": "8b35327b-ae50-488d-8010-f9651c15cfd6",
   "metadata": {
    "collapsed": true,
    "jupyter": {
     "outputs_hidden": true
    },
    "tags": []
   },
   "outputs": [
    {
     "name": "stdout",
     "output_type": "stream",
     "text": [
      "          1.00\n",
      "\n",
      "          0.90\n",
      "\n",
      "          0.80\n",
      "\n",
      "          0.70\n",
      "\n",
      "          0.60\n",
      "\n",
      "          0.50\n",
      "\n",
      "          0.40\n",
      "\n",
      "          0.30\n",
      "\n",
      "          0.20\n",
      "\n",
      "          0.10\n",
      "\n",
      "             0\n",
      "\n"
     ]
    }
   ],
   "source": [
    "for a = 1.0: -0.1: 0.0\n",
    "   format bank; disp(a)\n",
    "end"
   ]
  },
  {
   "cell_type": "code",
   "execution_count": 50,
   "id": "cb463440-2a4c-46ec-a287-05822e9748d8",
   "metadata": {
    "tags": []
   },
   "outputs": [
    {
     "data": {
      "text/html": [
       "<html><body><pre>v = 1x10 double\n",
       "          1.00          3.00          5.00          7.00          9.00         11.00         13.00         15.00         17.00         19.00\n",
       "</pre></body></html>"
      ],
      "text/plain": [
       "v = 1x10 double\n",
       "          1.00          3.00          5.00          7.00          9.00         11.00         13.00         15.00         17.00         19.00\n"
      ]
     },
     "execution_count": 50,
     "metadata": {},
     "output_type": "execute_result"
    }
   ],
   "source": [
    "v = [1: 2: 20]"
   ]
  },
  {
   "cell_type": "code",
   "execution_count": 51,
   "id": "0ac2d22d-6cb0-4142-8c8d-bc48104b2350",
   "metadata": {
    "tags": []
   },
   "outputs": [
    {
     "data": {
      "text/html": [
       "<html><body><pre>sv = 1x10 double\n",
       "          1.00          9.00         25.00         49.00         81.00        121.00        169.00        225.00        289.00        361.00\n",
       "</pre></body></html>"
      ],
      "text/plain": [
       "sv = 1x10 double\n",
       "          1.00          9.00         25.00         49.00         81.00        121.00        169.00        225.00        289.00        361.00\n"
      ]
     },
     "execution_count": 51,
     "metadata": {},
     "output_type": "execute_result"
    }
   ],
   "source": [
    "sv = v.* v"
   ]
  },
  {
   "cell_type": "code",
   "execution_count": 52,
   "id": "37705ad2-d63b-4ca8-87ee-9bee335e2854",
   "metadata": {
    "tags": []
   },
   "outputs": [
    {
     "name": "stdout",
     "output_type": "stream",
     "text": [
      "Magnitude:\n",
      "         36.47\n",
      "\n"
     ]
    }
   ],
   "source": [
    "dp = sum(sv);     %平方和——点积\n",
    "mag = sqrt(dp);   % magnitude\n",
    "disp('Magnitude:'); \n",
    "disp(mag);"
   ]
  },
  {
   "cell_type": "code",
   "execution_count": 53,
   "id": "27ad0aab-2f57-4298-8d02-388bf20a5041",
   "metadata": {
    "tags": []
   },
   "outputs": [
    {
     "data": {
      "text/html": [
       "<html><body><pre>dp = \n",
       "   1330.00</pre></body></html>"
      ],
      "text/plain": [
       "dp = \n",
       "   1330.00"
      ]
     },
     "execution_count": 53,
     "metadata": {},
     "output_type": "execute_result"
    }
   ],
   "source": [
    "dp = sum(sv)"
   ]
  },
  {
   "cell_type": "code",
   "execution_count": 4,
   "id": "8824175a-af0b-49a2-8b86-1bd38a8bd6fd",
   "metadata": {
    "tags": []
   },
   "outputs": [],
   "source": [
    "function max = mymax(n1, n2, n3, n4, n5)\n",
    "\n",
    "%此函数用于计算\n",
    "%输入五个数字\n",
    "max =  n1;\n",
    "if(n2 > max)\n",
    "   max = n2;\n",
    "end\n",
    "if(n3 > max)\n",
    "   max = n3;\n",
    "end\n",
    "if(n4 > max)\n",
    "   max = n4;\n",
    "end\n",
    "if(n5 > max)\n",
    "   max = n5;\n",
    "end"
   ]
  },
  {
   "cell_type": "code",
   "execution_count": 15,
   "id": "11ab5758-f5a7-4290-964b-98b968cac7fb",
   "metadata": {
    "tags": []
   },
   "outputs": [
    {
     "data": {
      "text/html": [
       "<html><body><pre>ans = \n",
       "   89.00</pre></body></html>"
      ],
      "text/plain": [
       "ans = \n",
       "   89.00"
      ]
     },
     "execution_count": 15,
     "metadata": {},
     "output_type": "execute_result"
    }
   ],
   "source": [
    "mymax(34, 78, 89, 23, 11)"
   ]
  },
  {
   "cell_type": "code",
   "execution_count": 16,
   "id": "fa05863e-837b-4c13-8b30-08f022d708aa",
   "metadata": {
    "tags": []
   },
   "outputs": [
    {
     "name": "stdout",
     "output_type": "stream",
     "text": [
      " 此函数用于计算\n",
      " 输入五个数字\n",
      "\n"
     ]
    }
   ],
   "source": [
    "help mymax"
   ]
  },
  {
   "cell_type": "code",
   "execution_count": 4,
   "id": "2125b78f-97bd-419f-b009-c977102d4c0f",
   "metadata": {
    "tags": []
   },
   "outputs": [
    {
     "data": {
      "text/html": [
       "<html><body><pre>ans = \n",
       "   '/home/mengziwen'</pre></body></html>"
      ],
      "text/plain": [
       "ans = \n",
       "   '/home/mengziwen'"
      ]
     },
     "execution_count": 4,
     "metadata": {},
     "output_type": "execute_result"
    }
   ],
   "source": [
    "pwd"
   ]
  },
  {
   "cell_type": "code",
   "execution_count": 26,
   "id": "f82337b8-74b4-421e-9c67-4860f8d49392",
   "metadata": {
    "tags": []
   },
   "outputs": [
    {
     "name": "stdout",
     "output_type": "stream",
     "text": [
      "    20\n",
      "\n"
     ]
    }
   ],
   "source": [
    "% 生成一个包含NaN值的向量\n",
    "input = [1, 3, NaN, 4, 5, NaN, 7, NaN];\n",
    "% 调用myNanSum函数计算输入向量中所有非NaN元素的和\n",
    "result = nansum(input);\n",
    "% 显示结果\n",
    "disp(result);"
   ]
  },
  {
   "cell_type": "code",
   "execution_count": 17,
   "id": "169627cf-94d5-4cf3-8354-217daeb52aed",
   "metadata": {
    "tags": []
   },
   "outputs": [],
   "source": [
    "input(isnan(input)) = 0;\n",
    "result3 = sum(input);"
   ]
  },
  {
   "cell_type": "code",
   "execution_count": 18,
   "id": "434c7e8b-19db-4427-9818-94e816757a09",
   "metadata": {
    "tags": []
   },
   "outputs": [
    {
     "data": {
      "text/html": [
       "<html><body><pre>result3 = \n",
       "   19</pre></body></html>"
      ],
      "text/plain": [
       "result3 = \n",
       "   19"
      ]
     },
     "execution_count": 18,
     "metadata": {},
     "output_type": "execute_result"
    }
   ],
   "source": [
    "result3"
   ]
  },
  {
   "cell_type": "code",
   "execution_count": 55,
   "id": "94b530b5-e61e-4e4c-ab20-a107bc7f845a",
   "metadata": {
    "tags": []
   },
   "outputs": [
    {
     "data": {
      "text/html": [
       "<html><body><pre>result4 = \n",
       "   NaN</pre></body></html>"
      ],
      "text/plain": [
       "result4 = \n",
       "   NaN"
      ]
     },
     "execution_count": 55,
     "metadata": {},
     "output_type": "execute_result"
    }
   ],
   "source": [
    "input1 = [1, 2, NaN, 4, 5, NaN, 7, NaN];\n",
    "result4 = mean(input1)"
   ]
  },
  {
   "cell_type": "code",
   "execution_count": 53,
   "id": "05425170-1435-44d0-abbb-1ba4d8276a2c",
   "metadata": {
    "tags": []
   },
   "outputs": [
    {
     "data": {
      "text/html": [
       "<html><body><pre>input1 = 1x8 double\n",
       "          1.00          2.00           NaN          4.00          5.00           NaN          7.00           NaN\n",
       "</pre></body></html>"
      ],
      "text/plain": [
       "input1 = 1x8 double\n",
       "          1.00          2.00           NaN          4.00          5.00           NaN          7.00           NaN\n"
      ]
     },
     "execution_count": 53,
     "metadata": {},
     "output_type": "execute_result"
    }
   ],
   "source": [
    "input1"
   ]
  },
  {
   "cell_type": "code",
   "execution_count": 4,
   "id": "7cb01868-2075-41cc-8fad-6c6d004e7f0d",
   "metadata": {},
   "outputs": [
    {
     "data": {
      "text/html": [
       "<html><body><pre>X = 2x1 double\n",
       "    -1\n",
       "     3\n",
       "</pre></body></html>"
      ],
      "text/plain": [
       "X = 2x1 double\n",
       "    -1\n",
       "     3\n"
      ]
     },
     "execution_count": 4,
     "metadata": {},
     "output_type": "execute_result"
    }
   ],
   "source": [
    "A = [2 3; 4 5];\n",
    "B = [7; 11];\n",
    "X = A \\ B"
   ]
  },
  {
   "cell_type": "code",
   "execution_count": 18,
   "id": "87333a06-8ecc-4c68-97b2-77259b9a25b0",
   "metadata": {
    "tags": []
   },
   "outputs": [
    {
     "data": {
      "text/html": [
       "<html><body><pre>X = 2x2 double\n",
       "    1.0000    0.6667\n",
       "    0.5000    0.4000\n",
       "</pre></body></html>"
      ],
      "text/plain": [
       "X = 2x2 double\n",
       "    1.0000    0.6667\n",
       "    0.5000    0.4000\n"
      ]
     },
     "execution_count": 18,
     "metadata": {},
     "output_type": "execute_result"
    }
   ],
   "source": [
    "X = A .\\ 2"
   ]
  },
  {
   "cell_type": "code",
   "execution_count": 8,
   "id": "6fc93f6e-a6b7-466f-a457-20320589fdf7",
   "metadata": {
    "tags": []
   },
   "outputs": [
    {
     "data": {
      "text/html": [
       "<html><body><pre>X = \n",
       "   X(:,:,1) =\n",
       "\n",
       "     1     3     5     7     9\n",
       "     2     4     6     8    10\n",
       "\n",
       "\n",
       "X(:,:,2) =\n",
       "\n",
       "    11    13    15    17    19\n",
       "    12    14    16    18    20\n",
       "\n",
       "\n",
       "X(:,:,3) =\n",
       "\n",
       "    21    23    25    27    29\n",
       "    22    24    26    28    30</pre></body></html>"
      ],
      "text/plain": [
       "X = \n",
       "   X(:,:,1) =\n",
       "\n",
       "     1     3     5     7     9\n",
       "     2     4     6     8    10\n",
       "\n",
       "\n",
       "X(:,:,2) =\n",
       "\n",
       "    11    13    15    17    19\n",
       "    12    14    16    18    20\n",
       "\n",
       "\n",
       "X(:,:,3) =\n",
       "\n",
       "    21    23    25    27    29\n",
       "    22    24    26    28    30"
      ]
     },
     "execution_count": 8,
     "metadata": {},
     "output_type": "execute_result"
    }
   ],
   "source": [
    "X = reshape(1:30,[2 5 3]);\n",
    "X"
   ]
  },
  {
   "cell_type": "code",
   "execution_count": 21,
   "id": "39b8a08a-1307-4a52-a0af-ecfb411458c6",
   "metadata": {
    "tags": []
   },
   "outputs": [
    {
     "data": {
      "text/html": [
       "<html><body><pre>M3 = 2x5 double\n",
       "    21    23    25    27    29\n",
       "    22    24    16    28    30\n",
       "</pre></body></html>"
      ],
      "text/plain": [
       "M3 = 2x5 double\n",
       "    21    23    25    27    29\n",
       "    22    24    16    28    30\n"
      ]
     },
     "execution_count": 21,
     "metadata": {},
     "output_type": "execute_result"
    }
   ],
   "source": [
    "X_as = reshape(1:30,[2 5 3]);\n",
    "X_as([2:9 26]) = NaN;\n",
    "% y1 = nanmax(X,[],1);\n",
    "% y2 = nanmax(X,[],2);\n",
    "% y3 = nanmax(X,[],3);\n",
    "% y_all = nanmax(X,[],'all');\n",
    "M3 = max(X_as,[], 3, 'omitnan')\n",
    "% M_all = max(X,[], 'all', 'omitnan');"
   ]
  },
  {
   "cell_type": "code",
   "execution_count": 22,
   "id": "82ab8d47-bc72-4a91-aa7e-29bc4250a390",
   "metadata": {
    "tags": []
   },
   "outputs": [
    {
     "data": {
      "text/html": [
       "<html><body><pre>M2 = \n",
       "   M2(:,:,1) =\n",
       "\n",
       "     1\n",
       "    10\n",
       "\n",
       "\n",
       "M2(:,:,2) =\n",
       "\n",
       "    19\n",
       "    20\n",
       "\n",
       "\n",
       "M2(:,:,3) =\n",
       "\n",
       "    29\n",
       "    30</pre></body></html>"
      ],
      "text/plain": [
       "M2 = \n",
       "   M2(:,:,1) =\n",
       "\n",
       "     1\n",
       "    10\n",
       "\n",
       "\n",
       "M2(:,:,2) =\n",
       "\n",
       "    19\n",
       "    20\n",
       "\n",
       "\n",
       "M2(:,:,3) =\n",
       "\n",
       "    29\n",
       "    30"
      ]
     },
     "execution_count": 22,
     "metadata": {},
     "output_type": "execute_result"
    }
   ],
   "source": [
    "M2"
   ]
  },
  {
   "cell_type": "code",
   "execution_count": 25,
   "id": "b41eb73e-722c-4dd2-a70d-3a678df30039",
   "metadata": {
    "tags": []
   },
   "outputs": [
    {
     "data": {
      "text/html": [
       "<html><body><pre>M1 = \n",
       "   M1(:,:,1) =\n",
       "\n",
       "     1   NaN   NaN   NaN    10\n",
       "\n",
       "\n",
       "M1(:,:,2) =\n",
       "\n",
       "    12    14    16    18    20\n",
       "\n",
       "\n",
       "M1(:,:,3) =\n",
       "\n",
       "    22    24    25    28    30</pre></body></html>"
      ],
      "text/plain": [
       "M1 = \n",
       "   M1(:,:,1) =\n",
       "\n",
       "     1   NaN   NaN   NaN    10\n",
       "\n",
       "\n",
       "M1(:,:,2) =\n",
       "\n",
       "    12    14    16    18    20\n",
       "\n",
       "\n",
       "M1(:,:,3) =\n",
       "\n",
       "    22    24    25    28    30"
      ]
     },
     "execution_count": 25,
     "metadata": {},
     "output_type": "execute_result"
    }
   ],
   "source": [
    "M1"
   ]
  },
  {
   "cell_type": "code",
   "execution_count": 17,
   "id": "38154573-03a1-4c8b-91c8-8f6879903d7c",
   "metadata": {
    "tags": []
   },
   "outputs": [
    {
     "data": {
      "text/html": [
       "<html><body><pre>M_all = \n",
       "   30</pre></body></html>"
      ],
      "text/plain": [
       "M_all = \n",
       "   30"
      ]
     },
     "execution_count": 17,
     "metadata": {},
     "output_type": "execute_result"
    }
   ],
   "source": [
    "M_all"
   ]
  },
  {
   "cell_type": "code",
   "execution_count": 6,
   "id": "d2e4ff30-6825-4e1d-adda-803af46e17a2",
   "metadata": {
    "tags": []
   },
   "outputs": [
    {
     "data": {
      "text/html": [
       "<html><body><pre>ans = \n",
       "   12.5000</pre></body></html>"
      ],
      "text/plain": [
       "ans = \n",
       "   12.5000"
      ]
     },
     "execution_count": 6,
     "metadata": {},
     "output_type": "execute_result"
    }
   ],
   "source": [
    "25/2"
   ]
  },
  {
   "cell_type": "code",
   "execution_count": 7,
   "id": "659dbb4e-0f40-4b9f-bc89-7b2cfcc18fb4",
   "metadata": {
    "tags": []
   },
   "outputs": [
    {
     "data": {
      "text/html": [
       "<html><body><pre>ans = \n",
       "   0.0800</pre></body></html>"
      ],
      "text/plain": [
       "ans = \n",
       "   0.0800"
      ]
     },
     "execution_count": 7,
     "metadata": {},
     "output_type": "execute_result"
    }
   ],
   "source": [
    "25\\2"
   ]
  },
  {
   "cell_type": "code",
   "execution_count": 19,
   "id": "32c1a2b6-e772-4190-b49d-a10c9eea76e7",
   "metadata": {
    "tags": []
   },
   "outputs": [
    {
     "data": {
      "text/html": [
       "<html><body><pre>X = 1x4 double\n",
       "    1.0000    1.5000    2.0000    2.5000\n",
       "</pre></body></html>"
      ],
      "text/plain": [
       "X = 1x4 double\n",
       "    1.0000    1.5000    2.0000    2.5000\n"
      ]
     },
     "execution_count": 19,
     "metadata": {},
     "output_type": "execute_result"
    }
   ],
   "source": [
    "A = [2 3 4 5];\n",
    "X = A ./ 2"
   ]
  },
  {
   "cell_type": "code",
   "execution_count": 3,
   "id": "5ccaec01-36d5-4fa4-8f4c-d2fe8bb244a8",
   "metadata": {
    "tags": []
   },
   "outputs": [],
   "source": [
    "rain_original=dlmread('daily_rainfall_27071.txt'); \n",
    "flow_original=dlmread('daily_flow_27071.txt'); \n",
    "multiple=24; %to convert from mm/h to the original units of the timeseries (mm/day)\n",
    "rain=rain_original(:,7)./multiple; %mm/h\n",
    "flow=flow_original(:,7)./multiple; %mm/h\n",
    "time=datenum(rain_original(:,1:6));"
   ]
  },
  {
   "cell_type": "code",
   "execution_count": 4,
   "id": "53fa088c-b201-4d99-a30a-f395685c8de4",
   "metadata": {
    "tags": []
   },
   "outputs": [],
   "source": [
    "rain=rain'; %row vector\n",
    "flow=flow'; %row vector"
   ]
  },
  {
   "cell_type": "code",
   "execution_count": 5,
   "id": "6405b25e-3ff5-4ebb-b55f-2a47b06d5f6a",
   "metadata": {
    "tags": []
   },
   "outputs": [],
   "source": [
    "rain_int=cumsum(rain, 'omitnan');\n",
    "flow_int=cumsum(flow, 'omitnan');"
   ]
  },
  {
   "cell_type": "code",
   "execution_count": 6,
   "id": "8be15ab9-1ee5-4a53-b9b3-011116be37b2",
   "metadata": {
    "tags": []
   },
   "outputs": [],
   "source": [
    "window = 3;\n",
    "T=length(rain);\n",
    "rain_mean((window-1)/2,:)=movmean(rain_int, window);\n",
    "flow_mean((window-1)/2,:)=movmean(flow_int, window);"
   ]
  },
  {
   "cell_type": "code",
   "execution_count": 7,
   "id": "36e73794-329e-41bc-b051-0570895d6a3c",
   "metadata": {},
   "outputs": [
    {
     "data": {
      "text/html": [
       "<html><body><pre>rain_mean = 1x9131 double\n",
       "    0.3534    0.3929    0.4677    0.4814    0.5521    0.6718    0.7890    0.8501    0.9027    0.9964    1.0935    1.1493    1.1637    1.1869    1.2632    1.3558    1.4384    1.5573    1.6591    1.7646    1.8142    2.0273    2.2784    2.6957    2.9882    3.4834    3.9494    4.4849    4.8272    5.0902\n",
       "...</pre></body></html>"
      ],
      "text/plain": [
       "rain_mean = 1x9131 double\n",
       "    0.3534    0.3929    0.4677    0.4814    0.5521    0.6718    0.7890    0.8501    0.9027    0.9964    1.0935    1.1493    1.1637    1.1869    1.2632    1.3558    1.4384    1.5573    1.6591    1.7646    1.8142    2.0273    2.2784    2.6957    2.9882    3.4834    3.9494    4.4849    4.8272    5.0902\n",
       "..."
      ]
     },
     "execution_count": 7,
     "metadata": {},
     "output_type": "execute_result"
    }
   ],
   "source": [
    "rain_mean"
   ]
  },
  {
   "cell_type": "code",
   "execution_count": 26,
   "id": "443a94c9-a552-4f58-85d3-4ae6db4d3064",
   "metadata": {
    "tags": []
   },
   "outputs": [],
   "source": [
    "clear M1;"
   ]
  },
  {
   "cell_type": "code",
   "execution_count": 27,
   "id": "9a248b26-7e81-4935-b1cc-f30e4bf858da",
   "metadata": {
    "tags": []
   },
   "outputs": [
    {
     "name": "stderr",
     "output_type": "stream",
     "text": [
      "Unrecognized function or variable 'M1'."
     ]
    }
   ],
   "source": [
    "M1"
   ]
  },
  {
   "cell_type": "code",
   "execution_count": 28,
   "id": "6c295110-e0a6-4b93-90c0-080a1ab49f63",
   "metadata": {
    "collapsed": true,
    "jupyter": {
     "outputs_hidden": true
    },
    "tags": []
   },
   "outputs": [
    {
     "data": {
      "text/html": [
       "<html><body><pre>M2 = \n",
       "   M2(:,:,1) =\n",
       "\n",
       "     1\n",
       "    10\n",
       "\n",
       "\n",
       "M2(:,:,2) =\n",
       "\n",
       "    19\n",
       "    20\n",
       "\n",
       "\n",
       "M2(:,:,3) =\n",
       "\n",
       "    29\n",
       "    30</pre></body></html>"
      ],
      "text/plain": [
       "M2 = \n",
       "   M2(:,:,1) =\n",
       "\n",
       "     1\n",
       "    10\n",
       "\n",
       "\n",
       "M2(:,:,2) =\n",
       "\n",
       "    19\n",
       "    20\n",
       "\n",
       "\n",
       "M2(:,:,3) =\n",
       "\n",
       "    29\n",
       "    30"
      ]
     },
     "execution_count": 28,
     "metadata": {},
     "output_type": "execute_result"
    }
   ],
   "source": [
    "M2"
   ]
  },
  {
   "cell_type": "code",
   "execution_count": 29,
   "id": "76e91b90-33e5-47b1-a02e-74b1325c0dc5",
   "metadata": {
    "tags": []
   },
   "outputs": [],
   "source": [
    "clear M2;"
   ]
  },
  {
   "cell_type": "code",
   "execution_count": 30,
   "id": "86cd1e22-f7db-42d8-9893-1ae87c6003e3",
   "metadata": {
    "tags": []
   },
   "outputs": [
    {
     "name": "stderr",
     "output_type": "stream",
     "text": [
      "Unrecognized function or variable 'M2'."
     ]
    }
   ],
   "source": [
    "M2"
   ]
  },
  {
   "cell_type": "code",
   "execution_count": 31,
   "id": "c25d2d8e-7f98-4b12-b2da-405d144147d5",
   "metadata": {
    "tags": []
   },
   "outputs": [
    {
     "data": {
      "text/html": [
       "<html><body><pre>ans = \n",
       "   517.3498</pre></body></html>"
      ],
      "text/plain": [
       "ans = \n",
       "   517.3498"
      ]
     },
     "execution_count": 31,
     "metadata": {},
     "output_type": "execute_result"
    }
   ],
   "source": [
    "flow_int(end)"
   ]
  },
  {
   "cell_type": "code",
   "execution_count": 32,
   "id": "301f03f7-425e-4922-a799-7be148c49284",
   "metadata": {
    "tags": []
   },
   "outputs": [
    {
     "data": {
      "text/html": [
       "<html><body><pre>flow_int = 1x9131 double\n",
       "    0.0238    0.0498    0.0998    0.1557    0.1932    0.2269    0.2788    0.3351    0.3891    0.4340    0.5212    0.6438    0.7040    0.7462    0.7832    0.8302    0.9340    0.9960    1.0444    1.1544    1.2066    1.2539    1.3187    1.4426    1.5190    1.7465    1.8502    1.9885    2.1150    2.3911\n",
       "...</pre></body></html>"
      ],
      "text/plain": [
       "flow_int = 1x9131 double\n",
       "    0.0238    0.0498    0.0998    0.1557    0.1932    0.2269    0.2788    0.3351    0.3891    0.4340    0.5212    0.6438    0.7040    0.7462    0.7832    0.8302    0.9340    0.9960    1.0444    1.1544    1.2066    1.2539    1.3187    1.4426    1.5190    1.7465    1.8502    1.9885    2.1150    2.3911\n",
       "..."
      ]
     },
     "execution_count": 32,
     "metadata": {},
     "output_type": "execute_result"
    }
   ],
   "source": [
    "flow_int"
   ]
  },
  {
   "cell_type": "code",
   "execution_count": 33,
   "id": "02febe39-7c67-47fe-a172-b1c51b23dbcd",
   "metadata": {
    "tags": []
   },
   "outputs": [
    {
     "data": {
      "text/html": [
       "<html><body><pre>flow = 1x9131 double\n",
       "    0.0238    0.0260    0.0501    0.0559    0.0374    0.0337    0.0519    0.0563    0.0540    0.0450    0.0872    0.1225    0.0602    0.0422    0.0370    0.0470    0.1037    0.0621    0.0484    0.1100    0.0522    0.0472    0.0648    0.1239    0.0764    0.2274    0.1038    0.1383    0.1265    0.2761\n",
       "...</pre></body></html>"
      ],
      "text/plain": [
       "flow = 1x9131 double\n",
       "    0.0238    0.0260    0.0501    0.0559    0.0374    0.0337    0.0519    0.0563    0.0540    0.0450    0.0872    0.1225    0.0602    0.0422    0.0370    0.0470    0.1037    0.0621    0.0484    0.1100    0.0522    0.0472    0.0648    0.1239    0.0764    0.2274    0.1038    0.1383    0.1265    0.2761\n",
       "..."
      ]
     },
     "execution_count": 33,
     "metadata": {},
     "output_type": "execute_result"
    }
   ],
   "source": [
    "flow"
   ]
  },
  {
   "cell_type": "code",
   "execution_count": 34,
   "id": "3002f52f-0ef7-4ac3-8c9e-edc20272d776",
   "metadata": {
    "tags": []
   },
   "outputs": [
    {
     "data": {
      "text/html": [
       "<html><body><pre>tol_fluct_rain = \n",
       "   0.0067</pre></body></html>"
      ],
      "text/plain": [
       "tol_fluct_rain = \n",
       "   0.0067"
      ]
     },
     "execution_count": 34,
     "metadata": {},
     "output_type": "execute_result"
    }
   ],
   "source": [
    "tol_fluct_rain"
   ]
  },
  {
   "cell_type": "code",
   "execution_count": 35,
   "id": "07cf7ebc-e753-4b4f-a2ce-86cb25825629",
   "metadata": {
    "tags": []
   },
   "outputs": [
    {
     "data": {
      "text/html": [
       "<html><body><pre>tol_fluct_flow = \n",
       "   5.1735e-13</pre></body></html>"
      ],
      "text/plain": [
       "tol_fluct_flow = \n",
       "   5.1735e-13"
      ]
     },
     "execution_count": 35,
     "metadata": {},
     "output_type": "execute_result"
    }
   ],
   "source": [
    "tol_fluct_flow"
   ]
  },
  {
   "cell_type": "code",
   "execution_count": 36,
   "id": "e01856cb-b6d0-449b-8f2a-096ed1fd9f03",
   "metadata": {
    "tags": []
   },
   "outputs": [
    {
     "data": {
      "text/html": [
       "<html><body><pre>fluct_flow_Tr = 1x9131 double\n",
       "   -0.0130   -0.0080   -0.0019    0.0062    0.0012   -0.0061   -0.0015    0.0008    0.0030   -0.0141   -0.0118    0.0208    0.0060    0.0017   -0.0033   -0.0189    0.0139    0.0046   -0.0205    0.0193    0.0017   -0.0059   -0.0197    0.0158   -0.0503    0.0412   -0.0115    0.0039   -0.0499   -0.0071\n",
       "...</pre></body></html>"
      ],
      "text/plain": [
       "fluct_flow_Tr = 1x9131 double\n",
       "   -0.0130   -0.0080   -0.0019    0.0062    0.0012   -0.0061   -0.0015    0.0008    0.0030   -0.0141   -0.0118    0.0208    0.0060    0.0017   -0.0033   -0.0189    0.0139    0.0046   -0.0205    0.0193    0.0017   -0.0059   -0.0197    0.0158   -0.0503    0.0412   -0.0115    0.0039   -0.0499   -0.0071\n",
       "..."
      ]
     },
     "execution_count": 36,
     "metadata": {},
     "output_type": "execute_result"
    }
   ],
   "source": [
    "fluct_flow_Tr"
   ]
  },
  {
   "cell_type": "code",
   "execution_count": 37,
   "id": "64674146-5a13-4977-b70c-117749bcd71d",
   "metadata": {
    "tags": []
   },
   "outputs": [
    {
     "data": {
      "text/html": [
       "<html><body><pre>ans = 1x9131 double\n",
       "   -0.0130   -0.0080   -0.0019    0.0062    0.0012   -0.0061   -0.0015    0.0008    0.0030   -0.0141   -0.0118    0.0208    0.0060    0.0017   -0.0033   -0.0189    0.0139    0.0046   -0.0205    0.0193    0.0017   -0.0059   -0.0197    0.0158   -0.0503    0.0412   -0.0115    0.0039   -0.0499   -0.0071\n",
       "...</pre></body></html>"
      ],
      "text/plain": [
       "ans = 1x9131 double\n",
       "   -0.0130   -0.0080   -0.0019    0.0062    0.0012   -0.0061   -0.0015    0.0008    0.0030   -0.0141   -0.0118    0.0208    0.0060    0.0017   -0.0033   -0.0189    0.0139    0.0046   -0.0205    0.0193    0.0017   -0.0059   -0.0197    0.0158   -0.0503    0.0412   -0.0115    0.0039   -0.0499   -0.0071\n",
       "..."
      ]
     },
     "execution_count": 37,
     "metadata": {},
     "output_type": "execute_result"
    }
   ],
   "source": [
    "fluct_flow(position_minimum,:)"
   ]
  },
  {
   "cell_type": "code",
   "execution_count": 51,
   "id": "184b29cc-f6a8-4772-a007-74d28768d55d",
   "metadata": {
    "tags": []
   },
   "outputs": [
    {
     "data": {
      "text/html": [
       "<html><body><pre>fluct_rain_Tr = 1x9131 double\n",
       "   -0.1027    0.0632         0         0   -0.0549    0.0123    0.0452         0   -0.0352         0    0.0364    0.0092         0   -0.0138   -0.0352    0.0328    0.0124   -0.0815    0.0862   -0.0083   -0.0220   -0.1332    0.1174   -0.1504    0.1580   -0.2102    0.0815    0.0593    0.0523   -0.0324\n",
       "...</pre></body></html>"
      ],
      "text/plain": [
       "fluct_rain_Tr = 1x9131 double\n",
       "   -0.1027    0.0632         0         0   -0.0549    0.0123    0.0452         0   -0.0352         0    0.0364    0.0092         0   -0.0138   -0.0352    0.0328    0.0124   -0.0815    0.0862   -0.0083   -0.0220   -0.1332    0.1174   -0.1504    0.1580   -0.2102    0.0815    0.0593    0.0523   -0.0324\n",
       "..."
      ]
     },
     "execution_count": 51,
     "metadata": {},
     "output_type": "execute_result"
    }
   ],
   "source": [
    "fluct_rain_Tr"
   ]
  },
  {
   "cell_type": "code",
   "execution_count": 41,
   "id": "58577d27-4dfc-4ad4-83dc-ad06ff4122e9",
   "metadata": {
    "tags": []
   },
   "outputs": [
    {
     "data": {
      "text/html": [
       "<html><body><pre>fluct_bivariate_Tr = 1x9131 double\n",
       "    0.0013   -0.0005         0         0   -0.0001   -0.0001   -0.0001         0   -0.0001         0   -0.0004    0.0002         0   -0.0000    0.0001   -0.0006    0.0002   -0.0004   -0.0018   -0.0002   -0.0000    0.0008   -0.0023   -0.0024   -0.0080   -0.0087   -0.0009    0.0002   -0.0026    0.0002\n",
       "...</pre></body></html>"
      ],
      "text/plain": [
       "fluct_bivariate_Tr = 1x9131 double\n",
       "    0.0013   -0.0005         0         0   -0.0001   -0.0001   -0.0001         0   -0.0001         0   -0.0004    0.0002         0   -0.0000    0.0001   -0.0006    0.0002   -0.0004   -0.0018   -0.0002   -0.0000    0.0008   -0.0023   -0.0024   -0.0080   -0.0087   -0.0009    0.0002   -0.0026    0.0002\n",
       "..."
      ]
     },
     "execution_count": 41,
     "metadata": {},
     "output_type": "execute_result"
    }
   ],
   "source": [
    "fluct_bivariate_Tr"
   ]
  },
  {
   "cell_type": "code",
   "execution_count": 42,
   "id": "41e3268c-91d7-473c-8eed-6d234ffb2adc",
   "metadata": {
    "collapsed": true,
    "jupyter": {
     "outputs_hidden": true,
     "source_hidden": true
    },
    "tags": []
   },
   "outputs": [
    {
     "name": "stdout",
     "output_type": "stream",
     "text": [
      "     1\n",
      "\n",
      "     2\n",
      "\n",
      "     3\n",
      "\n",
      "     4\n",
      "\n",
      "     5\n",
      "\n",
      "     6\n",
      "\n",
      "     7\n",
      "\n",
      "     8\n",
      "\n",
      "     9\n",
      "\n"
     ]
    }
   ],
   "source": [
    "x = 1;\n",
    "while (x > 0) && (x < 10)\n",
    "    disp(x);\n",
    "    x = x + 1;\n",
    "end"
   ]
  },
  {
   "cell_type": "code",
   "execution_count": 46,
   "id": "51c8af7d-544d-4856-8a3a-f38eaa54fd1f",
   "metadata": {
    "collapsed": true,
    "jupyter": {
     "outputs_hidden": true,
     "source_hidden": true
    },
    "tags": []
   },
   "outputs": [
    {
     "name": "stdout",
     "output_type": "stream",
     "text": [
      "     5\n",
      "\n",
      "     6\n",
      "\n",
      "     7\n",
      "\n",
      "     8\n",
      "\n",
      "     9\n",
      "\n"
     ]
    }
   ],
   "source": [
    "x = 5;\n",
    "while (x > 1) & (x < 10)\n",
    "    disp(x);\n",
    "    x = x + 1;\n",
    "end"
   ]
  },
  {
   "cell_type": "code",
   "execution_count": 50,
   "id": "26ccde15-a0d9-48e1-bfe6-2079abec63a6",
   "metadata": {
    "collapsed": true,
    "jupyter": {
     "outputs_hidden": true,
     "source_hidden": true
    },
    "tags": []
   },
   "outputs": [
    {
     "name": "stdout",
     "output_type": "stream",
     "text": [
      "     2\n",
      "\n",
      "     3\n",
      "\n",
      "     4\n",
      "\n",
      "     5\n",
      "\n",
      "     6\n",
      "\n",
      "     7\n",
      "\n",
      "     8\n",
      "\n",
      "     9\n",
      "\n"
     ]
    }
   ],
   "source": [
    "x = 2;\n",
    "while (x > 1) && (x < 10)\n",
    "    disp(x);\n",
    "    x = x + 1;\n",
    "end"
   ]
  },
  {
   "cell_type": "code",
   "execution_count": 60,
   "id": "a0af447d-1ec7-4fa8-b3e9-8af990e4cda1",
   "metadata": {
    "collapsed": true,
    "jupyter": {
     "outputs_hidden": true,
     "source_hidden": true
    },
    "tags": []
   },
   "outputs": [
    {
     "name": "stdout",
     "output_type": "stream",
     "text": [
      "     3\n",
      "\n"
     ]
    }
   ],
   "source": [
    "X = [1 0 0 2 0 5 6 0 0 0 0 8 0 0 9];\n",
    "count = 0;\n",
    "consecutive_zeros = 0;\n",
    "for i = 1:length(X)\n",
    "    if X(i) == 0\n",
    "        count = count + 1;\n",
    "        if count >= 2 && (i == length(X) || X(i+1) ~= 0)\n",
    "            consecutive_zeros = consecutive_zeros + 1;\n",
    "        end\n",
    "    else\n",
    "        count = 0;\n",
    "    end\n",
    "end\n",
    "disp(consecutive_zeros);"
   ]
  },
  {
   "cell_type": "code",
   "execution_count": 59,
   "id": "fec5478d-b3ad-477d-accb-ba088a26edc9",
   "metadata": {
    "collapsed": true,
    "jupyter": {
     "outputs_hidden": true,
     "source_hidden": true
    },
    "tags": []
   },
   "outputs": [
    {
     "name": "stdout",
     "output_type": "stream",
     "text": [
      "   622\n",
      "\n"
     ]
    }
   ],
   "source": [
    "fluct_bivariate_Tr;\n",
    "count = 0;\n",
    "consecutive_zeros = 0;\n",
    "for i = 1:length(fluct_bivariate_Tr)\n",
    "    if fluct_bivariate_Tr(i) == 0\n",
    "        count = count + 1;\n",
    "        if count >= 2 && (i == length(fluct_bivariate_Tr) || fluct_bivariate_Tr(i+1) ~= 0)\n",
    "            consecutive_zeros = consecutive_zeros + 1;\n",
    "        end\n",
    "    else\n",
    "        count = 0;\n",
    "    end\n",
    "end\n",
    "disp(consecutive_zeros);"
   ]
  },
  {
   "cell_type": "code",
   "execution_count": 61,
   "id": "8bcb2a88-467e-4520-ab70-d271fb25e5ad",
   "metadata": {
    "tags": []
   },
   "outputs": [
    {
     "data": {
      "text/html": [
       "<html><body><pre>beginning_core = 1x623 double\n",
       "     1     5    66    77    82    87    91   103   115   126   156   170   195   211   217   220   225   230   235   240   247   259   262   270   287   296   313   339   350   381\n",
       "...</pre></body></html>"
      ],
      "text/plain": [
       "beginning_core = 1x623 double\n",
       "     1     5    66    77    82    87    91   103   115   126   156   170   195   211   217   220   225   230   235   240   247   259   262   270   287   296   313   339   350   381\n",
       "..."
      ]
     },
     "execution_count": 61,
     "metadata": {},
     "output_type": "execute_result"
    }
   ],
   "source": [
    "beginning_core"
   ]
  },
  {
   "cell_type": "code",
   "execution_count": 68,
   "id": "6a1538ff-d06e-40a6-81d0-286c31312a6b",
   "metadata": {
    "tags": []
   },
   "outputs": [
    {
     "data": {
      "text/html": [
       "<html><body><pre>end_core = 1x623 double\n",
       "     2    63    74    78    83    88    94   108   116   137   163   190   196   211   217   222   226   231   237   242   249   259   267   284   293   307   331   345   377   389\n",
       "...</pre></body></html>"
      ],
      "text/plain": [
       "end_core = 1x623 double\n",
       "     2    63    74    78    83    88    94   108   116   137   163   190   196   211   217   222   226   231   237   242   249   259   267   284   293   307   331   345   377   389\n",
       "..."
      ]
     },
     "execution_count": 68,
     "metadata": {},
     "output_type": "execute_result"
    }
   ],
   "source": [
    "end_core"
   ]
  },
  {
   "cell_type": "code",
   "execution_count": 64,
   "id": "48e4653f-7ea9-4ebf-958b-5525ce0ef35f",
   "metadata": {
    "tags": []
   },
   "outputs": [
    {
     "data": {
      "text/html": [
       "<html><body><pre>ans = 1x5 double\n",
       "1.0e-03 *\n",
       "\n",
       "   -0.1486         0         0   -0.0558    0.0128\n",
       "</pre></body></html>"
      ],
      "text/plain": [
       "ans = 1x5 double\n",
       "1.0e-03 *\n",
       "\n",
       "   -0.1486         0         0   -0.0558    0.0128\n"
      ]
     },
     "execution_count": 64,
     "metadata": {},
     "output_type": "execute_result"
    }
   ],
   "source": [
    "fluct_bivariate_Tr(63:67)"
   ]
  },
  {
   "cell_type": "code",
   "execution_count": 65,
   "id": "386638f2-0ebd-44f6-a6b8-37525ace5942",
   "metadata": {
    "collapsed": true,
    "jupyter": {
     "outputs_hidden": true
    },
    "tags": []
   },
   "outputs": [
    {
     "name": "stdout",
     "output_type": "stream",
     "text": [
      "  Name                       Size                Bytes  Class                        Attributes\n",
      "\n",
      "  BEGINNING_FLOW           449x1                  3592  double                                 \n",
      "  BEGINNING_RAIN           449x1                  3592  double                                 \n",
      "  DURATION_RAIN              1x449                3592  double                                 \n",
      "  DURATION_RUNOFF            1x449                3592  double                                 \n",
      "  END_FLOW                 449x1                  3592  double                                 \n",
      "  END_RAIN                 449x1                  3592  double                                 \n",
      "  F_flow                     1x49                  392  double                                 \n",
      "  F_rain                     1x49                  392  double                                 \n",
      "  F_rain_flow                1x49                  392  double                                 \n",
      "  M3                         2x5                    80  double                                 \n",
      "  M_all                      1x1                     8  double                                 \n",
      "  RUNOFF_RATIO               1x449                3592  double                                 \n",
      "  T                          1x1                     8  double                                 \n",
      "  Tr                         1x1                     8  double                                 \n",
      "  VOLUME_RAIN                1x449                3592  double                                 \n",
      "  VOLUME_RUNOFF              1x449                3592  double                                 \n",
      "  X                          1x15                  120  double                                 \n",
      "  X_as                       2x5x3                 240  double                                 \n",
      "  a                          1x1                     8  double                                 \n",
      "  ans                        1x5                    40  double                                 \n",
      "  ax                         1x1                     8  matlab.graphics.axis.Axes              \n",
      "  b                          1x1                     8  double                                 \n",
      "  baseflow                9131x1                 73048  double                                 \n",
      "  baseflow_original       9131x1                 73048  double                                 \n",
      "  beginning_core             1x623                4984  double                                 \n",
      "  cnt                        1x1                     8  double                                 \n",
      "  consecutive_zeros          1x1                     8  double                                 \n",
      "  count                      1x1                     8  double                                 \n",
      "  end_core                   1x623                4984  double                                 \n",
      "  end_idx                    1x1                     8  double                                 \n",
      "  fig                        1x1                     8  matlab.ui.Figure                       \n",
      "  flag                       1x1                     8  double                                 \n",
      "  flow                       1x9131              73048  double                                 \n",
      "  flow_int                   1x9131              73048  double                                 \n",
      "  flow_mean                 49x9131            3579352  double                                 \n",
      "  flow_original           9131x7                511336  double                                 \n",
      "  fluct_bivariate_Tr         1x9131              73048  double                                 \n",
      "  fluct_flow                49x9131            3579352  double                                 \n",
      "  fluct_flow_Tr              1x9131              73048  double                                 \n",
      "  fluct_rain                49x9131            3579352  double                                 \n",
      "  fluct_rain_Tr              1x9131              73048  double                                 \n",
      "  g                          1x1                     8  double                                 \n",
      "  i                          1x1                     8  double                                 \n",
      "  index_finish_flow          1x449                3592  double                                 \n",
      "  index_finish_rain          1x449                3592  double                                 \n",
      "  index_start_flow           1x449                3592  double                                 \n",
      "  index_start_rain           1x449                3592  double                                 \n",
      "  indices                    1x1                     8  double                                 \n",
      "  left_color                 1x3                    24  double                                 \n",
      "  len_rho                    1x1                     8  double                                 \n",
      "  max_window                 1x1                     8  double                                 \n",
      "  maxcnt                     1x1                     8  double                                 \n",
      "  multiple                   1x1                     8  double                                 \n",
      "  n                          1x1                     8  double                                 \n",
      "  num_zeros                  1x1                     8  double                                 \n",
      "  position_minimum           1x1                     8  double                                 \n",
      "  q                          1x1                     8  double                                 \n",
      "  rain                       1x9131              73048  double                                 \n",
      "  rain_int                   1x9131              73048  double                                 \n",
      "  rain_mean                 49x9131            3579352  double                                 \n",
      "  rain_min                   1x1                     8  double                                 \n",
      "  rain_original           9131x7                511336  double                                 \n",
      "  rho                        1x49                  392  double                                 \n",
      "  right_color                1x3                    24  double                                 \n",
      "  start_idx                  1x2                    16  double                                 \n",
      "  time                    9131x1                 73048  double                                 \n",
      "  tol_fluct_flow             1x1                     8  double                                 \n",
      "  tol_fluct_rain             1x1                     8  double                                 \n",
      "  window                     1x1                     8  double                                 \n",
      "  x                          1x1                     8  double                                 \n",
      "  y                          1x1                     8  double                                 \n",
      "  zero_count                 1x1                     8  double                                 \n",
      "\n"
     ]
    }
   ],
   "source": [
    "whos"
   ]
  },
  {
   "cell_type": "markdown",
   "id": "efe5de99-ab29-4803-8939-e7b2b283dd2a",
   "metadata": {
    "tags": []
   },
   "source": [
    "![step4 流程图](img/step4.png)"
   ]
  },
  {
   "cell_type": "code",
   "execution_count": 93,
   "id": "44229f8f-f1cd-4dd2-9314-1c327a87f294",
   "metadata": {
    "tags": []
   },
   "outputs": [
    {
     "data": {
      "text/html": [
       "<html><body><pre>ans = 1x2 double\n",
       "        9066        9130\n",
       "</pre></body></html>"
      ],
      "text/plain": [
       "ans = 1x2 double\n",
       "        9066        9130\n"
      ]
     },
     "execution_count": 93,
     "metadata": {},
     "output_type": "execute_result"
    }
   ],
   "source": [
    "beginning_core(622:623)"
   ]
  },
  {
   "cell_type": "code",
   "execution_count": 92,
   "id": "212c0379-3e7a-4fcd-8c7c-3053b935e5a4",
   "metadata": {
    "tags": []
   },
   "outputs": [
    {
     "data": {
      "text/html": [
       "<html><body><pre>ans = 1x2 double\n",
       "        9127        9129\n",
       "</pre></body></html>"
      ],
      "text/plain": [
       "ans = 1x2 double\n",
       "        9127        9129\n"
      ]
     },
     "execution_count": 92,
     "metadata": {},
     "output_type": "execute_result"
    }
   ],
   "source": [
    "end_core(622:623)"
   ]
  },
  {
   "cell_type": "code",
   "execution_count": 94,
   "id": "ca20f403-4b79-4661-98c6-b3816bde91de",
   "metadata": {
    "tags": []
   },
   "outputs": [
    {
     "data": {
      "text/html": [
       "<html><body><pre>ans = 1x12 double\n",
       "         0    0.0001   -0.0012   -0.0002         0   -0.0011    0.0000    0.0001         0         0   -0.0000    0.0004\n",
       "</pre></body></html>"
      ],
      "text/plain": [
       "ans = 1x12 double\n",
       "         0    0.0001   -0.0012   -0.0002         0   -0.0011    0.0000    0.0001         0         0   -0.0000    0.0004\n"
      ]
     },
     "execution_count": 94,
     "metadata": {},
     "output_type": "execute_result"
    }
   ],
   "source": [
    "fluct_bivariate_Tr(9120:9131)"
   ]
  },
  {
   "cell_type": "code",
   "execution_count": 95,
   "id": "c08a553d-bd85-4ba5-9a2a-231032d0ec98",
   "metadata": {
    "tags": []
   },
   "outputs": [
    {
     "data": {
      "text/html": [
       "<html><body><pre>ans = 1x2 logical array\n",
       "   1   1</pre></body></html>"
      ],
      "text/plain": [
       "ans = 1x2 logical array\n",
       "   1   1"
      ]
     },
     "execution_count": 95,
     "metadata": {},
     "output_type": "execute_result"
    }
   ],
   "source": [
    "X = [ 0 0 1 2 0 0];\n",
    "X(1:2) == 0"
   ]
  },
  {
   "cell_type": "code",
   "execution_count": 96,
   "id": "a3275267-bd4c-4324-9a11-723e0256a577",
   "metadata": {
    "tags": []
   },
   "outputs": [
    {
     "data": {
      "text/html": [
       "<html><body><pre>ans = logical\n",
       "   1</pre></body></html>"
      ],
      "text/plain": [
       "ans = logical\n",
       "   1"
      ]
     },
     "execution_count": 96,
     "metadata": {},
     "output_type": "execute_result"
    }
   ],
   "source": [
    "sum(X(1:2) == 0)==2"
   ]
  },
  {
   "cell_type": "code",
   "execution_count": 108,
   "id": "f5339e54-b029-437b-baa9-da76ed641dab",
   "metadata": {
    "tags": []
   },
   "outputs": [
    {
     "data": {
      "text/html": [
       "<html><body><pre>ans = logical\n",
       "   0</pre></body></html>"
      ],
      "text/plain": [
       "ans = logical\n",
       "   0"
      ]
     },
     "execution_count": 108,
     "metadata": {},
     "output_type": "execute_result"
    }
   ],
   "source": [
    "X = [NaN NaN];\n",
    "next_core_beginning=find(isnan(X(1:end))==0);\n",
    "isempty(next_core_beginning)==0"
   ]
  },
  {
   "cell_type": "code",
   "execution_count": null,
   "id": "80529654-6a69-46b9-8eae-e4794cb96a45",
   "metadata": {},
   "outputs": [],
   "source": []
  }
 ],
 "metadata": {
  "kernelspec": {
   "display_name": "MATLAB Kernel",
   "language": "matlab",
   "name": "jupyter_matlab_kernel"
  },
  "language_info": {
   "file_extension": ".m",
   "mimetype": "text/x-matlab",
   "name": "matlab"
  }
 },
 "nbformat": 4,
 "nbformat_minor": 5
}
