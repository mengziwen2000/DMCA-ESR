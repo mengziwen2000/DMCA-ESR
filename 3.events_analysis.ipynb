{
 "cells": [
  {
   "cell_type": "markdown",
   "id": "5387d49d-988d-4ac7-8152-07fa9b1d376a",
   "metadata": {},
   "source": [
    "# events analysis\n",
    "- flag:describe if the flow used for the event identification is total streamflow (flag=0) or only runoff (flag=1)"
   ]
  },
  {
   "cell_type": "code",
   "execution_count": 1,
   "id": "12312ea1-8f52-4efb-87dc-66ebd0a1be5d",
   "metadata": {
    "tags": []
   },
   "outputs": [],
   "source": [
    "flag=0; %the output we provide is total streamflow"
   ]
  },
  {
   "cell_type": "markdown",
   "id": "8a68bbc3-010c-4f54-ad14-c3b1f30922f3",
   "metadata": {},
   "source": [
    "- datevec():将时间戳转换为一个包含年、月、日、小时、分钟、秒等信息的向量\n",
    "- etime() ：计算两个时间向量之间的时间差，以秒为单位\n",
    "- **河川流量（streamflow）也可以用discharge表示，discharge表示任意过水断面上通过的流量，概念内涵较streamflow广，如discharge也可以表示水库下泄流量等；streamflow和discharge都属通量flux，单位m3/s，含时间因次；**\n",
    "- **runoff：径流，一般对应降水，蒸散发来描述水循环过程或在水量平衡计算中涉及(单位mm)，如年尺度 P = R+ET。runoff是流域整个汇流面积平均的径流深**"
   ]
  },
  {
   "cell_type": "code",
   "execution_count": 2,
   "id": "abf2bada-3638-45c1-8451-cb137573db1d",
   "metadata": {
    "tags": []
   },
   "outputs": [],
   "source": [
    "for h=1:length(BEGINNING_RAIN)\n",
    "    DURATION_RAIN(h)=etime(datevec(END_RAIN(h)),datevec(BEGINNING_RAIN(h)))./(60*60*multiple);\n",
    "end\n",
    "\n",
    "for h=1:length(BEGINNING_FLOW)\n",
    "    DURATION_RUNOFF(h)=etime(datevec(END_FLOW(h)),datevec(BEGINNING_FLOW(h)))./(60*60*multiple);\n",
    "end\n",
    "\n",
    "for h=1:length(BEGINNING_RAIN)\n",
    "    index_beginning_event=find(time==BEGINNING_RAIN(h));\n",
    "    index_end_event=find(time==END_RAIN(h));\n",
    "    VOLUME_RAIN(h)=nansum(rain(index_beginning_event:index_end_event)).*multiple;\n",
    "end\n",
    "\n",
    "if flag==1\n",
    "    for h=1:length(BEGINNING_FLOW)\n",
    "        index_beginning_event=find(time==BEGINNING_FLOW(h));\n",
    "        index_end_event=find(time==END_FLOW(h));\n",
    "        VOLUME_RUNOFF(h)=nansum(flow(index_beginning_event:index_end_event)).*multiple;\n",
    "    end\n",
    "else\n",
    "    baseflow=BASEFLOW_CURVE(BEGINNING_FLOW, END_FLOW, flow, time);\n",
    "    for h=1:length(BEGINNING_FLOW)\n",
    "        index_beginning_event=find(time==BEGINNING_FLOW(h));\n",
    "        index_end_event=find(time==END_FLOW(h));\n",
    "        q=flow(index_beginning_event:index_end_event); \n",
    "        qb=baseflow(index_beginning_event:index_end_event); \n",
    "        VOLUME_RUNOFF(h)=nansum(q-qb).*multiple;\n",
    "    end\n",
    "end\n",
    "\n",
    "RUNOFF_RATIO=VOLUME_RUNOFF./VOLUME_RAIN;"
   ]
  },
  {
   "cell_type": "markdown",
   "id": "817b7e8a-f19a-4ab6-9888-1d5abe95ece8",
   "metadata": {},
   "source": [
    "**输出的结果是总径流，即total stramflow，除去基流，就是快速径流，定义为quick_flow**"
   ]
  },
  {
   "cell_type": "code",
   "execution_count": 1,
   "id": "c7ec2b79-948a-4d77-8b06-b102e14c41ec",
   "metadata": {
    "tags": []
   },
   "outputs": [
    {
     "data": {
      "text/html": [
       "<html><body><pre>quick_flow = 1x9131 double\n",
       "         0         0         0         0         0         0    0.0178    0.0218    0.0190    0.0096    0.0514    0.0863    0.0236    0.0052         0    0.0091    0.0654    0.0234    0.0092    0.0704    0.0122    0.0069    0.0240    0.0827    0.0348    0.1854    0.0613    0.0954    0.0832    0.2324\n",
       "...</pre></body></html>"
      ],
      "text/plain": [
       "quick_flow = 1x9131 double\n",
       "         0         0         0         0         0         0    0.0178    0.0218    0.0190    0.0096    0.0514    0.0863    0.0236    0.0052         0    0.0091    0.0654    0.0234    0.0092    0.0704    0.0122    0.0069    0.0240    0.0827    0.0348    0.1854    0.0613    0.0954    0.0832    0.2324\n",
       "..."
      ]
     },
     "execution_count": 1,
     "metadata": {},
     "output_type": "execute_result"
    }
   ],
   "source": [
    "quick_flow=flow-baseflow;\n",
    "quick_flow"
   ]
  },
  {
   "cell_type": "code",
   "execution_count": null,
   "id": "4d4558c7-6d51-41bc-9eec-5e72f1fd5987",
   "metadata": {},
   "outputs": [],
   "source": []
  }
 ],
 "metadata": {
  "kernelspec": {
   "display_name": "MATLAB Kernel",
   "language": "matlab",
   "name": "jupyter_matlab_kernel"
  },
  "language_info": {
   "file_extension": ".m",
   "mimetype": "text/x-matlab",
   "name": "matlab"
  }
 },
 "nbformat": 4,
 "nbformat_minor": 5
}
