{
 "cells": [
  {
   "cell_type": "markdown",
   "id": "70ee73a6-ba91-4599-8c18-d88e1b238dad",
   "metadata": {},
   "source": [
    "**如果if为true，那么会继续运行下面的if语句，但是不会运行elseif语句了**"
   ]
  },
  {
   "cell_type": "code",
   "execution_count": 40,
   "id": "444e1fea-f529-41b2-a6ce-801beaf7640f",
   "metadata": {
    "tags": []
   },
   "outputs": [
    {
     "name": "stdout",
     "output_type": "stream",
     "text": [
      "ssss\n",
      "Exact value of a is : 300\n",
      "Exact value of b is : 200\n"
     ]
    }
   ],
   "source": [
    "a = 300;\n",
    "b = 200;\n",
    "   %检查布尔条件\n",
    "   if( a == 300 )\n",
    "      fprintf('ssss\\n' );\n",
    "      %如果condition为真，则检查以下内容\n",
    "      if( b == 100 )\n",
    "       \n",
    "         %如果condition为真，则打印以下内容\n",
    "         fprintf('Value of a is 100 and b is 200\\n' );\n",
    "      end\n",
    "       \n",
    "   end\n",
    "   fprintf('Exact value of a is : %d\\n', a );\n",
    "   fprintf('Exact value of b is : %d\\n', b );"
   ]
  },
  {
   "cell_type": "code",
   "execution_count": 16,
   "id": "be1988e8-7c1f-4d3d-9e2c-4a20774c1a2c",
   "metadata": {
    "tags": []
   },
   "outputs": [
    {
     "name": "stdout",
     "output_type": "stream",
     "text": [
      "Value of a is 100\n"
     ]
    }
   ],
   "source": [
    "a = 100;\n",
    "%检查布尔条件\n",
    "   if a == 100 \n",
    "      %如果condition为真，则打印以下内容 \n",
    "      fprintf('Value of a is 100\\n' );\n",
    "   elseif( a == 100 )\n",
    "      % 如果条件成立的话 \n",
    "      fprintf('Value of a is 20\\n' );\n",
    "   elseif a == 100 \n",
    "      % 如果条件成立的话\n",
    "      fprintf('Value of a is 30\\n' );\n",
    "   else\n",
    "      %如果没有一个条件是真的\n",
    "      fprintf('None of the values are matching\\n');\n",
    "   fprintf('Exact value of a is: %d\\n', a );\n",
    "   end"
   ]
  },
  {
   "cell_type": "code",
   "execution_count": 24,
   "id": "42a17583-bd08-4815-94ed-6a393e1015ce",
   "metadata": {
    "tags": []
   },
   "outputs": [
    {
     "name": "stdout",
     "output_type": "stream",
     "text": [
      "Well done\n"
     ]
    }
   ],
   "source": [
    "grade = 2;\n",
    "   switch(grade)\n",
    "   case 'A' \n",
    "      fprintf('Excellent!\\n' );\n",
    "   case 2\n",
    "      fprintf('Well done\\n' );\n",
    "   case 'C' \n",
    "      fprintf('Good done\\n' );\n",
    "   case 'D'\n",
    "      fprintf('You passed\\n' );\n",
    "   case 'F' \n",
    "      fprintf('Better try again\\n' );\n",
    "   otherwise\n",
    "      fprintf('Invalid grade\\n' );\n",
    "   end"
   ]
  },
  {
   "cell_type": "code",
   "execution_count": 27,
   "id": "e5f5f5aa-5916-4cf1-ad8c-cb39cf068b27",
   "metadata": {
    "tags": []
   },
   "outputs": [
    {
     "name": "stdout",
     "output_type": "stream",
     "text": [
      "This is part of outer switch 100\n"
     ]
    }
   ],
   "source": [
    "a = 100;\n",
    "b = 200;\n",
    "switch(a) \n",
    "   case 100 \n",
    "      fprintf('This is part of outer switch %d\\n', a );\n",
    "      switch(b) \n",
    "         case 300\n",
    "            fprintf('This is part of inner switch %d\\n', a );\n",
    "      end\n",
    "end"
   ]
  },
  {
   "cell_type": "code",
   "execution_count": 29,
   "id": "e69ab95a-d15b-4e5d-ae57-f322b436b419",
   "metadata": {
    "tags": []
   },
   "outputs": [
    {
     "data": {
      "text/html": [
       "<html><body><pre>ans = \n",
       "   '/home/mengziwen'</pre></body></html>"
      ],
      "text/plain": [
       "ans = \n",
       "   '/home/mengziwen'"
      ]
     },
     "execution_count": 29,
     "metadata": {},
     "output_type": "execute_result"
    }
   ],
   "source": [
    "pwd"
   ]
  },
  {
   "cell_type": "code",
   "execution_count": 38,
   "id": "32f13f9d-5eff-40ec-bde1-de01bae97dc5",
   "metadata": {
    "collapsed": true,
    "jupyter": {
     "outputs_hidden": true
    },
    "tags": []
   },
   "outputs": [
    {
     "name": "stdout",
     "output_type": "stream",
     "text": [
      "value of a: 1\n",
      "value of a: 0.9\n",
      "value of a: 0.8\n",
      "value of a: 0.7\n",
      "value of a: 0.6\n",
      "value of a: 0.5\n",
      "value of a: 0.4\n",
      "value of a: 0.3\n",
      "value of a: 0.2\n",
      "value of a: 0.1\n",
      "value of a: 0\n"
     ]
    }
   ],
   "source": [
    "for a = 1.0: -0.1: 0.0\n",
    "   fprintf('value of a: %g\\n', a);\n",
    "end"
   ]
  },
  {
   "cell_type": "code",
   "execution_count": 49,
   "id": "8b35327b-ae50-488d-8010-f9651c15cfd6",
   "metadata": {
    "collapsed": true,
    "jupyter": {
     "outputs_hidden": true
    },
    "tags": []
   },
   "outputs": [
    {
     "name": "stdout",
     "output_type": "stream",
     "text": [
      "          1.00\n",
      "\n",
      "          0.90\n",
      "\n",
      "          0.80\n",
      "\n",
      "          0.70\n",
      "\n",
      "          0.60\n",
      "\n",
      "          0.50\n",
      "\n",
      "          0.40\n",
      "\n",
      "          0.30\n",
      "\n",
      "          0.20\n",
      "\n",
      "          0.10\n",
      "\n",
      "             0\n",
      "\n"
     ]
    }
   ],
   "source": [
    "for a = 1.0: -0.1: 0.0\n",
    "   format bank; disp(a)\n",
    "end"
   ]
  },
  {
   "cell_type": "code",
   "execution_count": 50,
   "id": "cb463440-2a4c-46ec-a287-05822e9748d8",
   "metadata": {
    "tags": []
   },
   "outputs": [
    {
     "data": {
      "text/html": [
       "<html><body><pre>v = 1x10 double\n",
       "          1.00          3.00          5.00          7.00          9.00         11.00         13.00         15.00         17.00         19.00\n",
       "</pre></body></html>"
      ],
      "text/plain": [
       "v = 1x10 double\n",
       "          1.00          3.00          5.00          7.00          9.00         11.00         13.00         15.00         17.00         19.00\n"
      ]
     },
     "execution_count": 50,
     "metadata": {},
     "output_type": "execute_result"
    }
   ],
   "source": [
    "v = [1: 2: 20]"
   ]
  },
  {
   "cell_type": "code",
   "execution_count": 51,
   "id": "0ac2d22d-6cb0-4142-8c8d-bc48104b2350",
   "metadata": {
    "tags": []
   },
   "outputs": [
    {
     "data": {
      "text/html": [
       "<html><body><pre>sv = 1x10 double\n",
       "          1.00          9.00         25.00         49.00         81.00        121.00        169.00        225.00        289.00        361.00\n",
       "</pre></body></html>"
      ],
      "text/plain": [
       "sv = 1x10 double\n",
       "          1.00          9.00         25.00         49.00         81.00        121.00        169.00        225.00        289.00        361.00\n"
      ]
     },
     "execution_count": 51,
     "metadata": {},
     "output_type": "execute_result"
    }
   ],
   "source": [
    "sv = v.* v"
   ]
  },
  {
   "cell_type": "code",
   "execution_count": 52,
   "id": "37705ad2-d63b-4ca8-87ee-9bee335e2854",
   "metadata": {
    "tags": []
   },
   "outputs": [
    {
     "name": "stdout",
     "output_type": "stream",
     "text": [
      "Magnitude:\n",
      "         36.47\n",
      "\n"
     ]
    }
   ],
   "source": [
    "dp = sum(sv);     %平方和——点积\n",
    "mag = sqrt(dp);   % magnitude\n",
    "disp('Magnitude:'); \n",
    "disp(mag);"
   ]
  },
  {
   "cell_type": "code",
   "execution_count": 53,
   "id": "27ad0aab-2f57-4298-8d02-388bf20a5041",
   "metadata": {
    "tags": []
   },
   "outputs": [
    {
     "data": {
      "text/html": [
       "<html><body><pre>dp = \n",
       "   1330.00</pre></body></html>"
      ],
      "text/plain": [
       "dp = \n",
       "   1330.00"
      ]
     },
     "execution_count": 53,
     "metadata": {},
     "output_type": "execute_result"
    }
   ],
   "source": [
    "dp = sum(sv)"
   ]
  },
  {
   "cell_type": "code",
   "execution_count": 4,
   "id": "8824175a-af0b-49a2-8b86-1bd38a8bd6fd",
   "metadata": {
    "tags": []
   },
   "outputs": [],
   "source": [
    "function max = mymax(n1, n2, n3, n4, n5)\n",
    "\n",
    "%此函数用于计算\n",
    "%输入五个数字\n",
    "max =  n1;\n",
    "if(n2 > max)\n",
    "   max = n2;\n",
    "end\n",
    "if(n3 > max)\n",
    "   max = n3;\n",
    "end\n",
    "if(n4 > max)\n",
    "   max = n4;\n",
    "end\n",
    "if(n5 > max)\n",
    "   max = n5;\n",
    "end"
   ]
  },
  {
   "cell_type": "code",
   "execution_count": 15,
   "id": "11ab5758-f5a7-4290-964b-98b968cac7fb",
   "metadata": {
    "tags": []
   },
   "outputs": [
    {
     "data": {
      "text/html": [
       "<html><body><pre>ans = \n",
       "   89.00</pre></body></html>"
      ],
      "text/plain": [
       "ans = \n",
       "   89.00"
      ]
     },
     "execution_count": 15,
     "metadata": {},
     "output_type": "execute_result"
    }
   ],
   "source": [
    "mymax(34, 78, 89, 23, 11)"
   ]
  },
  {
   "cell_type": "code",
   "execution_count": 16,
   "id": "fa05863e-837b-4c13-8b30-08f022d708aa",
   "metadata": {
    "tags": []
   },
   "outputs": [
    {
     "name": "stdout",
     "output_type": "stream",
     "text": [
      " 此函数用于计算\n",
      " 输入五个数字\n",
      "\n"
     ]
    }
   ],
   "source": [
    "help mymax"
   ]
  },
  {
   "cell_type": "code",
   "execution_count": 4,
   "id": "2125b78f-97bd-419f-b009-c977102d4c0f",
   "metadata": {
    "tags": []
   },
   "outputs": [
    {
     "data": {
      "text/html": [
       "<html><body><pre>ans = \n",
       "   '/home/mengziwen'</pre></body></html>"
      ],
      "text/plain": [
       "ans = \n",
       "   '/home/mengziwen'"
      ]
     },
     "execution_count": 4,
     "metadata": {},
     "output_type": "execute_result"
    }
   ],
   "source": [
    "pwd"
   ]
  },
  {
   "cell_type": "code",
   "execution_count": 26,
   "id": "f82337b8-74b4-421e-9c67-4860f8d49392",
   "metadata": {
    "tags": []
   },
   "outputs": [
    {
     "name": "stdout",
     "output_type": "stream",
     "text": [
      "    20\n",
      "\n"
     ]
    }
   ],
   "source": [
    "% 生成一个包含NaN值的向量\n",
    "input = [1, 3, NaN, 4, 5, NaN, 7, NaN];\n",
    "% 调用myNanSum函数计算输入向量中所有非NaN元素的和\n",
    "result = nansum(input);\n",
    "% 显示结果\n",
    "disp(result);"
   ]
  },
  {
   "cell_type": "code",
   "execution_count": 17,
   "id": "169627cf-94d5-4cf3-8354-217daeb52aed",
   "metadata": {
    "tags": []
   },
   "outputs": [],
   "source": [
    "input(isnan(input)) = 0;\n",
    "result3 = sum(input);"
   ]
  },
  {
   "cell_type": "code",
   "execution_count": 18,
   "id": "434c7e8b-19db-4427-9818-94e816757a09",
   "metadata": {
    "tags": []
   },
   "outputs": [
    {
     "data": {
      "text/html": [
       "<html><body><pre>result3 = \n",
       "   19</pre></body></html>"
      ],
      "text/plain": [
       "result3 = \n",
       "   19"
      ]
     },
     "execution_count": 18,
     "metadata": {},
     "output_type": "execute_result"
    }
   ],
   "source": [
    "result3"
   ]
  },
  {
   "cell_type": "code",
   "execution_count": 55,
   "id": "94b530b5-e61e-4e4c-ab20-a107bc7f845a",
   "metadata": {
    "tags": []
   },
   "outputs": [
    {
     "data": {
      "text/html": [
       "<html><body><pre>result4 = \n",
       "   NaN</pre></body></html>"
      ],
      "text/plain": [
       "result4 = \n",
       "   NaN"
      ]
     },
     "execution_count": 55,
     "metadata": {},
     "output_type": "execute_result"
    }
   ],
   "source": [
    "input1 = [1, 2, NaN, 4, 5, NaN, 7, NaN];\n",
    "result4 = mean(input1)"
   ]
  },
  {
   "cell_type": "code",
   "execution_count": 53,
   "id": "05425170-1435-44d0-abbb-1ba4d8276a2c",
   "metadata": {
    "tags": []
   },
   "outputs": [
    {
     "data": {
      "text/html": [
       "<html><body><pre>input1 = 1x8 double\n",
       "          1.00          2.00           NaN          4.00          5.00           NaN          7.00           NaN\n",
       "</pre></body></html>"
      ],
      "text/plain": [
       "input1 = 1x8 double\n",
       "          1.00          2.00           NaN          4.00          5.00           NaN          7.00           NaN\n"
      ]
     },
     "execution_count": 53,
     "metadata": {},
     "output_type": "execute_result"
    }
   ],
   "source": [
    "input1"
   ]
  },
  {
   "cell_type": "code",
   "execution_count": 4,
   "id": "7cb01868-2075-41cc-8fad-6c6d004e7f0d",
   "metadata": {},
   "outputs": [
    {
     "data": {
      "text/html": [
       "<html><body><pre>X = 2x1 double\n",
       "    -1\n",
       "     3\n",
       "</pre></body></html>"
      ],
      "text/plain": [
       "X = 2x1 double\n",
       "    -1\n",
       "     3\n"
      ]
     },
     "execution_count": 4,
     "metadata": {},
     "output_type": "execute_result"
    }
   ],
   "source": [
    "A = [2 3; 4 5];\n",
    "B = [7; 11];\n",
    "X = A \\ B"
   ]
  },
  {
   "cell_type": "code",
   "execution_count": 18,
   "id": "87333a06-8ecc-4c68-97b2-77259b9a25b0",
   "metadata": {
    "tags": []
   },
   "outputs": [
    {
     "data": {
      "text/html": [
       "<html><body><pre>X = 2x2 double\n",
       "    1.0000    0.6667\n",
       "    0.5000    0.4000\n",
       "</pre></body></html>"
      ],
      "text/plain": [
       "X = 2x2 double\n",
       "    1.0000    0.6667\n",
       "    0.5000    0.4000\n"
      ]
     },
     "execution_count": 18,
     "metadata": {},
     "output_type": "execute_result"
    }
   ],
   "source": [
    "X = A .\\ 2"
   ]
  },
  {
   "cell_type": "code",
   "execution_count": 8,
   "id": "6fc93f6e-a6b7-466f-a457-20320589fdf7",
   "metadata": {
    "tags": []
   },
   "outputs": [
    {
     "data": {
      "text/html": [
       "<html><body><pre>X = \n",
       "   X(:,:,1) =\n",
       "\n",
       "     1     3     5     7     9\n",
       "     2     4     6     8    10\n",
       "\n",
       "\n",
       "X(:,:,2) =\n",
       "\n",
       "    11    13    15    17    19\n",
       "    12    14    16    18    20\n",
       "\n",
       "\n",
       "X(:,:,3) =\n",
       "\n",
       "    21    23    25    27    29\n",
       "    22    24    26    28    30</pre></body></html>"
      ],
      "text/plain": [
       "X = \n",
       "   X(:,:,1) =\n",
       "\n",
       "     1     3     5     7     9\n",
       "     2     4     6     8    10\n",
       "\n",
       "\n",
       "X(:,:,2) =\n",
       "\n",
       "    11    13    15    17    19\n",
       "    12    14    16    18    20\n",
       "\n",
       "\n",
       "X(:,:,3) =\n",
       "\n",
       "    21    23    25    27    29\n",
       "    22    24    26    28    30"
      ]
     },
     "execution_count": 8,
     "metadata": {},
     "output_type": "execute_result"
    }
   ],
   "source": [
    "X = reshape(1:30,[2 5 3]);\n",
    "X"
   ]
  },
  {
   "cell_type": "code",
   "execution_count": 21,
   "id": "39b8a08a-1307-4a52-a0af-ecfb411458c6",
   "metadata": {
    "tags": []
   },
   "outputs": [
    {
     "data": {
      "text/html": [
       "<html><body><pre>M3 = 2x5 double\n",
       "    21    23    25    27    29\n",
       "    22    24    16    28    30\n",
       "</pre></body></html>"
      ],
      "text/plain": [
       "M3 = 2x5 double\n",
       "    21    23    25    27    29\n",
       "    22    24    16    28    30\n"
      ]
     },
     "execution_count": 21,
     "metadata": {},
     "output_type": "execute_result"
    }
   ],
   "source": [
    "X_as = reshape(1:30,[2 5 3]);\n",
    "X_as([2:9 26]) = NaN;\n",
    "% y1 = nanmax(X,[],1);\n",
    "% y2 = nanmax(X,[],2);\n",
    "% y3 = nanmax(X,[],3);\n",
    "% y_all = nanmax(X,[],'all');\n",
    "M3 = max(X_as,[], 3, 'omitnan')\n",
    "% M_all = max(X,[], 'all', 'omitnan');"
   ]
  },
  {
   "cell_type": "code",
   "execution_count": 22,
   "id": "82ab8d47-bc72-4a91-aa7e-29bc4250a390",
   "metadata": {
    "tags": []
   },
   "outputs": [
    {
     "data": {
      "text/html": [
       "<html><body><pre>M2 = \n",
       "   M2(:,:,1) =\n",
       "\n",
       "     1\n",
       "    10\n",
       "\n",
       "\n",
       "M2(:,:,2) =\n",
       "\n",
       "    19\n",
       "    20\n",
       "\n",
       "\n",
       "M2(:,:,3) =\n",
       "\n",
       "    29\n",
       "    30</pre></body></html>"
      ],
      "text/plain": [
       "M2 = \n",
       "   M2(:,:,1) =\n",
       "\n",
       "     1\n",
       "    10\n",
       "\n",
       "\n",
       "M2(:,:,2) =\n",
       "\n",
       "    19\n",
       "    20\n",
       "\n",
       "\n",
       "M2(:,:,3) =\n",
       "\n",
       "    29\n",
       "    30"
      ]
     },
     "execution_count": 22,
     "metadata": {},
     "output_type": "execute_result"
    }
   ],
   "source": [
    "M2"
   ]
  },
  {
   "cell_type": "code",
   "execution_count": 25,
   "id": "b41eb73e-722c-4dd2-a70d-3a678df30039",
   "metadata": {
    "tags": []
   },
   "outputs": [
    {
     "data": {
      "text/html": [
       "<html><body><pre>M1 = \n",
       "   M1(:,:,1) =\n",
       "\n",
       "     1   NaN   NaN   NaN    10\n",
       "\n",
       "\n",
       "M1(:,:,2) =\n",
       "\n",
       "    12    14    16    18    20\n",
       "\n",
       "\n",
       "M1(:,:,3) =\n",
       "\n",
       "    22    24    25    28    30</pre></body></html>"
      ],
      "text/plain": [
       "M1 = \n",
       "   M1(:,:,1) =\n",
       "\n",
       "     1   NaN   NaN   NaN    10\n",
       "\n",
       "\n",
       "M1(:,:,2) =\n",
       "\n",
       "    12    14    16    18    20\n",
       "\n",
       "\n",
       "M1(:,:,3) =\n",
       "\n",
       "    22    24    25    28    30"
      ]
     },
     "execution_count": 25,
     "metadata": {},
     "output_type": "execute_result"
    }
   ],
   "source": [
    "M1"
   ]
  },
  {
   "cell_type": "code",
   "execution_count": 17,
   "id": "38154573-03a1-4c8b-91c8-8f6879903d7c",
   "metadata": {
    "tags": []
   },
   "outputs": [
    {
     "data": {
      "text/html": [
       "<html><body><pre>M_all = \n",
       "   30</pre></body></html>"
      ],
      "text/plain": [
       "M_all = \n",
       "   30"
      ]
     },
     "execution_count": 17,
     "metadata": {},
     "output_type": "execute_result"
    }
   ],
   "source": [
    "M_all"
   ]
  },
  {
   "cell_type": "code",
   "execution_count": 6,
   "id": "d2e4ff30-6825-4e1d-adda-803af46e17a2",
   "metadata": {
    "tags": []
   },
   "outputs": [
    {
     "data": {
      "text/html": [
       "<html><body><pre>ans = \n",
       "   12.5000</pre></body></html>"
      ],
      "text/plain": [
       "ans = \n",
       "   12.5000"
      ]
     },
     "execution_count": 6,
     "metadata": {},
     "output_type": "execute_result"
    }
   ],
   "source": [
    "25/2"
   ]
  },
  {
   "cell_type": "code",
   "execution_count": 7,
   "id": "659dbb4e-0f40-4b9f-bc89-7b2cfcc18fb4",
   "metadata": {
    "tags": []
   },
   "outputs": [
    {
     "data": {
      "text/html": [
       "<html><body><pre>ans = \n",
       "   0.0800</pre></body></html>"
      ],
      "text/plain": [
       "ans = \n",
       "   0.0800"
      ]
     },
     "execution_count": 7,
     "metadata": {},
     "output_type": "execute_result"
    }
   ],
   "source": [
    "25\\2"
   ]
  },
  {
   "cell_type": "code",
   "execution_count": 19,
   "id": "32c1a2b6-e772-4190-b49d-a10c9eea76e7",
   "metadata": {
    "tags": []
   },
   "outputs": [
    {
     "data": {
      "text/html": [
       "<html><body><pre>X = 1x4 double\n",
       "    1.0000    1.5000    2.0000    2.5000\n",
       "</pre></body></html>"
      ],
      "text/plain": [
       "X = 1x4 double\n",
       "    1.0000    1.5000    2.0000    2.5000\n"
      ]
     },
     "execution_count": 19,
     "metadata": {},
     "output_type": "execute_result"
    }
   ],
   "source": [
    "A = [2 3 4 5];\n",
    "X = A ./ 2"
   ]
  },
  {
   "cell_type": "code",
   "execution_count": 3,
   "id": "5ccaec01-36d5-4fa4-8f4c-d2fe8bb244a8",
   "metadata": {
    "tags": []
   },
   "outputs": [],
   "source": [
    "rain_original=dlmread('daily_rainfall_27071.txt'); \n",
    "flow_original=dlmread('daily_flow_27071.txt'); \n",
    "multiple=24; %to convert from mm/h to the original units of the timeseries (mm/day)\n",
    "rain=rain_original(:,7)./multiple; %mm/h\n",
    "flow=flow_original(:,7)./multiple; %mm/h\n",
    "time=datenum(rain_original(:,1:6));"
   ]
  },
  {
   "cell_type": "code",
   "execution_count": 4,
   "id": "53fa088c-b201-4d99-a30a-f395685c8de4",
   "metadata": {
    "tags": []
   },
   "outputs": [],
   "source": [
    "rain=rain'; %row vector\n",
    "flow=flow'; %row vector"
   ]
  },
  {
   "cell_type": "code",
   "execution_count": 5,
   "id": "6405b25e-3ff5-4ebb-b55f-2a47b06d5f6a",
   "metadata": {
    "tags": []
   },
   "outputs": [],
   "source": [
    "rain_int=cumsum(rain, 'omitnan');\n",
    "flow_int=cumsum(flow, 'omitnan');"
   ]
  },
  {
   "cell_type": "code",
   "execution_count": 6,
   "id": "8be15ab9-1ee5-4a53-b9b3-011116be37b2",
   "metadata": {
    "tags": []
   },
   "outputs": [],
   "source": [
    "window = 3;\n",
    "T=length(rain);\n",
    "rain_mean((window-1)/2,:)=movmean(rain_int, window);\n",
    "flow_mean((window-1)/2,:)=movmean(flow_int, window);"
   ]
  },
  {
   "cell_type": "code",
   "execution_count": 7,
   "id": "36e73794-329e-41bc-b051-0570895d6a3c",
   "metadata": {},
   "outputs": [
    {
     "data": {
      "text/html": [
       "<html><body><pre>rain_mean = 1x9131 double\n",
       "    0.3534    0.3929    0.4677    0.4814    0.5521    0.6718    0.7890    0.8501    0.9027    0.9964    1.0935    1.1493    1.1637    1.1869    1.2632    1.3558    1.4384    1.5573    1.6591    1.7646    1.8142    2.0273    2.2784    2.6957    2.9882    3.4834    3.9494    4.4849    4.8272    5.0902\n",
       "...</pre></body></html>"
      ],
      "text/plain": [
       "rain_mean = 1x9131 double\n",
       "    0.3534    0.3929    0.4677    0.4814    0.5521    0.6718    0.7890    0.8501    0.9027    0.9964    1.0935    1.1493    1.1637    1.1869    1.2632    1.3558    1.4384    1.5573    1.6591    1.7646    1.8142    2.0273    2.2784    2.6957    2.9882    3.4834    3.9494    4.4849    4.8272    5.0902\n",
       "..."
      ]
     },
     "execution_count": 7,
     "metadata": {},
     "output_type": "execute_result"
    }
   ],
   "source": [
    "rain_mean"
   ]
  },
  {
   "cell_type": "code",
   "execution_count": 26,
   "id": "443a94c9-a552-4f58-85d3-4ae6db4d3064",
   "metadata": {
    "tags": []
   },
   "outputs": [],
   "source": [
    "clear M1;"
   ]
  },
  {
   "cell_type": "code",
   "execution_count": 27,
   "id": "9a248b26-7e81-4935-b1cc-f30e4bf858da",
   "metadata": {
    "tags": []
   },
   "outputs": [
    {
     "name": "stderr",
     "output_type": "stream",
     "text": [
      "Unrecognized function or variable 'M1'."
     ]
    }
   ],
   "source": [
    "M1"
   ]
  },
  {
   "cell_type": "code",
   "execution_count": 28,
   "id": "6c295110-e0a6-4b93-90c0-080a1ab49f63",
   "metadata": {
    "collapsed": true,
    "jupyter": {
     "outputs_hidden": true
    },
    "tags": []
   },
   "outputs": [
    {
     "data": {
      "text/html": [
       "<html><body><pre>M2 = \n",
       "   M2(:,:,1) =\n",
       "\n",
       "     1\n",
       "    10\n",
       "\n",
       "\n",
       "M2(:,:,2) =\n",
       "\n",
       "    19\n",
       "    20\n",
       "\n",
       "\n",
       "M2(:,:,3) =\n",
       "\n",
       "    29\n",
       "    30</pre></body></html>"
      ],
      "text/plain": [
       "M2 = \n",
       "   M2(:,:,1) =\n",
       "\n",
       "     1\n",
       "    10\n",
       "\n",
       "\n",
       "M2(:,:,2) =\n",
       "\n",
       "    19\n",
       "    20\n",
       "\n",
       "\n",
       "M2(:,:,3) =\n",
       "\n",
       "    29\n",
       "    30"
      ]
     },
     "execution_count": 28,
     "metadata": {},
     "output_type": "execute_result"
    }
   ],
   "source": [
    "M2"
   ]
  },
  {
   "cell_type": "code",
   "execution_count": 29,
   "id": "76e91b90-33e5-47b1-a02e-74b1325c0dc5",
   "metadata": {
    "tags": []
   },
   "outputs": [],
   "source": [
    "clear M2;"
   ]
  },
  {
   "cell_type": "code",
   "execution_count": 30,
   "id": "86cd1e22-f7db-42d8-9893-1ae87c6003e3",
   "metadata": {
    "tags": []
   },
   "outputs": [
    {
     "name": "stderr",
     "output_type": "stream",
     "text": [
      "Unrecognized function or variable 'M2'."
     ]
    }
   ],
   "source": [
    "M2"
   ]
  },
  {
   "cell_type": "code",
   "execution_count": 31,
   "id": "c25d2d8e-7f98-4b12-b2da-405d144147d5",
   "metadata": {
    "tags": []
   },
   "outputs": [
    {
     "data": {
      "text/html": [
       "<html><body><pre>ans = \n",
       "   517.3498</pre></body></html>"
      ],
      "text/plain": [
       "ans = \n",
       "   517.3498"
      ]
     },
     "execution_count": 31,
     "metadata": {},
     "output_type": "execute_result"
    }
   ],
   "source": [
    "flow_int(end)"
   ]
  },
  {
   "cell_type": "code",
   "execution_count": 32,
   "id": "301f03f7-425e-4922-a799-7be148c49284",
   "metadata": {
    "tags": []
   },
   "outputs": [
    {
     "data": {
      "text/html": [
       "<html><body><pre>flow_int = 1x9131 double\n",
       "    0.0238    0.0498    0.0998    0.1557    0.1932    0.2269    0.2788    0.3351    0.3891    0.4340    0.5212    0.6438    0.7040    0.7462    0.7832    0.8302    0.9340    0.9960    1.0444    1.1544    1.2066    1.2539    1.3187    1.4426    1.5190    1.7465    1.8502    1.9885    2.1150    2.3911\n",
       "...</pre></body></html>"
      ],
      "text/plain": [
       "flow_int = 1x9131 double\n",
       "    0.0238    0.0498    0.0998    0.1557    0.1932    0.2269    0.2788    0.3351    0.3891    0.4340    0.5212    0.6438    0.7040    0.7462    0.7832    0.8302    0.9340    0.9960    1.0444    1.1544    1.2066    1.2539    1.3187    1.4426    1.5190    1.7465    1.8502    1.9885    2.1150    2.3911\n",
       "..."
      ]
     },
     "execution_count": 32,
     "metadata": {},
     "output_type": "execute_result"
    }
   ],
   "source": [
    "flow_int"
   ]
  },
  {
   "cell_type": "code",
   "execution_count": 33,
   "id": "02febe39-7c67-47fe-a172-b1c51b23dbcd",
   "metadata": {
    "tags": []
   },
   "outputs": [
    {
     "data": {
      "text/html": [
       "<html><body><pre>flow = 1x9131 double\n",
       "    0.0238    0.0260    0.0501    0.0559    0.0374    0.0337    0.0519    0.0563    0.0540    0.0450    0.0872    0.1225    0.0602    0.0422    0.0370    0.0470    0.1037    0.0621    0.0484    0.1100    0.0522    0.0472    0.0648    0.1239    0.0764    0.2274    0.1038    0.1383    0.1265    0.2761\n",
       "...</pre></body></html>"
      ],
      "text/plain": [
       "flow = 1x9131 double\n",
       "    0.0238    0.0260    0.0501    0.0559    0.0374    0.0337    0.0519    0.0563    0.0540    0.0450    0.0872    0.1225    0.0602    0.0422    0.0370    0.0470    0.1037    0.0621    0.0484    0.1100    0.0522    0.0472    0.0648    0.1239    0.0764    0.2274    0.1038    0.1383    0.1265    0.2761\n",
       "..."
      ]
     },
     "execution_count": 33,
     "metadata": {},
     "output_type": "execute_result"
    }
   ],
   "source": [
    "flow"
   ]
  },
  {
   "cell_type": "code",
   "execution_count": 34,
   "id": "3002f52f-0ef7-4ac3-8c9e-edc20272d776",
   "metadata": {
    "tags": []
   },
   "outputs": [
    {
     "data": {
      "text/html": [
       "<html><body><pre>tol_fluct_rain = \n",
       "   0.0067</pre></body></html>"
      ],
      "text/plain": [
       "tol_fluct_rain = \n",
       "   0.0067"
      ]
     },
     "execution_count": 34,
     "metadata": {},
     "output_type": "execute_result"
    }
   ],
   "source": [
    "tol_fluct_rain"
   ]
  },
  {
   "cell_type": "code",
   "execution_count": 35,
   "id": "07cf7ebc-e753-4b4f-a2ce-86cb25825629",
   "metadata": {
    "tags": []
   },
   "outputs": [
    {
     "data": {
      "text/html": [
       "<html><body><pre>tol_fluct_flow = \n",
       "   5.1735e-13</pre></body></html>"
      ],
      "text/plain": [
       "tol_fluct_flow = \n",
       "   5.1735e-13"
      ]
     },
     "execution_count": 35,
     "metadata": {},
     "output_type": "execute_result"
    }
   ],
   "source": [
    "tol_fluct_flow"
   ]
  },
  {
   "cell_type": "code",
   "execution_count": 36,
   "id": "e01856cb-b6d0-449b-8f2a-096ed1fd9f03",
   "metadata": {
    "tags": []
   },
   "outputs": [
    {
     "data": {
      "text/html": [
       "<html><body><pre>fluct_flow_Tr = 1x9131 double\n",
       "   -0.0130   -0.0080   -0.0019    0.0062    0.0012   -0.0061   -0.0015    0.0008    0.0030   -0.0141   -0.0118    0.0208    0.0060    0.0017   -0.0033   -0.0189    0.0139    0.0046   -0.0205    0.0193    0.0017   -0.0059   -0.0197    0.0158   -0.0503    0.0412   -0.0115    0.0039   -0.0499   -0.0071\n",
       "...</pre></body></html>"
      ],
      "text/plain": [
       "fluct_flow_Tr = 1x9131 double\n",
       "   -0.0130   -0.0080   -0.0019    0.0062    0.0012   -0.0061   -0.0015    0.0008    0.0030   -0.0141   -0.0118    0.0208    0.0060    0.0017   -0.0033   -0.0189    0.0139    0.0046   -0.0205    0.0193    0.0017   -0.0059   -0.0197    0.0158   -0.0503    0.0412   -0.0115    0.0039   -0.0499   -0.0071\n",
       "..."
      ]
     },
     "execution_count": 36,
     "metadata": {},
     "output_type": "execute_result"
    }
   ],
   "source": [
    "fluct_flow_Tr"
   ]
  },
  {
   "cell_type": "code",
   "execution_count": 37,
   "id": "64674146-5a13-4977-b70c-117749bcd71d",
   "metadata": {
    "tags": []
   },
   "outputs": [
    {
     "data": {
      "text/html": [
       "<html><body><pre>ans = 1x9131 double\n",
       "   -0.0130   -0.0080   -0.0019    0.0062    0.0012   -0.0061   -0.0015    0.0008    0.0030   -0.0141   -0.0118    0.0208    0.0060    0.0017   -0.0033   -0.0189    0.0139    0.0046   -0.0205    0.0193    0.0017   -0.0059   -0.0197    0.0158   -0.0503    0.0412   -0.0115    0.0039   -0.0499   -0.0071\n",
       "...</pre></body></html>"
      ],
      "text/plain": [
       "ans = 1x9131 double\n",
       "   -0.0130   -0.0080   -0.0019    0.0062    0.0012   -0.0061   -0.0015    0.0008    0.0030   -0.0141   -0.0118    0.0208    0.0060    0.0017   -0.0033   -0.0189    0.0139    0.0046   -0.0205    0.0193    0.0017   -0.0059   -0.0197    0.0158   -0.0503    0.0412   -0.0115    0.0039   -0.0499   -0.0071\n",
       "..."
      ]
     },
     "execution_count": 37,
     "metadata": {},
     "output_type": "execute_result"
    }
   ],
   "source": [
    "fluct_flow(position_minimum,:)"
   ]
  },
  {
   "cell_type": "code",
   "execution_count": 51,
   "id": "184b29cc-f6a8-4772-a007-74d28768d55d",
   "metadata": {
    "tags": []
   },
   "outputs": [
    {
     "data": {
      "text/html": [
       "<html><body><pre>fluct_rain_Tr = 1x9131 double\n",
       "   -0.1027    0.0632         0         0   -0.0549    0.0123    0.0452         0   -0.0352         0    0.0364    0.0092         0   -0.0138   -0.0352    0.0328    0.0124   -0.0815    0.0862   -0.0083   -0.0220   -0.1332    0.1174   -0.1504    0.1580   -0.2102    0.0815    0.0593    0.0523   -0.0324\n",
       "...</pre></body></html>"
      ],
      "text/plain": [
       "fluct_rain_Tr = 1x9131 double\n",
       "   -0.1027    0.0632         0         0   -0.0549    0.0123    0.0452         0   -0.0352         0    0.0364    0.0092         0   -0.0138   -0.0352    0.0328    0.0124   -0.0815    0.0862   -0.0083   -0.0220   -0.1332    0.1174   -0.1504    0.1580   -0.2102    0.0815    0.0593    0.0523   -0.0324\n",
       "..."
      ]
     },
     "execution_count": 51,
     "metadata": {},
     "output_type": "execute_result"
    }
   ],
   "source": [
    "fluct_rain_Tr"
   ]
  },
  {
   "cell_type": "code",
   "execution_count": 41,
   "id": "58577d27-4dfc-4ad4-83dc-ad06ff4122e9",
   "metadata": {
    "tags": []
   },
   "outputs": [
    {
     "data": {
      "text/html": [
       "<html><body><pre>fluct_bivariate_Tr = 1x9131 double\n",
       "    0.0013   -0.0005         0         0   -0.0001   -0.0001   -0.0001         0   -0.0001         0   -0.0004    0.0002         0   -0.0000    0.0001   -0.0006    0.0002   -0.0004   -0.0018   -0.0002   -0.0000    0.0008   -0.0023   -0.0024   -0.0080   -0.0087   -0.0009    0.0002   -0.0026    0.0002\n",
       "...</pre></body></html>"
      ],
      "text/plain": [
       "fluct_bivariate_Tr = 1x9131 double\n",
       "    0.0013   -0.0005         0         0   -0.0001   -0.0001   -0.0001         0   -0.0001         0   -0.0004    0.0002         0   -0.0000    0.0001   -0.0006    0.0002   -0.0004   -0.0018   -0.0002   -0.0000    0.0008   -0.0023   -0.0024   -0.0080   -0.0087   -0.0009    0.0002   -0.0026    0.0002\n",
       "..."
      ]
     },
     "execution_count": 41,
     "metadata": {},
     "output_type": "execute_result"
    }
   ],
   "source": [
    "fluct_bivariate_Tr"
   ]
  },
  {
   "cell_type": "code",
   "execution_count": 42,
   "id": "41e3268c-91d7-473c-8eed-6d234ffb2adc",
   "metadata": {
    "collapsed": true,
    "jupyter": {
     "outputs_hidden": true,
     "source_hidden": true
    },
    "tags": []
   },
   "outputs": [
    {
     "name": "stdout",
     "output_type": "stream",
     "text": [
      "     1\n",
      "\n",
      "     2\n",
      "\n",
      "     3\n",
      "\n",
      "     4\n",
      "\n",
      "     5\n",
      "\n",
      "     6\n",
      "\n",
      "     7\n",
      "\n",
      "     8\n",
      "\n",
      "     9\n",
      "\n"
     ]
    }
   ],
   "source": [
    "x = 1;\n",
    "while (x > 0) && (x < 10)\n",
    "    disp(x);\n",
    "    x = x + 1;\n",
    "end"
   ]
  },
  {
   "cell_type": "code",
   "execution_count": 46,
   "id": "51c8af7d-544d-4856-8a3a-f38eaa54fd1f",
   "metadata": {
    "collapsed": true,
    "jupyter": {
     "outputs_hidden": true,
     "source_hidden": true
    },
    "tags": []
   },
   "outputs": [
    {
     "name": "stdout",
     "output_type": "stream",
     "text": [
      "     5\n",
      "\n",
      "     6\n",
      "\n",
      "     7\n",
      "\n",
      "     8\n",
      "\n",
      "     9\n",
      "\n"
     ]
    }
   ],
   "source": [
    "x = 5;\n",
    "while (x > 1) & (x < 10)\n",
    "    disp(x);\n",
    "    x = x + 1;\n",
    "end"
   ]
  },
  {
   "cell_type": "code",
   "execution_count": 50,
   "id": "26ccde15-a0d9-48e1-bfe6-2079abec63a6",
   "metadata": {
    "collapsed": true,
    "jupyter": {
     "outputs_hidden": true,
     "source_hidden": true
    },
    "tags": []
   },
   "outputs": [
    {
     "name": "stdout",
     "output_type": "stream",
     "text": [
      "     2\n",
      "\n",
      "     3\n",
      "\n",
      "     4\n",
      "\n",
      "     5\n",
      "\n",
      "     6\n",
      "\n",
      "     7\n",
      "\n",
      "     8\n",
      "\n",
      "     9\n",
      "\n"
     ]
    }
   ],
   "source": [
    "x = 2;\n",
    "while (x > 1) && (x < 10)\n",
    "    disp(x);\n",
    "    x = x + 1;\n",
    "end"
   ]
  },
  {
   "cell_type": "code",
   "execution_count": 60,
   "id": "a0af447d-1ec7-4fa8-b3e9-8af990e4cda1",
   "metadata": {
    "collapsed": true,
    "jupyter": {
     "outputs_hidden": true,
     "source_hidden": true
    },
    "tags": []
   },
   "outputs": [
    {
     "name": "stdout",
     "output_type": "stream",
     "text": [
      "     3\n",
      "\n"
     ]
    }
   ],
   "source": [
    "X = [1 0 0 2 0 5 6 0 0 0 0 8 0 0 9];\n",
    "count = 0;\n",
    "consecutive_zeros = 0;\n",
    "for i = 1:length(X)\n",
    "    if X(i) == 0\n",
    "        count = count + 1;\n",
    "        if count >= 2 && (i == length(X) || X(i+1) ~= 0)\n",
    "            consecutive_zeros = consecutive_zeros + 1;\n",
    "        end\n",
    "    else\n",
    "        count = 0;\n",
    "    end\n",
    "end\n",
    "disp(consecutive_zeros);"
   ]
  },
  {
   "cell_type": "code",
   "execution_count": 59,
   "id": "fec5478d-b3ad-477d-accb-ba088a26edc9",
   "metadata": {
    "collapsed": true,
    "jupyter": {
     "outputs_hidden": true,
     "source_hidden": true
    },
    "tags": []
   },
   "outputs": [
    {
     "name": "stdout",
     "output_type": "stream",
     "text": [
      "   622\n",
      "\n"
     ]
    }
   ],
   "source": [
    "fluct_bivariate_Tr;\n",
    "count = 0;\n",
    "consecutive_zeros = 0;\n",
    "for i = 1:length(fluct_bivariate_Tr)\n",
    "    if fluct_bivariate_Tr(i) == 0\n",
    "        count = count + 1;\n",
    "        if count >= 2 && (i == length(fluct_bivariate_Tr) || fluct_bivariate_Tr(i+1) ~= 0)\n",
    "            consecutive_zeros = consecutive_zeros + 1;\n",
    "        end\n",
    "    else\n",
    "        count = 0;\n",
    "    end\n",
    "end\n",
    "disp(consecutive_zeros);"
   ]
  },
  {
   "cell_type": "code",
   "execution_count": 61,
   "id": "8bcb2a88-467e-4520-ab70-d271fb25e5ad",
   "metadata": {
    "tags": []
   },
   "outputs": [
    {
     "data": {
      "text/html": [
       "<html><body><pre>beginning_core = 1x623 double\n",
       "     1     5    66    77    82    87    91   103   115   126   156   170   195   211   217   220   225   230   235   240   247   259   262   270   287   296   313   339   350   381\n",
       "...</pre></body></html>"
      ],
      "text/plain": [
       "beginning_core = 1x623 double\n",
       "     1     5    66    77    82    87    91   103   115   126   156   170   195   211   217   220   225   230   235   240   247   259   262   270   287   296   313   339   350   381\n",
       "..."
      ]
     },
     "execution_count": 61,
     "metadata": {},
     "output_type": "execute_result"
    }
   ],
   "source": [
    "beginning_core"
   ]
  },
  {
   "cell_type": "code",
   "execution_count": 68,
   "id": "6a1538ff-d06e-40a6-81d0-286c31312a6b",
   "metadata": {
    "tags": []
   },
   "outputs": [
    {
     "data": {
      "text/html": [
       "<html><body><pre>end_core = 1x623 double\n",
       "     2    63    74    78    83    88    94   108   116   137   163   190   196   211   217   222   226   231   237   242   249   259   267   284   293   307   331   345   377   389\n",
       "...</pre></body></html>"
      ],
      "text/plain": [
       "end_core = 1x623 double\n",
       "     2    63    74    78    83    88    94   108   116   137   163   190   196   211   217   222   226   231   237   242   249   259   267   284   293   307   331   345   377   389\n",
       "..."
      ]
     },
     "execution_count": 68,
     "metadata": {},
     "output_type": "execute_result"
    }
   ],
   "source": [
    "end_core"
   ]
  },
  {
   "cell_type": "code",
   "execution_count": 64,
   "id": "48e4653f-7ea9-4ebf-958b-5525ce0ef35f",
   "metadata": {
    "tags": []
   },
   "outputs": [
    {
     "data": {
      "text/html": [
       "<html><body><pre>ans = 1x5 double\n",
       "1.0e-03 *\n",
       "\n",
       "   -0.1486         0         0   -0.0558    0.0128\n",
       "</pre></body></html>"
      ],
      "text/plain": [
       "ans = 1x5 double\n",
       "1.0e-03 *\n",
       "\n",
       "   -0.1486         0         0   -0.0558    0.0128\n"
      ]
     },
     "execution_count": 64,
     "metadata": {},
     "output_type": "execute_result"
    }
   ],
   "source": [
    "fluct_bivariate_Tr(63:67)"
   ]
  },
  {
   "cell_type": "code",
   "execution_count": 65,
   "id": "386638f2-0ebd-44f6-a6b8-37525ace5942",
   "metadata": {
    "collapsed": true,
    "jupyter": {
     "outputs_hidden": true
    },
    "tags": []
   },
   "outputs": [
    {
     "name": "stdout",
     "output_type": "stream",
     "text": [
      "  Name                       Size                Bytes  Class                        Attributes\n",
      "\n",
      "  BEGINNING_FLOW           449x1                  3592  double                                 \n",
      "  BEGINNING_RAIN           449x1                  3592  double                                 \n",
      "  DURATION_RAIN              1x449                3592  double                                 \n",
      "  DURATION_RUNOFF            1x449                3592  double                                 \n",
      "  END_FLOW                 449x1                  3592  double                                 \n",
      "  END_RAIN                 449x1                  3592  double                                 \n",
      "  F_flow                     1x49                  392  double                                 \n",
      "  F_rain                     1x49                  392  double                                 \n",
      "  F_rain_flow                1x49                  392  double                                 \n",
      "  M3                         2x5                    80  double                                 \n",
      "  M_all                      1x1                     8  double                                 \n",
      "  RUNOFF_RATIO               1x449                3592  double                                 \n",
      "  T                          1x1                     8  double                                 \n",
      "  Tr                         1x1                     8  double                                 \n",
      "  VOLUME_RAIN                1x449                3592  double                                 \n",
      "  VOLUME_RUNOFF              1x449                3592  double                                 \n",
      "  X                          1x15                  120  double                                 \n",
      "  X_as                       2x5x3                 240  double                                 \n",
      "  a                          1x1                     8  double                                 \n",
      "  ans                        1x5                    40  double                                 \n",
      "  ax                         1x1                     8  matlab.graphics.axis.Axes              \n",
      "  b                          1x1                     8  double                                 \n",
      "  baseflow                9131x1                 73048  double                                 \n",
      "  baseflow_original       9131x1                 73048  double                                 \n",
      "  beginning_core             1x623                4984  double                                 \n",
      "  cnt                        1x1                     8  double                                 \n",
      "  consecutive_zeros          1x1                     8  double                                 \n",
      "  count                      1x1                     8  double                                 \n",
      "  end_core                   1x623                4984  double                                 \n",
      "  end_idx                    1x1                     8  double                                 \n",
      "  fig                        1x1                     8  matlab.ui.Figure                       \n",
      "  flag                       1x1                     8  double                                 \n",
      "  flow                       1x9131              73048  double                                 \n",
      "  flow_int                   1x9131              73048  double                                 \n",
      "  flow_mean                 49x9131            3579352  double                                 \n",
      "  flow_original           9131x7                511336  double                                 \n",
      "  fluct_bivariate_Tr         1x9131              73048  double                                 \n",
      "  fluct_flow                49x9131            3579352  double                                 \n",
      "  fluct_flow_Tr              1x9131              73048  double                                 \n",
      "  fluct_rain                49x9131            3579352  double                                 \n",
      "  fluct_rain_Tr              1x9131              73048  double                                 \n",
      "  g                          1x1                     8  double                                 \n",
      "  i                          1x1                     8  double                                 \n",
      "  index_finish_flow          1x449                3592  double                                 \n",
      "  index_finish_rain          1x449                3592  double                                 \n",
      "  index_start_flow           1x449                3592  double                                 \n",
      "  index_start_rain           1x449                3592  double                                 \n",
      "  indices                    1x1                     8  double                                 \n",
      "  left_color                 1x3                    24  double                                 \n",
      "  len_rho                    1x1                     8  double                                 \n",
      "  max_window                 1x1                     8  double                                 \n",
      "  maxcnt                     1x1                     8  double                                 \n",
      "  multiple                   1x1                     8  double                                 \n",
      "  n                          1x1                     8  double                                 \n",
      "  num_zeros                  1x1                     8  double                                 \n",
      "  position_minimum           1x1                     8  double                                 \n",
      "  q                          1x1                     8  double                                 \n",
      "  rain                       1x9131              73048  double                                 \n",
      "  rain_int                   1x9131              73048  double                                 \n",
      "  rain_mean                 49x9131            3579352  double                                 \n",
      "  rain_min                   1x1                     8  double                                 \n",
      "  rain_original           9131x7                511336  double                                 \n",
      "  rho                        1x49                  392  double                                 \n",
      "  right_color                1x3                    24  double                                 \n",
      "  start_idx                  1x2                    16  double                                 \n",
      "  time                    9131x1                 73048  double                                 \n",
      "  tol_fluct_flow             1x1                     8  double                                 \n",
      "  tol_fluct_rain             1x1                     8  double                                 \n",
      "  window                     1x1                     8  double                                 \n",
      "  x                          1x1                     8  double                                 \n",
      "  y                          1x1                     8  double                                 \n",
      "  zero_count                 1x1                     8  double                                 \n",
      "\n"
     ]
    }
   ],
   "source": [
    "whos"
   ]
  },
  {
   "cell_type": "markdown",
   "id": "efe5de99-ab29-4803-8939-e7b2b283dd2a",
   "metadata": {
    "tags": []
   },
   "source": [
    "![step4 流程图](img/step4.png)"
   ]
  },
  {
   "cell_type": "code",
   "execution_count": 93,
   "id": "44229f8f-f1cd-4dd2-9314-1c327a87f294",
   "metadata": {
    "tags": []
   },
   "outputs": [
    {
     "data": {
      "text/html": [
       "<html><body><pre>ans = 1x2 double\n",
       "        9066        9130\n",
       "</pre></body></html>"
      ],
      "text/plain": [
       "ans = 1x2 double\n",
       "        9066        9130\n"
      ]
     },
     "execution_count": 93,
     "metadata": {},
     "output_type": "execute_result"
    }
   ],
   "source": [
    "beginning_core(622:623)"
   ]
  },
  {
   "cell_type": "code",
   "execution_count": 92,
   "id": "212c0379-3e7a-4fcd-8c7c-3053b935e5a4",
   "metadata": {
    "tags": []
   },
   "outputs": [
    {
     "data": {
      "text/html": [
       "<html><body><pre>ans = 1x2 double\n",
       "        9127        9129\n",
       "</pre></body></html>"
      ],
      "text/plain": [
       "ans = 1x2 double\n",
       "        9127        9129\n"
      ]
     },
     "execution_count": 92,
     "metadata": {},
     "output_type": "execute_result"
    }
   ],
   "source": [
    "end_core(622:623)"
   ]
  },
  {
   "cell_type": "code",
   "execution_count": 94,
   "id": "ca20f403-4b79-4661-98c6-b3816bde91de",
   "metadata": {
    "tags": []
   },
   "outputs": [
    {
     "data": {
      "text/html": [
       "<html><body><pre>ans = 1x12 double\n",
       "         0    0.0001   -0.0012   -0.0002         0   -0.0011    0.0000    0.0001         0         0   -0.0000    0.0004\n",
       "</pre></body></html>"
      ],
      "text/plain": [
       "ans = 1x12 double\n",
       "         0    0.0001   -0.0012   -0.0002         0   -0.0011    0.0000    0.0001         0         0   -0.0000    0.0004\n"
      ]
     },
     "execution_count": 94,
     "metadata": {},
     "output_type": "execute_result"
    }
   ],
   "source": [
    "fluct_bivariate_Tr(9120:9131)"
   ]
  },
  {
   "cell_type": "code",
   "execution_count": 95,
   "id": "c08a553d-bd85-4ba5-9a2a-231032d0ec98",
   "metadata": {
    "tags": []
   },
   "outputs": [
    {
     "data": {
      "text/html": [
       "<html><body><pre>ans = 1x2 logical array\n",
       "   1   1</pre></body></html>"
      ],
      "text/plain": [
       "ans = 1x2 logical array\n",
       "   1   1"
      ]
     },
     "execution_count": 95,
     "metadata": {},
     "output_type": "execute_result"
    }
   ],
   "source": [
    "X = [ 0 0 1 2 0 0];\n",
    "X(1:2) == 0"
   ]
  },
  {
   "cell_type": "code",
   "execution_count": 96,
   "id": "a3275267-bd4c-4324-9a11-723e0256a577",
   "metadata": {
    "tags": []
   },
   "outputs": [
    {
     "data": {
      "text/html": [
       "<html><body><pre>ans = logical\n",
       "   1</pre></body></html>"
      ],
      "text/plain": [
       "ans = logical\n",
       "   1"
      ]
     },
     "execution_count": 96,
     "metadata": {},
     "output_type": "execute_result"
    }
   ],
   "source": [
    "sum(X(1:2) == 0)==2"
   ]
  },
  {
   "cell_type": "code",
   "execution_count": 108,
   "id": "f5339e54-b029-437b-baa9-da76ed641dab",
   "metadata": {
    "tags": []
   },
   "outputs": [
    {
     "data": {
      "text/html": [
       "<html><body><pre>ans = logical\n",
       "   0</pre></body></html>"
      ],
      "text/plain": [
       "ans = logical\n",
       "   0"
      ]
     },
     "execution_count": 108,
     "metadata": {},
     "output_type": "execute_result"
    }
   ],
   "source": [
    "X = [NaN NaN];\n",
    "next_core_beginning=find(isnan(X(1:end))==0);\n",
    "isempty(next_core_beginning)==0"
   ]
  },
  {
   "cell_type": "code",
   "execution_count": 109,
   "id": "80529654-6a69-46b9-8eae-e4794cb96a45",
   "metadata": {},
   "outputs": [
    {
     "data": {
      "text/html": [
       "<html><body><pre>beginning_rain = 1x623 double\n",
       "     2     5    67    78    83    88    92   104   116   126   156   169   196   210   218   221   226   231   236   241   248   260   260   271   288   297   314   340   350   382\n",
       "...</pre></body></html>"
      ],
      "text/plain": [
       "beginning_rain = 1x623 double\n",
       "     2     5    67    78    83    88    92   104   116   126   156   169   196   210   218   221   226   231   236   241   248   260   260   271   288   297   314   340   350   382\n",
       "..."
      ]
     },
     "execution_count": 109,
     "metadata": {},
     "output_type": "execute_result"
    }
   ],
   "source": [
    "beginning_rain"
   ]
  },
  {
   "cell_type": "code",
   "execution_count": 112,
   "id": "36518c41-d148-448c-808a-177511be06d4",
   "metadata": {
    "tags": []
   },
   "outputs": [
    {
     "data": {
      "text/html": [
       "<html><body><pre>ans = \n",
       "   623</pre></body></html>"
      ],
      "text/plain": [
       "ans = \n",
       "   623"
      ]
     },
     "execution_count": 112,
     "metadata": {},
     "output_type": "execute_result"
    }
   ],
   "source": [
    "sum(isnan(beginning_rain)==0)"
   ]
  },
  {
   "cell_type": "code",
   "execution_count": 117,
   "id": "78119a1b-50d4-4b12-a3f6-868c8b5897e3",
   "metadata": {
    "tags": []
   },
   "outputs": [
    {
     "data": {
      "text/html": [
       "<html><body><pre>ans = \n",
       "   623</pre></body></html>"
      ],
      "text/plain": [
       "ans = \n",
       "   623"
      ]
     },
     "execution_count": 117,
     "metadata": {},
     "output_type": "execute_result"
    }
   ],
   "source": [
    "sum(isnan(end_rain)==0)"
   ]
  },
  {
   "cell_type": "code",
   "execution_count": 114,
   "id": "f2b56cfe-02bf-4866-bfcc-68e7b9ae07b6",
   "metadata": {
    "tags": []
   },
   "outputs": [
    {
     "data": {
      "text/html": [
       "<html><body><pre>end_rain_checked = 1x623 double\n",
       "   NaN    63    74    78    83    88    93   111   116   137   163   190   196   211   NaN   222   NaN   231   237   NaN   249   NaN   267   284   293   310   331   345   377   389\n",
       "...</pre></body></html>"
      ],
      "text/plain": [
       "end_rain_checked = 1x623 double\n",
       "   NaN    63    74    78    83    88    93   111   116   137   163   190   196   211   NaN   222   NaN   231   237   NaN   249   NaN   267   284   293   310   331   345   377   389\n",
       "..."
      ]
     },
     "execution_count": 114,
     "metadata": {},
     "output_type": "execute_result"
    }
   ],
   "source": [
    "end_rain_checked"
   ]
  },
  {
   "cell_type": "code",
   "execution_count": 115,
   "id": "1c0c5249-02cf-4afc-addb-bc4117bfe972",
   "metadata": {
    "tags": []
   },
   "outputs": [
    {
     "data": {
      "text/html": [
       "<html><body><pre>ans = \n",
       "   535</pre></body></html>"
      ],
      "text/plain": [
       "ans = \n",
       "   535"
      ]
     },
     "execution_count": 115,
     "metadata": {},
     "output_type": "execute_result"
    }
   ],
   "source": [
    "sum(isnan(end_rain_checked)==0)"
   ]
  },
  {
   "cell_type": "code",
   "execution_count": 118,
   "id": "a7625268-3eb2-480b-9497-403bef773130",
   "metadata": {
    "tags": []
   },
   "outputs": [
    {
     "data": {
      "text/html": [
       "<html><body><pre>ans = \n",
       "   88</pre></body></html>"
      ],
      "text/plain": [
       "ans = \n",
       "   88"
      ]
     },
     "execution_count": 118,
     "metadata": {},
     "output_type": "execute_result"
    }
   ],
   "source": [
    "sum(isnan(end_rain_checked)==1)"
   ]
  },
  {
   "cell_type": "code",
   "execution_count": 119,
   "id": "857dffff-24b4-4782-b71a-bf63d4632f15",
   "metadata": {
    "tags": []
   },
   "outputs": [
    {
     "data": {
      "text/html": [
       "<html><body><pre>ans = \n",
       "   88</pre></body></html>"
      ],
      "text/plain": [
       "ans = \n",
       "   88"
      ]
     },
     "execution_count": 119,
     "metadata": {},
     "output_type": "execute_result"
    }
   ],
   "source": [
    "sum(isnan(beginning_rain_checked)==1)"
   ]
  },
  {
   "cell_type": "code",
   "execution_count": 120,
   "id": "bb52511a-6e3f-4995-a160-be90589d28ac",
   "metadata": {
    "collapsed": true,
    "jupyter": {
     "outputs_hidden": true
    },
    "tags": []
   },
   "outputs": [
    {
     "data": {
      "text/html": [
       "<html><body><pre>fluct_flow = 49x9131 double\n",
       "   -0.0130   -0.0080   -0.0019    0.0062    0.0012   -0.0061   -0.0015    0.0008    0.0030   -0.0141   -0.0118    0.0208    0.0060    0.0017   -0.0033   -0.0189    0.0139    0.0046   -0.0205    0.0193    0.0017   -0.0059   -0.0197    0.0158   -0.0503    0.0412   -0.0115    0.0039   -0.0499   -0.0071\n",
       "   -0.0340   -0.0325   -0.0046    0.0107    0.0023   -0.0111   -0.0058    0.0023   -0.0026   -0.0306   -0.0172    0.0339    0.0243    0.0047   -0.0163   -0.0277    0.0164    0.0042   -0.0227    0.0233    0.0110   -0.0214   -0.0295   -0.0135   -0.0564    0.0371    0.0064   -0.0298   -0.0917   -0.0282\n",
       "   -0.0585   -0.0547   -0.0250    0.0089    0.0018   -0.0129   -0.0088   -0.0046   -0.0151   -0.0383   -0.0178    0.0407    0.0379    0.0087   -0.0221   -0.0323    0.0070    0.0033   -0.0155    0.0247    0.0042   -0.0232   -0.0587   -0.0342   -0.0694    0.0350   -0.0145   -0.0542   -0.1269   -0.0445\n",
       "   -0.0807   -0.0751   -0.0470   -0.0146   -0.0015   -0.0134   -0.0139   -0.0180   -0.0249   -0.0414   -0.0160    0.0452    0.0389    0.0137   -0.0171   -0.0405    0.0007    0.0017   -0.0135    0.0232   -0.0011   -0.0441   -0.0742   -0.0552   -0.0855    0.0103   -0.0453   -0.0843   -0.1422   -0.0586\n",
       "   -0.1011   -0.0971   -0.0706   -0.0389   -0.0255   -0.0193   -0.0237   -0.0268   -0.0317   -0.0437   -0.0144    0.0438    0.0388    0.0165   -0.0160   -0.0392   -0.0021   -0.0014   -0.0202    0.0196   -0.0158   -0.0612   -0.0923   -0.0701   -0.1161   -0.0281   -0.0795   -0.1094   -0.1586   -0.0573\n",
       "   -0.1231   -0.1206   -0.0949   -0.0629   -0.0530   -0.0524   -0.0332   -0.0324   -0.0349   -0.0461   -0.0187    0.0420    0.0394    0.0142   -0.0158   -0.0353    0.0004   -0.0084   -0.0274    0.0024   -0.0303   -0.0757   -0.1097   -0.0979   -0.1517   -0.0680   -0.1141   -0.1332   -0.1691   -0.0650\n",
       "   -0.1466   -0.1449   -0.1188   -0.0904   -0.0861   -0.0851   -0.0642   -0.0372   -0.0370   -0.0510   -0.0235    0.0398    0.0359    0.0128   -0.0152   -0.0337   -0.0003   -0.0105   -0.0438   -0.0143   -0.0477   -0.0917   -0.1340   -0.1340   -0.1895   -0.1026   -0.1460   -0.1551   -0.1852   -0.0696\n",
       "   -0.1709   -0.1689   -0.1463   -0.1235   -0.1188   -0.1161   -0.0935   -0.0658   -0.0432   -0.0554   -0.0267    0.0338    0.0322    0.0120   -0.0152   -0.0367   -0.0026   -0.0204   -0.0553   -0.0316   -0.0659   -0.1179   -0.1673   -0.1687   -0.2260   -0.1349   -0.1705   -0.1800   -0.2009   -0.0745\n",
       "   -0.1948   -0.1964   -0.1794   -0.1562   -0.1498   -0.1454   -0.1221   -0.0972   -0.0745   -0.0601   -0.0324    0.0292    0.0287    0.0097   -0.0190   -0.0400   -0.0136   -0.0312   -0.0670   -0.0455   -0.0917   -0.1521   -0.2035   -0.2036   -0.2571   -0.1631   -0.1973   -0.1994   -0.2154   -0.0889\n",
       "   -0.2223   -0.2295   -0.2121   -0.1872   -0.1791   -0.1741   -0.1535   -0.1285   -0.1051   -0.0931   -0.0383    0.0257    0.0255    0.0037   -0.0242   -0.0511   -0.0247   -0.0440   -0.0804   -0.0658   -0.1209   -0.1876   -0.2398   -0.2372   -0.2855   -0.1901   -0.2212   -0.2171   -0.2335   -0.1078\n",
       "...</pre></body></html>"
      ],
      "text/plain": [
       "fluct_flow = 49x9131 double\n",
       "   -0.0130   -0.0080   -0.0019    0.0062    0.0012   -0.0061   -0.0015    0.0008    0.0030   -0.0141   -0.0118    0.0208    0.0060    0.0017   -0.0033   -0.0189    0.0139    0.0046   -0.0205    0.0193    0.0017   -0.0059   -0.0197    0.0158   -0.0503    0.0412   -0.0115    0.0039   -0.0499   -0.0071\n",
       "   -0.0340   -0.0325   -0.0046    0.0107    0.0023   -0.0111   -0.0058    0.0023   -0.0026   -0.0306   -0.0172    0.0339    0.0243    0.0047   -0.0163   -0.0277    0.0164    0.0042   -0.0227    0.0233    0.0110   -0.0214   -0.0295   -0.0135   -0.0564    0.0371    0.0064   -0.0298   -0.0917   -0.0282\n",
       "   -0.0585   -0.0547   -0.0250    0.0089    0.0018   -0.0129   -0.0088   -0.0046   -0.0151   -0.0383   -0.0178    0.0407    0.0379    0.0087   -0.0221   -0.0323    0.0070    0.0033   -0.0155    0.0247    0.0042   -0.0232   -0.0587   -0.0342   -0.0694    0.0350   -0.0145   -0.0542   -0.1269   -0.0445\n",
       "   -0.0807   -0.0751   -0.0470   -0.0146   -0.0015   -0.0134   -0.0139   -0.0180   -0.0249   -0.0414   -0.0160    0.0452    0.0389    0.0137   -0.0171   -0.0405    0.0007    0.0017   -0.0135    0.0232   -0.0011   -0.0441   -0.0742   -0.0552   -0.0855    0.0103   -0.0453   -0.0843   -0.1422   -0.0586\n",
       "   -0.1011   -0.0971   -0.0706   -0.0389   -0.0255   -0.0193   -0.0237   -0.0268   -0.0317   -0.0437   -0.0144    0.0438    0.0388    0.0165   -0.0160   -0.0392   -0.0021   -0.0014   -0.0202    0.0196   -0.0158   -0.0612   -0.0923   -0.0701   -0.1161   -0.0281   -0.0795   -0.1094   -0.1586   -0.0573\n",
       "   -0.1231   -0.1206   -0.0949   -0.0629   -0.0530   -0.0524   -0.0332   -0.0324   -0.0349   -0.0461   -0.0187    0.0420    0.0394    0.0142   -0.0158   -0.0353    0.0004   -0.0084   -0.0274    0.0024   -0.0303   -0.0757   -0.1097   -0.0979   -0.1517   -0.0680   -0.1141   -0.1332   -0.1691   -0.0650\n",
       "   -0.1466   -0.1449   -0.1188   -0.0904   -0.0861   -0.0851   -0.0642   -0.0372   -0.0370   -0.0510   -0.0235    0.0398    0.0359    0.0128   -0.0152   -0.0337   -0.0003   -0.0105   -0.0438   -0.0143   -0.0477   -0.0917   -0.1340   -0.1340   -0.1895   -0.1026   -0.1460   -0.1551   -0.1852   -0.0696\n",
       "   -0.1709   -0.1689   -0.1463   -0.1235   -0.1188   -0.1161   -0.0935   -0.0658   -0.0432   -0.0554   -0.0267    0.0338    0.0322    0.0120   -0.0152   -0.0367   -0.0026   -0.0204   -0.0553   -0.0316   -0.0659   -0.1179   -0.1673   -0.1687   -0.2260   -0.1349   -0.1705   -0.1800   -0.2009   -0.0745\n",
       "   -0.1948   -0.1964   -0.1794   -0.1562   -0.1498   -0.1454   -0.1221   -0.0972   -0.0745   -0.0601   -0.0324    0.0292    0.0287    0.0097   -0.0190   -0.0400   -0.0136   -0.0312   -0.0670   -0.0455   -0.0917   -0.1521   -0.2035   -0.2036   -0.2571   -0.1631   -0.1973   -0.1994   -0.2154   -0.0889\n",
       "   -0.2223   -0.2295   -0.2121   -0.1872   -0.1791   -0.1741   -0.1535   -0.1285   -0.1051   -0.0931   -0.0383    0.0257    0.0255    0.0037   -0.0242   -0.0511   -0.0247   -0.0440   -0.0804   -0.0658   -0.1209   -0.1876   -0.2398   -0.2372   -0.2855   -0.1901   -0.2212   -0.2171   -0.2335   -0.1078\n",
       "..."
      ]
     },
     "execution_count": 120,
     "metadata": {},
     "output_type": "execute_result"
    }
   ],
   "source": [
    "fluct_flow"
   ]
  },
  {
   "cell_type": "code",
   "execution_count": 121,
   "id": "c435554f-5d57-480b-9237-f1a0d6275c62",
   "metadata": {
    "tags": []
   },
   "outputs": [
    {
     "data": {
      "text/html": [
       "<html><body><pre>position_minimum = \n",
       "   1</pre></body></html>"
      ],
      "text/plain": [
       "position_minimum = \n",
       "   1"
      ]
     },
     "execution_count": 121,
     "metadata": {},
     "output_type": "execute_result"
    }
   ],
   "source": [
    "position_minimum"
   ]
  },
  {
   "cell_type": "code",
   "execution_count": 122,
   "id": "db3fef3f-077a-458e-bb1b-d3516d7751ef",
   "metadata": {
    "tags": []
   },
   "outputs": [
    {
     "data": {
      "text/html": [
       "<html><body><pre>fluct_flow_Tr = 1x9131 double\n",
       "   -0.0130   -0.0080   -0.0019    0.0062    0.0012   -0.0061   -0.0015    0.0008    0.0030   -0.0141   -0.0118    0.0208    0.0060    0.0017   -0.0033   -0.0189    0.0139    0.0046   -0.0205    0.0193    0.0017   -0.0059   -0.0197    0.0158   -0.0503    0.0412   -0.0115    0.0039   -0.0499   -0.0071\n",
       "...</pre></body></html>"
      ],
      "text/plain": [
       "fluct_flow_Tr = 1x9131 double\n",
       "   -0.0130   -0.0080   -0.0019    0.0062    0.0012   -0.0061   -0.0015    0.0008    0.0030   -0.0141   -0.0118    0.0208    0.0060    0.0017   -0.0033   -0.0189    0.0139    0.0046   -0.0205    0.0193    0.0017   -0.0059   -0.0197    0.0158   -0.0503    0.0412   -0.0115    0.0039   -0.0499   -0.0071\n",
       "..."
      ]
     },
     "execution_count": 122,
     "metadata": {},
     "output_type": "execute_result"
    }
   ],
   "source": [
    "fluct_flow_Tr"
   ]
  },
  {
   "cell_type": "code",
   "execution_count": 123,
   "id": "f5019909-a76b-44af-8ceb-b40d0bf9e62c",
   "metadata": {
    "tags": []
   },
   "outputs": [
    {
     "data": {
      "text/html": [
       "<html><body><pre>beginning_flow = 1x623 double\n",
       "   NaN     6    72    82    83    91    92   105   116   126   156   170   199   212   NaN   221   NaN   230   236   NaN   248   NaN   262   272   289   298   315   340   350   382\n",
       "...</pre></body></html>"
      ],
      "text/plain": [
       "beginning_flow = 1x623 double\n",
       "   NaN     6    72    82    83    91    92   105   116   126   156   170   199   212   NaN   221   NaN   230   236   NaN   248   NaN   262   272   289   298   315   340   350   382\n",
       "..."
      ]
     },
     "execution_count": 123,
     "metadata": {},
     "output_type": "execute_result"
    }
   ],
   "source": [
    "beginning_flow"
   ]
  },
  {
   "cell_type": "code",
   "execution_count": 124,
   "id": "870797a5-b908-4885-9d8e-ff71d21ad3a5",
   "metadata": {
    "tags": []
   },
   "outputs": [
    {
     "data": {
      "text/html": [
       "<html><body><pre>end_flow = 1x623 double\n",
       "   NaN    67    74    82    88    91    95   116   116   145   166   196   199   211   NaN   222   NaN   234   240   NaN   249   NaN   271   288   297   314   339   349   381   397\n",
       "...</pre></body></html>"
      ],
      "text/plain": [
       "end_flow = 1x623 double\n",
       "   NaN    67    74    82    88    91    95   116   116   145   166   196   199   211   NaN   222   NaN   234   240   NaN   249   NaN   271   288   297   314   339   349   381   397\n",
       "..."
      ]
     },
     "execution_count": 124,
     "metadata": {},
     "output_type": "execute_result"
    }
   ],
   "source": [
    "end_flow"
   ]
  },
  {
   "cell_type": "code",
   "execution_count": 125,
   "id": "e50b6d63-1dba-40ce-913b-827919e0b2fd",
   "metadata": {
    "tags": []
   },
   "outputs": [
    {
     "data": {
      "text/html": [
       "<html><body><pre>beginning_rain_checked = 1x623 double\n",
       "   NaN     5    67    78    83    88    92   104   116   126   156   169   196   210   NaN   221   NaN   231   236   NaN   248   NaN   260   271   288   297   314   340   350   382\n",
       "...</pre></body></html>"
      ],
      "text/plain": [
       "beginning_rain_checked = 1x623 double\n",
       "   NaN     5    67    78    83    88    92   104   116   126   156   169   196   210   NaN   221   NaN   231   236   NaN   248   NaN   260   271   288   297   314   340   350   382\n",
       "..."
      ]
     },
     "execution_count": 125,
     "metadata": {},
     "output_type": "execute_result"
    }
   ],
   "source": [
    "beginning_rain_checked"
   ]
  },
  {
   "cell_type": "code",
   "execution_count": 128,
   "id": "877c14b9-f45a-406f-986f-f9d8340ec122",
   "metadata": {
    "tags": []
   },
   "outputs": [
    {
     "data": {
      "text/html": [
       "<html><body><pre>end_rain_checked = 1x623 double\n",
       "   NaN    63    74    78    83    88    93   111   116   137   163   190   196   211   NaN   222   NaN   231   237   NaN   249   NaN   267   284   293   310   331   345   377   389\n",
       "...</pre></body></html>"
      ],
      "text/plain": [
       "end_rain_checked = 1x623 double\n",
       "   NaN    63    74    78    83    88    93   111   116   137   163   190   196   211   NaN   222   NaN   231   237   NaN   249   NaN   267   284   293   310   331   345   377   389\n",
       "..."
      ]
     },
     "execution_count": 128,
     "metadata": {},
     "output_type": "execute_result"
    }
   ],
   "source": [
    "end_rain_checked"
   ]
  },
  {
   "cell_type": "code",
   "execution_count": 126,
   "id": "43671872-562b-49c4-aa36-e537a1f08ebe",
   "metadata": {
    "tags": []
   },
   "outputs": [
    {
     "data": {
      "text/html": [
       "<html><body><pre>beginning_flow_checked = 1x623 double\n",
       "   NaN     6    72   NaN    83   NaN    92   105   NaN   126   156   170   NaN   NaN   NaN   221   NaN   NaN   236   NaN   248   NaN   262   272   289   298   315   340   350   382\n",
       "...</pre></body></html>"
      ],
      "text/plain": [
       "beginning_flow_checked = 1x623 double\n",
       "   NaN     6    72   NaN    83   NaN    92   105   NaN   126   156   170   NaN   NaN   NaN   221   NaN   NaN   236   NaN   248   NaN   262   272   289   298   315   340   350   382\n",
       "..."
      ]
     },
     "execution_count": 126,
     "metadata": {},
     "output_type": "execute_result"
    }
   ],
   "source": [
    "beginning_flow_checked"
   ]
  },
  {
   "cell_type": "code",
   "execution_count": 129,
   "id": "3da55f38-e391-4931-8abf-c03344ac56a8",
   "metadata": {
    "tags": []
   },
   "outputs": [
    {
     "data": {
      "text/html": [
       "<html><body><pre>end_flow_checked = 1x623 double\n",
       "   NaN    67    74   NaN    88   NaN    95   116   NaN   145   166   196   NaN   NaN   NaN   222   NaN   NaN   240   NaN   249   NaN   271   288   297   314   339   349   381   397\n",
       "...</pre></body></html>"
      ],
      "text/plain": [
       "end_flow_checked = 1x623 double\n",
       "   NaN    67    74   NaN    88   NaN    95   116   NaN   145   166   196   NaN   NaN   NaN   222   NaN   NaN   240   NaN   249   NaN   271   288   297   314   339   349   381   397\n",
       "..."
      ]
     },
     "execution_count": 129,
     "metadata": {},
     "output_type": "execute_result"
    }
   ],
   "source": [
    "end_flow_checked"
   ]
  },
  {
   "cell_type": "code",
   "execution_count": 127,
   "id": "2117cb02-4ac8-488f-b5c7-8539b17d1b7f",
   "metadata": {
    "tags": []
   },
   "outputs": [
    {
     "data": {
      "text/html": [
       "<html><body><pre>index_events = 1x449 double\n",
       "     2     3     5     7     8    10    11    12    16    19    21    23    24    25    26    27    28    29    30    33    34    35    36    37    38    40    41    43    44    45\n",
       "...</pre></body></html>"
      ],
      "text/plain": [
       "index_events = 1x449 double\n",
       "     2     3     5     7     8    10    11    12    16    19    21    23    24    25    26    27    28    29    30    33    34    35    36    37    38    40    41    43    44    45\n",
       "..."
      ]
     },
     "execution_count": 127,
     "metadata": {},
     "output_type": "execute_result"
    }
   ],
   "source": [
    "index_events"
   ]
  },
  {
   "cell_type": "code",
   "execution_count": 138,
   "id": "f0f3da6b-c46e-46ac-a240-98bedb59c2a4",
   "metadata": {
    "tags": []
   },
   "outputs": [
    {
     "data": {
      "text/html": [
       "<html><body><pre>ans = 1x2 logical array\n",
       "   1   1</pre></body></html>"
      ],
      "text/plain": [
       "ans = 1x2 logical array\n",
       "   1   1"
      ]
     },
     "execution_count": 138,
     "metadata": {},
     "output_type": "execute_result"
    }
   ],
   "source": [
    "X = [1 2 NaN];\n",
    "Y = [1 2];\n",
    "C = [NaN NaN];\n",
    "isnan(C)"
   ]
  },
  {
   "cell_type": "code",
   "execution_count": 134,
   "id": "a3152330-aa15-47e7-8812-a41524ff331d",
   "metadata": {
    "tags": []
   },
   "outputs": [
    {
     "data": {
      "text/html": [
       "<html><body><pre>Y = 1x2 double\n",
       "     1     2\n",
       "</pre></body></html>"
      ],
      "text/plain": [
       "Y = 1x2 double\n",
       "     1     2\n"
      ]
     },
     "execution_count": 134,
     "metadata": {},
     "output_type": "execute_result"
    }
   ],
   "source": [
    "Y"
   ]
  },
  {
   "cell_type": "code",
   "execution_count": 135,
   "id": "345050a5-d854-4557-bb63-4cc9a1e85a50",
   "metadata": {
    "tags": []
   },
   "outputs": [
    {
     "data": {
      "text/html": [
       "<html><body><pre>C = 1x2 double\n",
       "   NaN   NaN\n",
       "</pre></body></html>"
      ],
      "text/plain": [
       "C = 1x2 double\n",
       "   NaN   NaN\n"
      ]
     },
     "execution_count": 135,
     "metadata": {},
     "output_type": "execute_result"
    }
   ],
   "source": [
    "C"
   ]
  },
  {
   "cell_type": "code",
   "execution_count": 141,
   "id": "823382f0-216a-4789-853d-a19ad3c0f338",
   "metadata": {
    "tags": []
   },
   "outputs": [
    {
     "name": "stderr",
     "output_type": "stream",
     "text": [
      "Unrecognized function or variable 'to_group'."
     ]
    }
   ],
   "source": [
    "to_group"
   ]
  },
  {
   "cell_type": "code",
   "execution_count": 140,
   "id": "925bc824-e9dd-4103-95e0-9413de38635f",
   "metadata": {
    "collapsed": true,
    "jupyter": {
     "outputs_hidden": true
    },
    "tags": []
   },
   "outputs": [
    {
     "name": "stdout",
     "output_type": "stream",
     "text": [
      "  Name                             Size                Bytes  Class                        Attributes\n",
      "\n",
      "  BEGINNING_FLOW                 449x1                  3592  double                                 \n",
      "  BEGINNING_RAIN                 449x1                  3592  double                                 \n",
      "  C                                1x2                    16  double                                 \n",
      "  DURATION_RAIN                    1x449                3592  double                                 \n",
      "  DURATION_RUNOFF                  1x449                3592  double                                 \n",
      "  END_FLOW                       449x1                  3592  double                                 \n",
      "  END_RAIN                       449x1                  3592  double                                 \n",
      "  F_flow                           1x49                  392  double                                 \n",
      "  F_rain                           1x49                  392  double                                 \n",
      "  F_rain_flow                      1x49                  392  double                                 \n",
      "  M3                               2x5                    80  double                                 \n",
      "  M_all                            1x1                     8  double                                 \n",
      "  RUNOFF_RATIO                     1x449                3592  double                                 \n",
      "  T                                1x1                     8  double                                 \n",
      "  Tr                               1x1                     8  double                                 \n",
      "  VOLUME_RAIN                      1x449                3592  double                                 \n",
      "  VOLUME_RUNOFF                    1x449                3592  double                                 \n",
      "  X                                1x3                    24  double                                 \n",
      "  X_as                             2x5x3                 240  double                                 \n",
      "  Y                                1x2                    16  double                                 \n",
      "  a                                1x1                     8  double                                 \n",
      "  ans                              1x2                     2  logical                                \n",
      "  ax                               1x1                     8  matlab.graphics.axis.Axes              \n",
      "  b                                1x1                     8  double                                 \n",
      "  baseflow                      9131x1                 73048  double                                 \n",
      "  baseflow_original             9131x1                 73048  double                                 \n",
      "  beginning_core                   1x623                4984  double                                 \n",
      "  beginning_flow                   1x623                4984  double                                 \n",
      "  beginning_flow_checked           1x623                4984  double                                 \n",
      "  beginning_flow_grouped           1x449                3592  double                                 \n",
      "  beginning_flow_ungrouped         1x449                3592  double                                 \n",
      "  beginning_rain                   1x623                4984  double                                 \n",
      "  beginning_rain_checked           1x623                4984  double                                 \n",
      "  beginning_rain_grouped           1x449                3592  double                                 \n",
      "  beginning_rain_ungrouped         1x449                3592  double                                 \n",
      "  cnt                              1x1                     8  double                                 \n",
      "  consecutive_zeros                1x1                     8  double                                 \n",
      "  count                            1x1                     8  double                                 \n",
      "  end_core                         1x623                4984  double                                 \n",
      "  end_flow                         1x623                4984  double                                 \n",
      "  end_flow_checked                 1x623                4984  double                                 \n",
      "  end_flow_grouped                 1x449                3592  double                                 \n",
      "  end_flow_ungrouped               1x449                3592  double                                 \n",
      "  end_idx                          1x1                     8  double                                 \n",
      "  end_rain                         1x623                4984  double                                 \n",
      "  end_rain_checked                 1x623                4984  double                                 \n",
      "  end_rain_grouped                 1x449                3592  double                                 \n",
      "  end_rain_ungrouped               1x449                3592  double                                 \n",
      "  fig                              1x1                     8  matlab.ui.Figure                       \n",
      "  flag                             1x1                     8  double                                 \n",
      "  flow                             1x9131              73048  double                                 \n",
      "  flow_int                         1x9131              73048  double                                 \n",
      "  flow_mean                       49x9131            3579352  double                                 \n",
      "  flow_original                 9131x7                511336  double                                 \n",
      "  fluct_bivariate_Tr               1x9131              73048  double                                 \n",
      "  fluct_flow                      49x9131            3579352  double                                 \n",
      "  fluct_flow_Tr                    1x9131              73048  double                                 \n",
      "  fluct_rain                      49x9131            3579352  double                                 \n",
      "  fluct_rain_Tr                    1x9131              73048  double                                 \n",
      "  g                                1x1                     8  double                                 \n",
      "  i                                1x1                     8  double                                 \n",
      "  index_events                     1x449                3592  double                                 \n",
      "  index_events2                    1x449                3592  double                                 \n",
      "  index_finish_flow                1x449                3592  double                                 \n",
      "  index_finish_rain                1x449                3592  double                                 \n",
      "  index_start_flow                 1x449                3592  double                                 \n",
      "  index_start_rain                 1x449                3592  double                                 \n",
      "  indices                          1x1                     8  double                                 \n",
      "  left_color                       1x3                    24  double                                 \n",
      "  len_rho                          1x1                     8  double                                 \n",
      "  marker_overlapping               0x0                     0  double                                 \n",
      "  max_window                       1x1                     8  double                                 \n",
      "  maxcnt                           1x1                     8  double                                 \n",
      "  multiple                         1x1                     8  double                                 \n",
      "  n                                1x1                     8  double                                 \n",
      "  next_core_beginning              1x1                     8  double                                 \n",
      "  next_event_beginning             0x0                     0  double                                 \n",
      "  num_zeros                        1x1                     8  double                                 \n",
      "  position_minimum                 1x1                     8  double                                 \n",
      "  previous_event_end               1x622                4976  double                                 \n",
      "  q                                1x1                     8  double                                 \n",
      "  rain                             1x9131              73048  double                                 \n",
      "  rain_int                         1x9131              73048  double                                 \n",
      "  rain_mean                       49x9131            3579352  double                                 \n",
      "  rain_min                         1x1                     8  double                                 \n",
      "  rain_original                 9131x7                511336  double                                 \n",
      "  rho                              1x49                  392  double                                 \n",
      "  right_color                      1x3                    24  double                                 \n",
      "  start_idx                        1x2                    16  double                                 \n",
      "  time                          9131x1                 73048  double                                 \n",
      "  tol_fluct_flow                   1x1                     8  double                                 \n",
      "  tol_fluct_rain                   1x1                     8  double                                 \n",
      "  window                           1x1                     8  double                                 \n",
      "  x                                1x1                     8  double                                 \n",
      "  y                                1x1                     8  double                                 \n",
      "  zero_count                       1x1                     8  double                                 \n",
      "\n"
     ]
    }
   ],
   "source": [
    "whos"
   ]
  },
  {
   "cell_type": "code",
   "execution_count": 142,
   "id": "d5db63fe-9067-4666-86a2-536544cb63d5",
   "metadata": {
    "tags": []
   },
   "outputs": [
    {
     "name": "stdout",
     "output_type": "stream",
     "text": [
      "\n",
      "marker_overlapping =\n",
      "\n",
      "     []\n",
      "\n"
     ]
    }
   ],
   "source": [
    "marker_overlapping"
   ]
  },
  {
   "cell_type": "code",
   "execution_count": 143,
   "id": "e68063bf-15ad-4628-b01e-38b6bf44d472",
   "metadata": {
    "collapsed": true,
    "jupyter": {
     "outputs_hidden": true
    },
    "tags": []
   },
   "outputs": [
    {
     "data": {
      "text/html": [
       "<html><body><pre>BEGINNING_RAIN = 449x1 double\n",
       "      726838\n",
       "      726900\n",
       "      726916\n",
       "      726925\n",
       "      726937\n",
       "      726959\n",
       "      726989\n",
       "      727002\n",
       "      727054\n",
       "      727069\n",
       "...</pre></body></html>"
      ],
      "text/plain": [
       "BEGINNING_RAIN = 449x1 double\n",
       "      726838\n",
       "      726900\n",
       "      726916\n",
       "      726925\n",
       "      726937\n",
       "      726959\n",
       "      726989\n",
       "      727002\n",
       "      727054\n",
       "      727069\n",
       "..."
      ]
     },
     "execution_count": 143,
     "metadata": {},
     "output_type": "execute_result"
    }
   ],
   "source": [
    "BEGINNING_RAIN"
   ]
  },
  {
   "cell_type": "code",
   "execution_count": 144,
   "id": "7c73bbe4-d024-4b1a-9c66-8c8ced386e9b",
   "metadata": {
    "tags": []
   },
   "outputs": [
    {
     "data": {
      "text/html": [
       "<html><body><pre>ans = logical\n",
       "   0</pre></body></html>"
      ],
      "text/plain": [
       "ans = logical\n",
       "   0"
      ]
     },
     "execution_count": 144,
     "metadata": {},
     "output_type": "execute_result"
    }
   ],
   "source": [
    "isempty(marker_overlapping)==0"
   ]
  },
  {
   "cell_type": "code",
   "execution_count": 145,
   "id": "08c7496d-56fa-485d-b383-ed2a1e9e1138",
   "metadata": {
    "tags": []
   },
   "outputs": [
    {
     "name": "stdout",
     "output_type": "stream",
     "text": [
      "\n",
      "marker_overlapping =\n",
      "\n",
      "     []\n",
      "\n"
     ]
    }
   ],
   "source": [
    "marker_overlapping"
   ]
  },
  {
   "cell_type": "code",
   "execution_count": 146,
   "id": "6d5e222b-267a-492d-9f83-7da7cfee9293",
   "metadata": {
    "tags": []
   },
   "outputs": [
    {
     "data": {
      "text/html": [
       "<html><body><pre>ans = logical\n",
       "   1</pre></body></html>"
      ],
      "text/plain": [
       "ans = logical\n",
       "   1"
      ]
     },
     "execution_count": 146,
     "metadata": {},
     "output_type": "execute_result"
    }
   ],
   "source": [
    "isempty(marker_overlapping)"
   ]
  },
  {
   "cell_type": "code",
   "execution_count": 147,
   "id": "bccfe736-b363-455c-91ba-8ba514e44377",
   "metadata": {
    "tags": []
   },
   "outputs": [
    {
     "name": "stdout",
     "output_type": "stream",
     "text": [
      "\n",
      "marker_overlapping =\n",
      "\n",
      "     []\n",
      "\n"
     ]
    }
   ],
   "source": [
    "marker_overlapping"
   ]
  },
  {
   "cell_type": "code",
   "execution_count": 148,
   "id": "292c1b74-a498-4aa5-b007-442e350f9980",
   "metadata": {
    "tags": []
   },
   "outputs": [
    {
     "data": {
      "text/html": [
       "<html><body><pre>baseflow = 1x9131 double\n",
       "    0.0238    0.0260    0.0501    0.0559    0.0374    0.0337    0.0341    0.0345    0.0350    0.0354    0.0358    0.0362    0.0366    0.0370    0.0370    0.0379    0.0383    0.0387    0.0391    0.0396    0.0400    0.0404    0.0408    0.0412    0.0416    0.0421    0.0425    0.0429    0.0433    0.0437\n",
       "...</pre></body></html>"
      ],
      "text/plain": [
       "baseflow = 1x9131 double\n",
       "    0.0238    0.0260    0.0501    0.0559    0.0374    0.0337    0.0341    0.0345    0.0350    0.0354    0.0358    0.0362    0.0366    0.0370    0.0370    0.0379    0.0383    0.0387    0.0391    0.0396    0.0400    0.0404    0.0408    0.0412    0.0416    0.0421    0.0425    0.0429    0.0433    0.0437\n",
       "..."
      ]
     },
     "execution_count": 148,
     "metadata": {},
     "output_type": "execute_result"
    }
   ],
   "source": [
    "baseflow"
   ]
  },
  {
   "cell_type": "code",
   "execution_count": null,
   "id": "16aa3166-c0c4-4f2d-96d4-40a1e898df91",
   "metadata": {},
   "outputs": [],
   "source": []
  }
 ],
 "metadata": {
  "kernelspec": {
   "display_name": "MATLAB Kernel",
   "language": "matlab",
   "name": "jupyter_matlab_kernel"
  },
  "language_info": {
   "file_extension": ".m",
   "mimetype": "text/x-matlab",
   "name": "matlab"
  }
 },
 "nbformat": 4,
 "nbformat_minor": 5
}
