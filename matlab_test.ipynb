{
 "cells": [
  {
   "cell_type": "markdown",
   "id": "70ee73a6-ba91-4599-8c18-d88e1b238dad",
   "metadata": {},
   "source": [
    "**如果if为true，那么会继续运行下面的if语句，但是不会运行elseif语句了**"
   ]
  },
  {
   "cell_type": "code",
   "execution_count": 12,
   "id": "444e1fea-f529-41b2-a6ce-801beaf7640f",
   "metadata": {
    "tags": []
   },
   "outputs": [
    {
     "name": "stdout",
     "output_type": "stream",
     "text": [
      "ssss\n",
      "Value of a is 100 and b is 200\n",
      "Exact value of a is : 300\n",
      "Exact value of b is : 200\n"
     ]
    }
   ],
   "source": [
    "a = 300;\n",
    "b = 200;\n",
    "   %检查布尔条件\n",
    "   if( a == 300 )\n",
    "      fprintf('ssss\\n' );\n",
    "      %如果condition为真，则检查以下内容\n",
    "      if( b == 200 )\n",
    "       \n",
    "         %如果condition为真，则打印以下内容\n",
    "         fprintf('Value of a is 100 and b is 200\\n' );\n",
    "      end\n",
    "       \n",
    "   end\n",
    "   fprintf('Exact value of a is : %d\\n', a );\n",
    "   fprintf('Exact value of b is : %d\\n', b );"
   ]
  },
  {
   "cell_type": "code",
   "execution_count": 16,
   "id": "be1988e8-7c1f-4d3d-9e2c-4a20774c1a2c",
   "metadata": {
    "tags": []
   },
   "outputs": [
    {
     "name": "stdout",
     "output_type": "stream",
     "text": [
      "Value of a is 100\n"
     ]
    }
   ],
   "source": [
    "a = 100;\n",
    "%检查布尔条件\n",
    "   if a == 100 \n",
    "      %如果condition为真，则打印以下内容 \n",
    "      fprintf('Value of a is 100\\n' );\n",
    "   elseif( a == 100 )\n",
    "      % 如果条件成立的话 \n",
    "      fprintf('Value of a is 20\\n' );\n",
    "   elseif a == 100 \n",
    "      % 如果条件成立的话\n",
    "      fprintf('Value of a is 30\\n' );\n",
    "   else\n",
    "      %如果没有一个条件是真的\n",
    "      fprintf('None of the values are matching\\n');\n",
    "   fprintf('Exact value of a is: %d\\n', a );\n",
    "   end"
   ]
  },
  {
   "cell_type": "code",
   "execution_count": 24,
   "id": "42a17583-bd08-4815-94ed-6a393e1015ce",
   "metadata": {
    "tags": []
   },
   "outputs": [
    {
     "name": "stdout",
     "output_type": "stream",
     "text": [
      "Well done\n"
     ]
    }
   ],
   "source": [
    "grade = 2;\n",
    "   switch(grade)\n",
    "   case 'A' \n",
    "      fprintf('Excellent!\\n' );\n",
    "   case 2\n",
    "      fprintf('Well done\\n' );\n",
    "   case 'C' \n",
    "      fprintf('Good done\\n' );\n",
    "   case 'D'\n",
    "      fprintf('You passed\\n' );\n",
    "   case 'F' \n",
    "      fprintf('Better try again\\n' );\n",
    "   otherwise\n",
    "      fprintf('Invalid grade\\n' );\n",
    "   end"
   ]
  },
  {
   "cell_type": "code",
   "execution_count": 27,
   "id": "e5f5f5aa-5916-4cf1-ad8c-cb39cf068b27",
   "metadata": {
    "tags": []
   },
   "outputs": [
    {
     "name": "stdout",
     "output_type": "stream",
     "text": [
      "This is part of outer switch 100\n"
     ]
    }
   ],
   "source": [
    "a = 100;\n",
    "b = 200;\n",
    "switch(a) \n",
    "   case 100 \n",
    "      fprintf('This is part of outer switch %d\\n', a );\n",
    "      switch(b) \n",
    "         case 300\n",
    "            fprintf('This is part of inner switch %d\\n', a );\n",
    "      end\n",
    "end"
   ]
  },
  {
   "cell_type": "code",
   "execution_count": 29,
   "id": "e69ab95a-d15b-4e5d-ae57-f322b436b419",
   "metadata": {
    "tags": []
   },
   "outputs": [
    {
     "data": {
      "text/html": [
       "<html><body><pre>ans = \n",
       "   '/home/mengziwen'</pre></body></html>"
      ],
      "text/plain": [
       "ans = \n",
       "   '/home/mengziwen'"
      ]
     },
     "execution_count": 29,
     "metadata": {},
     "output_type": "execute_result"
    }
   ],
   "source": [
    "pwd"
   ]
  },
  {
   "cell_type": "code",
   "execution_count": 38,
   "id": "32f13f9d-5eff-40ec-bde1-de01bae97dc5",
   "metadata": {
    "collapsed": true,
    "jupyter": {
     "outputs_hidden": true
    },
    "tags": []
   },
   "outputs": [
    {
     "name": "stdout",
     "output_type": "stream",
     "text": [
      "value of a: 1\n",
      "value of a: 0.9\n",
      "value of a: 0.8\n",
      "value of a: 0.7\n",
      "value of a: 0.6\n",
      "value of a: 0.5\n",
      "value of a: 0.4\n",
      "value of a: 0.3\n",
      "value of a: 0.2\n",
      "value of a: 0.1\n",
      "value of a: 0\n"
     ]
    }
   ],
   "source": [
    "for a = 1.0: -0.1: 0.0\n",
    "   fprintf('value of a: %g\\n', a);\n",
    "end"
   ]
  },
  {
   "cell_type": "code",
   "execution_count": 49,
   "id": "8b35327b-ae50-488d-8010-f9651c15cfd6",
   "metadata": {
    "collapsed": true,
    "jupyter": {
     "outputs_hidden": true
    },
    "tags": []
   },
   "outputs": [
    {
     "name": "stdout",
     "output_type": "stream",
     "text": [
      "          1.00\n",
      "\n",
      "          0.90\n",
      "\n",
      "          0.80\n",
      "\n",
      "          0.70\n",
      "\n",
      "          0.60\n",
      "\n",
      "          0.50\n",
      "\n",
      "          0.40\n",
      "\n",
      "          0.30\n",
      "\n",
      "          0.20\n",
      "\n",
      "          0.10\n",
      "\n",
      "             0\n",
      "\n"
     ]
    }
   ],
   "source": [
    "for a = 1.0: -0.1: 0.0\n",
    "   format bank; disp(a)\n",
    "end"
   ]
  },
  {
   "cell_type": "code",
   "execution_count": 50,
   "id": "cb463440-2a4c-46ec-a287-05822e9748d8",
   "metadata": {
    "tags": []
   },
   "outputs": [
    {
     "data": {
      "text/html": [
       "<html><body><pre>v = 1x10 double\n",
       "          1.00          3.00          5.00          7.00          9.00         11.00         13.00         15.00         17.00         19.00\n",
       "</pre></body></html>"
      ],
      "text/plain": [
       "v = 1x10 double\n",
       "          1.00          3.00          5.00          7.00          9.00         11.00         13.00         15.00         17.00         19.00\n"
      ]
     },
     "execution_count": 50,
     "metadata": {},
     "output_type": "execute_result"
    }
   ],
   "source": [
    "v = [1: 2: 20]"
   ]
  },
  {
   "cell_type": "code",
   "execution_count": 51,
   "id": "0ac2d22d-6cb0-4142-8c8d-bc48104b2350",
   "metadata": {
    "tags": []
   },
   "outputs": [
    {
     "data": {
      "text/html": [
       "<html><body><pre>sv = 1x10 double\n",
       "          1.00          9.00         25.00         49.00         81.00        121.00        169.00        225.00        289.00        361.00\n",
       "</pre></body></html>"
      ],
      "text/plain": [
       "sv = 1x10 double\n",
       "          1.00          9.00         25.00         49.00         81.00        121.00        169.00        225.00        289.00        361.00\n"
      ]
     },
     "execution_count": 51,
     "metadata": {},
     "output_type": "execute_result"
    }
   ],
   "source": [
    "sv = v.* v"
   ]
  },
  {
   "cell_type": "code",
   "execution_count": 52,
   "id": "37705ad2-d63b-4ca8-87ee-9bee335e2854",
   "metadata": {
    "tags": []
   },
   "outputs": [
    {
     "name": "stdout",
     "output_type": "stream",
     "text": [
      "Magnitude:\n",
      "         36.47\n",
      "\n"
     ]
    }
   ],
   "source": [
    "dp = sum(sv);     %平方和——点积\n",
    "mag = sqrt(dp);   % magnitude\n",
    "disp('Magnitude:'); \n",
    "disp(mag);"
   ]
  },
  {
   "cell_type": "code",
   "execution_count": 53,
   "id": "27ad0aab-2f57-4298-8d02-388bf20a5041",
   "metadata": {
    "tags": []
   },
   "outputs": [
    {
     "data": {
      "text/html": [
       "<html><body><pre>dp = \n",
       "   1330.00</pre></body></html>"
      ],
      "text/plain": [
       "dp = \n",
       "   1330.00"
      ]
     },
     "execution_count": 53,
     "metadata": {},
     "output_type": "execute_result"
    }
   ],
   "source": [
    "dp = sum(sv)"
   ]
  },
  {
   "cell_type": "code",
   "execution_count": 4,
   "id": "8824175a-af0b-49a2-8b86-1bd38a8bd6fd",
   "metadata": {
    "tags": []
   },
   "outputs": [],
   "source": [
    "function max = mymax(n1, n2, n3, n4, n5)\n",
    "\n",
    "%此函数用于计算\n",
    "%输入五个数字\n",
    "max =  n1;\n",
    "if(n2 > max)\n",
    "   max = n2;\n",
    "end\n",
    "if(n3 > max)\n",
    "   max = n3;\n",
    "end\n",
    "if(n4 > max)\n",
    "   max = n4;\n",
    "end\n",
    "if(n5 > max)\n",
    "   max = n5;\n",
    "end"
   ]
  },
  {
   "cell_type": "code",
   "execution_count": 15,
   "id": "11ab5758-f5a7-4290-964b-98b968cac7fb",
   "metadata": {
    "tags": []
   },
   "outputs": [
    {
     "data": {
      "text/html": [
       "<html><body><pre>ans = \n",
       "   89.00</pre></body></html>"
      ],
      "text/plain": [
       "ans = \n",
       "   89.00"
      ]
     },
     "execution_count": 15,
     "metadata": {},
     "output_type": "execute_result"
    }
   ],
   "source": [
    "mymax(34, 78, 89, 23, 11)"
   ]
  },
  {
   "cell_type": "code",
   "execution_count": 16,
   "id": "fa05863e-837b-4c13-8b30-08f022d708aa",
   "metadata": {
    "tags": []
   },
   "outputs": [
    {
     "name": "stdout",
     "output_type": "stream",
     "text": [
      " 此函数用于计算\n",
      " 输入五个数字\n",
      "\n"
     ]
    }
   ],
   "source": [
    "help mymax"
   ]
  },
  {
   "cell_type": "code",
   "execution_count": 4,
   "id": "2125b78f-97bd-419f-b009-c977102d4c0f",
   "metadata": {
    "tags": []
   },
   "outputs": [
    {
     "data": {
      "text/html": [
       "<html><body><pre>ans = \n",
       "   '/home/mengziwen'</pre></body></html>"
      ],
      "text/plain": [
       "ans = \n",
       "   '/home/mengziwen'"
      ]
     },
     "execution_count": 4,
     "metadata": {},
     "output_type": "execute_result"
    }
   ],
   "source": [
    "pwd"
   ]
  },
  {
   "cell_type": "code",
   "execution_count": 26,
   "id": "f82337b8-74b4-421e-9c67-4860f8d49392",
   "metadata": {
    "tags": []
   },
   "outputs": [
    {
     "name": "stdout",
     "output_type": "stream",
     "text": [
      "    20\n",
      "\n"
     ]
    }
   ],
   "source": [
    "% 生成一个包含NaN值的向量\n",
    "input = [1, 3, NaN, 4, 5, NaN, 7, NaN];\n",
    "% 调用myNanSum函数计算输入向量中所有非NaN元素的和\n",
    "result = nansum(input);\n",
    "% 显示结果\n",
    "disp(result);"
   ]
  },
  {
   "cell_type": "code",
   "execution_count": 17,
   "id": "169627cf-94d5-4cf3-8354-217daeb52aed",
   "metadata": {
    "tags": []
   },
   "outputs": [],
   "source": [
    "input(isnan(input)) = 0;\n",
    "result3 = sum(input);"
   ]
  },
  {
   "cell_type": "code",
   "execution_count": 18,
   "id": "434c7e8b-19db-4427-9818-94e816757a09",
   "metadata": {
    "tags": []
   },
   "outputs": [
    {
     "data": {
      "text/html": [
       "<html><body><pre>result3 = \n",
       "   19</pre></body></html>"
      ],
      "text/plain": [
       "result3 = \n",
       "   19"
      ]
     },
     "execution_count": 18,
     "metadata": {},
     "output_type": "execute_result"
    }
   ],
   "source": [
    "result3"
   ]
  },
  {
   "cell_type": "code",
   "execution_count": 55,
   "id": "94b530b5-e61e-4e4c-ab20-a107bc7f845a",
   "metadata": {
    "tags": []
   },
   "outputs": [
    {
     "data": {
      "text/html": [
       "<html><body><pre>result4 = \n",
       "   NaN</pre></body></html>"
      ],
      "text/plain": [
       "result4 = \n",
       "   NaN"
      ]
     },
     "execution_count": 55,
     "metadata": {},
     "output_type": "execute_result"
    }
   ],
   "source": [
    "input1 = [1, 2, NaN, 4, 5, NaN, 7, NaN];\n",
    "result4 = mean(input1)"
   ]
  },
  {
   "cell_type": "code",
   "execution_count": 53,
   "id": "05425170-1435-44d0-abbb-1ba4d8276a2c",
   "metadata": {
    "tags": []
   },
   "outputs": [
    {
     "data": {
      "text/html": [
       "<html><body><pre>input1 = 1x8 double\n",
       "          1.00          2.00           NaN          4.00          5.00           NaN          7.00           NaN\n",
       "</pre></body></html>"
      ],
      "text/plain": [
       "input1 = 1x8 double\n",
       "          1.00          2.00           NaN          4.00          5.00           NaN          7.00           NaN\n"
      ]
     },
     "execution_count": 53,
     "metadata": {},
     "output_type": "execute_result"
    }
   ],
   "source": [
    "input1"
   ]
  },
  {
   "cell_type": "code",
   "execution_count": 4,
   "id": "7cb01868-2075-41cc-8fad-6c6d004e7f0d",
   "metadata": {},
   "outputs": [
    {
     "data": {
      "text/html": [
       "<html><body><pre>X = 2x1 double\n",
       "    -1\n",
       "     3\n",
       "</pre></body></html>"
      ],
      "text/plain": [
       "X = 2x1 double\n",
       "    -1\n",
       "     3\n"
      ]
     },
     "execution_count": 4,
     "metadata": {},
     "output_type": "execute_result"
    }
   ],
   "source": [
    "A = [2 3; 4 5];\n",
    "B = [7; 11];\n",
    "X = A \\ B"
   ]
  },
  {
   "cell_type": "code",
   "execution_count": 18,
   "id": "87333a06-8ecc-4c68-97b2-77259b9a25b0",
   "metadata": {
    "tags": []
   },
   "outputs": [
    {
     "data": {
      "text/html": [
       "<html><body><pre>X = 2x2 double\n",
       "    1.0000    0.6667\n",
       "    0.5000    0.4000\n",
       "</pre></body></html>"
      ],
      "text/plain": [
       "X = 2x2 double\n",
       "    1.0000    0.6667\n",
       "    0.5000    0.4000\n"
      ]
     },
     "execution_count": 18,
     "metadata": {},
     "output_type": "execute_result"
    }
   ],
   "source": [
    "X = A .\\ 2"
   ]
  },
  {
   "cell_type": "code",
   "execution_count": 8,
   "id": "6fc93f6e-a6b7-466f-a457-20320589fdf7",
   "metadata": {
    "tags": []
   },
   "outputs": [
    {
     "data": {
      "text/html": [
       "<html><body><pre>X = \n",
       "   X(:,:,1) =\n",
       "\n",
       "     1     3     5     7     9\n",
       "     2     4     6     8    10\n",
       "\n",
       "\n",
       "X(:,:,2) =\n",
       "\n",
       "    11    13    15    17    19\n",
       "    12    14    16    18    20\n",
       "\n",
       "\n",
       "X(:,:,3) =\n",
       "\n",
       "    21    23    25    27    29\n",
       "    22    24    26    28    30</pre></body></html>"
      ],
      "text/plain": [
       "X = \n",
       "   X(:,:,1) =\n",
       "\n",
       "     1     3     5     7     9\n",
       "     2     4     6     8    10\n",
       "\n",
       "\n",
       "X(:,:,2) =\n",
       "\n",
       "    11    13    15    17    19\n",
       "    12    14    16    18    20\n",
       "\n",
       "\n",
       "X(:,:,3) =\n",
       "\n",
       "    21    23    25    27    29\n",
       "    22    24    26    28    30"
      ]
     },
     "execution_count": 8,
     "metadata": {},
     "output_type": "execute_result"
    }
   ],
   "source": [
    "X = reshape(1:30,[2 5 3]);\n",
    "X"
   ]
  },
  {
   "cell_type": "code",
   "execution_count": 6,
   "id": "d2e4ff30-6825-4e1d-adda-803af46e17a2",
   "metadata": {
    "tags": []
   },
   "outputs": [
    {
     "data": {
      "text/html": [
       "<html><body><pre>ans = \n",
       "   12.5000</pre></body></html>"
      ],
      "text/plain": [
       "ans = \n",
       "   12.5000"
      ]
     },
     "execution_count": 6,
     "metadata": {},
     "output_type": "execute_result"
    }
   ],
   "source": [
    "25/2"
   ]
  },
  {
   "cell_type": "code",
   "execution_count": 7,
   "id": "659dbb4e-0f40-4b9f-bc89-7b2cfcc18fb4",
   "metadata": {
    "tags": []
   },
   "outputs": [
    {
     "data": {
      "text/html": [
       "<html><body><pre>ans = \n",
       "   0.0800</pre></body></html>"
      ],
      "text/plain": [
       "ans = \n",
       "   0.0800"
      ]
     },
     "execution_count": 7,
     "metadata": {},
     "output_type": "execute_result"
    }
   ],
   "source": [
    "25\\2"
   ]
  },
  {
   "cell_type": "code",
   "execution_count": 19,
   "id": "32c1a2b6-e772-4190-b49d-a10c9eea76e7",
   "metadata": {
    "tags": []
   },
   "outputs": [
    {
     "data": {
      "text/html": [
       "<html><body><pre>X = 1x4 double\n",
       "    1.0000    1.5000    2.0000    2.5000\n",
       "</pre></body></html>"
      ],
      "text/plain": [
       "X = 1x4 double\n",
       "    1.0000    1.5000    2.0000    2.5000\n"
      ]
     },
     "execution_count": 19,
     "metadata": {},
     "output_type": "execute_result"
    }
   ],
   "source": [
    "A = [2 3 4 5];\n",
    "X = A ./ 2"
   ]
  },
  {
   "cell_type": "code",
   "execution_count": 3,
   "id": "5ccaec01-36d5-4fa4-8f4c-d2fe8bb244a8",
   "metadata": {
    "tags": []
   },
   "outputs": [],
   "source": [
    "rain_original=dlmread('daily_rainfall_27071.txt'); \n",
    "flow_original=dlmread('daily_flow_27071.txt'); \n",
    "multiple=24; %to convert from mm/h to the original units of the timeseries (mm/day)\n",
    "rain=rain_original(:,7)./multiple; %mm/h\n",
    "flow=flow_original(:,7)./multiple; %mm/h\n",
    "time=datenum(rain_original(:,1:6));"
   ]
  },
  {
   "cell_type": "code",
   "execution_count": 4,
   "id": "53fa088c-b201-4d99-a30a-f395685c8de4",
   "metadata": {
    "tags": []
   },
   "outputs": [],
   "source": [
    "rain=rain'; %row vector\n",
    "flow=flow'; %row vector"
   ]
  },
  {
   "cell_type": "code",
   "execution_count": 5,
   "id": "6405b25e-3ff5-4ebb-b55f-2a47b06d5f6a",
   "metadata": {
    "tags": []
   },
   "outputs": [],
   "source": [
    "rain_int=cumsum(rain, 'omitnan');\n",
    "flow_int=cumsum(flow, 'omitnan');"
   ]
  },
  {
   "cell_type": "code",
   "execution_count": 6,
   "id": "8be15ab9-1ee5-4a53-b9b3-011116be37b2",
   "metadata": {
    "tags": []
   },
   "outputs": [],
   "source": [
    "window = 3;\n",
    "T=length(rain);\n",
    "rain_mean((window-1)/2,:)=movmean(rain_int, window);\n",
    "flow_mean((window-1)/2,:)=movmean(flow_int, window);"
   ]
  },
  {
   "cell_type": "code",
   "execution_count": 7,
   "id": "36e73794-329e-41bc-b051-0570895d6a3c",
   "metadata": {},
   "outputs": [
    {
     "data": {
      "text/html": [
       "<html><body><pre>rain_mean = 1x9131 double\n",
       "    0.3534    0.3929    0.4677    0.4814    0.5521    0.6718    0.7890    0.8501    0.9027    0.9964    1.0935    1.1493    1.1637    1.1869    1.2632    1.3558    1.4384    1.5573    1.6591    1.7646    1.8142    2.0273    2.2784    2.6957    2.9882    3.4834    3.9494    4.4849    4.8272    5.0902\n",
       "...</pre></body></html>"
      ],
      "text/plain": [
       "rain_mean = 1x9131 double\n",
       "    0.3534    0.3929    0.4677    0.4814    0.5521    0.6718    0.7890    0.8501    0.9027    0.9964    1.0935    1.1493    1.1637    1.1869    1.2632    1.3558    1.4384    1.5573    1.6591    1.7646    1.8142    2.0273    2.2784    2.6957    2.9882    3.4834    3.9494    4.4849    4.8272    5.0902\n",
       "..."
      ]
     },
     "execution_count": 7,
     "metadata": {},
     "output_type": "execute_result"
    }
   ],
   "source": [
    "rain_mean"
   ]
  },
  {
   "cell_type": "code",
   "execution_count": null,
   "id": "fa4df751-d3fa-4754-ac9e-308f820e5d40",
   "metadata": {},
   "outputs": [],
   "source": []
  }
 ],
 "metadata": {
  "kernelspec": {
   "display_name": "MATLAB Kernel",
   "language": "matlab",
   "name": "jupyter_matlab_kernel"
  },
  "language_info": {
   "file_extension": ".m",
   "mimetype": "text/x-matlab",
   "name": "matlab"
  }
 },
 "nbformat": 4,
 "nbformat_minor": 5
}
